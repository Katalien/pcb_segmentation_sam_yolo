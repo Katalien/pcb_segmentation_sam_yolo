{
 "cells": [
  {
   "cell_type": "markdown",
   "metadata": {},
   "source": [
    "# Препроцессинг данных для обучения модели"
   ]
  },
  {
   "cell_type": "code",
   "execution_count": 7,
   "metadata": {},
   "outputs": [],
   "source": [
    "import os\n",
    "import shutil\n",
    "from pathlib import Path\n",
    "from tqdm.notebook import tqdm\n",
    "import numpy as np\n",
    "import cv2"
   ]
  },
  {
   "cell_type": "code",
   "execution_count": 2,
   "metadata": {},
   "outputs": [],
   "source": [
    "DATASET_PATH = './dataset/'  \n",
    "NEW_DATASET_PATH = './dataset_merged'\n",
    "\n",
    "SPLITS = ['train', 'valid', 'test']"
   ]
  },
  {
   "cell_type": "markdown",
   "metadata": {},
   "source": [
    "# Объединим данные после аугментации"
   ]
  },
  {
   "cell_type": "code",
   "execution_count": 3,
   "metadata": {},
   "outputs": [
    {
     "data": {
      "application/vnd.jupyter.widget-view+json": {
       "model_id": "ff8c547604d04a9a822d4ec13bf34d5e",
       "version_major": 2,
       "version_minor": 0
      },
      "text/plain": [
       "Copying images train:   0%|          | 0/128 [00:00<?, ?it/s]"
      ]
     },
     "metadata": {},
     "output_type": "display_data"
    },
    {
     "data": {
      "application/vnd.jupyter.widget-view+json": {
       "model_id": "278f5e9fd08e4ca8ae85880a10e530be",
       "version_major": 2,
       "version_minor": 0
      },
      "text/plain": [
       "Copying labels train:   0%|          | 0/128 [00:00<?, ?it/s]"
      ]
     },
     "metadata": {},
     "output_type": "display_data"
    },
    {
     "data": {
      "application/vnd.jupyter.widget-view+json": {
       "model_id": "31ceea3d90ac4ed284658ed2ee5b6375",
       "version_major": 2,
       "version_minor": 0
      },
      "text/plain": [
       "Copying augmented images train:   0%|          | 0/620 [00:00<?, ?it/s]"
      ]
     },
     "metadata": {},
     "output_type": "display_data"
    },
    {
     "data": {
      "application/vnd.jupyter.widget-view+json": {
       "model_id": "4a3237efc00f4f0ab2052b1d24d7b518",
       "version_major": 2,
       "version_minor": 0
      },
      "text/plain": [
       "Copying augmented labels train:   0%|          | 0/620 [00:00<?, ?it/s]"
      ]
     },
     "metadata": {},
     "output_type": "display_data"
    },
    {
     "data": {
      "application/vnd.jupyter.widget-view+json": {
       "model_id": "530a286b8ace4ddeb3f0a6035a01c99f",
       "version_major": 2,
       "version_minor": 0
      },
      "text/plain": [
       "Copying images valid:   0%|          | 0/25 [00:00<?, ?it/s]"
      ]
     },
     "metadata": {},
     "output_type": "display_data"
    },
    {
     "data": {
      "application/vnd.jupyter.widget-view+json": {
       "model_id": "36087497682e40e6880f0afbea4a2ce5",
       "version_major": 2,
       "version_minor": 0
      },
      "text/plain": [
       "Copying labels valid:   0%|          | 0/25 [00:00<?, ?it/s]"
      ]
     },
     "metadata": {},
     "output_type": "display_data"
    },
    {
     "data": {
      "application/vnd.jupyter.widget-view+json": {
       "model_id": "785c8c0f0b4a4042a689d9bd9458ff5b",
       "version_major": 2,
       "version_minor": 0
      },
      "text/plain": [
       "Copying augmented images valid:   0%|          | 0/120 [00:00<?, ?it/s]"
      ]
     },
     "metadata": {},
     "output_type": "display_data"
    },
    {
     "data": {
      "application/vnd.jupyter.widget-view+json": {
       "model_id": "de9b373df1e94997ac3b622a50c6ed49",
       "version_major": 2,
       "version_minor": 0
      },
      "text/plain": [
       "Copying augmented labels valid:   0%|          | 0/120 [00:00<?, ?it/s]"
      ]
     },
     "metadata": {},
     "output_type": "display_data"
    },
    {
     "data": {
      "application/vnd.jupyter.widget-view+json": {
       "model_id": "7e195d3ef66e4ea980d33b6395706684",
       "version_major": 2,
       "version_minor": 0
      },
      "text/plain": [
       "Copying images test:   0%|          | 0/36 [00:00<?, ?it/s]"
      ]
     },
     "metadata": {},
     "output_type": "display_data"
    },
    {
     "data": {
      "application/vnd.jupyter.widget-view+json": {
       "model_id": "b514f36424724fea87c57a05889f4e34",
       "version_major": 2,
       "version_minor": 0
      },
      "text/plain": [
       "Copying labels test:   0%|          | 0/36 [00:00<?, ?it/s]"
      ]
     },
     "metadata": {},
     "output_type": "display_data"
    },
    {
     "data": {
      "application/vnd.jupyter.widget-view+json": {
       "model_id": "b006be07c5d54dffb32303bdcb8d8107",
       "version_major": 2,
       "version_minor": 0
      },
      "text/plain": [
       "Copying augmented images test:   0%|          | 0/171 [00:00<?, ?it/s]"
      ]
     },
     "metadata": {},
     "output_type": "display_data"
    },
    {
     "data": {
      "application/vnd.jupyter.widget-view+json": {
       "model_id": "a50b9572c52b4105ad77843794c8761e",
       "version_major": 2,
       "version_minor": 0
      },
      "text/plain": [
       "Copying augmented labels test:   0%|          | 0/171 [00:00<?, ?it/s]"
      ]
     },
     "metadata": {},
     "output_type": "display_data"
    }
   ],
   "source": [
    "for split in SPLITS:\n",
    "    # Пути к старым данным\n",
    "    img_dir = Path(DATASET_PATH) / split / 'images'\n",
    "    label_dir = Path(DATASET_PATH) / split / 'labels'\n",
    "    aug_img_dir = Path(DATASET_PATH) / split / 'images_augmented'\n",
    "    aug_label_dir = Path(DATASET_PATH) / split / 'labels_augmented'\n",
    "\n",
    "    # Пути к новым данным\n",
    "    new_img_dir = Path(NEW_DATASET_PATH) / split / 'images'\n",
    "    new_label_dir = Path(NEW_DATASET_PATH) / split / 'labels'\n",
    "\n",
    "    os.makedirs(new_img_dir, exist_ok=True)\n",
    "    os.makedirs(new_label_dir, exist_ok=True)\n",
    "\n",
    "    # Копируем оригиналы\n",
    "    for file in tqdm(os.listdir(img_dir), desc=f\"Copying images {split}\"):\n",
    "        if file.lower().endswith(('.png', '.jpg', '.jpeg')):\n",
    "            shutil.copy(str(img_dir / file), str(new_img_dir / file))\n",
    "\n",
    "    for file in tqdm(os.listdir(label_dir), desc=f\"Copying labels {split}\"):\n",
    "        if file.endswith('.txt'):\n",
    "            shutil.copy(str(label_dir / file), str(new_label_dir / file))\n",
    "\n",
    "    # Копируем аугментированные\n",
    "    if os.path.exists(aug_img_dir):\n",
    "        for file in tqdm(os.listdir(aug_img_dir), desc=f\"Copying augmented images {split}\"):\n",
    "            if file.lower().endswith(('.png', '.jpg', '.jpeg')):\n",
    "                shutil.copy(str(aug_img_dir / file), str(new_img_dir / file))\n",
    "\n",
    "    if os.path.exists(aug_label_dir):\n",
    "        for file in tqdm(os.listdir(aug_label_dir), desc=f\"Copying augmented labels {split}\"):\n",
    "            if file.endswith('.txt'):\n",
    "                shutil.copy(str(aug_label_dir / file), str(new_label_dir / file))"
   ]
  },
  {
   "cell_type": "code",
   "execution_count": 4,
   "metadata": {},
   "outputs": [
    {
     "name": "stdout",
     "output_type": "stream",
     "text": [
      "переименовали новую директорию\n"
     ]
    }
   ],
   "source": [
    "old_dataset_path = DATASET_PATH\n",
    "new_dataset_path = NEW_DATASET_PATH\n",
    "\n",
    "if os.path.exists(old_dataset_path):\n",
    "    shutil.rmtree(old_dataset_path)\n",
    "\n",
    "if os.path.exists(new_dataset_path):\n",
    "    shutil.move(new_dataset_path, old_dataset_path)\n",
    "    print(\"переименовали новую директорию\")\n",
    "else:\n",
    "    print(\"что-то не так\")"
   ]
  },
  {
   "cell_type": "markdown",
   "metadata": {},
   "source": [
    "# Объединение классов"
   ]
  },
  {
   "cell_type": "code",
   "execution_count": 5,
   "metadata": {},
   "outputs": [
    {
     "data": {
      "application/vnd.jupyter.widget-view+json": {
       "model_id": "993a23aad2c8421fbeac764f0fb1be32",
       "version_major": 2,
       "version_minor": 0
      },
      "text/plain": [
       "Processing labels:   0%|          | 0/748 [00:00<?, ?it/s]"
      ]
     },
     "metadata": {},
     "output_type": "display_data"
    },
    {
     "data": {
      "application/vnd.jupyter.widget-view+json": {
       "model_id": "71b0dff6bf094d618c842e9317418dbf",
       "version_major": 2,
       "version_minor": 0
      },
      "text/plain": [
       "Processing labels:   0%|          | 0/145 [00:00<?, ?it/s]"
      ]
     },
     "metadata": {},
     "output_type": "display_data"
    },
    {
     "data": {
      "application/vnd.jupyter.widget-view+json": {
       "model_id": "b7c99dda2ff144628b88dec6522f3024",
       "version_major": 2,
       "version_minor": 0
      },
      "text/plain": [
       "Processing labels:   0%|          | 0/207 [00:00<?, ?it/s]"
      ]
     },
     "metadata": {},
     "output_type": "display_data"
    }
   ],
   "source": [
    "for split in ['train', 'valid', 'test']:\n",
    "    label_dir = Path(DATASET_PATH) / split / 'labels'\n",
    "\n",
    "    def process_label_folder(label_path):\n",
    "        if not os.path.exists(label_path):\n",
    "            print(f\"Папка не найдена: {label_path}\")\n",
    "            return\n",
    "\n",
    "        for file in tqdm(os.listdir(label_path), desc=f\"Processing {label_path.name}\"):\n",
    "            if file.endswith('.txt'):\n",
    "                file_path = label_path / file\n",
    "\n",
    "                with open(file_path, 'r') as f:\n",
    "                    lines = f.readlines()\n",
    "\n",
    "                new_lines = []\n",
    "                for line in lines:\n",
    "                    parts = line.strip().split()\n",
    "                    if len(parts) < 1:\n",
    "                        continue\n",
    "\n",
    "                    new_line = '0 ' + ' '.join(parts[1:])\n",
    "                    new_lines.append(new_line + '\\n')\n",
    "\n",
    "                with open(file_path, 'w') as f:\n",
    "                    f.writelines(new_lines)\n",
    "\n",
    "    process_label_folder(label_dir)"
   ]
  },
  {
   "cell_type": "markdown",
   "metadata": {},
   "source": [
    "# Создание бинарных масок"
   ]
  },
  {
   "cell_type": "code",
   "execution_count": 8,
   "metadata": {},
   "outputs": [],
   "source": [
    "def load_yolo_segmentation(file_path, img_shape):\n",
    "    h, w = img_shape[:2]\n",
    "    with open(file_path, 'r') as f:\n",
    "        lines = f.readlines()\n",
    "\n",
    "    polygons = []\n",
    "    for line in lines:\n",
    "        data = list(map(float, line.strip().split()))\n",
    "        coords = np.array(data[1:]).reshape(-1, 2)\n",
    "        coords[:, 0] *= w  # x\n",
    "        coords[:, 1] *= h  # y\n",
    "        polygons.append(coords.astype(np.int32))\n",
    "\n",
    "    return polygons"
   ]
  },
  {
   "cell_type": "code",
   "execution_count": null,
   "metadata": {},
   "outputs": [
    {
     "name": "stdout",
     "output_type": "stream",
     "text": [
      "\n",
      "Обработка train...\n"
     ]
    },
    {
     "data": {
      "application/vnd.jupyter.widget-view+json": {
       "model_id": "e4981cfe0a3b43128e178e53ae488591",
       "version_major": 2,
       "version_minor": 0
      },
      "text/plain": [
       "  0%|          | 0/748 [00:00<?, ?it/s]"
      ]
     },
     "metadata": {},
     "output_type": "display_data"
    },
    {
     "name": "stdout",
     "output_type": "stream",
     "text": [
      "\n",
      "Обработка valid...\n"
     ]
    },
    {
     "data": {
      "application/vnd.jupyter.widget-view+json": {
       "model_id": "9d7c00118c9a46cd81f490d6b07fcd72",
       "version_major": 2,
       "version_minor": 0
      },
      "text/plain": [
       "  0%|          | 0/145 [00:00<?, ?it/s]"
      ]
     },
     "metadata": {},
     "output_type": "display_data"
    },
    {
     "name": "stdout",
     "output_type": "stream",
     "text": [
      "\n",
      "Обработка test...\n"
     ]
    },
    {
     "data": {
      "application/vnd.jupyter.widget-view+json": {
       "model_id": "6925b0f464934796b6a65d725348f883",
       "version_major": 2,
       "version_minor": 0
      },
      "text/plain": [
       "  0%|          | 0/207 [00:00<?, ?it/s]"
      ]
     },
     "metadata": {},
     "output_type": "display_data"
    },
    {
     "name": "stdout",
     "output_type": "stream",
     "text": [
      "\n",
      "Готово\n"
     ]
    }
   ],
   "source": [
    "for split in ['train', 'valid', 'test']:\n",
    "    images_dir = Path(DATASET_PATH) / split / 'images'\n",
    "    labels_dir = Path(DATASET_PATH) / split / 'labels'\n",
    "    masks_dir = Path(DATASET_PATH) / split / 'binary_masks'\n",
    "    \n",
    "    os.makedirs(masks_dir, exist_ok=True)\n",
    "\n",
    "    print(f\"\\nОбработка {split}...\")\n",
    "\n",
    "    for img_file in tqdm(os.listdir(images_dir)):\n",
    "        if not img_file.lower().endswith(('.png', '.jpg', '.jpeg')):\n",
    "            continue\n",
    "\n",
    "        base_name = img_file.rsplit('.', 1)[0]\n",
    "        label_file = labels_dir / f\"{base_name}.txt\"\n",
    "        image_path = images_dir / img_file\n",
    "\n",
    "        if not os.path.exists(label_file):\n",
    "            print(f\"Нет аннотации для {img_file}\")\n",
    "            continue\n",
    "\n",
    "        image = cv2.imread(str(image_path))\n",
    "        h, w = image.shape[:2]\n",
    "\n",
    "        polygons = load_yolo_segmentation(label_file, (h, w))\n",
    "\n",
    "        mask = np.zeros((h, w), dtype=np.uint8)\n",
    "\n",
    "        for polygon in polygons:\n",
    "            cv2.fillPoly(mask, [polygon], color=255)\n",
    "\n",
    "        mask_file = masks_dir / f\"{base_name}.png\"\n",
    "        cv2.imwrite(str(mask_file), mask)\n",
    "\n",
    "print(\"\\nГотово\")"
   ]
  },
  {
   "cell_type": "code",
   "execution_count": null,
   "metadata": {},
   "outputs": [],
   "source": []
  }
 ],
 "metadata": {
  "kernelspec": {
   "display_name": "Python 3",
   "language": "python",
   "name": "python3"
  },
  "language_info": {
   "codemirror_mode": {
    "name": "ipython",
    "version": 3
   },
   "file_extension": ".py",
   "mimetype": "text/x-python",
   "name": "python",
   "nbconvert_exporter": "python",
   "pygments_lexer": "ipython3",
   "version": "3.10.7"
  }
 },
 "nbformat": 4,
 "nbformat_minor": 2
}

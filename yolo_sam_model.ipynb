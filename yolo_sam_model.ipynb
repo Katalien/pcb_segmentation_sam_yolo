{
 "cells": [
  {
   "cell_type": "markdown",
   "id": "c9222bb5",
   "metadata": {},
   "source": [
    "# Модель YOLOandMobileSAM"
   ]
  },
  {
   "cell_type": "code",
   "execution_count": null,
   "id": "22809ca2",
   "metadata": {},
   "outputs": [],
   "source": [
    "import os\n",
    "import torch\n",
    "import cv2\n",
    "import matplotlib.pyplot as plt\n",
    "import numpy as np\n",
    "from helper import get_prompt, get_mask_image, show_masks, show_boxes, overlay_masks_on_black_background\n",
    "from mobile_sam import sam_model_registry, SamPredictor\n",
    "from ultralytics import YOLO\n",
    "import count_area"
   ]
  },
  {
   "cell_type": "code",
   "execution_count": 4,
   "id": "2611c707",
   "metadata": {},
   "outputs": [],
   "source": [
    "class YOLOandMobileSAM:\n",
    "    def __init__(self, yolo_weights='./weights/best_nano_val50.pt', sam_weights='./weights/mobile_sam.pt'):\n",
    "        self.yolo_model = self._load_yolo(yolo_weights)\n",
    "        self.sam_predictor = self._load_mobile_sam(sam_weights)\n",
    "\n",
    "    def _load_yolo(self, weights_path):\n",
    "        \"\"\"Загружает предобученную модель YOLO\"\"\"\n",
    "        return YOLO(weights_path)\n",
    "\n",
    "    def _load_mobile_sam(self, sam_checkpoint):\n",
    "        \"\"\"Загружает Mobile SAM модель\"\"\"\n",
    "        model_type = \"vit_t\"\n",
    "        device = \"cuda\" if torch.cuda.is_available() else \"cpu\"\n",
    "        sam = sam_model_registry[model_type](checkpoint=sam_checkpoint)\n",
    "        sam.to(device=device)\n",
    "        sam.eval()\n",
    "        return SamPredictor(sam)\n",
    "\n",
    "    def predict_yolo(self, img_path, conf=0.5):\n",
    "        \"\"\"Прогоняет изображение через YOLO и возвращает результат\"\"\"\n",
    "        self.yolo_model.predict(img_path, imgsz=640, conf=conf, save_conf=True)\n",
    "        return self.yolo_model\n",
    "\n",
    "    def run_predict(self, image_path, show=False, save_path=None):\n",
    "        \"\"\"Выполняет полный пайплайн: YOLO + SAM\"\"\"\n",
    "        image = cv2.imread(image_path)\n",
    "        image = cv2.cvtColor(image, cv2.COLOR_BGR2RGB)\n",
    "        self.sam_predictor.set_image(image)\n",
    "\n",
    "        yolo_result = self.predict_yolo(image_path)\n",
    "        boxes = get_prompt(yolo_result)\n",
    "\n",
    "        input_boxes = torch.tensor(boxes, device='cpu')\n",
    "        transformed_boxes = self.sam_predictor.transform.apply_boxes_torch(\n",
    "            input_boxes, image.shape[:2]\n",
    "        )\n",
    "\n",
    "        masks, iou_predictions, low_res_masks = self.sam_predictor.predict_torch(\n",
    "            point_coords=None,\n",
    "            point_labels=None,\n",
    "            boxes=transformed_boxes,\n",
    "            multimask_output=False\n",
    "        )\n",
    "\n",
    "        if show:\n",
    "            plt.figure(figsize=(10, 10))\n",
    "            plt.imshow(image)\n",
    "            show_masks(masks, plt.gca())\n",
    "            show_boxes(boxes, plt.gca())\n",
    "            plt.axis('off')\n",
    "            plt.show()\n",
    "\n",
    "        if save_path:\n",
    "            overlay_masks_on_black_background(masks, save_path)\n",
    "\n",
    "        return masks, iou_predictions, low_res_masks\n",
    "\n",
    "    def process_folder(self, images_folder, labels_folder, results_folder):\n",
    "        \"\"\"\n",
    "        Последовательно обрабатывает все изображения из папки\n",
    "        \"\"\"\n",
    "        image_files = sorted(os.listdir(images_folder))\n",
    "\n",
    "        for image_file in image_files:\n",
    "            image_path = os.path.join(images_folder, image_file)\n",
    "            print(f\"Processing {image_file}...\")\n",
    "\n",
    "            masks, _, _ = self.run_predict(image_path=image_path, show=False, save_path=True)\n",
    "\n",
    "            res_mask_path = os.path.join(results_folder, 'res.jpg')\n",
    "\n",
    "            count_area.calculate_area_and_perimeter(image_file, res_mask_path)"
   ]
  },
  {
   "cell_type": "code",
   "execution_count": null,
   "id": "b0b040b1",
   "metadata": {},
   "outputs": [],
   "source": [
    "model = YOLOandMobileSAM()\n",
    "images_folder = 'C:/Users/z.kate/source/GitHubRepos/ELC_Fall_git/YOLO_SAM/datasets/valid_all/images/'\n",
    "labels_folder = 'C:/Users/z.kate/source/GitHubRepos/ELC_Fall_git/YOLO_SAM/datasets/valid_all/labels/'\n",
    "results_folder = 'C:/Users/z.kate/source/GitHubRepos/ELC_Fall_git/YOLO_SAM/datasets/valid_all/res_masks/'\n",
    "\n",
    "# pipeline.process_folder(images_folder, labels_folder, results_folder)"
   ]
  },
  {
   "cell_type": "code",
   "execution_count": null,
   "id": "4c26ac64",
   "metadata": {},
   "outputs": [],
   "source": []
  }
 ],
 "metadata": {
  "kernelspec": {
   "display_name": "base",
   "language": "python",
   "name": "python3"
  },
  "language_info": {
   "codemirror_mode": {
    "name": "ipython",
    "version": 3
   },
   "file_extension": ".py",
   "mimetype": "text/x-python",
   "name": "python",
   "nbconvert_exporter": "python",
   "pygments_lexer": "ipython3",
   "version": "3.12.8"
  }
 },
 "nbformat": 4,
 "nbformat_minor": 5
}

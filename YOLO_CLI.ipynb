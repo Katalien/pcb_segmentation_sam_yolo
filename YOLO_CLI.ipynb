{
 "cells": [
  {
   "cell_type": "code",
   "execution_count": 3,
   "id": "0eb8752f-3195-4590-89c1-c249ee36b620",
   "metadata": {
    "execution": {
     "iopub.execute_input": "2025-02-07T15:05:20.964905Z",
     "iopub.status.busy": "2025-02-07T15:05:20.963812Z",
     "iopub.status.idle": "2025-02-07T15:05:23.688147Z",
     "shell.execute_reply": "2025-02-07T15:05:23.686869Z",
     "shell.execute_reply.started": "2025-02-07T15:05:20.964849Z"
    },
    "tags": []
   },
   "outputs": [
    {
     "name": "stdout",
     "output_type": "stream",
     "text": [
      "Defaulting to user installation because normal site-packages is not writeable\n",
      "Requirement already satisfied: ultralytics in /home/jupyter/.local/lib/python3.10/site-packages (8.3.61)\n",
      "Requirement already satisfied: numpy>=1.23.0 in /home/jupyter/.local/lib/python3.10/site-packages (from ultralytics) (1.26.4)\n",
      "Requirement already satisfied: matplotlib>=3.3.0 in /usr/local/lib/python3.10/dist-packages (from ultralytics) (3.7.1)\n",
      "Requirement already satisfied: opencv-python>=4.6.0 in /usr/local/lib/python3.10/dist-packages (from ultralytics) (4.7.0.72)\n",
      "Requirement already satisfied: pillow>=7.1.2 in /usr/local/lib/python3.10/dist-packages (from ultralytics) (9.4.0)\n",
      "Requirement already satisfied: pyyaml>=5.3.1 in /usr/local/lib/python3.10/dist-packages (from ultralytics) (6.0.1)\n",
      "Requirement already satisfied: requests>=2.23.0 in /usr/local/lib/python3.10/dist-packages (from ultralytics) (2.27.1)\n",
      "Requirement already satisfied: scipy>=1.4.1 in /usr/local/lib/python3.10/dist-packages (from ultralytics) (1.10.1)\n",
      "Requirement already satisfied: torch>=1.8.0 in /usr/local/lib/python3.10/dist-packages (from ultralytics) (2.0.1+cu118)\n",
      "Requirement already satisfied: torchvision>=0.9.0 in /usr/local/lib/python3.10/dist-packages (from ultralytics) (0.15.2+cu118)\n",
      "Requirement already satisfied: tqdm>=4.64.0 in /usr/local/lib/python3.10/dist-packages (from ultralytics) (4.65.0)\n",
      "Requirement already satisfied: psutil in /kernel/lib/python3.10/site-packages (from ultralytics) (6.0.0)\n",
      "Requirement already satisfied: py-cpuinfo in /usr/local/lib/python3.10/dist-packages (from ultralytics) (9.0.0)\n",
      "Requirement already satisfied: pandas>=1.1.4 in /usr/local/lib/python3.10/dist-packages (from ultralytics) (1.5.3)\n",
      "Requirement already satisfied: seaborn>=0.11.0 in /usr/local/lib/python3.10/dist-packages (from ultralytics) (0.12.2)\n",
      "Requirement already satisfied: ultralytics-thop>=2.0.0 in /home/jupyter/.local/lib/python3.10/site-packages (from ultralytics) (2.0.13)\n",
      "Requirement already satisfied: contourpy>=1.0.1 in /usr/local/lib/python3.10/dist-packages (from matplotlib>=3.3.0->ultralytics) (1.1.0)\n",
      "Requirement already satisfied: cycler>=0.10 in /usr/local/lib/python3.10/dist-packages (from matplotlib>=3.3.0->ultralytics) (0.11.0)\n",
      "Requirement already satisfied: fonttools>=4.22.0 in /usr/local/lib/python3.10/dist-packages (from matplotlib>=3.3.0->ultralytics) (4.41.1)\n",
      "Requirement already satisfied: kiwisolver>=1.0.1 in /usr/local/lib/python3.10/dist-packages (from matplotlib>=3.3.0->ultralytics) (1.4.4)\n",
      "Requirement already satisfied: packaging>=20.0 in /usr/local/lib/python3.10/dist-packages (from matplotlib>=3.3.0->ultralytics) (23.1)\n",
      "Requirement already satisfied: pyparsing>=2.3.1 in /usr/local/lib/python3.10/dist-packages (from matplotlib>=3.3.0->ultralytics) (3.1.0)\n",
      "Requirement already satisfied: python-dateutil>=2.7 in /usr/local/lib/python3.10/dist-packages (from matplotlib>=3.3.0->ultralytics) (2.8.2)\n",
      "Requirement already satisfied: pytz>=2020.1 in /usr/local/lib/python3.10/dist-packages (from pandas>=1.1.4->ultralytics) (2022.7.1)\n",
      "Requirement already satisfied: urllib3<1.27,>=1.21.1 in /usr/local/lib/python3.10/dist-packages (from requests>=2.23.0->ultralytics) (1.26.16)\n",
      "Requirement already satisfied: certifi>=2017.4.17 in /usr/local/lib/python3.10/dist-packages (from requests>=2.23.0->ultralytics) (2023.7.22)\n",
      "Requirement already satisfied: charset-normalizer~=2.0.0 in /usr/local/lib/python3.10/dist-packages (from requests>=2.23.0->ultralytics) (2.0.12)\n",
      "Requirement already satisfied: idna<4,>=2.5 in /usr/local/lib/python3.10/dist-packages (from requests>=2.23.0->ultralytics) (3.4)\n",
      "Requirement already satisfied: filelock in /usr/local/lib/python3.10/dist-packages (from torch>=1.8.0->ultralytics) (3.12.2)\n",
      "Requirement already satisfied: typing-extensions in /usr/local/lib/python3.10/dist-packages (from torch>=1.8.0->ultralytics) (4.7.1)\n",
      "Requirement already satisfied: sympy in /usr/local/lib/python3.10/dist-packages (from torch>=1.8.0->ultralytics) (1.11.1)\n",
      "Requirement already satisfied: networkx in /usr/local/lib/python3.10/dist-packages (from torch>=1.8.0->ultralytics) (3.1)\n",
      "Requirement already satisfied: jinja2 in /usr/local/lib/python3.10/dist-packages (from torch>=1.8.0->ultralytics) (3.1.2)\n",
      "Requirement already satisfied: triton==2.0.0 in /usr/local/lib/python3.10/dist-packages (from torch>=1.8.0->ultralytics) (2.0.0)\n",
      "Requirement already satisfied: cmake in /usr/local/lib/python3.10/dist-packages (from triton==2.0.0->torch>=1.8.0->ultralytics) (3.25.2)\n",
      "Requirement already satisfied: lit in /usr/local/lib/python3.10/dist-packages (from triton==2.0.0->torch>=1.8.0->ultralytics) (16.0.6)\n",
      "Requirement already satisfied: six>=1.5 in /usr/lib/python3/dist-packages (from python-dateutil>=2.7->matplotlib>=3.3.0->ultralytics) (1.16.0)\n",
      "Requirement already satisfied: MarkupSafe>=2.0 in /usr/local/lib/python3.10/dist-packages (from jinja2->torch>=1.8.0->ultralytics) (2.1.3)\n",
      "Requirement already satisfied: mpmath>=0.19 in /usr/local/lib/python3.10/dist-packages (from sympy->torch>=1.8.0->ultralytics) (1.3.0)\n",
      "\n",
      "\u001b[1m[\u001b[0m\u001b[34;49mnotice\u001b[0m\u001b[1;39;49m]\u001b[0m\u001b[39;49m A new release of pip is available: \u001b[0m\u001b[31;49m23.0.1\u001b[0m\u001b[39;49m -> \u001b[0m\u001b[32;49m25.0\u001b[0m\n",
      "\u001b[1m[\u001b[0m\u001b[34;49mnotice\u001b[0m\u001b[1;39;49m]\u001b[0m\u001b[39;49m To update, run: \u001b[0m\u001b[32;49mpython3 -m pip install --upgrade pip\u001b[0m\n"
     ]
    }
   ],
   "source": [
    "%pip install ultralytics"
   ]
  },
  {
   "cell_type": "code",
   "execution_count": 28,
   "id": "e189e6ad-4de8-4fc2-936c-ecf23a827d5a",
   "metadata": {
    "execution": {
     "iopub.execute_input": "2025-02-07T15:36:46.132721Z",
     "iopub.status.busy": "2025-02-07T15:36:46.131762Z",
     "iopub.status.idle": "2025-02-07T15:36:46.150756Z",
     "shell.execute_reply": "2025-02-07T15:36:46.149552Z",
     "shell.execute_reply.started": "2025-02-07T15:36:46.132684Z"
    },
    "tags": []
   },
   "outputs": [
    {
     "name": "stdout",
     "output_type": "stream",
     "text": [
      "/home/jupyter/work/resources/model_job_racovini\n"
     ]
    }
   ],
   "source": [
    "cd model_job_racovini/"
   ]
  },
  {
   "cell_type": "code",
   "execution_count": 31,
   "id": "570ad32b-df9b-4d5b-b4e0-f363a29d6122",
   "metadata": {
    "execution": {
     "iopub.execute_input": "2025-02-07T16:50:14.708138Z",
     "iopub.status.busy": "2025-02-07T16:50:14.706675Z",
     "iopub.status.idle": "2025-02-07T16:50:14.738562Z",
     "shell.execute_reply": "2025-02-07T16:50:14.737298Z",
     "shell.execute_reply.started": "2025-02-07T16:50:14.708048Z"
    },
    "tags": []
   },
   "outputs": [
    {
     "name": "stdout",
     "output_type": "stream",
     "text": [
      "data.yaml\n",
      "\u001b[0m\u001b[01;34mruns\u001b[0m/\n",
      "yolo11n-seg.pt\n",
      "yolo11n.pt\n",
      "yolo11s-seg.pt\n"
     ]
    }
   ],
   "source": [
    "ls"
   ]
  },
  {
   "cell_type": "code",
   "execution_count": 33,
   "id": "02fb3f61-a7d3-494c-a7bd-c4ee74947ffd",
   "metadata": {
    "execution": {
     "iopub.execute_input": "2025-02-07T16:51:25.148305Z",
     "iopub.status.busy": "2025-02-07T16:51:25.146727Z",
     "iopub.status.idle": "2025-02-07T17:06:20.229362Z",
     "shell.execute_reply": "2025-02-07T17:06:20.228010Z",
     "shell.execute_reply.started": "2025-02-07T16:51:25.148249Z"
    },
    "tags": []
   },
   "outputs": [
    {
     "name": "stdout",
     "output_type": "stream",
     "text": [
      "New https://pypi.org/project/ultralytics/8.3.73 available 😃 Update with 'pip install -U ultralytics'\n",
      "Ultralytics 8.3.61 🚀 Python-3.10.12 torch-2.0.1+cu118 CUDA:0 (Tesla V100-PCIE-32GB, 32501MiB)\n",
      "\u001b[34m\u001b[1mengine/trainer: \u001b[0mtask=segment, mode=train, model=yolo11n-seg.pt, data=data.yaml, epochs=150, time=None, patience=100, batch=12, imgsz=1056, save=True, save_period=-1, cache=False, device=None, workers=8, project=None, name=yolov11s_200_1056_b12_second, exist_ok=False, pretrained=True, optimizer=auto, verbose=True, seed=0, deterministic=True, single_cls=False, rect=False, cos_lr=False, close_mosaic=10, resume=False, amp=True, fraction=1.0, profile=False, freeze=None, multi_scale=False, overlap_mask=True, mask_ratio=4, dropout=0.0, val=True, split=val, save_json=False, save_hybrid=False, conf=None, iou=0.7, max_det=300, half=False, dnn=False, plots=True, source=None, vid_stride=1, stream_buffer=False, visualize=False, augment=False, agnostic_nms=False, classes=None, retina_masks=False, embed=None, show=False, save_frames=False, save_txt=False, save_conf=False, save_crop=False, show_labels=True, show_conf=True, show_boxes=True, line_width=None, format=torchscript, keras=False, optimize=False, int8=False, dynamic=False, simplify=True, opset=None, workspace=None, nms=False, lr0=0.01, lrf=0.01, momentum=0.937, weight_decay=0.0005, warmup_epochs=3.0, warmup_momentum=0.8, warmup_bias_lr=0.1, box=7.5, cls=0.5, dfl=1.5, pose=12.0, kobj=1.0, nbs=64, hsv_h=0.015, hsv_s=0.7, hsv_v=0.4, degrees=0.0, translate=0.1, scale=0.5, shear=0.0, perspective=0.0, flipud=0.0, fliplr=0.5, bgr=0.0, mosaic=1.0, mixup=0.0, copy_paste=0.0, copy_paste_mode=flip, auto_augment=randaugment, erasing=0.4, crop_fraction=1.0, cfg=None, tracker=botsort.yaml, save_dir=runs/segment/yolov11s_200_1056_b12_second\n",
      "Overriding model.yaml nc=80 with nc=1\n",
      "\n",
      "                   from  n    params  module                                       arguments                     \n",
      "  0                  -1  1       464  ultralytics.nn.modules.conv.Conv             [3, 16, 3, 2]                 \n",
      "  1                  -1  1      4672  ultralytics.nn.modules.conv.Conv             [16, 32, 3, 2]                \n",
      "  2                  -1  1      6640  ultralytics.nn.modules.block.C3k2            [32, 64, 1, False, 0.25]      \n",
      "  3                  -1  1     36992  ultralytics.nn.modules.conv.Conv             [64, 64, 3, 2]                \n",
      "  4                  -1  1     26080  ultralytics.nn.modules.block.C3k2            [64, 128, 1, False, 0.25]     \n",
      "  5                  -1  1    147712  ultralytics.nn.modules.conv.Conv             [128, 128, 3, 2]              \n",
      "  6                  -1  1     87040  ultralytics.nn.modules.block.C3k2            [128, 128, 1, True]           \n",
      "  7                  -1  1    295424  ultralytics.nn.modules.conv.Conv             [128, 256, 3, 2]              \n",
      "  8                  -1  1    346112  ultralytics.nn.modules.block.C3k2            [256, 256, 1, True]           \n",
      "  9                  -1  1    164608  ultralytics.nn.modules.block.SPPF            [256, 256, 5]                 \n",
      " 10                  -1  1    249728  ultralytics.nn.modules.block.C2PSA           [256, 256, 1]                 \n",
      " 11                  -1  1         0  torch.nn.modules.upsampling.Upsample         [None, 2, 'nearest']          \n",
      " 12             [-1, 6]  1         0  ultralytics.nn.modules.conv.Concat           [1]                           \n",
      " 13                  -1  1    111296  ultralytics.nn.modules.block.C3k2            [384, 128, 1, False]          \n",
      " 14                  -1  1         0  torch.nn.modules.upsampling.Upsample         [None, 2, 'nearest']          \n",
      " 15             [-1, 4]  1         0  ultralytics.nn.modules.conv.Concat           [1]                           \n",
      " 16                  -1  1     32096  ultralytics.nn.modules.block.C3k2            [256, 64, 1, False]           \n",
      " 17                  -1  1     36992  ultralytics.nn.modules.conv.Conv             [64, 64, 3, 2]                \n",
      " 18            [-1, 13]  1         0  ultralytics.nn.modules.conv.Concat           [1]                           \n",
      " 19                  -1  1     86720  ultralytics.nn.modules.block.C3k2            [192, 128, 1, False]          \n",
      " 20                  -1  1    147712  ultralytics.nn.modules.conv.Conv             [128, 128, 3, 2]              \n",
      " 21            [-1, 10]  1         0  ultralytics.nn.modules.conv.Concat           [1]                           \n",
      " 22                  -1  1    378880  ultralytics.nn.modules.block.C3k2            [384, 256, 1, True]           \n",
      " 23        [16, 19, 22]  1    683635  ultralytics.nn.modules.head.Segment          [1, 32, 64, [64, 128, 256]]   \n",
      "YOLO11n-seg summary: 355 layers, 2,842,803 parameters, 2,842,787 gradients, 10.4 GFLOPs\n",
      "\n",
      "Transferred 510/561 items from pretrained weights\n",
      "\u001b[34m\u001b[1mTensorBoard: \u001b[0mStart with 'tensorboard --logdir runs/segment/yolov11s_200_1056_b12_second', view at http://localhost:6006/\n",
      "Freezing layer 'model.23.dfl.conv.weight'\n",
      "\u001b[34m\u001b[1mAMP: \u001b[0mrunning Automatic Mixed Precision (AMP) checks...\n",
      "\u001b[34m\u001b[1mAMP: \u001b[0mchecks passed ✅\n"
     ]
    },
    {
     "name": "stderr",
     "output_type": "stream",
     "text": [
      "\u001b[34m\u001b[1mtrain: \u001b[0mScanning /home/jupyter/work/resources/datasets/train/labels.cache... 184 images, 0 backgrounds, 0 corrupt: 100%|██████████| 184/184 [00:00<?, ?it/s]"
     ]
    },
    {
     "name": "stdout",
     "output_type": "stream",
     "text": [
      "\u001b[34m\u001b[1malbumentations: \u001b[0mBlur(p=0.01, blur_limit=(3, 7)), MedianBlur(p=0.01, blur_limit=(3, 7)), ToGray(p=0.01), CLAHE(p=0.01, clip_limit=(1, 4.0), tile_grid_size=(8, 8))\n"
     ]
    },
    {
     "name": "stderr",
     "output_type": "stream",
     "text": [
      "\n",
      "\u001b[34m\u001b[1mval: \u001b[0mScanning /home/jupyter/work/resources/datasets/val/labels.cache... 40 images, 0 backgrounds, 0 corrupt: 100%|██████████| 40/40 [00:00<?, ?it/s]\n"
     ]
    },
    {
     "name": "stdout",
     "output_type": "stream",
     "text": [
      "Plotting labels to runs/segment/yolov11s_200_1056_b12_second/labels.jpg... \n",
      "\u001b[34m\u001b[1moptimizer:\u001b[0m 'optimizer=auto' found, ignoring 'lr0=0.01' and 'momentum=0.937' and determining best 'optimizer', 'lr0' and 'momentum' automatically... \n",
      "\u001b[34m\u001b[1moptimizer:\u001b[0m AdamW(lr=0.002, momentum=0.9) with parameter groups 90 weight(decay=0.0), 101 weight(decay=0.00046875), 100 bias(decay=0.0)\n",
      "\u001b[34m\u001b[1mTensorBoard: \u001b[0mmodel graph visualization added ✅\n",
      "Image sizes 1056 train, 1056 val\n",
      "Using 8 dataloader workers\n",
      "Logging results to \u001b[1mruns/segment/yolov11s_200_1056_b12_second\u001b[0m\n",
      "Starting training for 150 epochs...\n",
      "\n",
      "      Epoch    GPU_mem   box_loss   seg_loss   cls_loss   dfl_loss  Instances       Size\n"
     ]
    },
    {
     "name": "stderr",
     "output_type": "stream",
     "text": [
      "      1/150      6.91G       1.28      2.138       7.11     0.9347         14       1056: 100%|██████████| 16/16 [00:05<00:00,  2.91it/s]\n",
      "                 Class     Images  Instances      Box(P          R      mAP50  mAP50-95)     Mask(P          R      mAP50  mAP50-95): 100%|██████████| 2/2 [00:00<00:00,  3.41it/s]"
     ]
    },
    {
     "name": "stdout",
     "output_type": "stream",
     "text": [
      "                   all         40         72   0.000333     0.0556   0.000176   8.29e-05   0.000833      0.139   0.000499    0.00018\n"
     ]
    },
    {
     "name": "stderr",
     "output_type": "stream",
     "text": [
      "\n"
     ]
    },
    {
     "name": "stdout",
     "output_type": "stream",
     "text": [
      "\n",
      "      Epoch    GPU_mem   box_loss   seg_loss   cls_loss   dfl_loss  Instances       Size\n"
     ]
    },
    {
     "name": "stderr",
     "output_type": "stream",
     "text": [
      "      2/150      6.18G      1.488      2.186      7.664     0.9231          4       1056: 100%|██████████| 16/16 [00:04<00:00,  3.98it/s]\n",
      "                 Class     Images  Instances      Box(P          R      mAP50  mAP50-95)     Mask(P          R      mAP50  mAP50-95): 100%|██████████| 2/2 [00:00<00:00,  3.48it/s]"
     ]
    },
    {
     "name": "stdout",
     "output_type": "stream",
     "text": [
      "                   all         40         72   0.000333     0.0556   0.000176   8.29e-05   0.000833      0.139   0.000499    0.00018\n"
     ]
    },
    {
     "name": "stderr",
     "output_type": "stream",
     "text": [
      "\n"
     ]
    },
    {
     "name": "stdout",
     "output_type": "stream",
     "text": [
      "\n",
      "      Epoch    GPU_mem   box_loss   seg_loss   cls_loss   dfl_loss  Instances       Size\n"
     ]
    },
    {
     "name": "stderr",
     "output_type": "stream",
     "text": [
      "      3/150      6.18G      1.461      2.312      6.009     0.9631         12       1056: 100%|██████████| 16/16 [00:03<00:00,  4.19it/s]\n",
      "                 Class     Images  Instances      Box(P          R      mAP50  mAP50-95)     Mask(P          R      mAP50  mAP50-95): 100%|██████████| 2/2 [00:00<00:00,  4.10it/s]"
     ]
    },
    {
     "name": "stdout",
     "output_type": "stream",
     "text": [
      "                   all         40         72   0.000333     0.0556   0.000176   8.29e-05   0.000833      0.139   0.000499    0.00018\n"
     ]
    },
    {
     "name": "stderr",
     "output_type": "stream",
     "text": [
      "\n"
     ]
    },
    {
     "name": "stdout",
     "output_type": "stream",
     "text": [
      "\n",
      "      Epoch    GPU_mem   box_loss   seg_loss   cls_loss   dfl_loss  Instances       Size\n"
     ]
    },
    {
     "name": "stderr",
     "output_type": "stream",
     "text": [
      "      4/150      6.22G      1.365      1.991      4.814     0.9876         10       1056: 100%|██████████| 16/16 [00:03<00:00,  4.13it/s]\n",
      "                 Class     Images  Instances      Box(P          R      mAP50  mAP50-95)     Mask(P          R      mAP50  mAP50-95): 100%|██████████| 2/2 [00:00<00:00,  3.44it/s]"
     ]
    },
    {
     "name": "stdout",
     "output_type": "stream",
     "text": [
      "                   all         40         72   0.000333     0.0556   0.000176   8.29e-05   0.000833      0.139   0.000499    0.00018\n"
     ]
    },
    {
     "name": "stderr",
     "output_type": "stream",
     "text": [
      "\n"
     ]
    },
    {
     "name": "stdout",
     "output_type": "stream",
     "text": [
      "\n",
      "      Epoch    GPU_mem   box_loss   seg_loss   cls_loss   dfl_loss  Instances       Size\n"
     ]
    },
    {
     "name": "stderr",
     "output_type": "stream",
     "text": [
      "      5/150      6.25G      1.341      2.035      4.654      0.966          4       1056: 100%|██████████| 16/16 [00:03<00:00,  4.35it/s]\n",
      "                 Class     Images  Instances      Box(P          R      mAP50  mAP50-95)     Mask(P          R      mAP50  mAP50-95): 100%|██████████| 2/2 [00:00<00:00,  3.09it/s]"
     ]
    },
    {
     "name": "stdout",
     "output_type": "stream",
     "text": [
      "                   all         40         72    0.00075      0.125     0.0011   0.000339    0.00225      0.375    0.00381    0.00101\n"
     ]
    },
    {
     "name": "stderr",
     "output_type": "stream",
     "text": [
      "\n"
     ]
    },
    {
     "name": "stdout",
     "output_type": "stream",
     "text": [
      "\n",
      "      Epoch    GPU_mem   box_loss   seg_loss   cls_loss   dfl_loss  Instances       Size\n"
     ]
    },
    {
     "name": "stderr",
     "output_type": "stream",
     "text": [
      "      6/150      6.19G      1.417      1.982      4.155     0.9933          7       1056: 100%|██████████| 16/16 [00:03<00:00,  4.40it/s]\n",
      "                 Class     Images  Instances      Box(P          R      mAP50  mAP50-95)     Mask(P          R      mAP50  mAP50-95): 100%|██████████| 2/2 [00:00<00:00,  3.48it/s]\n"
     ]
    },
    {
     "name": "stdout",
     "output_type": "stream",
     "text": [
      "                   all         40         72    0.00142      0.236    0.00992    0.00577    0.00267      0.444     0.0134    0.00518\n",
      "\n",
      "      Epoch    GPU_mem   box_loss   seg_loss   cls_loss   dfl_loss  Instances       Size\n"
     ]
    },
    {
     "name": "stderr",
     "output_type": "stream",
     "text": [
      "      7/150      6.23G      1.432      1.834      3.997      0.993         11       1056: 100%|██████████| 16/16 [00:03<00:00,  4.30it/s]\n",
      "                 Class     Images  Instances      Box(P          R      mAP50  mAP50-95)     Mask(P          R      mAP50  mAP50-95): 100%|██████████| 2/2 [00:00<00:00,  3.27it/s]"
     ]
    },
    {
     "name": "stdout",
     "output_type": "stream",
     "text": [
      "                   all         40         72    0.00267      0.444      0.193     0.0854    0.00317      0.528      0.193     0.0846\n"
     ]
    },
    {
     "name": "stderr",
     "output_type": "stream",
     "text": [
      "\n"
     ]
    },
    {
     "name": "stdout",
     "output_type": "stream",
     "text": [
      "\n",
      "      Epoch    GPU_mem   box_loss   seg_loss   cls_loss   dfl_loss  Instances       Size\n"
     ]
    },
    {
     "name": "stderr",
     "output_type": "stream",
     "text": [
      "      8/150      6.33G      1.336      1.834      3.449     0.9604          5       1056: 100%|██████████| 16/16 [00:03<00:00,  4.12it/s]\n",
      "                 Class     Images  Instances      Box(P          R      mAP50  mAP50-95)     Mask(P          R      mAP50  mAP50-95): 100%|██████████| 2/2 [00:00<00:00,  3.55it/s]\n"
     ]
    },
    {
     "name": "stdout",
     "output_type": "stream",
     "text": [
      "                   all         40         72      0.614      0.347      0.451      0.246       0.59      0.333      0.426      0.175\n",
      "\n",
      "      Epoch    GPU_mem   box_loss   seg_loss   cls_loss   dfl_loss  Instances       Size\n"
     ]
    },
    {
     "name": "stderr",
     "output_type": "stream",
     "text": [
      "      9/150      6.13G       1.39          2      3.454     0.9749          9       1056: 100%|██████████| 16/16 [00:03<00:00,  4.38it/s]\n",
      "                 Class     Images  Instances      Box(P          R      mAP50  mAP50-95)     Mask(P          R      mAP50  mAP50-95): 100%|██████████| 2/2 [00:00<00:00,  3.28it/s]"
     ]
    },
    {
     "name": "stdout",
     "output_type": "stream",
     "text": [
      "                   all         40         72      0.496      0.417      0.386      0.199      0.445      0.389       0.34      0.129\n"
     ]
    },
    {
     "name": "stderr",
     "output_type": "stream",
     "text": [
      "\n"
     ]
    },
    {
     "name": "stdout",
     "output_type": "stream",
     "text": [
      "\n",
      "      Epoch    GPU_mem   box_loss   seg_loss   cls_loss   dfl_loss  Instances       Size\n"
     ]
    },
    {
     "name": "stderr",
     "output_type": "stream",
     "text": [
      "     10/150      6.25G      1.393      1.967      3.587     0.9736          2       1056: 100%|██████████| 16/16 [00:03<00:00,  4.39it/s]\n",
      "                 Class     Images  Instances      Box(P          R      mAP50  mAP50-95)     Mask(P          R      mAP50  mAP50-95): 100%|██████████| 2/2 [00:00<00:00,  3.25it/s]\n"
     ]
    },
    {
     "name": "stdout",
     "output_type": "stream",
     "text": [
      "                   all         40         72      0.372      0.436      0.412      0.214      0.384       0.45      0.409      0.198\n",
      "\n",
      "      Epoch    GPU_mem   box_loss   seg_loss   cls_loss   dfl_loss  Instances       Size\n"
     ]
    },
    {
     "name": "stderr",
     "output_type": "stream",
     "text": [
      "     11/150      6.29G      1.366      2.003      2.911     0.9687         11       1056: 100%|██████████| 16/16 [00:03<00:00,  4.33it/s]\n",
      "                 Class     Images  Instances      Box(P          R      mAP50  mAP50-95)     Mask(P          R      mAP50  mAP50-95): 100%|██████████| 2/2 [00:00<00:00,  3.36it/s]"
     ]
    },
    {
     "name": "stdout",
     "output_type": "stream",
     "text": [
      "                   all         40         72      0.527      0.583       0.54      0.257      0.487      0.514       0.47        0.2\n"
     ]
    },
    {
     "name": "stderr",
     "output_type": "stream",
     "text": [
      "\n"
     ]
    },
    {
     "name": "stdout",
     "output_type": "stream",
     "text": [
      "\n",
      "      Epoch    GPU_mem   box_loss   seg_loss   cls_loss   dfl_loss  Instances       Size\n"
     ]
    },
    {
     "name": "stderr",
     "output_type": "stream",
     "text": [
      "     12/150      6.34G      1.408      1.803      2.459      1.003          7       1056: 100%|██████████| 16/16 [00:03<00:00,  4.27it/s]\n",
      "                 Class     Images  Instances      Box(P          R      mAP50  mAP50-95)     Mask(P          R      mAP50  mAP50-95): 100%|██████████| 2/2 [00:00<00:00,  4.23it/s]\n"
     ]
    },
    {
     "name": "stdout",
     "output_type": "stream",
     "text": [
      "                   all         40         72      0.654      0.583      0.558      0.295      0.623      0.556      0.518      0.228\n",
      "\n",
      "      Epoch    GPU_mem   box_loss   seg_loss   cls_loss   dfl_loss  Instances       Size\n"
     ]
    },
    {
     "name": "stderr",
     "output_type": "stream",
     "text": [
      "     13/150      6.31G      1.372       2.11      2.433     0.9373          6       1056: 100%|██████████| 16/16 [00:03<00:00,  4.14it/s]\n",
      "                 Class     Images  Instances      Box(P          R      mAP50  mAP50-95)     Mask(P          R      mAP50  mAP50-95): 100%|██████████| 2/2 [00:00<00:00,  4.35it/s]"
     ]
    },
    {
     "name": "stdout",
     "output_type": "stream",
     "text": [
      "                   all         40         72      0.661      0.444        0.5      0.262      0.638      0.367      0.425      0.175\n"
     ]
    },
    {
     "name": "stderr",
     "output_type": "stream",
     "text": [
      "\n"
     ]
    },
    {
     "name": "stdout",
     "output_type": "stream",
     "text": [
      "\n",
      "      Epoch    GPU_mem   box_loss   seg_loss   cls_loss   dfl_loss  Instances       Size\n"
     ]
    },
    {
     "name": "stderr",
     "output_type": "stream",
     "text": [
      "     14/150      6.24G      1.386      1.805      2.245     0.9862          9       1056: 100%|██████████| 16/16 [00:03<00:00,  4.30it/s]\n",
      "                 Class     Images  Instances      Box(P          R      mAP50  mAP50-95)     Mask(P          R      mAP50  mAP50-95): 100%|██████████| 2/2 [00:00<00:00,  3.85it/s]"
     ]
    },
    {
     "name": "stdout",
     "output_type": "stream",
     "text": [
      "                   all         40         72      0.653       0.47      0.545        0.3      0.703      0.417       0.52      0.234\n"
     ]
    },
    {
     "name": "stderr",
     "output_type": "stream",
     "text": [
      "\n"
     ]
    },
    {
     "name": "stdout",
     "output_type": "stream",
     "text": [
      "\n",
      "      Epoch    GPU_mem   box_loss   seg_loss   cls_loss   dfl_loss  Instances       Size\n"
     ]
    },
    {
     "name": "stderr",
     "output_type": "stream",
     "text": [
      "     15/150      6.29G      1.284      1.678      2.042     0.9567         10       1056: 100%|██████████| 16/16 [00:03<00:00,  4.36it/s]\n",
      "                 Class     Images  Instances      Box(P          R      mAP50  mAP50-95)     Mask(P          R      mAP50  mAP50-95): 100%|██████████| 2/2 [00:00<00:00,  4.48it/s]"
     ]
    },
    {
     "name": "stdout",
     "output_type": "stream",
     "text": [
      "                   all         40         72      0.606      0.556      0.605      0.313      0.632      0.478      0.545       0.21\n"
     ]
    },
    {
     "name": "stderr",
     "output_type": "stream",
     "text": [
      "\n"
     ]
    },
    {
     "name": "stdout",
     "output_type": "stream",
     "text": [
      "\n",
      "      Epoch    GPU_mem   box_loss   seg_loss   cls_loss   dfl_loss  Instances       Size\n"
     ]
    },
    {
     "name": "stderr",
     "output_type": "stream",
     "text": [
      "     16/150      6.21G      1.251      1.703      1.939     0.9358          7       1056: 100%|██████████| 16/16 [00:03<00:00,  4.40it/s]\n",
      "                 Class     Images  Instances      Box(P          R      mAP50  mAP50-95)     Mask(P          R      mAP50  mAP50-95): 100%|██████████| 2/2 [00:00<00:00,  4.37it/s]"
     ]
    },
    {
     "name": "stdout",
     "output_type": "stream",
     "text": [
      "                   all         40         72      0.563      0.536      0.571      0.302      0.607      0.514      0.541      0.222\n"
     ]
    },
    {
     "name": "stderr",
     "output_type": "stream",
     "text": [
      "\n"
     ]
    },
    {
     "name": "stdout",
     "output_type": "stream",
     "text": [
      "\n",
      "      Epoch    GPU_mem   box_loss   seg_loss   cls_loss   dfl_loss  Instances       Size\n"
     ]
    },
    {
     "name": "stderr",
     "output_type": "stream",
     "text": [
      "     17/150      6.27G      1.315      1.833      1.876     0.9642         11       1056: 100%|██████████| 16/16 [00:03<00:00,  4.32it/s]\n",
      "                 Class     Images  Instances      Box(P          R      mAP50  mAP50-95)     Mask(P          R      mAP50  mAP50-95): 100%|██████████| 2/2 [00:00<00:00,  3.83it/s]"
     ]
    },
    {
     "name": "stdout",
     "output_type": "stream",
     "text": [
      "                   all         40         72      0.655      0.597      0.589      0.294      0.645      0.583      0.555      0.206\n"
     ]
    },
    {
     "name": "stderr",
     "output_type": "stream",
     "text": [
      "\n"
     ]
    },
    {
     "name": "stdout",
     "output_type": "stream",
     "text": [
      "\n",
      "      Epoch    GPU_mem   box_loss   seg_loss   cls_loss   dfl_loss  Instances       Size\n"
     ]
    },
    {
     "name": "stderr",
     "output_type": "stream",
     "text": [
      "     18/150      6.33G       1.18      1.598      1.795     0.9198          9       1056: 100%|██████████| 16/16 [00:03<00:00,  4.24it/s]\n",
      "                 Class     Images  Instances      Box(P          R      mAP50  mAP50-95)     Mask(P          R      mAP50  mAP50-95): 100%|██████████| 2/2 [00:00<00:00,  4.02it/s]"
     ]
    },
    {
     "name": "stdout",
     "output_type": "stream",
     "text": [
      "                   all         40         72      0.772      0.564      0.629      0.312      0.749      0.472       0.55      0.203\n"
     ]
    },
    {
     "name": "stderr",
     "output_type": "stream",
     "text": [
      "\n"
     ]
    },
    {
     "name": "stdout",
     "output_type": "stream",
     "text": [
      "\n",
      "      Epoch    GPU_mem   box_loss   seg_loss   cls_loss   dfl_loss  Instances       Size\n"
     ]
    },
    {
     "name": "stderr",
     "output_type": "stream",
     "text": [
      "     19/150      6.29G      1.163      1.671      1.638      0.939         10       1056: 100%|██████████| 16/16 [00:03<00:00,  4.30it/s]\n",
      "                 Class     Images  Instances      Box(P          R      mAP50  mAP50-95)     Mask(P          R      mAP50  mAP50-95): 100%|██████████| 2/2 [00:00<00:00,  4.31it/s]\n"
     ]
    },
    {
     "name": "stdout",
     "output_type": "stream",
     "text": [
      "                   all         40         72      0.553      0.585       0.53      0.288      0.525      0.542      0.471      0.169\n",
      "\n",
      "      Epoch    GPU_mem   box_loss   seg_loss   cls_loss   dfl_loss  Instances       Size\n"
     ]
    },
    {
     "name": "stderr",
     "output_type": "stream",
     "text": [
      "     20/150      6.35G      1.149      1.587       1.45     0.9314         10       1056: 100%|██████████| 16/16 [00:03<00:00,  4.43it/s]\n",
      "                 Class     Images  Instances      Box(P          R      mAP50  mAP50-95)     Mask(P          R      mAP50  mAP50-95): 100%|██████████| 2/2 [00:00<00:00,  3.89it/s]\n"
     ]
    },
    {
     "name": "stdout",
     "output_type": "stream",
     "text": [
      "                   all         40         72       0.63      0.611       0.56      0.304      0.587      0.569      0.506       0.22\n",
      "\n",
      "      Epoch    GPU_mem   box_loss   seg_loss   cls_loss   dfl_loss  Instances       Size\n"
     ]
    },
    {
     "name": "stderr",
     "output_type": "stream",
     "text": [
      "     21/150      6.31G      1.216      1.767      1.426     0.9216         10       1056: 100%|██████████| 16/16 [00:03<00:00,  4.31it/s]\n",
      "                 Class     Images  Instances      Box(P          R      mAP50  mAP50-95)     Mask(P          R      mAP50  mAP50-95): 100%|██████████| 2/2 [00:00<00:00,  4.06it/s]"
     ]
    },
    {
     "name": "stdout",
     "output_type": "stream",
     "text": [
      "                   all         40         72      0.734      0.537      0.628      0.325      0.687      0.431      0.502      0.199\n"
     ]
    },
    {
     "name": "stderr",
     "output_type": "stream",
     "text": [
      "\n"
     ]
    },
    {
     "name": "stdout",
     "output_type": "stream",
     "text": [
      "\n",
      "      Epoch    GPU_mem   box_loss   seg_loss   cls_loss   dfl_loss  Instances       Size\n"
     ]
    },
    {
     "name": "stderr",
     "output_type": "stream",
     "text": [
      "     22/150      6.33G      1.189      1.471      1.321     0.9202         13       1056: 100%|██████████| 16/16 [00:03<00:00,  4.34it/s]\n",
      "                 Class     Images  Instances      Box(P          R      mAP50  mAP50-95)     Mask(P          R      mAP50  mAP50-95): 100%|██████████| 2/2 [00:00<00:00,  3.37it/s]"
     ]
    },
    {
     "name": "stdout",
     "output_type": "stream",
     "text": [
      "                   all         40         72      0.654      0.603      0.635      0.326      0.603      0.556      0.549      0.292\n"
     ]
    },
    {
     "name": "stderr",
     "output_type": "stream",
     "text": [
      "\n"
     ]
    },
    {
     "name": "stdout",
     "output_type": "stream",
     "text": [
      "\n",
      "      Epoch    GPU_mem   box_loss   seg_loss   cls_loss   dfl_loss  Instances       Size\n"
     ]
    },
    {
     "name": "stderr",
     "output_type": "stream",
     "text": [
      "     23/150      6.33G      1.183      1.601      1.332     0.9215          7       1056: 100%|██████████| 16/16 [00:03<00:00,  4.13it/s]\n",
      "                 Class     Images  Instances      Box(P          R      mAP50  mAP50-95)     Mask(P          R      mAP50  mAP50-95): 100%|██████████| 2/2 [00:00<00:00,  4.57it/s]"
     ]
    },
    {
     "name": "stdout",
     "output_type": "stream",
     "text": [
      "                   all         40         72       0.56      0.486       0.52      0.267      0.521      0.472      0.433      0.193\n"
     ]
    },
    {
     "name": "stderr",
     "output_type": "stream",
     "text": [
      "\n"
     ]
    },
    {
     "name": "stdout",
     "output_type": "stream",
     "text": [
      "\n",
      "      Epoch    GPU_mem   box_loss   seg_loss   cls_loss   dfl_loss  Instances       Size\n"
     ]
    },
    {
     "name": "stderr",
     "output_type": "stream",
     "text": [
      "     24/150      6.38G      1.259      1.717      1.332     0.9422          5       1056: 100%|██████████| 16/16 [00:03<00:00,  4.31it/s]\n",
      "                 Class     Images  Instances      Box(P          R      mAP50  mAP50-95)     Mask(P          R      mAP50  mAP50-95): 100%|██████████| 2/2 [00:00<00:00,  4.25it/s]"
     ]
    },
    {
     "name": "stdout",
     "output_type": "stream",
     "text": [
      "                   all         40         72      0.578      0.542      0.538      0.265      0.533        0.5      0.468      0.162\n"
     ]
    },
    {
     "name": "stderr",
     "output_type": "stream",
     "text": [
      "\n"
     ]
    },
    {
     "name": "stdout",
     "output_type": "stream",
     "text": [
      "\n",
      "      Epoch    GPU_mem   box_loss   seg_loss   cls_loss   dfl_loss  Instances       Size\n"
     ]
    },
    {
     "name": "stderr",
     "output_type": "stream",
     "text": [
      "     25/150      6.29G      1.184      1.507      1.294     0.9335          7       1056: 100%|██████████| 16/16 [00:03<00:00,  4.27it/s]\n",
      "                 Class     Images  Instances      Box(P          R      mAP50  mAP50-95)     Mask(P          R      mAP50  mAP50-95): 100%|██████████| 2/2 [00:00<00:00,  3.93it/s]"
     ]
    },
    {
     "name": "stdout",
     "output_type": "stream",
     "text": [
      "                   all         40         72      0.671      0.482      0.556      0.302      0.613      0.441      0.494      0.193\n"
     ]
    },
    {
     "name": "stderr",
     "output_type": "stream",
     "text": [
      "\n"
     ]
    },
    {
     "name": "stdout",
     "output_type": "stream",
     "text": [
      "\n",
      "      Epoch    GPU_mem   box_loss   seg_loss   cls_loss   dfl_loss  Instances       Size\n"
     ]
    },
    {
     "name": "stderr",
     "output_type": "stream",
     "text": [
      "     26/150      6.19G      1.217      1.765      1.356     0.9461          4       1056: 100%|██████████| 16/16 [00:03<00:00,  4.31it/s]\n",
      "                 Class     Images  Instances      Box(P          R      mAP50  mAP50-95)     Mask(P          R      mAP50  mAP50-95): 100%|██████████| 2/2 [00:00<00:00,  3.86it/s]\n"
     ]
    },
    {
     "name": "stdout",
     "output_type": "stream",
     "text": [
      "                   all         40         72      0.691      0.496       0.53      0.288      0.672      0.483      0.493      0.181\n",
      "\n",
      "      Epoch    GPU_mem   box_loss   seg_loss   cls_loss   dfl_loss  Instances       Size\n"
     ]
    },
    {
     "name": "stderr",
     "output_type": "stream",
     "text": [
      "     27/150      6.38G      1.137      1.623      1.248     0.8966          4       1056: 100%|██████████| 16/16 [00:03<00:00,  4.43it/s]\n",
      "                 Class     Images  Instances      Box(P          R      mAP50  mAP50-95)     Mask(P          R      mAP50  mAP50-95): 100%|██████████| 2/2 [00:00<00:00,  3.41it/s]"
     ]
    },
    {
     "name": "stdout",
     "output_type": "stream",
     "text": [
      "                   all         40         72      0.572      0.431      0.472      0.251      0.589      0.389      0.444      0.188\n"
     ]
    },
    {
     "name": "stderr",
     "output_type": "stream",
     "text": [
      "\n"
     ]
    },
    {
     "name": "stdout",
     "output_type": "stream",
     "text": [
      "\n",
      "      Epoch    GPU_mem   box_loss   seg_loss   cls_loss   dfl_loss  Instances       Size\n"
     ]
    },
    {
     "name": "stderr",
     "output_type": "stream",
     "text": [
      "     28/150      6.38G      1.107      1.584      1.143     0.9112          9       1056: 100%|██████████| 16/16 [00:03<00:00,  4.29it/s]\n",
      "                 Class     Images  Instances      Box(P          R      mAP50  mAP50-95)     Mask(P          R      mAP50  mAP50-95): 100%|██████████| 2/2 [00:00<00:00,  4.05it/s]"
     ]
    },
    {
     "name": "stdout",
     "output_type": "stream",
     "text": [
      "                   all         40         72      0.743      0.444      0.571      0.318      0.577      0.458      0.472      0.197\n"
     ]
    },
    {
     "name": "stderr",
     "output_type": "stream",
     "text": [
      "\n"
     ]
    },
    {
     "name": "stdout",
     "output_type": "stream",
     "text": [
      "\n",
      "      Epoch    GPU_mem   box_loss   seg_loss   cls_loss   dfl_loss  Instances       Size\n"
     ]
    },
    {
     "name": "stderr",
     "output_type": "stream",
     "text": [
      "     29/150      6.21G      1.157      1.581      1.141     0.9076         12       1056: 100%|██████████| 16/16 [00:03<00:00,  4.29it/s]\n",
      "                 Class     Images  Instances      Box(P          R      mAP50  mAP50-95)     Mask(P          R      mAP50  mAP50-95): 100%|██████████| 2/2 [00:00<00:00,  3.72it/s]"
     ]
    },
    {
     "name": "stdout",
     "output_type": "stream",
     "text": [
      "                   all         40         72       0.55      0.556      0.487      0.253      0.553      0.472      0.431      0.177\n"
     ]
    },
    {
     "name": "stderr",
     "output_type": "stream",
     "text": [
      "\n"
     ]
    },
    {
     "name": "stdout",
     "output_type": "stream",
     "text": [
      "\n",
      "      Epoch    GPU_mem   box_loss   seg_loss   cls_loss   dfl_loss  Instances       Size\n"
     ]
    },
    {
     "name": "stderr",
     "output_type": "stream",
     "text": [
      "     30/150      6.24G      1.141      1.628      1.092     0.9022         16       1056: 100%|██████████| 16/16 [00:03<00:00,  4.34it/s]\n",
      "                 Class     Images  Instances      Box(P          R      mAP50  mAP50-95)     Mask(P          R      mAP50  mAP50-95): 100%|██████████| 2/2 [00:00<00:00,  3.82it/s]"
     ]
    },
    {
     "name": "stdout",
     "output_type": "stream",
     "text": [
      "                   all         40         72      0.543      0.653      0.561      0.289      0.543        0.5      0.474       0.19\n"
     ]
    },
    {
     "name": "stderr",
     "output_type": "stream",
     "text": [
      "\n"
     ]
    },
    {
     "name": "stdout",
     "output_type": "stream",
     "text": [
      "\n",
      "      Epoch    GPU_mem   box_loss   seg_loss   cls_loss   dfl_loss  Instances       Size\n"
     ]
    },
    {
     "name": "stderr",
     "output_type": "stream",
     "text": [
      "     31/150      6.19G      1.143      1.512      1.054     0.9041         12       1056: 100%|██████████| 16/16 [00:03<00:00,  4.33it/s]\n",
      "                 Class     Images  Instances      Box(P          R      mAP50  mAP50-95)     Mask(P          R      mAP50  mAP50-95): 100%|██████████| 2/2 [00:00<00:00,  4.01it/s]"
     ]
    },
    {
     "name": "stdout",
     "output_type": "stream",
     "text": [
      "                   all         40         72      0.687      0.518      0.583      0.294      0.666      0.472      0.527      0.236\n"
     ]
    },
    {
     "name": "stderr",
     "output_type": "stream",
     "text": [
      "\n"
     ]
    },
    {
     "name": "stdout",
     "output_type": "stream",
     "text": [
      "\n",
      "      Epoch    GPU_mem   box_loss   seg_loss   cls_loss   dfl_loss  Instances       Size\n"
     ]
    },
    {
     "name": "stderr",
     "output_type": "stream",
     "text": [
      "     32/150      6.27G       1.13      1.552      1.009     0.8923          7       1056: 100%|██████████| 16/16 [00:03<00:00,  4.38it/s]\n",
      "                 Class     Images  Instances      Box(P          R      mAP50  mAP50-95)     Mask(P          R      mAP50  mAP50-95): 100%|██████████| 2/2 [00:00<00:00,  4.38it/s]"
     ]
    },
    {
     "name": "stdout",
     "output_type": "stream",
     "text": [
      "                   all         40         72      0.582       0.58      0.577      0.294      0.544      0.496      0.503      0.192\n"
     ]
    },
    {
     "name": "stderr",
     "output_type": "stream",
     "text": [
      "\n"
     ]
    },
    {
     "name": "stdout",
     "output_type": "stream",
     "text": [
      "\n",
      "      Epoch    GPU_mem   box_loss   seg_loss   cls_loss   dfl_loss  Instances       Size\n"
     ]
    },
    {
     "name": "stderr",
     "output_type": "stream",
     "text": [
      "     33/150      6.21G      1.115      1.466      0.998      0.902          8       1056: 100%|██████████| 16/16 [00:03<00:00,  4.34it/s]\n",
      "                 Class     Images  Instances      Box(P          R      mAP50  mAP50-95)     Mask(P          R      mAP50  mAP50-95): 100%|██████████| 2/2 [00:00<00:00,  3.56it/s]"
     ]
    },
    {
     "name": "stdout",
     "output_type": "stream",
     "text": [
      "                   all         40         72      0.662      0.611      0.662      0.339        0.6      0.556      0.558      0.236\n"
     ]
    },
    {
     "name": "stderr",
     "output_type": "stream",
     "text": [
      "\n"
     ]
    },
    {
     "name": "stdout",
     "output_type": "stream",
     "text": [
      "\n",
      "      Epoch    GPU_mem   box_loss   seg_loss   cls_loss   dfl_loss  Instances       Size\n"
     ]
    },
    {
     "name": "stderr",
     "output_type": "stream",
     "text": [
      "     34/150      6.19G      1.156        1.6      1.003     0.8965          6       1056: 100%|██████████| 16/16 [00:03<00:00,  4.38it/s]\n",
      "                 Class     Images  Instances      Box(P          R      mAP50  mAP50-95)     Mask(P          R      mAP50  mAP50-95): 100%|██████████| 2/2 [00:00<00:00,  4.48it/s]"
     ]
    },
    {
     "name": "stdout",
     "output_type": "stream",
     "text": [
      "                   all         40         72      0.728      0.597      0.649      0.306      0.602      0.528      0.495      0.153\n"
     ]
    },
    {
     "name": "stderr",
     "output_type": "stream",
     "text": [
      "\n"
     ]
    },
    {
     "name": "stdout",
     "output_type": "stream",
     "text": [
      "\n",
      "      Epoch    GPU_mem   box_loss   seg_loss   cls_loss   dfl_loss  Instances       Size\n"
     ]
    },
    {
     "name": "stderr",
     "output_type": "stream",
     "text": [
      "     35/150      6.19G       1.16      1.547     0.9357     0.9085          9       1056: 100%|██████████| 16/16 [00:03<00:00,  4.32it/s]\n",
      "                 Class     Images  Instances      Box(P          R      mAP50  mAP50-95)     Mask(P          R      mAP50  mAP50-95): 100%|██████████| 2/2 [00:00<00:00,  4.16it/s]\n"
     ]
    },
    {
     "name": "stdout",
     "output_type": "stream",
     "text": [
      "                   all         40         72      0.736      0.653       0.66      0.337      0.697      0.611      0.613      0.266\n",
      "\n",
      "      Epoch    GPU_mem   box_loss   seg_loss   cls_loss   dfl_loss  Instances       Size\n"
     ]
    },
    {
     "name": "stderr",
     "output_type": "stream",
     "text": [
      "     36/150      6.29G      1.096      1.423     0.9407     0.9032         12       1056: 100%|██████████| 16/16 [00:03<00:00,  4.42it/s]\n",
      "                 Class     Images  Instances      Box(P          R      mAP50  mAP50-95)     Mask(P          R      mAP50  mAP50-95): 100%|██████████| 2/2 [00:00<00:00,  4.09it/s]"
     ]
    },
    {
     "name": "stdout",
     "output_type": "stream",
     "text": [
      "                   all         40         72      0.642      0.639      0.613      0.316      0.613      0.573      0.545      0.208\n"
     ]
    },
    {
     "name": "stderr",
     "output_type": "stream",
     "text": [
      "\n"
     ]
    },
    {
     "name": "stdout",
     "output_type": "stream",
     "text": [
      "\n",
      "      Epoch    GPU_mem   box_loss   seg_loss   cls_loss   dfl_loss  Instances       Size\n"
     ]
    },
    {
     "name": "stderr",
     "output_type": "stream",
     "text": [
      "     37/150       6.4G       1.13      1.504     0.9466     0.9081         11       1056: 100%|██████████| 16/16 [00:03<00:00,  4.29it/s]\n",
      "                 Class     Images  Instances      Box(P          R      mAP50  mAP50-95)     Mask(P          R      mAP50  mAP50-95): 100%|██████████| 2/2 [00:00<00:00,  4.02it/s]"
     ]
    },
    {
     "name": "stdout",
     "output_type": "stream",
     "text": [
      "                   all         40         72      0.469      0.667      0.555      0.305      0.469      0.576       0.49      0.194\n"
     ]
    },
    {
     "name": "stderr",
     "output_type": "stream",
     "text": [
      "\n"
     ]
    },
    {
     "name": "stdout",
     "output_type": "stream",
     "text": [
      "\n",
      "      Epoch    GPU_mem   box_loss   seg_loss   cls_loss   dfl_loss  Instances       Size\n"
     ]
    },
    {
     "name": "stderr",
     "output_type": "stream",
     "text": [
      "     38/150      6.29G      1.105      1.537     0.9082     0.9143          8       1056: 100%|██████████| 16/16 [00:03<00:00,  4.23it/s]\n",
      "                 Class     Images  Instances      Box(P          R      mAP50  mAP50-95)     Mask(P          R      mAP50  mAP50-95): 100%|██████████| 2/2 [00:00<00:00,  4.02it/s]"
     ]
    },
    {
     "name": "stdout",
     "output_type": "stream",
     "text": [
      "                   all         40         72       0.63      0.514      0.562      0.263      0.511      0.458      0.476      0.159\n"
     ]
    },
    {
     "name": "stderr",
     "output_type": "stream",
     "text": [
      "\n"
     ]
    },
    {
     "name": "stdout",
     "output_type": "stream",
     "text": [
      "\n",
      "      Epoch    GPU_mem   box_loss   seg_loss   cls_loss   dfl_loss  Instances       Size\n"
     ]
    },
    {
     "name": "stderr",
     "output_type": "stream",
     "text": [
      "     39/150      6.37G      1.137      1.721     0.9357     0.9083          8       1056: 100%|██████████| 16/16 [00:03<00:00,  4.32it/s]\n",
      "                 Class     Images  Instances      Box(P          R      mAP50  mAP50-95)     Mask(P          R      mAP50  mAP50-95): 100%|██████████| 2/2 [00:00<00:00,  4.16it/s]"
     ]
    },
    {
     "name": "stdout",
     "output_type": "stream",
     "text": [
      "                   all         40         72       0.68      0.528        0.6      0.281      0.563      0.444      0.489        0.2\n"
     ]
    },
    {
     "name": "stderr",
     "output_type": "stream",
     "text": [
      "\n"
     ]
    },
    {
     "name": "stdout",
     "output_type": "stream",
     "text": [
      "\n",
      "      Epoch    GPU_mem   box_loss   seg_loss   cls_loss   dfl_loss  Instances       Size\n"
     ]
    },
    {
     "name": "stderr",
     "output_type": "stream",
     "text": [
      "     40/150      6.25G      1.058      1.544     0.8937      0.879          7       1056: 100%|██████████| 16/16 [00:03<00:00,  4.25it/s]\n",
      "                 Class     Images  Instances      Box(P          R      mAP50  mAP50-95)     Mask(P          R      mAP50  mAP50-95): 100%|██████████| 2/2 [00:00<00:00,  4.11it/s]"
     ]
    },
    {
     "name": "stdout",
     "output_type": "stream",
     "text": [
      "                   all         40         72      0.803      0.528      0.663      0.334       0.76      0.458      0.576      0.232\n"
     ]
    },
    {
     "name": "stderr",
     "output_type": "stream",
     "text": [
      "\n"
     ]
    },
    {
     "name": "stdout",
     "output_type": "stream",
     "text": [
      "\n",
      "      Epoch    GPU_mem   box_loss   seg_loss   cls_loss   dfl_loss  Instances       Size\n"
     ]
    },
    {
     "name": "stderr",
     "output_type": "stream",
     "text": [
      "     41/150       6.2G      1.128      1.652     0.9386     0.8928         19       1056: 100%|██████████| 16/16 [00:03<00:00,  4.31it/s]\n",
      "                 Class     Images  Instances      Box(P          R      mAP50  mAP50-95)     Mask(P          R      mAP50  mAP50-95): 100%|██████████| 2/2 [00:00<00:00,  4.17it/s]\n"
     ]
    },
    {
     "name": "stdout",
     "output_type": "stream",
     "text": [
      "                   all         40         72      0.741      0.569      0.668      0.353      0.795      0.472      0.595      0.238\n",
      "\n",
      "      Epoch    GPU_mem   box_loss   seg_loss   cls_loss   dfl_loss  Instances       Size\n"
     ]
    },
    {
     "name": "stderr",
     "output_type": "stream",
     "text": [
      "     42/150      6.23G      1.037      1.426     0.8658     0.8856          7       1056: 100%|██████████| 16/16 [00:03<00:00,  4.35it/s]\n",
      "                 Class     Images  Instances      Box(P          R      mAP50  mAP50-95)     Mask(P          R      mAP50  mAP50-95): 100%|██████████| 2/2 [00:00<00:00,  4.39it/s]"
     ]
    },
    {
     "name": "stdout",
     "output_type": "stream",
     "text": [
      "                   all         40         72       0.67      0.569      0.609      0.328      0.647      0.542      0.543      0.221\n"
     ]
    },
    {
     "name": "stderr",
     "output_type": "stream",
     "text": [
      "\n"
     ]
    },
    {
     "name": "stdout",
     "output_type": "stream",
     "text": [
      "\n",
      "      Epoch    GPU_mem   box_loss   seg_loss   cls_loss   dfl_loss  Instances       Size\n"
     ]
    },
    {
     "name": "stderr",
     "output_type": "stream",
     "text": [
      "     43/150      6.21G     0.9829      1.367     0.8374     0.8696         13       1056: 100%|██████████| 16/16 [00:03<00:00,  4.27it/s]\n",
      "                 Class     Images  Instances      Box(P          R      mAP50  mAP50-95)     Mask(P          R      mAP50  mAP50-95): 100%|██████████| 2/2 [00:00<00:00,  4.38it/s]"
     ]
    },
    {
     "name": "stdout",
     "output_type": "stream",
     "text": [
      "                   all         40         72      0.567      0.639      0.595      0.314      0.495      0.556      0.488      0.186\n"
     ]
    },
    {
     "name": "stderr",
     "output_type": "stream",
     "text": [
      "\n"
     ]
    },
    {
     "name": "stdout",
     "output_type": "stream",
     "text": [
      "\n",
      "      Epoch    GPU_mem   box_loss   seg_loss   cls_loss   dfl_loss  Instances       Size\n"
     ]
    },
    {
     "name": "stderr",
     "output_type": "stream",
     "text": [
      "     44/150      6.19G      1.001      1.498     0.8731     0.8815          8       1056: 100%|██████████| 16/16 [00:03<00:00,  4.27it/s]\n",
      "                 Class     Images  Instances      Box(P          R      mAP50  mAP50-95)     Mask(P          R      mAP50  mAP50-95): 100%|██████████| 2/2 [00:00<00:00,  4.33it/s]"
     ]
    },
    {
     "name": "stdout",
     "output_type": "stream",
     "text": [
      "                   all         40         72      0.538      0.653      0.591      0.333      0.484      0.586      0.501       0.22\n"
     ]
    },
    {
     "name": "stderr",
     "output_type": "stream",
     "text": [
      "\n"
     ]
    },
    {
     "name": "stdout",
     "output_type": "stream",
     "text": [
      "\n",
      "      Epoch    GPU_mem   box_loss   seg_loss   cls_loss   dfl_loss  Instances       Size\n"
     ]
    },
    {
     "name": "stderr",
     "output_type": "stream",
     "text": [
      "     45/150      6.25G      1.057      1.389     0.8617     0.8666          4       1056: 100%|██████████| 16/16 [00:03<00:00,  4.37it/s]\n",
      "                 Class     Images  Instances      Box(P          R      mAP50  mAP50-95)     Mask(P          R      mAP50  mAP50-95): 100%|██████████| 2/2 [00:00<00:00,  4.05it/s]\n"
     ]
    },
    {
     "name": "stdout",
     "output_type": "stream",
     "text": [
      "                   all         40         72      0.758      0.514      0.613      0.333      0.811      0.444      0.548       0.22\n",
      "\n",
      "      Epoch    GPU_mem   box_loss   seg_loss   cls_loss   dfl_loss  Instances       Size\n"
     ]
    },
    {
     "name": "stderr",
     "output_type": "stream",
     "text": [
      "     46/150       6.2G      1.049      1.429     0.8254     0.8779         12       1056: 100%|██████████| 16/16 [00:03<00:00,  4.33it/s]\n",
      "                 Class     Images  Instances      Box(P          R      mAP50  mAP50-95)     Mask(P          R      mAP50  mAP50-95): 100%|██████████| 2/2 [00:00<00:00,  4.18it/s]\n"
     ]
    },
    {
     "name": "stdout",
     "output_type": "stream",
     "text": [
      "                   all         40         72      0.725      0.556      0.643      0.345      0.681      0.528      0.608      0.268\n",
      "\n",
      "      Epoch    GPU_mem   box_loss   seg_loss   cls_loss   dfl_loss  Instances       Size\n"
     ]
    },
    {
     "name": "stderr",
     "output_type": "stream",
     "text": [
      "     47/150      6.25G      1.034      1.488     0.8448      0.878         11       1056: 100%|██████████| 16/16 [00:03<00:00,  4.28it/s]\n",
      "                 Class     Images  Instances      Box(P          R      mAP50  mAP50-95)     Mask(P          R      mAP50  mAP50-95): 100%|██████████| 2/2 [00:00<00:00,  4.26it/s]"
     ]
    },
    {
     "name": "stdout",
     "output_type": "stream",
     "text": [
      "                   all         40         72      0.616        0.5      0.594      0.316      0.742      0.403      0.518      0.194\n"
     ]
    },
    {
     "name": "stderr",
     "output_type": "stream",
     "text": [
      "\n"
     ]
    },
    {
     "name": "stdout",
     "output_type": "stream",
     "text": [
      "\n",
      "      Epoch    GPU_mem   box_loss   seg_loss   cls_loss   dfl_loss  Instances       Size\n"
     ]
    },
    {
     "name": "stderr",
     "output_type": "stream",
     "text": [
      "     48/150      6.18G      1.028      1.495     0.8605     0.8693         12       1056: 100%|██████████| 16/16 [00:03<00:00,  4.36it/s]\n",
      "                 Class     Images  Instances      Box(P          R      mAP50  mAP50-95)     Mask(P          R      mAP50  mAP50-95): 100%|██████████| 2/2 [00:00<00:00,  3.70it/s]"
     ]
    },
    {
     "name": "stdout",
     "output_type": "stream",
     "text": [
      "                   all         40         72      0.787      0.444      0.622      0.323      0.753      0.444      0.581      0.216\n"
     ]
    },
    {
     "name": "stderr",
     "output_type": "stream",
     "text": [
      "\n"
     ]
    },
    {
     "name": "stdout",
     "output_type": "stream",
     "text": [
      "\n",
      "      Epoch    GPU_mem   box_loss   seg_loss   cls_loss   dfl_loss  Instances       Size\n"
     ]
    },
    {
     "name": "stderr",
     "output_type": "stream",
     "text": [
      "     49/150      6.24G      1.061      1.461     0.8145     0.8729         20       1056: 100%|██████████| 16/16 [00:03<00:00,  4.25it/s]\n",
      "                 Class     Images  Instances      Box(P          R      mAP50  mAP50-95)     Mask(P          R      mAP50  mAP50-95): 100%|██████████| 2/2 [00:00<00:00,  4.43it/s]"
     ]
    },
    {
     "name": "stdout",
     "output_type": "stream",
     "text": [
      "                   all         40         72      0.581      0.578      0.595      0.329      0.481      0.542      0.518      0.168\n"
     ]
    },
    {
     "name": "stderr",
     "output_type": "stream",
     "text": [
      "\n"
     ]
    },
    {
     "name": "stdout",
     "output_type": "stream",
     "text": [
      "\n",
      "      Epoch    GPU_mem   box_loss   seg_loss   cls_loss   dfl_loss  Instances       Size\n"
     ]
    },
    {
     "name": "stderr",
     "output_type": "stream",
     "text": [
      "     50/150      6.21G      1.002      1.517      0.835     0.8835         10       1056: 100%|██████████| 16/16 [00:03<00:00,  4.24it/s]\n",
      "                 Class     Images  Instances      Box(P          R      mAP50  mAP50-95)     Mask(P          R      mAP50  mAP50-95): 100%|██████████| 2/2 [00:00<00:00,  3.79it/s]"
     ]
    },
    {
     "name": "stdout",
     "output_type": "stream",
     "text": [
      "                   all         40         72      0.606      0.528      0.559      0.312      0.557      0.486      0.511      0.201\n"
     ]
    },
    {
     "name": "stderr",
     "output_type": "stream",
     "text": [
      "\n"
     ]
    },
    {
     "name": "stdout",
     "output_type": "stream",
     "text": [
      "\n",
      "      Epoch    GPU_mem   box_loss   seg_loss   cls_loss   dfl_loss  Instances       Size\n"
     ]
    },
    {
     "name": "stderr",
     "output_type": "stream",
     "text": [
      "     51/150      6.19G      1.033       1.38     0.7957     0.8787         11       1056: 100%|██████████| 16/16 [00:03<00:00,  4.26it/s]\n",
      "                 Class     Images  Instances      Box(P          R      mAP50  mAP50-95)     Mask(P          R      mAP50  mAP50-95): 100%|██████████| 2/2 [00:00<00:00,  3.96it/s]"
     ]
    },
    {
     "name": "stdout",
     "output_type": "stream",
     "text": [
      "                   all         40         72      0.607      0.514      0.541       0.29      0.576      0.486      0.479      0.198\n"
     ]
    },
    {
     "name": "stderr",
     "output_type": "stream",
     "text": [
      "\n"
     ]
    },
    {
     "name": "stdout",
     "output_type": "stream",
     "text": [
      "\n",
      "      Epoch    GPU_mem   box_loss   seg_loss   cls_loss   dfl_loss  Instances       Size\n"
     ]
    },
    {
     "name": "stderr",
     "output_type": "stream",
     "text": [
      "     52/150      6.18G      1.005      1.354     0.7928      0.862          6       1056: 100%|██████████| 16/16 [00:03<00:00,  4.42it/s]\n",
      "                 Class     Images  Instances      Box(P          R      mAP50  mAP50-95)     Mask(P          R      mAP50  mAP50-95): 100%|██████████| 2/2 [00:00<00:00,  3.97it/s]"
     ]
    },
    {
     "name": "stdout",
     "output_type": "stream",
     "text": [
      "                   all         40         72      0.637      0.608      0.604      0.313      0.565      0.514      0.493       0.19\n"
     ]
    },
    {
     "name": "stderr",
     "output_type": "stream",
     "text": [
      "\n"
     ]
    },
    {
     "name": "stdout",
     "output_type": "stream",
     "text": [
      "\n",
      "      Epoch    GPU_mem   box_loss   seg_loss   cls_loss   dfl_loss  Instances       Size\n"
     ]
    },
    {
     "name": "stderr",
     "output_type": "stream",
     "text": [
      "     53/150      6.25G      1.063       1.42     0.7831     0.8867          5       1056: 100%|██████████| 16/16 [00:03<00:00,  4.28it/s]\n",
      "                 Class     Images  Instances      Box(P          R      mAP50  mAP50-95)     Mask(P          R      mAP50  mAP50-95): 100%|██████████| 2/2 [00:00<00:00,  4.44it/s]"
     ]
    },
    {
     "name": "stdout",
     "output_type": "stream",
     "text": [
      "                   all         40         72      0.792       0.53      0.647      0.341      0.645      0.486      0.528      0.208\n"
     ]
    },
    {
     "name": "stderr",
     "output_type": "stream",
     "text": [
      "\n"
     ]
    },
    {
     "name": "stdout",
     "output_type": "stream",
     "text": [
      "\n",
      "      Epoch    GPU_mem   box_loss   seg_loss   cls_loss   dfl_loss  Instances       Size\n"
     ]
    },
    {
     "name": "stderr",
     "output_type": "stream",
     "text": [
      "     54/150      6.14G      1.025      1.459     0.7645      0.881         12       1056: 100%|██████████| 16/16 [00:03<00:00,  4.34it/s]\n",
      "                 Class     Images  Instances      Box(P          R      mAP50  mAP50-95)     Mask(P          R      mAP50  mAP50-95): 100%|██████████| 2/2 [00:00<00:00,  3.63it/s]"
     ]
    },
    {
     "name": "stdout",
     "output_type": "stream",
     "text": [
      "                   all         40         72       0.65       0.67       0.64      0.346      0.609      0.629      0.564      0.242\n"
     ]
    },
    {
     "name": "stderr",
     "output_type": "stream",
     "text": [
      "\n"
     ]
    },
    {
     "name": "stdout",
     "output_type": "stream",
     "text": [
      "\n",
      "      Epoch    GPU_mem   box_loss   seg_loss   cls_loss   dfl_loss  Instances       Size\n"
     ]
    },
    {
     "name": "stderr",
     "output_type": "stream",
     "text": [
      "     55/150      6.31G     0.9949      1.458     0.7905     0.8636         12       1056: 100%|██████████| 16/16 [00:03<00:00,  4.32it/s]\n",
      "                 Class     Images  Instances      Box(P          R      mAP50  mAP50-95)     Mask(P          R      mAP50  mAP50-95): 100%|██████████| 2/2 [00:00<00:00,  4.37it/s]"
     ]
    },
    {
     "name": "stdout",
     "output_type": "stream",
     "text": [
      "                   all         40         72      0.635      0.681      0.631      0.321      0.581      0.625      0.549      0.181\n"
     ]
    },
    {
     "name": "stderr",
     "output_type": "stream",
     "text": [
      "\n"
     ]
    },
    {
     "name": "stdout",
     "output_type": "stream",
     "text": [
      "\n",
      "      Epoch    GPU_mem   box_loss   seg_loss   cls_loss   dfl_loss  Instances       Size\n"
     ]
    },
    {
     "name": "stderr",
     "output_type": "stream",
     "text": [
      "     56/150      6.19G     0.9705      1.342     0.7543     0.8733          8       1056: 100%|██████████| 16/16 [00:03<00:00,  4.33it/s]\n",
      "                 Class     Images  Instances      Box(P          R      mAP50  mAP50-95)     Mask(P          R      mAP50  mAP50-95): 100%|██████████| 2/2 [00:00<00:00,  3.86it/s]"
     ]
    },
    {
     "name": "stdout",
     "output_type": "stream",
     "text": [
      "                   all         40         72      0.591      0.639      0.615       0.32      0.551      0.597      0.535      0.182\n"
     ]
    },
    {
     "name": "stderr",
     "output_type": "stream",
     "text": [
      "\n"
     ]
    },
    {
     "name": "stdout",
     "output_type": "stream",
     "text": [
      "\n",
      "      Epoch    GPU_mem   box_loss   seg_loss   cls_loss   dfl_loss  Instances       Size\n"
     ]
    },
    {
     "name": "stderr",
     "output_type": "stream",
     "text": [
      "     57/150      6.23G     0.9504       1.26     0.7283     0.8726          6       1056: 100%|██████████| 16/16 [00:03<00:00,  4.42it/s]\n",
      "                 Class     Images  Instances      Box(P          R      mAP50  mAP50-95)     Mask(P          R      mAP50  mAP50-95): 100%|██████████| 2/2 [00:00<00:00,  3.85it/s]\n"
     ]
    },
    {
     "name": "stdout",
     "output_type": "stream",
     "text": [
      "                   all         40         72      0.616      0.668      0.629      0.338      0.567      0.618      0.546      0.228\n",
      "\n",
      "      Epoch    GPU_mem   box_loss   seg_loss   cls_loss   dfl_loss  Instances       Size\n"
     ]
    },
    {
     "name": "stderr",
     "output_type": "stream",
     "text": [
      "     58/150      6.29G     0.9331      1.317      0.718     0.8498          5       1056: 100%|██████████| 16/16 [00:03<00:00,  4.25it/s]\n",
      "                 Class     Images  Instances      Box(P          R      mAP50  mAP50-95)     Mask(P          R      mAP50  mAP50-95): 100%|██████████| 2/2 [00:00<00:00,  4.38it/s]"
     ]
    },
    {
     "name": "stdout",
     "output_type": "stream",
     "text": [
      "                   all         40         72      0.661      0.542      0.631      0.342      0.645      0.529      0.583      0.213\n"
     ]
    },
    {
     "name": "stderr",
     "output_type": "stream",
     "text": [
      "\n"
     ]
    },
    {
     "name": "stdout",
     "output_type": "stream",
     "text": [
      "\n",
      "      Epoch    GPU_mem   box_loss   seg_loss   cls_loss   dfl_loss  Instances       Size\n"
     ]
    },
    {
     "name": "stderr",
     "output_type": "stream",
     "text": [
      "     59/150      6.21G     0.9471      1.461     0.7561     0.8638          5       1056: 100%|██████████| 16/16 [00:03<00:00,  4.37it/s]\n",
      "                 Class     Images  Instances      Box(P          R      mAP50  mAP50-95)     Mask(P          R      mAP50  mAP50-95): 100%|██████████| 2/2 [00:00<00:00,  3.87it/s]\n"
     ]
    },
    {
     "name": "stdout",
     "output_type": "stream",
     "text": [
      "                   all         40         72      0.643      0.597      0.619      0.321      0.607      0.528      0.534      0.225\n",
      "\n",
      "      Epoch    GPU_mem   box_loss   seg_loss   cls_loss   dfl_loss  Instances       Size\n"
     ]
    },
    {
     "name": "stderr",
     "output_type": "stream",
     "text": [
      "     60/150      6.23G     0.9624      1.347     0.7475     0.8645         10       1056: 100%|██████████| 16/16 [00:03<00:00,  4.47it/s]\n",
      "                 Class     Images  Instances      Box(P          R      mAP50  mAP50-95)     Mask(P          R      mAP50  mAP50-95): 100%|██████████| 2/2 [00:00<00:00,  4.71it/s]"
     ]
    },
    {
     "name": "stdout",
     "output_type": "stream",
     "text": [
      "                   all         40         72      0.778      0.556      0.676      0.358      0.658      0.542      0.625      0.255\n"
     ]
    },
    {
     "name": "stderr",
     "output_type": "stream",
     "text": [
      "\n"
     ]
    },
    {
     "name": "stdout",
     "output_type": "stream",
     "text": [
      "\n",
      "      Epoch    GPU_mem   box_loss   seg_loss   cls_loss   dfl_loss  Instances       Size\n"
     ]
    },
    {
     "name": "stderr",
     "output_type": "stream",
     "text": [
      "     61/150      6.31G     0.8886      1.369     0.7339     0.8504          3       1056: 100%|██████████| 16/16 [00:03<00:00,  4.32it/s]\n",
      "                 Class     Images  Instances      Box(P          R      mAP50  mAP50-95)     Mask(P          R      mAP50  mAP50-95): 100%|██████████| 2/2 [00:00<00:00,  4.62it/s]"
     ]
    },
    {
     "name": "stdout",
     "output_type": "stream",
     "text": [
      "                   all         40         72      0.836      0.597      0.725      0.378      0.789      0.486      0.609      0.256\n"
     ]
    },
    {
     "name": "stderr",
     "output_type": "stream",
     "text": [
      "\n"
     ]
    },
    {
     "name": "stdout",
     "output_type": "stream",
     "text": [
      "\n",
      "      Epoch    GPU_mem   box_loss   seg_loss   cls_loss   dfl_loss  Instances       Size\n"
     ]
    },
    {
     "name": "stderr",
     "output_type": "stream",
     "text": [
      "     62/150      6.25G     0.9119       1.27     0.6705     0.8384         12       1056: 100%|██████████| 16/16 [00:03<00:00,  4.26it/s]\n",
      "                 Class     Images  Instances      Box(P          R      mAP50  mAP50-95)     Mask(P          R      mAP50  mAP50-95): 100%|██████████| 2/2 [00:00<00:00,  4.16it/s]"
     ]
    },
    {
     "name": "stdout",
     "output_type": "stream",
     "text": [
      "                   all         40         72      0.802      0.597      0.716      0.353       0.65        0.5      0.595      0.235\n"
     ]
    },
    {
     "name": "stderr",
     "output_type": "stream",
     "text": [
      "\n"
     ]
    },
    {
     "name": "stdout",
     "output_type": "stream",
     "text": [
      "\n",
      "      Epoch    GPU_mem   box_loss   seg_loss   cls_loss   dfl_loss  Instances       Size\n"
     ]
    },
    {
     "name": "stderr",
     "output_type": "stream",
     "text": [
      "     63/150      6.25G      1.049      1.333     0.7494     0.8722         14       1056: 100%|██████████| 16/16 [00:03<00:00,  4.45it/s]\n",
      "                 Class     Images  Instances      Box(P          R      mAP50  mAP50-95)     Mask(P          R      mAP50  mAP50-95): 100%|██████████| 2/2 [00:00<00:00,  4.12it/s]"
     ]
    },
    {
     "name": "stdout",
     "output_type": "stream",
     "text": [
      "                   all         40         72      0.612      0.736      0.679       0.34      0.596      0.528       0.52      0.185\n"
     ]
    },
    {
     "name": "stderr",
     "output_type": "stream",
     "text": [
      "\n"
     ]
    },
    {
     "name": "stdout",
     "output_type": "stream",
     "text": [
      "\n",
      "      Epoch    GPU_mem   box_loss   seg_loss   cls_loss   dfl_loss  Instances       Size\n"
     ]
    },
    {
     "name": "stderr",
     "output_type": "stream",
     "text": [
      "     64/150      6.19G     0.9889       1.49     0.7514     0.8678          4       1056: 100%|██████████| 16/16 [00:03<00:00,  4.43it/s]\n",
      "                 Class     Images  Instances      Box(P          R      mAP50  mAP50-95)     Mask(P          R      mAP50  mAP50-95): 100%|██████████| 2/2 [00:00<00:00,  4.05it/s]"
     ]
    },
    {
     "name": "stdout",
     "output_type": "stream",
     "text": [
      "                   all         40         72      0.664      0.625      0.658      0.328      0.659      0.514      0.539      0.224\n"
     ]
    },
    {
     "name": "stderr",
     "output_type": "stream",
     "text": [
      "\n"
     ]
    },
    {
     "name": "stdout",
     "output_type": "stream",
     "text": [
      "\n",
      "      Epoch    GPU_mem   box_loss   seg_loss   cls_loss   dfl_loss  Instances       Size\n"
     ]
    },
    {
     "name": "stderr",
     "output_type": "stream",
     "text": [
      "     65/150      6.21G     0.9299      1.447      0.697     0.8603         11       1056: 100%|██████████| 16/16 [00:03<00:00,  4.42it/s]\n",
      "                 Class     Images  Instances      Box(P          R      mAP50  mAP50-95)     Mask(P          R      mAP50  mAP50-95): 100%|██████████| 2/2 [00:00<00:00,  3.49it/s]"
     ]
    },
    {
     "name": "stdout",
     "output_type": "stream",
     "text": [
      "                   all         40         72      0.647      0.612       0.65      0.308      0.657      0.528       0.54      0.203\n"
     ]
    },
    {
     "name": "stderr",
     "output_type": "stream",
     "text": [
      "\n"
     ]
    },
    {
     "name": "stdout",
     "output_type": "stream",
     "text": [
      "\n",
      "      Epoch    GPU_mem   box_loss   seg_loss   cls_loss   dfl_loss  Instances       Size\n"
     ]
    },
    {
     "name": "stderr",
     "output_type": "stream",
     "text": [
      "     66/150      6.19G      1.012      1.413     0.7314     0.8565         15       1056: 100%|██████████| 16/16 [00:03<00:00,  4.36it/s]\n",
      "                 Class     Images  Instances      Box(P          R      mAP50  mAP50-95)     Mask(P          R      mAP50  mAP50-95): 100%|██████████| 2/2 [00:00<00:00,  3.48it/s]"
     ]
    },
    {
     "name": "stdout",
     "output_type": "stream",
     "text": [
      "                   all         40         72      0.647      0.639      0.651      0.334      0.552      0.583      0.521      0.212\n"
     ]
    },
    {
     "name": "stderr",
     "output_type": "stream",
     "text": [
      "\n"
     ]
    },
    {
     "name": "stdout",
     "output_type": "stream",
     "text": [
      "\n",
      "      Epoch    GPU_mem   box_loss   seg_loss   cls_loss   dfl_loss  Instances       Size\n"
     ]
    },
    {
     "name": "stderr",
     "output_type": "stream",
     "text": [
      "     67/150      6.16G      1.007      1.227     0.7161     0.8746          8       1056: 100%|██████████| 16/16 [00:03<00:00,  4.36it/s]\n",
      "                 Class     Images  Instances      Box(P          R      mAP50  mAP50-95)     Mask(P          R      mAP50  mAP50-95): 100%|██████████| 2/2 [00:00<00:00,  3.73it/s]"
     ]
    },
    {
     "name": "stdout",
     "output_type": "stream",
     "text": [
      "                   all         40         72      0.682      0.569      0.625      0.345      0.731       0.53      0.582      0.243\n"
     ]
    },
    {
     "name": "stderr",
     "output_type": "stream",
     "text": [
      "\n"
     ]
    },
    {
     "name": "stdout",
     "output_type": "stream",
     "text": [
      "\n",
      "      Epoch    GPU_mem   box_loss   seg_loss   cls_loss   dfl_loss  Instances       Size\n"
     ]
    },
    {
     "name": "stderr",
     "output_type": "stream",
     "text": [
      "     68/150      6.27G       0.97      1.541     0.7296     0.8605         12       1056: 100%|██████████| 16/16 [00:03<00:00,  4.27it/s]\n",
      "                 Class     Images  Instances      Box(P          R      mAP50  mAP50-95)     Mask(P          R      mAP50  mAP50-95): 100%|██████████| 2/2 [00:00<00:00,  4.06it/s]"
     ]
    },
    {
     "name": "stdout",
     "output_type": "stream",
     "text": [
      "                   all         40         72      0.721      0.528      0.613      0.338      0.683        0.5       0.55      0.201\n"
     ]
    },
    {
     "name": "stderr",
     "output_type": "stream",
     "text": [
      "\n"
     ]
    },
    {
     "name": "stdout",
     "output_type": "stream",
     "text": [
      "\n",
      "      Epoch    GPU_mem   box_loss   seg_loss   cls_loss   dfl_loss  Instances       Size\n"
     ]
    },
    {
     "name": "stderr",
     "output_type": "stream",
     "text": [
      "     69/150       6.4G     0.9535      1.277     0.6853     0.8645          7       1056: 100%|██████████| 16/16 [00:03<00:00,  4.29it/s]\n",
      "                 Class     Images  Instances      Box(P          R      mAP50  mAP50-95)     Mask(P          R      mAP50  mAP50-95): 100%|██████████| 2/2 [00:00<00:00,  4.38it/s]"
     ]
    },
    {
     "name": "stdout",
     "output_type": "stream",
     "text": [
      "                   all         40         72      0.622       0.64      0.654      0.363      0.603      0.597      0.602      0.228\n"
     ]
    },
    {
     "name": "stderr",
     "output_type": "stream",
     "text": [
      "\n"
     ]
    },
    {
     "name": "stdout",
     "output_type": "stream",
     "text": [
      "\n",
      "      Epoch    GPU_mem   box_loss   seg_loss   cls_loss   dfl_loss  Instances       Size\n"
     ]
    },
    {
     "name": "stderr",
     "output_type": "stream",
     "text": [
      "     70/150      6.25G     0.8963      1.305     0.6542     0.8397          9       1056: 100%|██████████| 16/16 [00:03<00:00,  4.35it/s]\n",
      "                 Class     Images  Instances      Box(P          R      mAP50  mAP50-95)     Mask(P          R      mAP50  mAP50-95): 100%|██████████| 2/2 [00:00<00:00,  3.84it/s]"
     ]
    },
    {
     "name": "stdout",
     "output_type": "stream",
     "text": [
      "                   all         40         72      0.763      0.569      0.674      0.355      0.672        0.5      0.525      0.206\n"
     ]
    },
    {
     "name": "stderr",
     "output_type": "stream",
     "text": [
      "\n"
     ]
    },
    {
     "name": "stdout",
     "output_type": "stream",
     "text": [
      "\n",
      "      Epoch    GPU_mem   box_loss   seg_loss   cls_loss   dfl_loss  Instances       Size\n"
     ]
    },
    {
     "name": "stderr",
     "output_type": "stream",
     "text": [
      "     71/150      6.23G     0.9134      1.246     0.6802     0.8287          7       1056: 100%|██████████| 16/16 [00:03<00:00,  4.34it/s]\n",
      "                 Class     Images  Instances      Box(P          R      mAP50  mAP50-95)     Mask(P          R      mAP50  mAP50-95): 100%|██████████| 2/2 [00:00<00:00,  4.62it/s]"
     ]
    },
    {
     "name": "stdout",
     "output_type": "stream",
     "text": [
      "                   all         40         72      0.735      0.501      0.634      0.348      0.674       0.46      0.522      0.216\n"
     ]
    },
    {
     "name": "stderr",
     "output_type": "stream",
     "text": [
      "\n"
     ]
    },
    {
     "name": "stdout",
     "output_type": "stream",
     "text": [
      "\n",
      "      Epoch    GPU_mem   box_loss   seg_loss   cls_loss   dfl_loss  Instances       Size\n"
     ]
    },
    {
     "name": "stderr",
     "output_type": "stream",
     "text": [
      "     72/150      6.16G     0.8838      1.162     0.6558     0.8415         13       1056: 100%|██████████| 16/16 [00:03<00:00,  4.34it/s]\n",
      "                 Class     Images  Instances      Box(P          R      mAP50  mAP50-95)     Mask(P          R      mAP50  mAP50-95): 100%|██████████| 2/2 [00:00<00:00,  4.66it/s]"
     ]
    },
    {
     "name": "stdout",
     "output_type": "stream",
     "text": [
      "                   all         40         72      0.756      0.473      0.597      0.319      0.734       0.46      0.551      0.219\n"
     ]
    },
    {
     "name": "stderr",
     "output_type": "stream",
     "text": [
      "\n"
     ]
    },
    {
     "name": "stdout",
     "output_type": "stream",
     "text": [
      "\n",
      "      Epoch    GPU_mem   box_loss   seg_loss   cls_loss   dfl_loss  Instances       Size\n"
     ]
    },
    {
     "name": "stderr",
     "output_type": "stream",
     "text": [
      "     73/150      6.29G     0.8923       1.31     0.6677     0.8425         10       1056: 100%|██████████| 16/16 [00:03<00:00,  4.18it/s]\n",
      "                 Class     Images  Instances      Box(P          R      mAP50  mAP50-95)     Mask(P          R      mAP50  mAP50-95): 100%|██████████| 2/2 [00:00<00:00,  3.89it/s]"
     ]
    },
    {
     "name": "stdout",
     "output_type": "stream",
     "text": [
      "                   all         40         72      0.712      0.556      0.652      0.357      0.677      0.528      0.593      0.262\n"
     ]
    },
    {
     "name": "stderr",
     "output_type": "stream",
     "text": [
      "\n"
     ]
    },
    {
     "name": "stdout",
     "output_type": "stream",
     "text": [
      "\n",
      "      Epoch    GPU_mem   box_loss   seg_loss   cls_loss   dfl_loss  Instances       Size\n"
     ]
    },
    {
     "name": "stderr",
     "output_type": "stream",
     "text": [
      "     74/150      6.25G     0.9174       1.27     0.6628      0.857         15       1056: 100%|██████████| 16/16 [00:03<00:00,  4.42it/s]\n",
      "                 Class     Images  Instances      Box(P          R      mAP50  mAP50-95)     Mask(P          R      mAP50  mAP50-95): 100%|██████████| 2/2 [00:00<00:00,  4.15it/s]"
     ]
    },
    {
     "name": "stdout",
     "output_type": "stream",
     "text": [
      "                   all         40         72      0.723      0.597      0.704       0.37       0.67      0.556      0.624      0.276\n"
     ]
    },
    {
     "name": "stderr",
     "output_type": "stream",
     "text": [
      "\n"
     ]
    },
    {
     "name": "stdout",
     "output_type": "stream",
     "text": [
      "\n",
      "      Epoch    GPU_mem   box_loss   seg_loss   cls_loss   dfl_loss  Instances       Size\n"
     ]
    },
    {
     "name": "stderr",
     "output_type": "stream",
     "text": [
      "     75/150      6.33G     0.8978      1.289     0.6947     0.8408          3       1056: 100%|██████████| 16/16 [00:03<00:00,  4.24it/s]\n",
      "                 Class     Images  Instances      Box(P          R      mAP50  mAP50-95)     Mask(P          R      mAP50  mAP50-95): 100%|██████████| 2/2 [00:00<00:00,  4.66it/s]"
     ]
    },
    {
     "name": "stdout",
     "output_type": "stream",
     "text": [
      "                   all         40         72      0.575      0.681       0.65      0.323      0.556      0.583      0.592      0.241\n"
     ]
    },
    {
     "name": "stderr",
     "output_type": "stream",
     "text": [
      "\n"
     ]
    },
    {
     "name": "stdout",
     "output_type": "stream",
     "text": [
      "\n",
      "      Epoch    GPU_mem   box_loss   seg_loss   cls_loss   dfl_loss  Instances       Size\n"
     ]
    },
    {
     "name": "stderr",
     "output_type": "stream",
     "text": [
      "     76/150      6.31G     0.8935      1.282     0.6678     0.8381         15       1056: 100%|██████████| 16/16 [00:03<00:00,  4.38it/s]\n",
      "                 Class     Images  Instances      Box(P          R      mAP50  mAP50-95)     Mask(P          R      mAP50  mAP50-95): 100%|██████████| 2/2 [00:00<00:00,  3.96it/s]"
     ]
    },
    {
     "name": "stdout",
     "output_type": "stream",
     "text": [
      "                   all         40         72      0.614      0.653      0.633      0.309      0.662      0.517       0.57      0.221\n"
     ]
    },
    {
     "name": "stderr",
     "output_type": "stream",
     "text": [
      "\n"
     ]
    },
    {
     "name": "stdout",
     "output_type": "stream",
     "text": [
      "\n",
      "      Epoch    GPU_mem   box_loss   seg_loss   cls_loss   dfl_loss  Instances       Size\n"
     ]
    },
    {
     "name": "stderr",
     "output_type": "stream",
     "text": [
      "     77/150      6.25G     0.8966      1.246     0.6786     0.8279          8       1056: 100%|██████████| 16/16 [00:03<00:00,  4.39it/s]\n",
      "                 Class     Images  Instances      Box(P          R      mAP50  mAP50-95)     Mask(P          R      mAP50  mAP50-95): 100%|██████████| 2/2 [00:00<00:00,  3.73it/s]\n"
     ]
    },
    {
     "name": "stdout",
     "output_type": "stream",
     "text": [
      "                   all         40         72      0.692      0.499      0.587      0.273      0.605      0.472        0.5      0.195\n",
      "\n",
      "      Epoch    GPU_mem   box_loss   seg_loss   cls_loss   dfl_loss  Instances       Size\n"
     ]
    },
    {
     "name": "stderr",
     "output_type": "stream",
     "text": [
      "     78/150      6.38G     0.8802      1.248      0.663     0.8398          6       1056: 100%|██████████| 16/16 [00:03<00:00,  4.35it/s]\n",
      "                 Class     Images  Instances      Box(P          R      mAP50  mAP50-95)     Mask(P          R      mAP50  mAP50-95): 100%|██████████| 2/2 [00:00<00:00,  4.61it/s]"
     ]
    },
    {
     "name": "stdout",
     "output_type": "stream",
     "text": [
      "                   all         40         72        0.6      0.542      0.581      0.319      0.587      0.528      0.521      0.217\n"
     ]
    },
    {
     "name": "stderr",
     "output_type": "stream",
     "text": [
      "\n"
     ]
    },
    {
     "name": "stdout",
     "output_type": "stream",
     "text": [
      "\n",
      "      Epoch    GPU_mem   box_loss   seg_loss   cls_loss   dfl_loss  Instances       Size\n"
     ]
    },
    {
     "name": "stderr",
     "output_type": "stream",
     "text": [
      "     79/150      6.32G     0.9194      1.254     0.6817     0.8512          8       1056: 100%|██████████| 16/16 [00:03<00:00,  4.34it/s]\n",
      "                 Class     Images  Instances      Box(P          R      mAP50  mAP50-95)     Mask(P          R      mAP50  mAP50-95): 100%|██████████| 2/2 [00:00<00:00,  4.18it/s]"
     ]
    },
    {
     "name": "stdout",
     "output_type": "stream",
     "text": [
      "                   all         40         72      0.719      0.583      0.644      0.356      0.687      0.556      0.592      0.221\n"
     ]
    },
    {
     "name": "stderr",
     "output_type": "stream",
     "text": [
      "\n"
     ]
    },
    {
     "name": "stdout",
     "output_type": "stream",
     "text": [
      "\n",
      "      Epoch    GPU_mem   box_loss   seg_loss   cls_loss   dfl_loss  Instances       Size\n"
     ]
    },
    {
     "name": "stderr",
     "output_type": "stream",
     "text": [
      "     80/150      6.39G     0.8964      1.281     0.6795      0.841         12       1056: 100%|██████████| 16/16 [00:03<00:00,  4.42it/s]\n",
      "                 Class     Images  Instances      Box(P          R      mAP50  mAP50-95)     Mask(P          R      mAP50  mAP50-95): 100%|██████████| 2/2 [00:00<00:00,  3.82it/s]"
     ]
    },
    {
     "name": "stdout",
     "output_type": "stream",
     "text": [
      "                   all         40         72      0.738      0.639      0.675      0.378      0.643      0.556      0.548       0.23\n"
     ]
    },
    {
     "name": "stderr",
     "output_type": "stream",
     "text": [
      "\n"
     ]
    },
    {
     "name": "stdout",
     "output_type": "stream",
     "text": [
      "\n",
      "      Epoch    GPU_mem   box_loss   seg_loss   cls_loss   dfl_loss  Instances       Size\n"
     ]
    },
    {
     "name": "stderr",
     "output_type": "stream",
     "text": [
      "     81/150       6.3G      0.853      1.282     0.6269      0.845          8       1056: 100%|██████████| 16/16 [00:03<00:00,  4.37it/s]\n",
      "                 Class     Images  Instances      Box(P          R      mAP50  mAP50-95)     Mask(P          R      mAP50  mAP50-95): 100%|██████████| 2/2 [00:00<00:00,  4.05it/s]"
     ]
    },
    {
     "name": "stdout",
     "output_type": "stream",
     "text": [
      "                   all         40         72      0.675      0.653       0.62      0.345      0.623      0.597      0.491      0.208\n"
     ]
    },
    {
     "name": "stderr",
     "output_type": "stream",
     "text": [
      "\n"
     ]
    },
    {
     "name": "stdout",
     "output_type": "stream",
     "text": [
      "\n",
      "      Epoch    GPU_mem   box_loss   seg_loss   cls_loss   dfl_loss  Instances       Size\n"
     ]
    },
    {
     "name": "stderr",
     "output_type": "stream",
     "text": [
      "     82/150      6.38G     0.8692      1.298     0.6081     0.8402          6       1056: 100%|██████████| 16/16 [00:03<00:00,  4.45it/s]\n",
      "                 Class     Images  Instances      Box(P          R      mAP50  mAP50-95)     Mask(P          R      mAP50  mAP50-95): 100%|██████████| 2/2 [00:00<00:00,  4.10it/s]"
     ]
    },
    {
     "name": "stdout",
     "output_type": "stream",
     "text": [
      "                   all         40         72       0.63      0.616      0.599      0.324      0.597      0.495      0.456      0.182\n"
     ]
    },
    {
     "name": "stderr",
     "output_type": "stream",
     "text": [
      "\n"
     ]
    },
    {
     "name": "stdout",
     "output_type": "stream",
     "text": [
      "\n",
      "      Epoch    GPU_mem   box_loss   seg_loss   cls_loss   dfl_loss  Instances       Size\n"
     ]
    },
    {
     "name": "stderr",
     "output_type": "stream",
     "text": [
      "     83/150      6.19G     0.8948       1.27     0.6479     0.8466         18       1056: 100%|██████████| 16/16 [00:03<00:00,  4.26it/s]\n",
      "                 Class     Images  Instances      Box(P          R      mAP50  mAP50-95)     Mask(P          R      mAP50  mAP50-95): 100%|██████████| 2/2 [00:00<00:00,  4.85it/s]\n"
     ]
    },
    {
     "name": "stdout",
     "output_type": "stream",
     "text": [
      "                   all         40         72      0.669      0.617      0.646      0.352      0.609      0.556      0.594       0.26\n",
      "\n",
      "      Epoch    GPU_mem   box_loss   seg_loss   cls_loss   dfl_loss  Instances       Size\n"
     ]
    },
    {
     "name": "stderr",
     "output_type": "stream",
     "text": [
      "     84/150      6.17G     0.8291      1.252     0.6219     0.8507         11       1056: 100%|██████████| 16/16 [00:03<00:00,  4.36it/s]\n",
      "                 Class     Images  Instances      Box(P          R      mAP50  mAP50-95)     Mask(P          R      mAP50  mAP50-95): 100%|██████████| 2/2 [00:00<00:00,  3.74it/s]"
     ]
    },
    {
     "name": "stdout",
     "output_type": "stream",
     "text": [
      "                   all         40         72      0.712      0.549      0.623      0.339      0.525      0.552      0.523      0.217\n"
     ]
    },
    {
     "name": "stderr",
     "output_type": "stream",
     "text": [
      "\n"
     ]
    },
    {
     "name": "stdout",
     "output_type": "stream",
     "text": [
      "\n",
      "      Epoch    GPU_mem   box_loss   seg_loss   cls_loss   dfl_loss  Instances       Size\n"
     ]
    },
    {
     "name": "stderr",
     "output_type": "stream",
     "text": [
      "     85/150      6.29G     0.8687      1.174     0.6156      0.838          4       1056: 100%|██████████| 16/16 [00:03<00:00,  4.31it/s]\n",
      "                 Class     Images  Instances      Box(P          R      mAP50  mAP50-95)     Mask(P          R      mAP50  mAP50-95): 100%|██████████| 2/2 [00:00<00:00,  3.70it/s]"
     ]
    },
    {
     "name": "stdout",
     "output_type": "stream",
     "text": [
      "                   all         40         72      0.641      0.583       0.62      0.332      0.562      0.517      0.503      0.204\n"
     ]
    },
    {
     "name": "stderr",
     "output_type": "stream",
     "text": [
      "\n"
     ]
    },
    {
     "name": "stdout",
     "output_type": "stream",
     "text": [
      "\n",
      "      Epoch    GPU_mem   box_loss   seg_loss   cls_loss   dfl_loss  Instances       Size\n"
     ]
    },
    {
     "name": "stderr",
     "output_type": "stream",
     "text": [
      "     86/150      6.24G     0.8408        1.2     0.6244     0.8404         15       1056: 100%|██████████| 16/16 [00:03<00:00,  4.38it/s]\n",
      "                 Class     Images  Instances      Box(P          R      mAP50  mAP50-95)     Mask(P          R      mAP50  mAP50-95): 100%|██████████| 2/2 [00:00<00:00,  3.88it/s]"
     ]
    },
    {
     "name": "stdout",
     "output_type": "stream",
     "text": [
      "                   all         40         72      0.651      0.595      0.655      0.349      0.636      0.514      0.573      0.237\n"
     ]
    },
    {
     "name": "stderr",
     "output_type": "stream",
     "text": [
      "\n"
     ]
    },
    {
     "name": "stdout",
     "output_type": "stream",
     "text": [
      "\n",
      "      Epoch    GPU_mem   box_loss   seg_loss   cls_loss   dfl_loss  Instances       Size\n"
     ]
    },
    {
     "name": "stderr",
     "output_type": "stream",
     "text": [
      "     87/150      6.27G     0.8847      1.285      0.613     0.8445         11       1056: 100%|██████████| 16/16 [00:03<00:00,  4.35it/s]\n",
      "                 Class     Images  Instances      Box(P          R      mAP50  mAP50-95)     Mask(P          R      mAP50  mAP50-95): 100%|██████████| 2/2 [00:00<00:00,  4.04it/s]\n"
     ]
    },
    {
     "name": "stdout",
     "output_type": "stream",
     "text": [
      "                   all         40         72      0.823        0.5      0.654       0.36      0.807      0.464      0.581      0.261\n",
      "\n",
      "      Epoch    GPU_mem   box_loss   seg_loss   cls_loss   dfl_loss  Instances       Size\n"
     ]
    },
    {
     "name": "stderr",
     "output_type": "stream",
     "text": [
      "     88/150      6.31G     0.8151      1.251      0.588       0.84         13       1056: 100%|██████████| 16/16 [00:03<00:00,  4.24it/s]\n",
      "                 Class     Images  Instances      Box(P          R      mAP50  mAP50-95)     Mask(P          R      mAP50  mAP50-95): 100%|██████████| 2/2 [00:00<00:00,  4.27it/s]"
     ]
    },
    {
     "name": "stdout",
     "output_type": "stream",
     "text": [
      "                   all         40         72      0.692      0.542       0.65      0.346      0.654      0.514      0.589      0.258\n"
     ]
    },
    {
     "name": "stderr",
     "output_type": "stream",
     "text": [
      "\n"
     ]
    },
    {
     "name": "stdout",
     "output_type": "stream",
     "text": [
      "\n",
      "      Epoch    GPU_mem   box_loss   seg_loss   cls_loss   dfl_loss  Instances       Size\n"
     ]
    },
    {
     "name": "stderr",
     "output_type": "stream",
     "text": [
      "     89/150      6.31G     0.8171      1.251     0.5888      0.824          6       1056: 100%|██████████| 16/16 [00:03<00:00,  4.24it/s]\n",
      "                 Class     Images  Instances      Box(P          R      mAP50  mAP50-95)     Mask(P          R      mAP50  mAP50-95): 100%|██████████| 2/2 [00:00<00:00,  3.90it/s]"
     ]
    },
    {
     "name": "stdout",
     "output_type": "stream",
     "text": [
      "                   all         40         72      0.757      0.569      0.657      0.354      0.724      0.528      0.558      0.245\n"
     ]
    },
    {
     "name": "stderr",
     "output_type": "stream",
     "text": [
      "\n"
     ]
    },
    {
     "name": "stdout",
     "output_type": "stream",
     "text": [
      "\n",
      "      Epoch    GPU_mem   box_loss   seg_loss   cls_loss   dfl_loss  Instances       Size\n"
     ]
    },
    {
     "name": "stderr",
     "output_type": "stream",
     "text": [
      "     90/150      6.29G     0.8275      1.216     0.5935     0.8329          8       1056: 100%|██████████| 16/16 [00:03<00:00,  4.39it/s]\n",
      "                 Class     Images  Instances      Box(P          R      mAP50  mAP50-95)     Mask(P          R      mAP50  mAP50-95): 100%|██████████| 2/2 [00:00<00:00,  4.48it/s]"
     ]
    },
    {
     "name": "stdout",
     "output_type": "stream",
     "text": [
      "                   all         40         72      0.661      0.595       0.66      0.356      0.598      0.536      0.552      0.219\n"
     ]
    },
    {
     "name": "stderr",
     "output_type": "stream",
     "text": [
      "\n"
     ]
    },
    {
     "name": "stdout",
     "output_type": "stream",
     "text": [
      "\n",
      "      Epoch    GPU_mem   box_loss   seg_loss   cls_loss   dfl_loss  Instances       Size\n"
     ]
    },
    {
     "name": "stderr",
     "output_type": "stream",
     "text": [
      "     91/150      6.24G     0.8905      1.334     0.6133     0.8389          7       1056: 100%|██████████| 16/16 [00:03<00:00,  4.51it/s]\n",
      "                 Class     Images  Instances      Box(P          R      mAP50  mAP50-95)     Mask(P          R      mAP50  mAP50-95): 100%|██████████| 2/2 [00:00<00:00,  3.75it/s]"
     ]
    },
    {
     "name": "stdout",
     "output_type": "stream",
     "text": [
      "                   all         40         72      0.623      0.681      0.613      0.339      0.572      0.625      0.529       0.21\n"
     ]
    },
    {
     "name": "stderr",
     "output_type": "stream",
     "text": [
      "\n"
     ]
    },
    {
     "name": "stdout",
     "output_type": "stream",
     "text": [
      "\n",
      "      Epoch    GPU_mem   box_loss   seg_loss   cls_loss   dfl_loss  Instances       Size\n"
     ]
    },
    {
     "name": "stderr",
     "output_type": "stream",
     "text": [
      "     92/150      6.38G     0.8799      1.268     0.6165     0.8383         10       1056: 100%|██████████| 16/16 [00:03<00:00,  4.36it/s]\n",
      "                 Class     Images  Instances      Box(P          R      mAP50  mAP50-95)     Mask(P          R      mAP50  mAP50-95): 100%|██████████| 2/2 [00:00<00:00,  3.98it/s]\n"
     ]
    },
    {
     "name": "stdout",
     "output_type": "stream",
     "text": [
      "                   all         40         72      0.589      0.708      0.576      0.323      0.554      0.667      0.513      0.221\n",
      "\n",
      "      Epoch    GPU_mem   box_loss   seg_loss   cls_loss   dfl_loss  Instances       Size\n"
     ]
    },
    {
     "name": "stderr",
     "output_type": "stream",
     "text": [
      "     93/150      6.25G     0.8684      1.238     0.6219     0.8436          6       1056: 100%|██████████| 16/16 [00:03<00:00,  4.40it/s]\n",
      "                 Class     Images  Instances      Box(P          R      mAP50  mAP50-95)     Mask(P          R      mAP50  mAP50-95): 100%|██████████| 2/2 [00:00<00:00,  4.19it/s]"
     ]
    },
    {
     "name": "stdout",
     "output_type": "stream",
     "text": [
      "                   all         40         72      0.605      0.625      0.606       0.34      0.564      0.583      0.547       0.24\n"
     ]
    },
    {
     "name": "stderr",
     "output_type": "stream",
     "text": [
      "\n"
     ]
    },
    {
     "name": "stdout",
     "output_type": "stream",
     "text": [
      "\n",
      "      Epoch    GPU_mem   box_loss   seg_loss   cls_loss   dfl_loss  Instances       Size\n"
     ]
    },
    {
     "name": "stderr",
     "output_type": "stream",
     "text": [
      "     94/150      6.39G     0.8295      1.217     0.5732     0.8265         13       1056: 100%|██████████| 16/16 [00:03<00:00,  4.29it/s]\n",
      "                 Class     Images  Instances      Box(P          R      mAP50  mAP50-95)     Mask(P          R      mAP50  mAP50-95): 100%|██████████| 2/2 [00:00<00:00,  4.06it/s]"
     ]
    },
    {
     "name": "stdout",
     "output_type": "stream",
     "text": [
      "                   all         40         72       0.92      0.486      0.665      0.351      0.848      0.444      0.561      0.236\n"
     ]
    },
    {
     "name": "stderr",
     "output_type": "stream",
     "text": [
      "\n"
     ]
    },
    {
     "name": "stdout",
     "output_type": "stream",
     "text": [
      "\n",
      "      Epoch    GPU_mem   box_loss   seg_loss   cls_loss   dfl_loss  Instances       Size\n"
     ]
    },
    {
     "name": "stderr",
     "output_type": "stream",
     "text": [
      "     95/150      6.25G     0.8076      1.341     0.6025     0.8348         16       1056: 100%|██████████| 16/16 [00:03<00:00,  4.32it/s]\n",
      "                 Class     Images  Instances      Box(P          R      mAP50  mAP50-95)     Mask(P          R      mAP50  mAP50-95): 100%|██████████| 2/2 [00:00<00:00,  4.22it/s]"
     ]
    },
    {
     "name": "stdout",
     "output_type": "stream",
     "text": [
      "                   all         40         72      0.884      0.486      0.658      0.351       0.83      0.458      0.581      0.227\n"
     ]
    },
    {
     "name": "stderr",
     "output_type": "stream",
     "text": [
      "\n"
     ]
    },
    {
     "name": "stdout",
     "output_type": "stream",
     "text": [
      "\n",
      "      Epoch    GPU_mem   box_loss   seg_loss   cls_loss   dfl_loss  Instances       Size\n"
     ]
    },
    {
     "name": "stderr",
     "output_type": "stream",
     "text": [
      "     96/150      6.39G     0.8965       1.32     0.6479     0.8481          5       1056: 100%|██████████| 16/16 [00:03<00:00,  4.34it/s]\n",
      "                 Class     Images  Instances      Box(P          R      mAP50  mAP50-95)     Mask(P          R      mAP50  mAP50-95): 100%|██████████| 2/2 [00:00<00:00,  4.01it/s]"
     ]
    },
    {
     "name": "stdout",
     "output_type": "stream",
     "text": [
      "                   all         40         72      0.861      0.518      0.681      0.386      0.793      0.478      0.595      0.276\n"
     ]
    },
    {
     "name": "stderr",
     "output_type": "stream",
     "text": [
      "\n"
     ]
    },
    {
     "name": "stdout",
     "output_type": "stream",
     "text": [
      "\n",
      "      Epoch    GPU_mem   box_loss   seg_loss   cls_loss   dfl_loss  Instances       Size\n"
     ]
    },
    {
     "name": "stderr",
     "output_type": "stream",
     "text": [
      "     97/150      6.27G     0.8362      1.209     0.5815     0.8198         10       1056: 100%|██████████| 16/16 [00:03<00:00,  4.23it/s]\n",
      "                 Class     Images  Instances      Box(P          R      mAP50  mAP50-95)     Mask(P          R      mAP50  mAP50-95): 100%|██████████| 2/2 [00:00<00:00,  4.80it/s]"
     ]
    },
    {
     "name": "stdout",
     "output_type": "stream",
     "text": [
      "                   all         40         72      0.723      0.545      0.659      0.373      0.664      0.486      0.551      0.257\n"
     ]
    },
    {
     "name": "stderr",
     "output_type": "stream",
     "text": [
      "\n"
     ]
    },
    {
     "name": "stdout",
     "output_type": "stream",
     "text": [
      "\n",
      "      Epoch    GPU_mem   box_loss   seg_loss   cls_loss   dfl_loss  Instances       Size\n"
     ]
    },
    {
     "name": "stderr",
     "output_type": "stream",
     "text": [
      "     98/150      6.38G     0.8092       1.13     0.5903      0.825         11       1056: 100%|██████████| 16/16 [00:03<00:00,  4.27it/s]\n",
      "                 Class     Images  Instances      Box(P          R      mAP50  mAP50-95)     Mask(P          R      mAP50  mAP50-95): 100%|██████████| 2/2 [00:00<00:00,  4.04it/s]"
     ]
    },
    {
     "name": "stdout",
     "output_type": "stream",
     "text": [
      "                   all         40         72      0.566      0.625      0.616      0.341      0.526      0.585      0.537      0.221\n"
     ]
    },
    {
     "name": "stderr",
     "output_type": "stream",
     "text": [
      "\n"
     ]
    },
    {
     "name": "stdout",
     "output_type": "stream",
     "text": [
      "\n",
      "      Epoch    GPU_mem   box_loss   seg_loss   cls_loss   dfl_loss  Instances       Size\n"
     ]
    },
    {
     "name": "stderr",
     "output_type": "stream",
     "text": [
      "     99/150      6.32G     0.8204      1.303     0.5695     0.8355         11       1056: 100%|██████████| 16/16 [00:03<00:00,  4.28it/s]\n",
      "                 Class     Images  Instances      Box(P          R      mAP50  mAP50-95)     Mask(P          R      mAP50  mAP50-95): 100%|██████████| 2/2 [00:00<00:00,  4.38it/s]"
     ]
    },
    {
     "name": "stdout",
     "output_type": "stream",
     "text": [
      "                   all         40         72      0.714      0.514      0.615      0.331      0.636      0.458      0.529      0.227\n"
     ]
    },
    {
     "name": "stderr",
     "output_type": "stream",
     "text": [
      "\n"
     ]
    },
    {
     "name": "stdout",
     "output_type": "stream",
     "text": [
      "\n",
      "      Epoch    GPU_mem   box_loss   seg_loss   cls_loss   dfl_loss  Instances       Size\n"
     ]
    },
    {
     "name": "stderr",
     "output_type": "stream",
     "text": [
      "    100/150      6.23G     0.7582      1.157     0.5467     0.8184          8       1056: 100%|██████████| 16/16 [00:03<00:00,  4.34it/s]\n",
      "                 Class     Images  Instances      Box(P          R      mAP50  mAP50-95)     Mask(P          R      mAP50  mAP50-95): 100%|██████████| 2/2 [00:00<00:00,  4.29it/s]"
     ]
    },
    {
     "name": "stdout",
     "output_type": "stream",
     "text": [
      "                   all         40         72      0.624      0.583      0.632      0.343        0.6      0.514      0.525      0.244\n"
     ]
    },
    {
     "name": "stderr",
     "output_type": "stream",
     "text": [
      "\n"
     ]
    },
    {
     "name": "stdout",
     "output_type": "stream",
     "text": [
      "\n",
      "      Epoch    GPU_mem   box_loss   seg_loss   cls_loss   dfl_loss  Instances       Size\n"
     ]
    },
    {
     "name": "stderr",
     "output_type": "stream",
     "text": [
      "    101/150      6.25G     0.8196      1.205     0.5879     0.8306         11       1056: 100%|██████████| 16/16 [00:03<00:00,  4.42it/s]\n",
      "                 Class     Images  Instances      Box(P          R      mAP50  mAP50-95)     Mask(P          R      mAP50  mAP50-95): 100%|██████████| 2/2 [00:00<00:00,  4.22it/s]"
     ]
    },
    {
     "name": "stdout",
     "output_type": "stream",
     "text": [
      "                   all         40         72      0.602      0.631       0.62       0.33      0.589      0.617      0.577      0.244\n"
     ]
    },
    {
     "name": "stderr",
     "output_type": "stream",
     "text": [
      "\n"
     ]
    },
    {
     "name": "stdout",
     "output_type": "stream",
     "text": [
      "\n",
      "      Epoch    GPU_mem   box_loss   seg_loss   cls_loss   dfl_loss  Instances       Size\n"
     ]
    },
    {
     "name": "stderr",
     "output_type": "stream",
     "text": [
      "    102/150      6.38G     0.7865      1.106     0.5504     0.8174          8       1056: 100%|██████████| 16/16 [00:03<00:00,  4.31it/s]\n",
      "                 Class     Images  Instances      Box(P          R      mAP50  mAP50-95)     Mask(P          R      mAP50  mAP50-95): 100%|██████████| 2/2 [00:00<00:00,  3.78it/s]"
     ]
    },
    {
     "name": "stdout",
     "output_type": "stream",
     "text": [
      "                   all         40         72      0.748      0.569      0.652      0.345      0.722      0.542      0.591      0.248\n"
     ]
    },
    {
     "name": "stderr",
     "output_type": "stream",
     "text": [
      "\n"
     ]
    },
    {
     "name": "stdout",
     "output_type": "stream",
     "text": [
      "\n",
      "      Epoch    GPU_mem   box_loss   seg_loss   cls_loss   dfl_loss  Instances       Size\n"
     ]
    },
    {
     "name": "stderr",
     "output_type": "stream",
     "text": [
      "    103/150      6.19G     0.8009      1.127     0.5505     0.8207          6       1056: 100%|██████████| 16/16 [00:03<00:00,  4.13it/s]\n",
      "                 Class     Images  Instances      Box(P          R      mAP50  mAP50-95)     Mask(P          R      mAP50  mAP50-95): 100%|██████████| 2/2 [00:00<00:00,  4.56it/s]"
     ]
    },
    {
     "name": "stdout",
     "output_type": "stream",
     "text": [
      "                   all         40         72      0.776      0.569      0.666      0.347      0.773      0.514      0.586       0.24\n"
     ]
    },
    {
     "name": "stderr",
     "output_type": "stream",
     "text": [
      "\n"
     ]
    },
    {
     "name": "stdout",
     "output_type": "stream",
     "text": [
      "\n",
      "      Epoch    GPU_mem   box_loss   seg_loss   cls_loss   dfl_loss  Instances       Size\n"
     ]
    },
    {
     "name": "stderr",
     "output_type": "stream",
     "text": [
      "    104/150      6.21G     0.7446      1.201     0.5338     0.8246          6       1056: 100%|██████████| 16/16 [00:03<00:00,  4.29it/s]\n",
      "                 Class     Images  Instances      Box(P          R      mAP50  mAP50-95)     Mask(P          R      mAP50  mAP50-95): 100%|██████████| 2/2 [00:00<00:00,  4.54it/s]"
     ]
    },
    {
     "name": "stdout",
     "output_type": "stream",
     "text": [
      "                   all         40         72      0.764      0.569      0.662      0.339      0.769        0.5      0.552      0.202\n"
     ]
    },
    {
     "name": "stderr",
     "output_type": "stream",
     "text": [
      "\n"
     ]
    },
    {
     "name": "stdout",
     "output_type": "stream",
     "text": [
      "\n",
      "      Epoch    GPU_mem   box_loss   seg_loss   cls_loss   dfl_loss  Instances       Size\n"
     ]
    },
    {
     "name": "stderr",
     "output_type": "stream",
     "text": [
      "    105/150      6.23G     0.7985      1.254     0.5519     0.8215          5       1056: 100%|██████████| 16/16 [00:03<00:00,  4.36it/s]\n",
      "                 Class     Images  Instances      Box(P          R      mAP50  mAP50-95)     Mask(P          R      mAP50  mAP50-95): 100%|██████████| 2/2 [00:00<00:00,  3.99it/s]"
     ]
    },
    {
     "name": "stdout",
     "output_type": "stream",
     "text": [
      "                   all         40         72      0.705      0.583      0.655      0.353      0.725      0.528      0.593      0.254\n"
     ]
    },
    {
     "name": "stderr",
     "output_type": "stream",
     "text": [
      "\n"
     ]
    },
    {
     "name": "stdout",
     "output_type": "stream",
     "text": [
      "\n",
      "      Epoch    GPU_mem   box_loss   seg_loss   cls_loss   dfl_loss  Instances       Size\n"
     ]
    },
    {
     "name": "stderr",
     "output_type": "stream",
     "text": [
      "    106/150      6.38G     0.8066      1.201     0.5575      0.828         12       1056: 100%|██████████| 16/16 [00:03<00:00,  4.36it/s]\n",
      "                 Class     Images  Instances      Box(P          R      mAP50  mAP50-95)     Mask(P          R      mAP50  mAP50-95): 100%|██████████| 2/2 [00:00<00:00,  4.35it/s]"
     ]
    },
    {
     "name": "stdout",
     "output_type": "stream",
     "text": [
      "                   all         40         72      0.829       0.54      0.665      0.382      0.808      0.527      0.615      0.273\n"
     ]
    },
    {
     "name": "stderr",
     "output_type": "stream",
     "text": [
      "\n"
     ]
    },
    {
     "name": "stdout",
     "output_type": "stream",
     "text": [
      "\n",
      "      Epoch    GPU_mem   box_loss   seg_loss   cls_loss   dfl_loss  Instances       Size\n"
     ]
    },
    {
     "name": "stderr",
     "output_type": "stream",
     "text": [
      "    107/150       6.2G      0.817      1.163      0.558     0.8454         12       1056: 100%|██████████| 16/16 [00:03<00:00,  4.28it/s]\n",
      "                 Class     Images  Instances      Box(P          R      mAP50  mAP50-95)     Mask(P          R      mAP50  mAP50-95): 100%|██████████| 2/2 [00:00<00:00,  3.86it/s]"
     ]
    },
    {
     "name": "stdout",
     "output_type": "stream",
     "text": [
      "                   all         40         72      0.842      0.542      0.679      0.382      0.793      0.514      0.604      0.259\n"
     ]
    },
    {
     "name": "stderr",
     "output_type": "stream",
     "text": [
      "\n"
     ]
    },
    {
     "name": "stdout",
     "output_type": "stream",
     "text": [
      "\n",
      "      Epoch    GPU_mem   box_loss   seg_loss   cls_loss   dfl_loss  Instances       Size\n"
     ]
    },
    {
     "name": "stderr",
     "output_type": "stream",
     "text": [
      "    108/150      6.35G     0.7892      1.144     0.5569     0.8363          7       1056: 100%|██████████| 16/16 [00:03<00:00,  4.35it/s]\n",
      "                 Class     Images  Instances      Box(P          R      mAP50  mAP50-95)     Mask(P          R      mAP50  mAP50-95): 100%|██████████| 2/2 [00:00<00:00,  3.73it/s]"
     ]
    },
    {
     "name": "stdout",
     "output_type": "stream",
     "text": [
      "                   all         40         72      0.789      0.573      0.673      0.394      0.771       0.56      0.635      0.292\n"
     ]
    },
    {
     "name": "stderr",
     "output_type": "stream",
     "text": [
      "\n"
     ]
    },
    {
     "name": "stdout",
     "output_type": "stream",
     "text": [
      "\n",
      "      Epoch    GPU_mem   box_loss   seg_loss   cls_loss   dfl_loss  Instances       Size\n"
     ]
    },
    {
     "name": "stderr",
     "output_type": "stream",
     "text": [
      "    109/150       6.2G      0.778      1.236     0.5548     0.8311         21       1056: 100%|██████████| 16/16 [00:03<00:00,  4.31it/s]\n",
      "                 Class     Images  Instances      Box(P          R      mAP50  mAP50-95)     Mask(P          R      mAP50  mAP50-95): 100%|██████████| 2/2 [00:00<00:00,  4.03it/s]\n"
     ]
    },
    {
     "name": "stdout",
     "output_type": "stream",
     "text": [
      "                   all         40         72      0.842      0.517      0.695      0.397      0.827      0.486      0.612      0.258\n",
      "\n",
      "      Epoch    GPU_mem   box_loss   seg_loss   cls_loss   dfl_loss  Instances       Size\n"
     ]
    },
    {
     "name": "stderr",
     "output_type": "stream",
     "text": [
      "    110/150      6.19G     0.7702      1.168     0.5407     0.8198          6       1056: 100%|██████████| 16/16 [00:03<00:00,  4.35it/s]\n",
      "                 Class     Images  Instances      Box(P          R      mAP50  mAP50-95)     Mask(P          R      mAP50  mAP50-95): 100%|██████████| 2/2 [00:00<00:00,  3.54it/s]"
     ]
    },
    {
     "name": "stdout",
     "output_type": "stream",
     "text": [
      "                   all         40         72      0.677      0.625      0.695      0.396       0.63      0.567      0.591      0.278\n"
     ]
    },
    {
     "name": "stderr",
     "output_type": "stream",
     "text": [
      "\n"
     ]
    },
    {
     "name": "stdout",
     "output_type": "stream",
     "text": [
      "\n",
      "      Epoch    GPU_mem   box_loss   seg_loss   cls_loss   dfl_loss  Instances       Size\n"
     ]
    },
    {
     "name": "stderr",
     "output_type": "stream",
     "text": [
      "    111/150      6.35G     0.7799      1.147     0.5566     0.8405          4       1056: 100%|██████████| 16/16 [00:03<00:00,  4.30it/s]\n",
      "                 Class     Images  Instances      Box(P          R      mAP50  mAP50-95)     Mask(P          R      mAP50  mAP50-95): 100%|██████████| 2/2 [00:00<00:00,  4.41it/s]"
     ]
    },
    {
     "name": "stdout",
     "output_type": "stream",
     "text": [
      "                   all         40         72      0.716      0.556      0.679      0.389      0.655        0.5      0.581      0.264\n"
     ]
    },
    {
     "name": "stderr",
     "output_type": "stream",
     "text": [
      "\n"
     ]
    },
    {
     "name": "stdout",
     "output_type": "stream",
     "text": [
      "\n",
      "      Epoch    GPU_mem   box_loss   seg_loss   cls_loss   dfl_loss  Instances       Size\n"
     ]
    },
    {
     "name": "stderr",
     "output_type": "stream",
     "text": [
      "    112/150      6.27G     0.7526      1.141     0.5442     0.8271         13       1056: 100%|██████████| 16/16 [00:03<00:00,  4.37it/s]\n",
      "                 Class     Images  Instances      Box(P          R      mAP50  mAP50-95)     Mask(P          R      mAP50  mAP50-95): 100%|██████████| 2/2 [00:00<00:00,  3.98it/s]"
     ]
    },
    {
     "name": "stdout",
     "output_type": "stream",
     "text": [
      "                   all         40         72      0.662      0.542      0.659      0.374      0.629        0.5       0.55      0.255\n"
     ]
    },
    {
     "name": "stderr",
     "output_type": "stream",
     "text": [
      "\n"
     ]
    },
    {
     "name": "stdout",
     "output_type": "stream",
     "text": [
      "\n",
      "      Epoch    GPU_mem   box_loss   seg_loss   cls_loss   dfl_loss  Instances       Size\n"
     ]
    },
    {
     "name": "stderr",
     "output_type": "stream",
     "text": [
      "    113/150      6.33G     0.7554       1.07     0.5288     0.8192          6       1056: 100%|██████████| 16/16 [00:03<00:00,  4.18it/s]\n",
      "                 Class     Images  Instances      Box(P          R      mAP50  mAP50-95)     Mask(P          R      mAP50  mAP50-95): 100%|██████████| 2/2 [00:00<00:00,  4.33it/s]"
     ]
    },
    {
     "name": "stdout",
     "output_type": "stream",
     "text": [
      "                   all         40         72       0.56      0.667      0.641      0.359      0.539      0.611      0.582      0.281\n"
     ]
    },
    {
     "name": "stderr",
     "output_type": "stream",
     "text": [
      "\n"
     ]
    },
    {
     "name": "stdout",
     "output_type": "stream",
     "text": [
      "\n",
      "      Epoch    GPU_mem   box_loss   seg_loss   cls_loss   dfl_loss  Instances       Size\n"
     ]
    },
    {
     "name": "stderr",
     "output_type": "stream",
     "text": [
      "    114/150      6.25G     0.7425      1.178     0.5115      0.822          6       1056: 100%|██████████| 16/16 [00:03<00:00,  4.34it/s]\n",
      "                 Class     Images  Instances      Box(P          R      mAP50  mAP50-95)     Mask(P          R      mAP50  mAP50-95): 100%|██████████| 2/2 [00:00<00:00,  4.45it/s]"
     ]
    },
    {
     "name": "stdout",
     "output_type": "stream",
     "text": [
      "                   all         40         72      0.786        0.5       0.64      0.379      0.758        0.5      0.592      0.272\n"
     ]
    },
    {
     "name": "stderr",
     "output_type": "stream",
     "text": [
      "\n"
     ]
    },
    {
     "name": "stdout",
     "output_type": "stream",
     "text": [
      "\n",
      "      Epoch    GPU_mem   box_loss   seg_loss   cls_loss   dfl_loss  Instances       Size\n"
     ]
    },
    {
     "name": "stderr",
     "output_type": "stream",
     "text": [
      "    115/150      6.21G     0.7728      1.197     0.5242     0.8235          8       1056: 100%|██████████| 16/16 [00:03<00:00,  4.34it/s]\n",
      "                 Class     Images  Instances      Box(P          R      mAP50  mAP50-95)     Mask(P          R      mAP50  mAP50-95): 100%|██████████| 2/2 [00:00<00:00,  3.97it/s]"
     ]
    },
    {
     "name": "stdout",
     "output_type": "stream",
     "text": [
      "                   all         40         72      0.818        0.5      0.663      0.389      0.803      0.486      0.615      0.264\n"
     ]
    },
    {
     "name": "stderr",
     "output_type": "stream",
     "text": [
      "\n"
     ]
    },
    {
     "name": "stdout",
     "output_type": "stream",
     "text": [
      "\n",
      "      Epoch    GPU_mem   box_loss   seg_loss   cls_loss   dfl_loss  Instances       Size\n"
     ]
    },
    {
     "name": "stderr",
     "output_type": "stream",
     "text": [
      "    116/150      6.23G     0.7164        1.1     0.5292     0.8168         18       1056: 100%|██████████| 16/16 [00:03<00:00,  4.41it/s]\n",
      "                 Class     Images  Instances      Box(P          R      mAP50  mAP50-95)     Mask(P          R      mAP50  mAP50-95): 100%|██████████| 2/2 [00:00<00:00,  4.10it/s]"
     ]
    },
    {
     "name": "stdout",
     "output_type": "stream",
     "text": [
      "                   all         40         72      0.735      0.501      0.656      0.375      0.716       0.49      0.608       0.28\n"
     ]
    },
    {
     "name": "stderr",
     "output_type": "stream",
     "text": [
      "\n"
     ]
    },
    {
     "name": "stdout",
     "output_type": "stream",
     "text": [
      "\n",
      "      Epoch    GPU_mem   box_loss   seg_loss   cls_loss   dfl_loss  Instances       Size\n"
     ]
    },
    {
     "name": "stderr",
     "output_type": "stream",
     "text": [
      "    117/150      6.22G     0.7455      1.165     0.5209     0.8273          5       1056: 100%|██████████| 16/16 [00:03<00:00,  4.29it/s]\n",
      "                 Class     Images  Instances      Box(P          R      mAP50  mAP50-95)     Mask(P          R      mAP50  mAP50-95): 100%|██████████| 2/2 [00:00<00:00,  3.97it/s]"
     ]
    },
    {
     "name": "stdout",
     "output_type": "stream",
     "text": [
      "                   all         40         72      0.628      0.556      0.649      0.358      0.625       0.51      0.588      0.262\n"
     ]
    },
    {
     "name": "stderr",
     "output_type": "stream",
     "text": [
      "\n"
     ]
    },
    {
     "name": "stdout",
     "output_type": "stream",
     "text": [
      "\n",
      "      Epoch    GPU_mem   box_loss   seg_loss   cls_loss   dfl_loss  Instances       Size\n"
     ]
    },
    {
     "name": "stderr",
     "output_type": "stream",
     "text": [
      "    118/150      6.16G     0.7539      1.172     0.5335     0.8227         16       1056: 100%|██████████| 16/16 [00:03<00:00,  4.21it/s]\n",
      "                 Class     Images  Instances      Box(P          R      mAP50  mAP50-95)     Mask(P          R      mAP50  mAP50-95): 100%|██████████| 2/2 [00:00<00:00,  4.21it/s]"
     ]
    },
    {
     "name": "stdout",
     "output_type": "stream",
     "text": [
      "                   all         40         72      0.785      0.514      0.665      0.373      0.669        0.5       0.58       0.25\n"
     ]
    },
    {
     "name": "stderr",
     "output_type": "stream",
     "text": [
      "\n"
     ]
    },
    {
     "name": "stdout",
     "output_type": "stream",
     "text": [
      "\n",
      "      Epoch    GPU_mem   box_loss   seg_loss   cls_loss   dfl_loss  Instances       Size\n"
     ]
    },
    {
     "name": "stderr",
     "output_type": "stream",
     "text": [
      "    119/150      6.35G     0.7191       1.09     0.5179     0.8102         10       1056: 100%|██████████| 16/16 [00:03<00:00,  4.28it/s]\n",
      "                 Class     Images  Instances      Box(P          R      mAP50  mAP50-95)     Mask(P          R      mAP50  mAP50-95): 100%|██████████| 2/2 [00:00<00:00,  3.94it/s]"
     ]
    },
    {
     "name": "stdout",
     "output_type": "stream",
     "text": [
      "                   all         40         72      0.872      0.514      0.665       0.38      0.804      0.472      0.606      0.249\n"
     ]
    },
    {
     "name": "stderr",
     "output_type": "stream",
     "text": [
      "\n"
     ]
    },
    {
     "name": "stdout",
     "output_type": "stream",
     "text": [
      "\n",
      "      Epoch    GPU_mem   box_loss   seg_loss   cls_loss   dfl_loss  Instances       Size\n"
     ]
    },
    {
     "name": "stderr",
     "output_type": "stream",
     "text": [
      "    120/150      6.31G     0.7253      1.143      0.523     0.8173          7       1056: 100%|██████████| 16/16 [00:03<00:00,  4.37it/s]\n",
      "                 Class     Images  Instances      Box(P          R      mAP50  mAP50-95)     Mask(P          R      mAP50  mAP50-95): 100%|██████████| 2/2 [00:00<00:00,  3.88it/s]"
     ]
    },
    {
     "name": "stdout",
     "output_type": "stream",
     "text": [
      "                   all         40         72      0.817      0.542       0.69      0.389      0.683      0.486      0.556      0.234\n"
     ]
    },
    {
     "name": "stderr",
     "output_type": "stream",
     "text": [
      "\n"
     ]
    },
    {
     "name": "stdout",
     "output_type": "stream",
     "text": [
      "\n",
      "      Epoch    GPU_mem   box_loss   seg_loss   cls_loss   dfl_loss  Instances       Size\n"
     ]
    },
    {
     "name": "stderr",
     "output_type": "stream",
     "text": [
      "    121/150      6.38G     0.7569      1.199     0.5223     0.8156          8       1056: 100%|██████████| 16/16 [00:03<00:00,  4.27it/s]\n",
      "                 Class     Images  Instances      Box(P          R      mAP50  mAP50-95)     Mask(P          R      mAP50  mAP50-95): 100%|██████████| 2/2 [00:00<00:00,  4.69it/s]"
     ]
    },
    {
     "name": "stdout",
     "output_type": "stream",
     "text": [
      "                   all         40         72       0.81      0.542      0.675      0.387      0.748      0.542      0.601      0.266\n"
     ]
    },
    {
     "name": "stderr",
     "output_type": "stream",
     "text": [
      "\n"
     ]
    },
    {
     "name": "stdout",
     "output_type": "stream",
     "text": [
      "\n",
      "      Epoch    GPU_mem   box_loss   seg_loss   cls_loss   dfl_loss  Instances       Size\n"
     ]
    },
    {
     "name": "stderr",
     "output_type": "stream",
     "text": [
      "    122/150      6.25G       0.73      1.094      0.506     0.8219         10       1056: 100%|██████████| 16/16 [00:03<00:00,  4.49it/s]\n",
      "                 Class     Images  Instances      Box(P          R      mAP50  mAP50-95)     Mask(P          R      mAP50  mAP50-95): 100%|██████████| 2/2 [00:00<00:00,  3.63it/s]"
     ]
    },
    {
     "name": "stdout",
     "output_type": "stream",
     "text": [
      "                   all         40         72      0.828      0.535      0.668      0.392      0.785      0.507      0.615      0.282\n"
     ]
    },
    {
     "name": "stderr",
     "output_type": "stream",
     "text": [
      "\n"
     ]
    },
    {
     "name": "stdout",
     "output_type": "stream",
     "text": [
      "\n",
      "      Epoch    GPU_mem   box_loss   seg_loss   cls_loss   dfl_loss  Instances       Size\n"
     ]
    },
    {
     "name": "stderr",
     "output_type": "stream",
     "text": [
      "    123/150      6.38G     0.7142      1.036     0.5158     0.8126         15       1056: 100%|██████████| 16/16 [00:03<00:00,  4.44it/s]\n",
      "                 Class     Images  Instances      Box(P          R      mAP50  mAP50-95)     Mask(P          R      mAP50  mAP50-95): 100%|██████████| 2/2 [00:00<00:00,  4.41it/s]"
     ]
    },
    {
     "name": "stdout",
     "output_type": "stream",
     "text": [
      "                   all         40         72      0.832      0.556       0.69      0.391        0.8        0.5      0.619      0.249\n"
     ]
    },
    {
     "name": "stderr",
     "output_type": "stream",
     "text": [
      "\n"
     ]
    },
    {
     "name": "stdout",
     "output_type": "stream",
     "text": [
      "\n",
      "      Epoch    GPU_mem   box_loss   seg_loss   cls_loss   dfl_loss  Instances       Size\n"
     ]
    },
    {
     "name": "stderr",
     "output_type": "stream",
     "text": [
      "    124/150      6.25G     0.7389      1.123     0.5018     0.8071          7       1056: 100%|██████████| 16/16 [00:03<00:00,  4.26it/s]\n",
      "                 Class     Images  Instances      Box(P          R      mAP50  mAP50-95)     Mask(P          R      mAP50  mAP50-95): 100%|██████████| 2/2 [00:00<00:00,  4.45it/s]"
     ]
    },
    {
     "name": "stdout",
     "output_type": "stream",
     "text": [
      "                   all         40         72      0.828      0.528      0.688      0.387      0.795        0.5      0.619      0.287\n"
     ]
    },
    {
     "name": "stderr",
     "output_type": "stream",
     "text": [
      "\n"
     ]
    },
    {
     "name": "stdout",
     "output_type": "stream",
     "text": [
      "\n",
      "      Epoch    GPU_mem   box_loss   seg_loss   cls_loss   dfl_loss  Instances       Size\n"
     ]
    },
    {
     "name": "stderr",
     "output_type": "stream",
     "text": [
      "    125/150      6.19G     0.7446      1.101     0.5202     0.8149         14       1056: 100%|██████████| 16/16 [00:03<00:00,  4.44it/s]\n",
      "                 Class     Images  Instances      Box(P          R      mAP50  mAP50-95)     Mask(P          R      mAP50  mAP50-95): 100%|██████████| 2/2 [00:00<00:00,  3.51it/s]\n"
     ]
    },
    {
     "name": "stdout",
     "output_type": "stream",
     "text": [
      "                   all         40         72      0.771      0.528       0.68      0.385      0.798      0.494       0.62      0.303\n",
      "\n",
      "      Epoch    GPU_mem   box_loss   seg_loss   cls_loss   dfl_loss  Instances       Size\n"
     ]
    },
    {
     "name": "stderr",
     "output_type": "stream",
     "text": [
      "    126/150      6.25G     0.7296      1.087     0.5089     0.8179         13       1056: 100%|██████████| 16/16 [00:03<00:00,  4.32it/s]\n",
      "                 Class     Images  Instances      Box(P          R      mAP50  mAP50-95)     Mask(P          R      mAP50  mAP50-95): 100%|██████████| 2/2 [00:00<00:00,  4.59it/s]"
     ]
    },
    {
     "name": "stdout",
     "output_type": "stream",
     "text": [
      "                   all         40         72        0.7      0.569      0.688      0.377      0.616      0.542      0.615      0.272\n"
     ]
    },
    {
     "name": "stderr",
     "output_type": "stream",
     "text": [
      "\n"
     ]
    },
    {
     "name": "stdout",
     "output_type": "stream",
     "text": [
      "\n",
      "      Epoch    GPU_mem   box_loss   seg_loss   cls_loss   dfl_loss  Instances       Size\n"
     ]
    },
    {
     "name": "stderr",
     "output_type": "stream",
     "text": [
      "    127/150      6.19G     0.7078      1.088     0.4867     0.8249          6       1056: 100%|██████████| 16/16 [00:03<00:00,  4.25it/s]\n",
      "                 Class     Images  Instances      Box(P          R      mAP50  mAP50-95)     Mask(P          R      mAP50  mAP50-95): 100%|██████████| 2/2 [00:00<00:00,  4.38it/s]"
     ]
    },
    {
     "name": "stdout",
     "output_type": "stream",
     "text": [
      "                   all         40         72      0.697      0.608      0.678      0.378      0.619      0.542      0.609      0.255\n"
     ]
    },
    {
     "name": "stderr",
     "output_type": "stream",
     "text": [
      "\n"
     ]
    },
    {
     "name": "stdout",
     "output_type": "stream",
     "text": [
      "\n",
      "      Epoch    GPU_mem   box_loss   seg_loss   cls_loss   dfl_loss  Instances       Size\n"
     ]
    },
    {
     "name": "stderr",
     "output_type": "stream",
     "text": [
      "    128/150      6.27G     0.6865     0.9928     0.4807     0.8225         12       1056: 100%|██████████| 16/16 [00:03<00:00,  4.28it/s]\n",
      "                 Class     Images  Instances      Box(P          R      mAP50  mAP50-95)     Mask(P          R      mAP50  mAP50-95): 100%|██████████| 2/2 [00:00<00:00,  4.05it/s]"
     ]
    },
    {
     "name": "stdout",
     "output_type": "stream",
     "text": [
      "                   all         40         72      0.878      0.501      0.688      0.402      0.897      0.472      0.644      0.298\n"
     ]
    },
    {
     "name": "stderr",
     "output_type": "stream",
     "text": [
      "\n"
     ]
    },
    {
     "name": "stdout",
     "output_type": "stream",
     "text": [
      "\n",
      "      Epoch    GPU_mem   box_loss   seg_loss   cls_loss   dfl_loss  Instances       Size\n"
     ]
    },
    {
     "name": "stderr",
     "output_type": "stream",
     "text": [
      "    129/150      6.35G     0.7161      1.099     0.5129     0.8256         10       1056: 100%|██████████| 16/16 [00:03<00:00,  4.37it/s]\n",
      "                 Class     Images  Instances      Box(P          R      mAP50  mAP50-95)     Mask(P          R      mAP50  mAP50-95): 100%|██████████| 2/2 [00:00<00:00,  4.17it/s]"
     ]
    },
    {
     "name": "stdout",
     "output_type": "stream",
     "text": [
      "                   all         40         72      0.744      0.556      0.676      0.408      0.902      0.486      0.641      0.297\n"
     ]
    },
    {
     "name": "stderr",
     "output_type": "stream",
     "text": [
      "\n"
     ]
    },
    {
     "name": "stdout",
     "output_type": "stream",
     "text": [
      "\n",
      "      Epoch    GPU_mem   box_loss   seg_loss   cls_loss   dfl_loss  Instances       Size\n"
     ]
    },
    {
     "name": "stderr",
     "output_type": "stream",
     "text": [
      "    130/150      6.29G     0.6855      1.035     0.4783      0.803         14       1056: 100%|██████████| 16/16 [00:03<00:00,  4.37it/s]\n",
      "                 Class     Images  Instances      Box(P          R      mAP50  mAP50-95)     Mask(P          R      mAP50  mAP50-95): 100%|██████████| 2/2 [00:00<00:00,  3.57it/s]"
     ]
    },
    {
     "name": "stdout",
     "output_type": "stream",
     "text": [
      "                   all         40         72      0.899      0.514      0.669      0.387      0.874        0.5      0.619      0.277\n"
     ]
    },
    {
     "name": "stderr",
     "output_type": "stream",
     "text": [
      "\n"
     ]
    },
    {
     "name": "stdout",
     "output_type": "stream",
     "text": [
      "\n",
      "      Epoch    GPU_mem   box_loss   seg_loss   cls_loss   dfl_loss  Instances       Size\n"
     ]
    },
    {
     "name": "stderr",
     "output_type": "stream",
     "text": [
      "    131/150      6.33G     0.6958      1.104     0.4755     0.8063          5       1056: 100%|██████████| 16/16 [00:03<00:00,  4.26it/s]\n",
      "                 Class     Images  Instances      Box(P          R      mAP50  mAP50-95)     Mask(P          R      mAP50  mAP50-95): 100%|██████████| 2/2 [00:00<00:00,  3.94it/s]"
     ]
    },
    {
     "name": "stdout",
     "output_type": "stream",
     "text": [
      "                   all         40         72       0.88      0.514       0.67      0.394      0.829      0.486      0.609      0.272\n"
     ]
    },
    {
     "name": "stderr",
     "output_type": "stream",
     "text": [
      "\n"
     ]
    },
    {
     "name": "stdout",
     "output_type": "stream",
     "text": [
      "\n",
      "      Epoch    GPU_mem   box_loss   seg_loss   cls_loss   dfl_loss  Instances       Size\n"
     ]
    },
    {
     "name": "stderr",
     "output_type": "stream",
     "text": [
      "    132/150      6.19G     0.6969       1.02     0.4971     0.8224          5       1056: 100%|██████████| 16/16 [00:03<00:00,  4.34it/s]\n",
      "                 Class     Images  Instances      Box(P          R      mAP50  mAP50-95)     Mask(P          R      mAP50  mAP50-95): 100%|██████████| 2/2 [00:00<00:00,  4.36it/s]"
     ]
    },
    {
     "name": "stdout",
     "output_type": "stream",
     "text": [
      "                   all         40         72      0.672      0.599      0.667      0.399      0.659      0.556      0.623      0.295\n"
     ]
    },
    {
     "name": "stderr",
     "output_type": "stream",
     "text": [
      "\n"
     ]
    },
    {
     "name": "stdout",
     "output_type": "stream",
     "text": [
      "\n",
      "      Epoch    GPU_mem   box_loss   seg_loss   cls_loss   dfl_loss  Instances       Size\n"
     ]
    },
    {
     "name": "stderr",
     "output_type": "stream",
     "text": [
      "    133/150      6.21G      0.706      1.054     0.4871     0.8114          8       1056: 100%|██████████| 16/16 [00:03<00:00,  4.24it/s]\n",
      "                 Class     Images  Instances      Box(P          R      mAP50  mAP50-95)     Mask(P          R      mAP50  mAP50-95): 100%|██████████| 2/2 [00:00<00:00,  4.29it/s]"
     ]
    },
    {
     "name": "stdout",
     "output_type": "stream",
     "text": [
      "                   all         40         72      0.901      0.503       0.67      0.406      0.839      0.514      0.625      0.278\n"
     ]
    },
    {
     "name": "stderr",
     "output_type": "stream",
     "text": [
      "\n"
     ]
    },
    {
     "name": "stdout",
     "output_type": "stream",
     "text": [
      "\n",
      "      Epoch    GPU_mem   box_loss   seg_loss   cls_loss   dfl_loss  Instances       Size\n"
     ]
    },
    {
     "name": "stderr",
     "output_type": "stream",
     "text": [
      "    134/150      6.37G     0.6872      1.008     0.4713     0.8115          8       1056: 100%|██████████| 16/16 [00:03<00:00,  4.35it/s]\n",
      "                 Class     Images  Instances      Box(P          R      mAP50  mAP50-95)     Mask(P          R      mAP50  mAP50-95): 100%|██████████| 2/2 [00:00<00:00,  3.99it/s]"
     ]
    },
    {
     "name": "stdout",
     "output_type": "stream",
     "text": [
      "                   all         40         72      0.882      0.542       0.68      0.392      0.839      0.514       0.63      0.269\n"
     ]
    },
    {
     "name": "stderr",
     "output_type": "stream",
     "text": [
      "\n"
     ]
    },
    {
     "name": "stdout",
     "output_type": "stream",
     "text": [
      "\n",
      "      Epoch    GPU_mem   box_loss   seg_loss   cls_loss   dfl_loss  Instances       Size\n"
     ]
    },
    {
     "name": "stderr",
     "output_type": "stream",
     "text": [
      "    135/150      6.32G     0.6626      1.011     0.4524     0.8076          6       1056: 100%|██████████| 16/16 [00:03<00:00,  4.43it/s]\n",
      "                 Class     Images  Instances      Box(P          R      mAP50  mAP50-95)     Mask(P          R      mAP50  mAP50-95): 100%|██████████| 2/2 [00:00<00:00,  4.57it/s]"
     ]
    },
    {
     "name": "stdout",
     "output_type": "stream",
     "text": [
      "                   all         40         72      0.898      0.542      0.688      0.395      0.883      0.523      0.641      0.275\n"
     ]
    },
    {
     "name": "stderr",
     "output_type": "stream",
     "text": [
      "\n"
     ]
    },
    {
     "name": "stdout",
     "output_type": "stream",
     "text": [
      "\n",
      "      Epoch    GPU_mem   box_loss   seg_loss   cls_loss   dfl_loss  Instances       Size\n"
     ]
    },
    {
     "name": "stderr",
     "output_type": "stream",
     "text": [
      "    136/150      6.18G     0.6953      1.051     0.4783     0.8075          6       1056: 100%|██████████| 16/16 [00:03<00:00,  4.33it/s]\n",
      "                 Class     Images  Instances      Box(P          R      mAP50  mAP50-95)     Mask(P          R      mAP50  mAP50-95): 100%|██████████| 2/2 [00:00<00:00,  3.69it/s]"
     ]
    },
    {
     "name": "stdout",
     "output_type": "stream",
     "text": [
      "                   all         40         72      0.917      0.542       0.69      0.391      0.877      0.514      0.635      0.271\n"
     ]
    },
    {
     "name": "stderr",
     "output_type": "stream",
     "text": [
      "\n"
     ]
    },
    {
     "name": "stdout",
     "output_type": "stream",
     "text": [
      "\n",
      "      Epoch    GPU_mem   box_loss   seg_loss   cls_loss   dfl_loss  Instances       Size\n"
     ]
    },
    {
     "name": "stderr",
     "output_type": "stream",
     "text": [
      "    137/150      6.18G     0.6669      1.089     0.4747     0.8134         10       1056: 100%|██████████| 16/16 [00:03<00:00,  4.30it/s]\n",
      "                 Class     Images  Instances      Box(P          R      mAP50  mAP50-95)     Mask(P          R      mAP50  mAP50-95): 100%|██████████| 2/2 [00:00<00:00,  3.66it/s]"
     ]
    },
    {
     "name": "stdout",
     "output_type": "stream",
     "text": [
      "                   all         40         72      0.924      0.542      0.697      0.399      0.852        0.5      0.621       0.26\n"
     ]
    },
    {
     "name": "stderr",
     "output_type": "stream",
     "text": [
      "\n"
     ]
    },
    {
     "name": "stdout",
     "output_type": "stream",
     "text": [
      "\n",
      "      Epoch    GPU_mem   box_loss   seg_loss   cls_loss   dfl_loss  Instances       Size\n"
     ]
    },
    {
     "name": "stderr",
     "output_type": "stream",
     "text": [
      "    138/150      6.25G     0.6786      1.026     0.4634     0.8186          9       1056: 100%|██████████| 16/16 [00:03<00:00,  4.19it/s]\n",
      "                 Class     Images  Instances      Box(P          R      mAP50  mAP50-95)     Mask(P          R      mAP50  mAP50-95): 100%|██████████| 2/2 [00:00<00:00,  4.63it/s]"
     ]
    },
    {
     "name": "stdout",
     "output_type": "stream",
     "text": [
      "                   all         40         72       0.89      0.559      0.706      0.399      0.822      0.512      0.634      0.268\n"
     ]
    },
    {
     "name": "stderr",
     "output_type": "stream",
     "text": [
      "\n"
     ]
    },
    {
     "name": "stdout",
     "output_type": "stream",
     "text": [
      "\n",
      "      Epoch    GPU_mem   box_loss   seg_loss   cls_loss   dfl_loss  Instances       Size\n"
     ]
    },
    {
     "name": "stderr",
     "output_type": "stream",
     "text": [
      "    139/150      6.38G     0.6973      1.051     0.4895     0.8136          6       1056: 100%|██████████| 16/16 [00:03<00:00,  4.36it/s]\n",
      "                 Class     Images  Instances      Box(P          R      mAP50  mAP50-95)     Mask(P          R      mAP50  mAP50-95): 100%|██████████| 2/2 [00:00<00:00,  4.42it/s]"
     ]
    },
    {
     "name": "stdout",
     "output_type": "stream",
     "text": [
      "                   all         40         72      0.813      0.611       0.72      0.401      0.807      0.528      0.653      0.272\n"
     ]
    },
    {
     "name": "stderr",
     "output_type": "stream",
     "text": [
      "\n"
     ]
    },
    {
     "name": "stdout",
     "output_type": "stream",
     "text": [
      "\n",
      "      Epoch    GPU_mem   box_loss   seg_loss   cls_loss   dfl_loss  Instances       Size\n"
     ]
    },
    {
     "name": "stderr",
     "output_type": "stream",
     "text": [
      "    140/150      6.14G     0.6778      1.054      0.469     0.8066          4       1056: 100%|██████████| 16/16 [00:03<00:00,  4.37it/s]\n",
      "                 Class     Images  Instances      Box(P          R      mAP50  mAP50-95)     Mask(P          R      mAP50  mAP50-95): 100%|██████████| 2/2 [00:00<00:00,  3.79it/s]"
     ]
    },
    {
     "name": "stdout",
     "output_type": "stream",
     "text": [
      "                   all         40         72      0.792      0.583      0.716      0.383      0.858      0.486      0.635      0.269\n"
     ]
    },
    {
     "name": "stderr",
     "output_type": "stream",
     "text": [
      "\n"
     ]
    },
    {
     "name": "stdout",
     "output_type": "stream",
     "text": [
      "Closing dataloader mosaic\n",
      "\u001b[34m\u001b[1malbumentations: \u001b[0mBlur(p=0.01, blur_limit=(3, 7)), MedianBlur(p=0.01, blur_limit=(3, 7)), ToGray(p=0.01), CLAHE(p=0.01, clip_limit=(1, 4.0), tile_grid_size=(8, 8))\n",
      "\n",
      "      Epoch    GPU_mem   box_loss   seg_loss   cls_loss   dfl_loss  Instances       Size\n"
     ]
    },
    {
     "name": "stderr",
     "output_type": "stream",
     "text": [
      "    141/150      6.33G     0.7143      1.232     0.5171     0.8085          3       1056: 100%|██████████| 16/16 [00:07<00:00,  2.03it/s]\n",
      "                 Class     Images  Instances      Box(P          R      mAP50  mAP50-95)     Mask(P          R      mAP50  mAP50-95): 100%|██████████| 2/2 [00:00<00:00,  4.34it/s]"
     ]
    },
    {
     "name": "stdout",
     "output_type": "stream",
     "text": [
      "                   all         40         72      0.888      0.514      0.698      0.378      0.812      0.472      0.595      0.239\n"
     ]
    },
    {
     "name": "stderr",
     "output_type": "stream",
     "text": [
      "\n"
     ]
    },
    {
     "name": "stdout",
     "output_type": "stream",
     "text": [
      "\n",
      "      Epoch    GPU_mem   box_loss   seg_loss   cls_loss   dfl_loss  Instances       Size\n"
     ]
    },
    {
     "name": "stderr",
     "output_type": "stream",
     "text": [
      "    142/150      6.19G     0.6606      1.104     0.4847      0.815          4       1056: 100%|██████████| 16/16 [00:03<00:00,  4.28it/s]\n",
      "                 Class     Images  Instances      Box(P          R      mAP50  mAP50-95)     Mask(P          R      mAP50  mAP50-95): 100%|██████████| 2/2 [00:00<00:00,  3.63it/s]"
     ]
    },
    {
     "name": "stdout",
     "output_type": "stream",
     "text": [
      "                   all         40         72      0.853      0.528      0.677      0.374      0.778      0.486      0.589      0.258\n"
     ]
    },
    {
     "name": "stderr",
     "output_type": "stream",
     "text": [
      "\n"
     ]
    },
    {
     "name": "stdout",
     "output_type": "stream",
     "text": [
      "\n",
      "      Epoch    GPU_mem   box_loss   seg_loss   cls_loss   dfl_loss  Instances       Size\n"
     ]
    },
    {
     "name": "stderr",
     "output_type": "stream",
     "text": [
      "    143/150      6.27G     0.6884      1.144     0.4972     0.8137          6       1056: 100%|██████████| 16/16 [00:03<00:00,  4.28it/s]\n",
      "                 Class     Images  Instances      Box(P          R      mAP50  mAP50-95)     Mask(P          R      mAP50  mAP50-95): 100%|██████████| 2/2 [00:00<00:00,  4.69it/s]"
     ]
    },
    {
     "name": "stdout",
     "output_type": "stream",
     "text": [
      "                   all         40         72      0.801      0.528       0.66      0.377      0.754        0.5      0.609      0.281\n"
     ]
    },
    {
     "name": "stderr",
     "output_type": "stream",
     "text": [
      "\n"
     ]
    },
    {
     "name": "stdout",
     "output_type": "stream",
     "text": [
      "\n",
      "      Epoch    GPU_mem   box_loss   seg_loss   cls_loss   dfl_loss  Instances       Size\n"
     ]
    },
    {
     "name": "stderr",
     "output_type": "stream",
     "text": [
      "    144/150      6.19G     0.6626      1.077     0.4824     0.8077          8       1056: 100%|██████████| 16/16 [00:03<00:00,  4.52it/s]\n",
      "                 Class     Images  Instances      Box(P          R      mAP50  mAP50-95)     Mask(P          R      mAP50  mAP50-95): 100%|██████████| 2/2 [00:00<00:00,  3.57it/s]"
     ]
    },
    {
     "name": "stdout",
     "output_type": "stream",
     "text": [
      "                   all         40         72      0.817      0.514      0.653      0.377      0.826      0.486       0.61      0.297\n"
     ]
    },
    {
     "name": "stderr",
     "output_type": "stream",
     "text": [
      "\n"
     ]
    },
    {
     "name": "stdout",
     "output_type": "stream",
     "text": [
      "\n",
      "      Epoch    GPU_mem   box_loss   seg_loss   cls_loss   dfl_loss  Instances       Size\n"
     ]
    },
    {
     "name": "stderr",
     "output_type": "stream",
     "text": [
      "    145/150      6.19G     0.6271      1.067     0.4611     0.8169          2       1056: 100%|██████████| 16/16 [00:03<00:00,  4.48it/s]\n",
      "                 Class     Images  Instances      Box(P          R      mAP50  mAP50-95)     Mask(P          R      mAP50  mAP50-95): 100%|██████████| 2/2 [00:00<00:00,  3.90it/s]"
     ]
    },
    {
     "name": "stdout",
     "output_type": "stream",
     "text": [
      "                   all         40         72        0.9      0.499      0.657      0.372      0.873      0.478      0.613      0.275\n"
     ]
    },
    {
     "name": "stderr",
     "output_type": "stream",
     "text": [
      "\n"
     ]
    },
    {
     "name": "stdout",
     "output_type": "stream",
     "text": [
      "\n",
      "      Epoch    GPU_mem   box_loss   seg_loss   cls_loss   dfl_loss  Instances       Size\n"
     ]
    },
    {
     "name": "stderr",
     "output_type": "stream",
     "text": [
      "    146/150      6.14G      0.647      1.014       0.48     0.8156          4       1056: 100%|██████████| 16/16 [00:03<00:00,  4.49it/s]\n",
      "                 Class     Images  Instances      Box(P          R      mAP50  mAP50-95)     Mask(P          R      mAP50  mAP50-95): 100%|██████████| 2/2 [00:00<00:00,  4.62it/s]"
     ]
    },
    {
     "name": "stdout",
     "output_type": "stream",
     "text": [
      "                   all         40         72      0.892        0.5      0.656      0.378      0.848      0.464      0.593      0.261\n"
     ]
    },
    {
     "name": "stderr",
     "output_type": "stream",
     "text": [
      "\n"
     ]
    },
    {
     "name": "stdout",
     "output_type": "stream",
     "text": [
      "\n",
      "      Epoch    GPU_mem   box_loss   seg_loss   cls_loss   dfl_loss  Instances       Size\n"
     ]
    },
    {
     "name": "stderr",
     "output_type": "stream",
     "text": [
      "    147/150      6.25G     0.6661     0.9683     0.4759     0.8038          4       1056: 100%|██████████| 16/16 [00:03<00:00,  4.43it/s]\n",
      "                 Class     Images  Instances      Box(P          R      mAP50  mAP50-95)     Mask(P          R      mAP50  mAP50-95): 100%|██████████| 2/2 [00:00<00:00,  4.83it/s]"
     ]
    },
    {
     "name": "stdout",
     "output_type": "stream",
     "text": [
      "                   all         40         72      0.838      0.514      0.658      0.376      0.826      0.472      0.596      0.268\n"
     ]
    },
    {
     "name": "stderr",
     "output_type": "stream",
     "text": [
      "\n"
     ]
    },
    {
     "name": "stdout",
     "output_type": "stream",
     "text": [
      "\n",
      "      Epoch    GPU_mem   box_loss   seg_loss   cls_loss   dfl_loss  Instances       Size\n"
     ]
    },
    {
     "name": "stderr",
     "output_type": "stream",
     "text": [
      "    148/150      6.31G      0.667      1.143     0.4801     0.8149          7       1056: 100%|██████████| 16/16 [00:03<00:00,  4.38it/s]\n",
      "                 Class     Images  Instances      Box(P          R      mAP50  mAP50-95)     Mask(P          R      mAP50  mAP50-95): 100%|██████████| 2/2 [00:00<00:00,  4.73it/s]"
     ]
    },
    {
     "name": "stdout",
     "output_type": "stream",
     "text": [
      "                   all         40         72      0.854      0.489      0.654      0.379      0.806        0.5      0.599       0.26\n"
     ]
    },
    {
     "name": "stderr",
     "output_type": "stream",
     "text": [
      "\n"
     ]
    },
    {
     "name": "stdout",
     "output_type": "stream",
     "text": [
      "\n",
      "      Epoch    GPU_mem   box_loss   seg_loss   cls_loss   dfl_loss  Instances       Size\n"
     ]
    },
    {
     "name": "stderr",
     "output_type": "stream",
     "text": [
      "    149/150      6.13G     0.6693      1.163     0.4952     0.7937          9       1056: 100%|██████████| 16/16 [00:03<00:00,  4.51it/s]\n",
      "                 Class     Images  Instances      Box(P          R      mAP50  mAP50-95)     Mask(P          R      mAP50  mAP50-95): 100%|██████████| 2/2 [00:00<00:00,  4.28it/s]"
     ]
    },
    {
     "name": "stdout",
     "output_type": "stream",
     "text": [
      "                   all         40         72      0.679      0.556      0.654      0.379      0.782        0.5      0.609      0.276\n"
     ]
    },
    {
     "name": "stderr",
     "output_type": "stream",
     "text": [
      "\n"
     ]
    },
    {
     "name": "stdout",
     "output_type": "stream",
     "text": [
      "\n",
      "      Epoch    GPU_mem   box_loss   seg_loss   cls_loss   dfl_loss  Instances       Size\n"
     ]
    },
    {
     "name": "stderr",
     "output_type": "stream",
     "text": [
      "    150/150      6.27G     0.6423      1.157     0.4587     0.8057          8       1056: 100%|██████████| 16/16 [00:03<00:00,  4.41it/s]\n",
      "                 Class     Images  Instances      Box(P          R      mAP50  mAP50-95)     Mask(P          R      mAP50  mAP50-95): 100%|██████████| 2/2 [00:00<00:00,  4.54it/s]"
     ]
    },
    {
     "name": "stdout",
     "output_type": "stream",
     "text": [
      "                   all         40         72      0.681      0.556      0.651      0.375      0.708      0.506      0.604      0.261\n"
     ]
    },
    {
     "name": "stderr",
     "output_type": "stream",
     "text": [
      "\n"
     ]
    },
    {
     "name": "stdout",
     "output_type": "stream",
     "text": [
      "\n",
      "150 epochs completed in 0.242 hours.\n",
      "Optimizer stripped from runs/segment/yolov11s_200_1056_b12_second/weights/last.pt, 6.1MB\n",
      "Optimizer stripped from runs/segment/yolov11s_200_1056_b12_second/weights/best.pt, 6.1MB\n",
      "\n",
      "Validating runs/segment/yolov11s_200_1056_b12_second/weights/best.pt...\n",
      "Ultralytics 8.3.61 🚀 Python-3.10.12 torch-2.0.1+cu118 CUDA:0 (Tesla V100-PCIE-32GB, 32501MiB)\n",
      "YOLO11n-seg summary (fused): 265 layers, 2,834,763 parameters, 0 gradients, 10.2 GFLOPs\n"
     ]
    },
    {
     "name": "stderr",
     "output_type": "stream",
     "text": [
      "                 Class     Images  Instances      Box(P          R      mAP50  mAP50-95)     Mask(P          R      mAP50  mAP50-95): 100%|██████████| 2/2 [00:00<00:00,  2.45it/s]\n"
     ]
    },
    {
     "name": "stdout",
     "output_type": "stream",
     "text": [
      "                   all         40         72      0.784      0.553      0.678      0.409        0.9      0.486      0.642      0.298\n",
      "Speed: 4.1ms preprocess, 2.2ms inference, 0.0ms loss, 1.0ms postprocess per image\n",
      "Results saved to \u001b[1mruns/segment/yolov11s_200_1056_b12_second\u001b[0m\n"
     ]
    },
    {
     "data": {
      "text/plain": [
       "ultralytics.utils.metrics.SegmentMetrics object with attributes:\n",
       "\n",
       "ap_class_index: array([0])\n",
       "box: ultralytics.utils.metrics.Metric object\n",
       "confusion_matrix: <ultralytics.utils.metrics.ConfusionMatrix object at 0x7f4d266176a0>\n",
       "curves: ['Precision-Recall(B)', 'F1-Confidence(B)', 'Precision-Confidence(B)', 'Recall-Confidence(B)', 'Precision-Recall(M)', 'F1-Confidence(M)', 'Precision-Confidence(M)', 'Recall-Confidence(M)']\n",
       "curves_results: [[array([          0,    0.001001,    0.002002,    0.003003,    0.004004,    0.005005,    0.006006,    0.007007,    0.008008,    0.009009,     0.01001,    0.011011,    0.012012,    0.013013,    0.014014,    0.015015,    0.016016,    0.017017,    0.018018,    0.019019,     0.02002,    0.021021,    0.022022,    0.023023,\n",
       "          0.024024,    0.025025,    0.026026,    0.027027,    0.028028,    0.029029,     0.03003,    0.031031,    0.032032,    0.033033,    0.034034,    0.035035,    0.036036,    0.037037,    0.038038,    0.039039,     0.04004,    0.041041,    0.042042,    0.043043,    0.044044,    0.045045,    0.046046,    0.047047,\n",
       "          0.048048,    0.049049,     0.05005,    0.051051,    0.052052,    0.053053,    0.054054,    0.055055,    0.056056,    0.057057,    0.058058,    0.059059,     0.06006,    0.061061,    0.062062,    0.063063,    0.064064,    0.065065,    0.066066,    0.067067,    0.068068,    0.069069,     0.07007,    0.071071,\n",
       "          0.072072,    0.073073,    0.074074,    0.075075,    0.076076,    0.077077,    0.078078,    0.079079,     0.08008,    0.081081,    0.082082,    0.083083,    0.084084,    0.085085,    0.086086,    0.087087,    0.088088,    0.089089,     0.09009,    0.091091,    0.092092,    0.093093,    0.094094,    0.095095,\n",
       "          0.096096,    0.097097,    0.098098,    0.099099,      0.1001,      0.1011,      0.1021,      0.1031,      0.1041,     0.10511,     0.10611,     0.10711,     0.10811,     0.10911,     0.11011,     0.11111,     0.11211,     0.11311,     0.11411,     0.11512,     0.11612,     0.11712,     0.11812,     0.11912,\n",
       "           0.12012,     0.12112,     0.12212,     0.12312,     0.12412,     0.12513,     0.12613,     0.12713,     0.12813,     0.12913,     0.13013,     0.13113,     0.13213,     0.13313,     0.13413,     0.13514,     0.13614,     0.13714,     0.13814,     0.13914,     0.14014,     0.14114,     0.14214,     0.14314,\n",
       "           0.14414,     0.14515,     0.14615,     0.14715,     0.14815,     0.14915,     0.15015,     0.15115,     0.15215,     0.15315,     0.15415,     0.15516,     0.15616,     0.15716,     0.15816,     0.15916,     0.16016,     0.16116,     0.16216,     0.16316,     0.16416,     0.16517,     0.16617,     0.16717,\n",
       "           0.16817,     0.16917,     0.17017,     0.17117,     0.17217,     0.17317,     0.17417,     0.17518,     0.17618,     0.17718,     0.17818,     0.17918,     0.18018,     0.18118,     0.18218,     0.18318,     0.18418,     0.18519,     0.18619,     0.18719,     0.18819,     0.18919,     0.19019,     0.19119,\n",
       "           0.19219,     0.19319,     0.19419,      0.1952,      0.1962,      0.1972,      0.1982,      0.1992,      0.2002,      0.2012,      0.2022,      0.2032,      0.2042,     0.20521,     0.20621,     0.20721,     0.20821,     0.20921,     0.21021,     0.21121,     0.21221,     0.21321,     0.21421,     0.21522,\n",
       "           0.21622,     0.21722,     0.21822,     0.21922,     0.22022,     0.22122,     0.22222,     0.22322,     0.22422,     0.22523,     0.22623,     0.22723,     0.22823,     0.22923,     0.23023,     0.23123,     0.23223,     0.23323,     0.23423,     0.23524,     0.23624,     0.23724,     0.23824,     0.23924,\n",
       "           0.24024,     0.24124,     0.24224,     0.24324,     0.24424,     0.24525,     0.24625,     0.24725,     0.24825,     0.24925,     0.25025,     0.25125,     0.25225,     0.25325,     0.25425,     0.25526,     0.25626,     0.25726,     0.25826,     0.25926,     0.26026,     0.26126,     0.26226,     0.26326,\n",
       "           0.26426,     0.26527,     0.26627,     0.26727,     0.26827,     0.26927,     0.27027,     0.27127,     0.27227,     0.27327,     0.27427,     0.27528,     0.27628,     0.27728,     0.27828,     0.27928,     0.28028,     0.28128,     0.28228,     0.28328,     0.28428,     0.28529,     0.28629,     0.28729,\n",
       "           0.28829,     0.28929,     0.29029,     0.29129,     0.29229,     0.29329,     0.29429,      0.2953,      0.2963,      0.2973,      0.2983,      0.2993,      0.3003,      0.3013,      0.3023,      0.3033,      0.3043,     0.30531,     0.30631,     0.30731,     0.30831,     0.30931,     0.31031,     0.31131,\n",
       "           0.31231,     0.31331,     0.31431,     0.31532,     0.31632,     0.31732,     0.31832,     0.31932,     0.32032,     0.32132,     0.32232,     0.32332,     0.32432,     0.32533,     0.32633,     0.32733,     0.32833,     0.32933,     0.33033,     0.33133,     0.33233,     0.33333,     0.33433,     0.33534,\n",
       "           0.33634,     0.33734,     0.33834,     0.33934,     0.34034,     0.34134,     0.34234,     0.34334,     0.34434,     0.34535,     0.34635,     0.34735,     0.34835,     0.34935,     0.35035,     0.35135,     0.35235,     0.35335,     0.35435,     0.35536,     0.35636,     0.35736,     0.35836,     0.35936,\n",
       "           0.36036,     0.36136,     0.36236,     0.36336,     0.36436,     0.36537,     0.36637,     0.36737,     0.36837,     0.36937,     0.37037,     0.37137,     0.37237,     0.37337,     0.37437,     0.37538,     0.37638,     0.37738,     0.37838,     0.37938,     0.38038,     0.38138,     0.38238,     0.38338,\n",
       "           0.38438,     0.38539,     0.38639,     0.38739,     0.38839,     0.38939,     0.39039,     0.39139,     0.39239,     0.39339,     0.39439,      0.3954,      0.3964,      0.3974,      0.3984,      0.3994,      0.4004,      0.4014,      0.4024,      0.4034,      0.4044,     0.40541,     0.40641,     0.40741,\n",
       "           0.40841,     0.40941,     0.41041,     0.41141,     0.41241,     0.41341,     0.41441,     0.41542,     0.41642,     0.41742,     0.41842,     0.41942,     0.42042,     0.42142,     0.42242,     0.42342,     0.42442,     0.42543,     0.42643,     0.42743,     0.42843,     0.42943,     0.43043,     0.43143,\n",
       "           0.43243,     0.43343,     0.43443,     0.43544,     0.43644,     0.43744,     0.43844,     0.43944,     0.44044,     0.44144,     0.44244,     0.44344,     0.44444,     0.44545,     0.44645,     0.44745,     0.44845,     0.44945,     0.45045,     0.45145,     0.45245,     0.45345,     0.45445,     0.45546,\n",
       "           0.45646,     0.45746,     0.45846,     0.45946,     0.46046,     0.46146,     0.46246,     0.46346,     0.46446,     0.46547,     0.46647,     0.46747,     0.46847,     0.46947,     0.47047,     0.47147,     0.47247,     0.47347,     0.47447,     0.47548,     0.47648,     0.47748,     0.47848,     0.47948,\n",
       "           0.48048,     0.48148,     0.48248,     0.48348,     0.48448,     0.48549,     0.48649,     0.48749,     0.48849,     0.48949,     0.49049,     0.49149,     0.49249,     0.49349,     0.49449,      0.4955,      0.4965,      0.4975,      0.4985,      0.4995,      0.5005,      0.5015,      0.5025,      0.5035,\n",
       "            0.5045,     0.50551,     0.50651,     0.50751,     0.50851,     0.50951,     0.51051,     0.51151,     0.51251,     0.51351,     0.51451,     0.51552,     0.51652,     0.51752,     0.51852,     0.51952,     0.52052,     0.52152,     0.52252,     0.52352,     0.52452,     0.52553,     0.52653,     0.52753,\n",
       "           0.52853,     0.52953,     0.53053,     0.53153,     0.53253,     0.53353,     0.53453,     0.53554,     0.53654,     0.53754,     0.53854,     0.53954,     0.54054,     0.54154,     0.54254,     0.54354,     0.54454,     0.54555,     0.54655,     0.54755,     0.54855,     0.54955,     0.55055,     0.55155,\n",
       "           0.55255,     0.55355,     0.55455,     0.55556,     0.55656,     0.55756,     0.55856,     0.55956,     0.56056,     0.56156,     0.56256,     0.56356,     0.56456,     0.56557,     0.56657,     0.56757,     0.56857,     0.56957,     0.57057,     0.57157,     0.57257,     0.57357,     0.57457,     0.57558,\n",
       "           0.57658,     0.57758,     0.57858,     0.57958,     0.58058,     0.58158,     0.58258,     0.58358,     0.58458,     0.58559,     0.58659,     0.58759,     0.58859,     0.58959,     0.59059,     0.59159,     0.59259,     0.59359,     0.59459,      0.5956,      0.5966,      0.5976,      0.5986,      0.5996,\n",
       "            0.6006,      0.6016,      0.6026,      0.6036,      0.6046,     0.60561,     0.60661,     0.60761,     0.60861,     0.60961,     0.61061,     0.61161,     0.61261,     0.61361,     0.61461,     0.61562,     0.61662,     0.61762,     0.61862,     0.61962,     0.62062,     0.62162,     0.62262,     0.62362,\n",
       "           0.62462,     0.62563,     0.62663,     0.62763,     0.62863,     0.62963,     0.63063,     0.63163,     0.63263,     0.63363,     0.63463,     0.63564,     0.63664,     0.63764,     0.63864,     0.63964,     0.64064,     0.64164,     0.64264,     0.64364,     0.64464,     0.64565,     0.64665,     0.64765,\n",
       "           0.64865,     0.64965,     0.65065,     0.65165,     0.65265,     0.65365,     0.65465,     0.65566,     0.65666,     0.65766,     0.65866,     0.65966,     0.66066,     0.66166,     0.66266,     0.66366,     0.66466,     0.66567,     0.66667,     0.66767,     0.66867,     0.66967,     0.67067,     0.67167,\n",
       "           0.67267,     0.67367,     0.67467,     0.67568,     0.67668,     0.67768,     0.67868,     0.67968,     0.68068,     0.68168,     0.68268,     0.68368,     0.68468,     0.68569,     0.68669,     0.68769,     0.68869,     0.68969,     0.69069,     0.69169,     0.69269,     0.69369,     0.69469,      0.6957,\n",
       "            0.6967,      0.6977,      0.6987,      0.6997,      0.7007,      0.7017,      0.7027,      0.7037,      0.7047,     0.70571,     0.70671,     0.70771,     0.70871,     0.70971,     0.71071,     0.71171,     0.71271,     0.71371,     0.71471,     0.71572,     0.71672,     0.71772,     0.71872,     0.71972,\n",
       "           0.72072,     0.72172,     0.72272,     0.72372,     0.72472,     0.72573,     0.72673,     0.72773,     0.72873,     0.72973,     0.73073,     0.73173,     0.73273,     0.73373,     0.73473,     0.73574,     0.73674,     0.73774,     0.73874,     0.73974,     0.74074,     0.74174,     0.74274,     0.74374,\n",
       "           0.74474,     0.74575,     0.74675,     0.74775,     0.74875,     0.74975,     0.75075,     0.75175,     0.75275,     0.75375,     0.75475,     0.75576,     0.75676,     0.75776,     0.75876,     0.75976,     0.76076,     0.76176,     0.76276,     0.76376,     0.76476,     0.76577,     0.76677,     0.76777,\n",
       "           0.76877,     0.76977,     0.77077,     0.77177,     0.77277,     0.77377,     0.77477,     0.77578,     0.77678,     0.77778,     0.77878,     0.77978,     0.78078,     0.78178,     0.78278,     0.78378,     0.78478,     0.78579,     0.78679,     0.78779,     0.78879,     0.78979,     0.79079,     0.79179,\n",
       "           0.79279,     0.79379,     0.79479,      0.7958,      0.7968,      0.7978,      0.7988,      0.7998,      0.8008,      0.8018,      0.8028,      0.8038,      0.8048,     0.80581,     0.80681,     0.80781,     0.80881,     0.80981,     0.81081,     0.81181,     0.81281,     0.81381,     0.81481,     0.81582,\n",
       "           0.81682,     0.81782,     0.81882,     0.81982,     0.82082,     0.82182,     0.82282,     0.82382,     0.82482,     0.82583,     0.82683,     0.82783,     0.82883,     0.82983,     0.83083,     0.83183,     0.83283,     0.83383,     0.83483,     0.83584,     0.83684,     0.83784,     0.83884,     0.83984,\n",
       "           0.84084,     0.84184,     0.84284,     0.84384,     0.84484,     0.84585,     0.84685,     0.84785,     0.84885,     0.84985,     0.85085,     0.85185,     0.85285,     0.85385,     0.85485,     0.85586,     0.85686,     0.85786,     0.85886,     0.85986,     0.86086,     0.86186,     0.86286,     0.86386,\n",
       "           0.86486,     0.86587,     0.86687,     0.86787,     0.86887,     0.86987,     0.87087,     0.87187,     0.87287,     0.87387,     0.87487,     0.87588,     0.87688,     0.87788,     0.87888,     0.87988,     0.88088,     0.88188,     0.88288,     0.88388,     0.88488,     0.88589,     0.88689,     0.88789,\n",
       "           0.88889,     0.88989,     0.89089,     0.89189,     0.89289,     0.89389,     0.89489,      0.8959,      0.8969,      0.8979,      0.8989,      0.8999,      0.9009,      0.9019,      0.9029,      0.9039,      0.9049,     0.90591,     0.90691,     0.90791,     0.90891,     0.90991,     0.91091,     0.91191,\n",
       "           0.91291,     0.91391,     0.91491,     0.91592,     0.91692,     0.91792,     0.91892,     0.91992,     0.92092,     0.92192,     0.92292,     0.92392,     0.92492,     0.92593,     0.92693,     0.92793,     0.92893,     0.92993,     0.93093,     0.93193,     0.93293,     0.93393,     0.93493,     0.93594,\n",
       "           0.93694,     0.93794,     0.93894,     0.93994,     0.94094,     0.94194,     0.94294,     0.94394,     0.94494,     0.94595,     0.94695,     0.94795,     0.94895,     0.94995,     0.95095,     0.95195,     0.95295,     0.95395,     0.95495,     0.95596,     0.95696,     0.95796,     0.95896,     0.95996,\n",
       "           0.96096,     0.96196,     0.96296,     0.96396,     0.96496,     0.96597,     0.96697,     0.96797,     0.96897,     0.96997,     0.97097,     0.97197,     0.97297,     0.97397,     0.97497,     0.97598,     0.97698,     0.97798,     0.97898,     0.97998,     0.98098,     0.98198,     0.98298,     0.98398,\n",
       "           0.98498,     0.98599,     0.98699,     0.98799,     0.98899,     0.98999,     0.99099,     0.99199,     0.99299,     0.99399,     0.99499,       0.996,       0.997,       0.998,       0.999,           1]), array([[          1,           1,           1,           1,           1,           1,           1,           1,           1,           1,           1,           1,           1,           1,           1,           1,           1,           1,           1,           1,           1,           1,           1,\n",
       "                  1,           1,           1,           1,           1,           1,           1,           1,           1,           1,           1,           1,           1,           1,           1,           1,           1,           1,           1,           1,           1,           1,           1,\n",
       "                  1,           1,           1,           1,           1,           1,           1,           1,           1,           1,           1,           1,           1,           1,           1,           1,           1,           1,           1,           1,           1,           1,           1,\n",
       "                  1,           1,           1,           1,           1,           1,           1,           1,           1,           1,           1,           1,           1,           1,           1,           1,           1,           1,           1,           1,           1,           1,           1,\n",
       "                  1,           1,           1,           1,           1,           1,           1,           1,           1,           1,           1,           1,           1,           1,           1,           1,           1,           1,           1,           1,           1,           1,           1,\n",
       "                  1,           1,           1,           1,           1,           1,           1,           1,           1,           1,           1,           1,           1,           1,           1,           1,           1,           1,           1,           1,           1,           1,           1,\n",
       "                  1,           1,           1,           1,           1,           1,           1,           1,           1,           1,           1,           1,           1,           1,           1,           1,           1,           1,           1,           1,           1,           1,           1,\n",
       "                  1,           1,           1,           1,           1,           1,           1,           1,           1,           1,           1,           1,           1,           1,           1,           1,           1,           1,           1,           1,           1,           1,           1,\n",
       "                  1,           1,           1,           1,           1,           1,           1,           1,           1,           1,           1,           1,           1,           1,           1,           1,           1,           1,           1,           1,           1,           1,           1,\n",
       "                  1,           1,           1,           1,           1,           1,           1,           1,           1,           1,           1,           1,           1,           1,           1,           1,           1,           1,           1,           1,           1,           1,           1,\n",
       "                  1,           1,           1,           1,           1,           1,     0.95833,     0.95833,     0.95833,     0.95833,     0.95833,     0.95833,     0.95833,     0.95833,     0.95833,     0.95833,     0.95833,     0.95833,     0.95833,     0.95833,     0.95833,     0.95833,     0.95833,\n",
       "            0.95833,     0.95833,     0.95833,     0.95833,     0.95833,     0.95833,     0.95833,     0.95833,     0.95833,     0.95833,     0.95833,     0.95833,     0.95833,     0.95833,     0.95833,     0.95833,     0.95833,     0.95833,     0.95833,     0.95833,     0.95833,     0.95833,     0.95833,\n",
       "            0.95833,     0.95833,     0.95833,     0.95833,     0.95833,     0.95833,     0.95833,     0.95833,     0.95833,     0.95833,     0.95833,     0.95833,     0.95833,     0.95833,     0.95833,     0.95833,     0.95833,     0.95833,     0.95833,     0.95833,     0.95833,     0.95833,     0.95833,\n",
       "            0.95833,     0.95833,     0.95833,     0.95833,     0.95833,     0.95833,     0.95833,     0.95833,     0.95833,     0.95833,     0.95833,     0.95833,     0.95833,     0.95833,     0.95833,     0.95833,     0.95833,     0.95833,     0.95833,     0.95833,     0.95833,     0.94737,     0.94737,\n",
       "            0.94737,     0.94737,     0.94737,     0.94737,     0.94737,     0.94737,     0.94737,     0.94737,     0.94737,     0.94737,     0.94737,     0.94737,     0.94737,     0.94737,     0.94737,     0.94737,     0.94737,     0.94737,     0.94737,     0.94737,     0.94737,     0.94737,     0.94737,\n",
       "            0.94737,     0.94737,     0.94737,     0.94737,     0.94737,     0.94737,     0.94737,     0.94737,     0.94737,     0.94737,     0.94737,     0.94737,     0.94737,     0.94737,     0.94737,     0.94737,     0.94737,     0.94737,     0.94737,     0.94737,     0.94737,     0.94737,     0.94737,\n",
       "            0.94737,     0.94737,     0.94737,     0.94737,     0.94737,     0.94737,     0.94737,     0.94737,     0.94737,     0.94737,     0.94737,     0.94737,     0.94737,     0.94737,     0.94737,     0.94737,     0.94737,     0.94737,     0.94737,     0.94737,     0.94737,     0.94737,     0.94737,\n",
       "            0.94737,     0.94737,     0.94737,     0.94737,     0.94737,     0.94737,     0.94737,     0.94737,     0.94737,     0.94737,     0.94737,     0.94737,     0.94737,     0.94737,     0.94737,     0.94737,     0.94737,     0.94737,     0.94737,     0.94737,     0.94737,     0.94737,     0.94737,\n",
       "            0.94737,     0.94737,     0.94737,     0.94737,     0.94737,     0.94737,     0.94737,     0.94737,     0.94737,     0.94737,     0.94737,     0.94737,     0.94737,     0.94737,     0.94737,     0.94737,     0.94737,     0.94737,     0.94737,     0.94737,     0.94737,     0.94737,     0.94737,\n",
       "            0.94737,     0.94737,     0.94737,     0.94737,     0.94737,     0.94737,     0.94737,     0.94737,     0.94737,     0.94737,     0.94737,     0.94737,     0.94737,     0.94737,     0.94737,     0.94737,     0.94737,     0.94737,     0.94737,     0.94737,     0.94737,     0.94737,     0.94737,\n",
       "            0.94737,     0.94737,     0.94737,     0.94737,     0.94737,     0.94737,     0.94737,     0.94737,     0.94737,     0.94737,     0.94737,     0.94737,     0.94737,     0.94737,     0.94737,     0.94737,     0.94737,     0.94737,     0.94737,     0.94737,     0.94737,     0.94737,     0.94737,\n",
       "            0.94737,     0.94737,     0.94737,     0.94737,     0.94737,     0.94737,     0.94737,     0.94737,     0.94737,     0.94737,     0.94737,     0.94737,     0.94737,     0.94737,     0.94737,     0.94737,     0.94737,     0.84783,     0.84783,     0.84783,     0.84783,     0.84783,     0.84783,\n",
       "            0.84783,     0.84783,     0.84783,     0.84783,     0.84783,     0.84783,     0.84783,     0.84783,     0.84783,     0.84783,     0.84783,     0.84783,     0.84783,     0.84783,     0.84783,     0.84783,     0.84783,     0.84783,     0.84783,     0.84783,     0.84783,     0.84783,     0.84783,\n",
       "            0.84783,     0.84783,     0.84783,     0.84783,     0.84783,     0.84783,     0.84783,     0.84783,     0.84783,     0.84783,     0.84783,     0.84783,     0.84783,     0.78431,     0.78431,     0.78431,     0.78431,     0.78431,     0.78431,     0.78431,     0.78431,     0.78431,     0.78431,\n",
       "            0.78431,     0.78431,     0.78431,     0.75926,     0.75926,     0.75926,     0.75926,     0.75926,     0.75926,     0.75926,     0.75926,     0.75926,     0.75926,     0.75926,     0.75926,     0.75926,     0.75926,        0.75,        0.75,        0.75,        0.75,        0.75,        0.75,\n",
       "               0.75,        0.75,        0.75,        0.75,        0.75,        0.75,        0.75,        0.75,     0.65152,     0.65152,     0.65152,     0.65152,     0.65152,     0.65152,     0.65152,     0.65152,     0.65152,     0.65152,     0.65152,     0.65152,     0.65152,     0.65152,     0.64706,\n",
       "            0.64706,     0.64706,     0.64706,     0.64706,     0.64706,     0.64706,     0.64706,     0.64706,     0.64706,     0.64706,     0.64706,     0.64706,     0.64706,     0.60811,     0.60811,     0.60811,     0.60811,     0.60811,     0.60811,     0.60811,     0.60811,     0.60811,     0.60811,\n",
       "            0.60811,     0.60811,     0.60811,     0.60811,     0.52273,     0.52273,     0.52273,     0.52273,     0.52273,     0.52273,     0.52273,     0.52273,     0.52273,     0.52273,     0.52273,     0.52273,     0.52273,     0.52273,     0.51546,     0.51546,     0.51546,     0.51546,     0.51546,\n",
       "            0.51546,     0.51546,     0.51546,     0.51546,     0.51546,     0.51546,     0.51546,     0.51546,     0.51546,     0.51546,     0.51546,     0.51546,     0.51546,     0.51546,     0.51546,     0.51546,     0.51546,     0.51546,     0.51546,     0.51546,     0.51546,     0.51546,     0.51546,\n",
       "            0.51546,     0.51546,     0.51546,     0.51546,     0.51546,     0.51546,     0.51546,     0.51546,     0.51546,     0.51546,     0.51546,     0.51546,     0.51546,     0.51546,     0.51546,     0.51546,     0.51546,     0.51546,     0.51546,     0.51546,     0.51546,     0.51546,     0.51546,\n",
       "            0.51546,     0.51546,     0.51546,     0.51546,      0.5098,      0.5098,      0.5098,      0.5098,      0.5098,      0.5098,      0.5098,      0.5098,      0.5098,      0.5098,      0.5098,      0.5098,      0.5098,      0.5098,      0.5098,      0.5098,      0.5098,      0.5098,      0.5098,\n",
       "             0.5098,      0.5098,      0.5098,      0.5098,      0.5098,      0.5098,      0.5098,      0.5098,      0.5098,     0.48624,     0.48624,     0.48624,     0.48624,     0.48624,     0.48624,     0.48624,     0.48624,     0.48624,     0.48624,     0.48624,     0.48624,     0.48624,     0.48624,\n",
       "            0.48214,     0.48214,     0.48214,     0.48214,     0.48214,     0.48214,     0.48214,     0.48214,     0.48214,     0.48214,     0.48214,     0.48214,     0.48214,     0.48214,     0.42636,     0.42636,     0.42636,     0.42636,     0.42636,     0.42636,     0.42636,     0.42636,     0.42636,\n",
       "            0.42636,     0.42636,     0.42636,     0.42636,     0.42636,        0.28,        0.28,        0.28,        0.28,        0.28,        0.28,        0.28,        0.28,        0.28,        0.28,        0.28,        0.28,        0.28,     0.27273,     0.27273,     0.27273,     0.27273,     0.27273,\n",
       "            0.27273,     0.27273,     0.27273,     0.27273,     0.27273,     0.27273,     0.27273,     0.27273,     0.27273,     0.24167,     0.24167,     0.24167,     0.24167,     0.24167,     0.24167,     0.24167,     0.24167,     0.24167,     0.24167,     0.24167,     0.24167,     0.24167,     0.24167,\n",
       "            0.17189,       0.171,     0.17011,     0.16923,     0.16834,     0.16746,     0.16657,     0.16568,      0.1648,     0.16391,     0.16303,     0.16214,     0.16125,     0.16037,     0.15948,      0.1586,     0.15771,     0.15682,     0.15594,     0.15505,     0.15417,     0.15328,     0.15239,\n",
       "            0.15151,     0.15062,     0.14974,     0.14885,     0.14796,     0.14708,     0.14619,     0.14531,     0.14442,     0.14353,     0.14265,     0.14176,     0.14088,     0.13999,      0.1391,     0.13822,     0.13733,     0.13645,     0.13556,     0.13467,     0.13379,      0.1329,     0.13202,\n",
       "            0.13113,     0.13024,     0.12936,     0.12847,     0.12758,      0.1267,     0.12581,     0.12493,     0.12404,     0.12315,     0.12227,     0.12138,      0.1205,     0.11961,     0.11872,     0.11784,     0.11695,     0.11607,     0.11518,     0.11429,     0.11341,     0.11252,     0.11164,\n",
       "            0.11075,     0.10986,     0.10898,     0.10809,     0.10721,     0.10632,     0.10543,     0.10455,     0.10366,     0.10278,     0.10189,       0.101,     0.10012,    0.099233,    0.098347,    0.097461,    0.096575,    0.095689,    0.094803,    0.093917,    0.093031,    0.092145,    0.091259,\n",
       "           0.090373,    0.089487,    0.088601,    0.087715,    0.086829,    0.085943,    0.085057,    0.084171,    0.083285,    0.082399,    0.081513,    0.080627,    0.079741,    0.078855,    0.077969,    0.077083,    0.076197,    0.075311,    0.074425,    0.073539,    0.072653,    0.071767,    0.070881,\n",
       "           0.069995,    0.069109,    0.068223,    0.067337,    0.066451,    0.065565,    0.064678,    0.063792,    0.062906,     0.06202,    0.061134,    0.060248,    0.059362,    0.058476,     0.05759,    0.056704,    0.055818,    0.054932,    0.054046,     0.05316,    0.052274,    0.051388,    0.050502,\n",
       "           0.049616,     0.04873,    0.047844,    0.046958,    0.046072,    0.045186,      0.0443,    0.043414,    0.042528,    0.041642,    0.040756,     0.03987,    0.038984,    0.038098,    0.037212,    0.036326,     0.03544,    0.034554,    0.033668,    0.032782,    0.031896,     0.03101,    0.030124,\n",
       "           0.029238,    0.028352,    0.027466,     0.02658,    0.025694,    0.024808,    0.023922,    0.023036,     0.02215,    0.021264,    0.020378,    0.019492,    0.018606,     0.01772,    0.016834,    0.015948,    0.015062,    0.014176,     0.01329,    0.012404,    0.011518,    0.010632,   0.0097461,\n",
       "          0.0088601,   0.0079741,   0.0070881,    0.006202,    0.005316,     0.00443,    0.003544,    0.002658,    0.001772,  0.00088601,           0]]), 'Recall', 'Precision'], [array([          0,    0.001001,    0.002002,    0.003003,    0.004004,    0.005005,    0.006006,    0.007007,    0.008008,    0.009009,     0.01001,    0.011011,    0.012012,    0.013013,    0.014014,    0.015015,    0.016016,    0.017017,    0.018018,    0.019019,     0.02002,    0.021021,    0.022022,    0.023023,\n",
       "          0.024024,    0.025025,    0.026026,    0.027027,    0.028028,    0.029029,     0.03003,    0.031031,    0.032032,    0.033033,    0.034034,    0.035035,    0.036036,    0.037037,    0.038038,    0.039039,     0.04004,    0.041041,    0.042042,    0.043043,    0.044044,    0.045045,    0.046046,    0.047047,\n",
       "          0.048048,    0.049049,     0.05005,    0.051051,    0.052052,    0.053053,    0.054054,    0.055055,    0.056056,    0.057057,    0.058058,    0.059059,     0.06006,    0.061061,    0.062062,    0.063063,    0.064064,    0.065065,    0.066066,    0.067067,    0.068068,    0.069069,     0.07007,    0.071071,\n",
       "          0.072072,    0.073073,    0.074074,    0.075075,    0.076076,    0.077077,    0.078078,    0.079079,     0.08008,    0.081081,    0.082082,    0.083083,    0.084084,    0.085085,    0.086086,    0.087087,    0.088088,    0.089089,     0.09009,    0.091091,    0.092092,    0.093093,    0.094094,    0.095095,\n",
       "          0.096096,    0.097097,    0.098098,    0.099099,      0.1001,      0.1011,      0.1021,      0.1031,      0.1041,     0.10511,     0.10611,     0.10711,     0.10811,     0.10911,     0.11011,     0.11111,     0.11211,     0.11311,     0.11411,     0.11512,     0.11612,     0.11712,     0.11812,     0.11912,\n",
       "           0.12012,     0.12112,     0.12212,     0.12312,     0.12412,     0.12513,     0.12613,     0.12713,     0.12813,     0.12913,     0.13013,     0.13113,     0.13213,     0.13313,     0.13413,     0.13514,     0.13614,     0.13714,     0.13814,     0.13914,     0.14014,     0.14114,     0.14214,     0.14314,\n",
       "           0.14414,     0.14515,     0.14615,     0.14715,     0.14815,     0.14915,     0.15015,     0.15115,     0.15215,     0.15315,     0.15415,     0.15516,     0.15616,     0.15716,     0.15816,     0.15916,     0.16016,     0.16116,     0.16216,     0.16316,     0.16416,     0.16517,     0.16617,     0.16717,\n",
       "           0.16817,     0.16917,     0.17017,     0.17117,     0.17217,     0.17317,     0.17417,     0.17518,     0.17618,     0.17718,     0.17818,     0.17918,     0.18018,     0.18118,     0.18218,     0.18318,     0.18418,     0.18519,     0.18619,     0.18719,     0.18819,     0.18919,     0.19019,     0.19119,\n",
       "           0.19219,     0.19319,     0.19419,      0.1952,      0.1962,      0.1972,      0.1982,      0.1992,      0.2002,      0.2012,      0.2022,      0.2032,      0.2042,     0.20521,     0.20621,     0.20721,     0.20821,     0.20921,     0.21021,     0.21121,     0.21221,     0.21321,     0.21421,     0.21522,\n",
       "           0.21622,     0.21722,     0.21822,     0.21922,     0.22022,     0.22122,     0.22222,     0.22322,     0.22422,     0.22523,     0.22623,     0.22723,     0.22823,     0.22923,     0.23023,     0.23123,     0.23223,     0.23323,     0.23423,     0.23524,     0.23624,     0.23724,     0.23824,     0.23924,\n",
       "           0.24024,     0.24124,     0.24224,     0.24324,     0.24424,     0.24525,     0.24625,     0.24725,     0.24825,     0.24925,     0.25025,     0.25125,     0.25225,     0.25325,     0.25425,     0.25526,     0.25626,     0.25726,     0.25826,     0.25926,     0.26026,     0.26126,     0.26226,     0.26326,\n",
       "           0.26426,     0.26527,     0.26627,     0.26727,     0.26827,     0.26927,     0.27027,     0.27127,     0.27227,     0.27327,     0.27427,     0.27528,     0.27628,     0.27728,     0.27828,     0.27928,     0.28028,     0.28128,     0.28228,     0.28328,     0.28428,     0.28529,     0.28629,     0.28729,\n",
       "           0.28829,     0.28929,     0.29029,     0.29129,     0.29229,     0.29329,     0.29429,      0.2953,      0.2963,      0.2973,      0.2983,      0.2993,      0.3003,      0.3013,      0.3023,      0.3033,      0.3043,     0.30531,     0.30631,     0.30731,     0.30831,     0.30931,     0.31031,     0.31131,\n",
       "           0.31231,     0.31331,     0.31431,     0.31532,     0.31632,     0.31732,     0.31832,     0.31932,     0.32032,     0.32132,     0.32232,     0.32332,     0.32432,     0.32533,     0.32633,     0.32733,     0.32833,     0.32933,     0.33033,     0.33133,     0.33233,     0.33333,     0.33433,     0.33534,\n",
       "           0.33634,     0.33734,     0.33834,     0.33934,     0.34034,     0.34134,     0.34234,     0.34334,     0.34434,     0.34535,     0.34635,     0.34735,     0.34835,     0.34935,     0.35035,     0.35135,     0.35235,     0.35335,     0.35435,     0.35536,     0.35636,     0.35736,     0.35836,     0.35936,\n",
       "           0.36036,     0.36136,     0.36236,     0.36336,     0.36436,     0.36537,     0.36637,     0.36737,     0.36837,     0.36937,     0.37037,     0.37137,     0.37237,     0.37337,     0.37437,     0.37538,     0.37638,     0.37738,     0.37838,     0.37938,     0.38038,     0.38138,     0.38238,     0.38338,\n",
       "           0.38438,     0.38539,     0.38639,     0.38739,     0.38839,     0.38939,     0.39039,     0.39139,     0.39239,     0.39339,     0.39439,      0.3954,      0.3964,      0.3974,      0.3984,      0.3994,      0.4004,      0.4014,      0.4024,      0.4034,      0.4044,     0.40541,     0.40641,     0.40741,\n",
       "           0.40841,     0.40941,     0.41041,     0.41141,     0.41241,     0.41341,     0.41441,     0.41542,     0.41642,     0.41742,     0.41842,     0.41942,     0.42042,     0.42142,     0.42242,     0.42342,     0.42442,     0.42543,     0.42643,     0.42743,     0.42843,     0.42943,     0.43043,     0.43143,\n",
       "           0.43243,     0.43343,     0.43443,     0.43544,     0.43644,     0.43744,     0.43844,     0.43944,     0.44044,     0.44144,     0.44244,     0.44344,     0.44444,     0.44545,     0.44645,     0.44745,     0.44845,     0.44945,     0.45045,     0.45145,     0.45245,     0.45345,     0.45445,     0.45546,\n",
       "           0.45646,     0.45746,     0.45846,     0.45946,     0.46046,     0.46146,     0.46246,     0.46346,     0.46446,     0.46547,     0.46647,     0.46747,     0.46847,     0.46947,     0.47047,     0.47147,     0.47247,     0.47347,     0.47447,     0.47548,     0.47648,     0.47748,     0.47848,     0.47948,\n",
       "           0.48048,     0.48148,     0.48248,     0.48348,     0.48448,     0.48549,     0.48649,     0.48749,     0.48849,     0.48949,     0.49049,     0.49149,     0.49249,     0.49349,     0.49449,      0.4955,      0.4965,      0.4975,      0.4985,      0.4995,      0.5005,      0.5015,      0.5025,      0.5035,\n",
       "            0.5045,     0.50551,     0.50651,     0.50751,     0.50851,     0.50951,     0.51051,     0.51151,     0.51251,     0.51351,     0.51451,     0.51552,     0.51652,     0.51752,     0.51852,     0.51952,     0.52052,     0.52152,     0.52252,     0.52352,     0.52452,     0.52553,     0.52653,     0.52753,\n",
       "           0.52853,     0.52953,     0.53053,     0.53153,     0.53253,     0.53353,     0.53453,     0.53554,     0.53654,     0.53754,     0.53854,     0.53954,     0.54054,     0.54154,     0.54254,     0.54354,     0.54454,     0.54555,     0.54655,     0.54755,     0.54855,     0.54955,     0.55055,     0.55155,\n",
       "           0.55255,     0.55355,     0.55455,     0.55556,     0.55656,     0.55756,     0.55856,     0.55956,     0.56056,     0.56156,     0.56256,     0.56356,     0.56456,     0.56557,     0.56657,     0.56757,     0.56857,     0.56957,     0.57057,     0.57157,     0.57257,     0.57357,     0.57457,     0.57558,\n",
       "           0.57658,     0.57758,     0.57858,     0.57958,     0.58058,     0.58158,     0.58258,     0.58358,     0.58458,     0.58559,     0.58659,     0.58759,     0.58859,     0.58959,     0.59059,     0.59159,     0.59259,     0.59359,     0.59459,      0.5956,      0.5966,      0.5976,      0.5986,      0.5996,\n",
       "            0.6006,      0.6016,      0.6026,      0.6036,      0.6046,     0.60561,     0.60661,     0.60761,     0.60861,     0.60961,     0.61061,     0.61161,     0.61261,     0.61361,     0.61461,     0.61562,     0.61662,     0.61762,     0.61862,     0.61962,     0.62062,     0.62162,     0.62262,     0.62362,\n",
       "           0.62462,     0.62563,     0.62663,     0.62763,     0.62863,     0.62963,     0.63063,     0.63163,     0.63263,     0.63363,     0.63463,     0.63564,     0.63664,     0.63764,     0.63864,     0.63964,     0.64064,     0.64164,     0.64264,     0.64364,     0.64464,     0.64565,     0.64665,     0.64765,\n",
       "           0.64865,     0.64965,     0.65065,     0.65165,     0.65265,     0.65365,     0.65465,     0.65566,     0.65666,     0.65766,     0.65866,     0.65966,     0.66066,     0.66166,     0.66266,     0.66366,     0.66466,     0.66567,     0.66667,     0.66767,     0.66867,     0.66967,     0.67067,     0.67167,\n",
       "           0.67267,     0.67367,     0.67467,     0.67568,     0.67668,     0.67768,     0.67868,     0.67968,     0.68068,     0.68168,     0.68268,     0.68368,     0.68468,     0.68569,     0.68669,     0.68769,     0.68869,     0.68969,     0.69069,     0.69169,     0.69269,     0.69369,     0.69469,      0.6957,\n",
       "            0.6967,      0.6977,      0.6987,      0.6997,      0.7007,      0.7017,      0.7027,      0.7037,      0.7047,     0.70571,     0.70671,     0.70771,     0.70871,     0.70971,     0.71071,     0.71171,     0.71271,     0.71371,     0.71471,     0.71572,     0.71672,     0.71772,     0.71872,     0.71972,\n",
       "           0.72072,     0.72172,     0.72272,     0.72372,     0.72472,     0.72573,     0.72673,     0.72773,     0.72873,     0.72973,     0.73073,     0.73173,     0.73273,     0.73373,     0.73473,     0.73574,     0.73674,     0.73774,     0.73874,     0.73974,     0.74074,     0.74174,     0.74274,     0.74374,\n",
       "           0.74474,     0.74575,     0.74675,     0.74775,     0.74875,     0.74975,     0.75075,     0.75175,     0.75275,     0.75375,     0.75475,     0.75576,     0.75676,     0.75776,     0.75876,     0.75976,     0.76076,     0.76176,     0.76276,     0.76376,     0.76476,     0.76577,     0.76677,     0.76777,\n",
       "           0.76877,     0.76977,     0.77077,     0.77177,     0.77277,     0.77377,     0.77477,     0.77578,     0.77678,     0.77778,     0.77878,     0.77978,     0.78078,     0.78178,     0.78278,     0.78378,     0.78478,     0.78579,     0.78679,     0.78779,     0.78879,     0.78979,     0.79079,     0.79179,\n",
       "           0.79279,     0.79379,     0.79479,      0.7958,      0.7968,      0.7978,      0.7988,      0.7998,      0.8008,      0.8018,      0.8028,      0.8038,      0.8048,     0.80581,     0.80681,     0.80781,     0.80881,     0.80981,     0.81081,     0.81181,     0.81281,     0.81381,     0.81481,     0.81582,\n",
       "           0.81682,     0.81782,     0.81882,     0.81982,     0.82082,     0.82182,     0.82282,     0.82382,     0.82482,     0.82583,     0.82683,     0.82783,     0.82883,     0.82983,     0.83083,     0.83183,     0.83283,     0.83383,     0.83483,     0.83584,     0.83684,     0.83784,     0.83884,     0.83984,\n",
       "           0.84084,     0.84184,     0.84284,     0.84384,     0.84484,     0.84585,     0.84685,     0.84785,     0.84885,     0.84985,     0.85085,     0.85185,     0.85285,     0.85385,     0.85485,     0.85586,     0.85686,     0.85786,     0.85886,     0.85986,     0.86086,     0.86186,     0.86286,     0.86386,\n",
       "           0.86486,     0.86587,     0.86687,     0.86787,     0.86887,     0.86987,     0.87087,     0.87187,     0.87287,     0.87387,     0.87487,     0.87588,     0.87688,     0.87788,     0.87888,     0.87988,     0.88088,     0.88188,     0.88288,     0.88388,     0.88488,     0.88589,     0.88689,     0.88789,\n",
       "           0.88889,     0.88989,     0.89089,     0.89189,     0.89289,     0.89389,     0.89489,      0.8959,      0.8969,      0.8979,      0.8989,      0.8999,      0.9009,      0.9019,      0.9029,      0.9039,      0.9049,     0.90591,     0.90691,     0.90791,     0.90891,     0.90991,     0.91091,     0.91191,\n",
       "           0.91291,     0.91391,     0.91491,     0.91592,     0.91692,     0.91792,     0.91892,     0.91992,     0.92092,     0.92192,     0.92292,     0.92392,     0.92492,     0.92593,     0.92693,     0.92793,     0.92893,     0.92993,     0.93093,     0.93193,     0.93293,     0.93393,     0.93493,     0.93594,\n",
       "           0.93694,     0.93794,     0.93894,     0.93994,     0.94094,     0.94194,     0.94294,     0.94394,     0.94494,     0.94595,     0.94695,     0.94795,     0.94895,     0.94995,     0.95095,     0.95195,     0.95295,     0.95395,     0.95495,     0.95596,     0.95696,     0.95796,     0.95896,     0.95996,\n",
       "           0.96096,     0.96196,     0.96296,     0.96396,     0.96496,     0.96597,     0.96697,     0.96797,     0.96897,     0.96997,     0.97097,     0.97197,     0.97297,     0.97397,     0.97497,     0.97598,     0.97698,     0.97798,     0.97898,     0.97998,     0.98098,     0.98198,     0.98298,     0.98398,\n",
       "           0.98498,     0.98599,     0.98699,     0.98799,     0.98899,     0.98999,     0.99099,     0.99199,     0.99299,     0.99399,     0.99499,       0.996,       0.997,       0.998,       0.999,           1]), array([[    0.28362,     0.28362,     0.33506,     0.36863,     0.37944,      0.3897,     0.39802,     0.40282,     0.40872,     0.41457,     0.41722,     0.42098,     0.43281,     0.44196,     0.44878,     0.45615,     0.46064,     0.46177,     0.46546,     0.46878,      0.4763,     0.47727,     0.47825,\n",
       "            0.48048,     0.48468,     0.48615,     0.48928,     0.49051,     0.49177,     0.49305,      0.4949,     0.49939,      0.5027,     0.50339,     0.50409,     0.50491,     0.50606,     0.50703,     0.50749,     0.50794,      0.5084,     0.50886,      0.5118,      0.5133,     0.51478,     0.51621,\n",
       "            0.52385,     0.52526,     0.52665,     0.52792,     0.52981,     0.53463,     0.53605,     0.53707,     0.53785,     0.53863,     0.53948,     0.54058,     0.54169,     0.54636,     0.54495,     0.54134,     0.54287,     0.54379,     0.54471,      0.5465,     0.54911,     0.55039,     0.55398,\n",
       "            0.55449,       0.555,     0.55551,     0.55601,     0.55652,     0.55708,     0.55767,     0.55825,     0.55883,     0.55942,     0.56039,     0.56153,     0.56322,     0.56557,      0.5658,     0.56602,     0.56625,     0.56648,      0.5667,     0.56693,     0.56716,     0.56739,     0.56761,\n",
       "            0.56784,     0.56807,     0.56829,     0.57035,     0.57162,     0.57187,     0.57212,     0.57238,     0.57263,     0.57288,     0.57313,     0.57338,     0.57364,     0.57389,     0.57414,     0.57439,     0.57489,     0.57551,     0.57612,     0.57673,     0.57735,     0.58089,     0.58267,\n",
       "            0.58452,     0.58652,     0.58583,     0.58439,     0.58295,     0.58151,     0.58007,     0.57969,     0.58078,     0.58187,     0.58314,     0.58461,     0.58428,     0.57967,     0.57801,     0.57842,     0.57882,     0.57922,     0.57962,     0.58002,     0.58042,     0.58082,     0.58282,\n",
       "            0.58529,     0.58709,     0.59009,     0.59462,     0.59584,     0.59705,     0.58994,     0.58895,     0.58829,     0.58763,     0.58698,     0.58632,     0.58566,       0.585,     0.58434,     0.58368,     0.58302,     0.58236,      0.5817,     0.58163,     0.58206,     0.58249,     0.58292,\n",
       "            0.58335,     0.58377,      0.5842,     0.58463,     0.58523,     0.58594,     0.58664,     0.58735,     0.58805,     0.58783,     0.57429,     0.57059,     0.56688,     0.56673,     0.56728,     0.56783,     0.56838,     0.56893,     0.56948,     0.57046,      0.5717,     0.57294,      0.5693,\n",
       "            0.56451,     0.56506,     0.56571,     0.56636,       0.567,     0.56765,     0.56804,     0.56826,     0.56848,      0.5687,     0.56892,     0.56914,     0.56937,     0.56959,     0.56981,     0.57003,     0.57025,     0.57047,     0.57069,     0.57091,     0.57113,     0.57135,     0.57187,\n",
       "            0.57255,     0.57323,     0.57391,     0.57459,     0.57409,      0.5718,      0.5695,      0.5672,     0.56633,     0.56694,     0.56754,     0.56814,     0.56873,     0.56933,     0.56979,     0.57013,     0.57047,      0.5708,     0.57114,     0.57147,      0.5718,     0.57214,     0.57247,\n",
       "             0.5728,     0.57314,     0.57436,     0.57604,     0.58197,     0.58459,     0.58596,     0.58732,     0.58853,     0.58944,     0.59035,     0.59125,      0.5922,       0.594,     0.59578,      0.5963,     0.59662,     0.59694,     0.59726,     0.59758,      0.5979,     0.59822,     0.59854,\n",
       "            0.59886,     0.59918,      0.5995,     0.59982,     0.60116,     0.60391,     0.60487,     0.60576,     0.60664,     0.60752,     0.60817,     0.60836,     0.60855,     0.60874,     0.60894,     0.60913,     0.60932,     0.60951,      0.6097,     0.60989,     0.61008,     0.61027,     0.61046,\n",
       "            0.61065,     0.61084,     0.61103,     0.61122,     0.61141,      0.6116,     0.61179,     0.61198,     0.61217,     0.61243,     0.61272,     0.61301,      0.6133,      0.6136,     0.61389,     0.61418,     0.61447,     0.61476,     0.61505,     0.61534,     0.61563,     0.61592,     0.61621,\n",
       "            0.61611,     0.61467,     0.61322,     0.61177,     0.61032,     0.60887,     0.60742,     0.60755,     0.60857,     0.60959,      0.6106,     0.61173,     0.61299,     0.61424,     0.61544,     0.61619,     0.61693,     0.61767,     0.61841,     0.61915,     0.61982,     0.62025,     0.62068,\n",
       "            0.62111,     0.62154,     0.62197,      0.6224,     0.62283,     0.62325,     0.62368,     0.62411,     0.62669,     0.62847,      0.6281,     0.62773,     0.62736,     0.62699,     0.62662,     0.62625,     0.62588,     0.62551,     0.62514,     0.62477,     0.62439,     0.62402,     0.62365,\n",
       "            0.62328,     0.62291,     0.62254,     0.62217,      0.6218,     0.62142,     0.62105,     0.62068,     0.62031,     0.61994,     0.61956,     0.61919,     0.61882,     0.61894,     0.61927,     0.61961,     0.61995,     0.62028,     0.62062,     0.62095,     0.62128,     0.62162,     0.62195,\n",
       "            0.62228,     0.62262,     0.62295,     0.62308,     0.62267,     0.62227,     0.62187,     0.62147,     0.62106,     0.62066,     0.62026,     0.61985,     0.61945,     0.61905,     0.61864,     0.61824,     0.61783,     0.61743,     0.61703,     0.61662,     0.61622,     0.61581,     0.61541,\n",
       "              0.615,      0.6146,     0.61419,     0.61379,     0.61338,     0.61325,     0.61353,     0.61382,      0.6141,     0.61438,     0.61466,     0.61494,     0.61522,      0.6155,     0.61578,     0.61606,     0.61634,     0.61662,      0.6169,     0.61718,     0.61745,     0.61803,     0.61929,\n",
       "            0.62054,     0.62178,      0.6253,     0.62849,      0.6309,     0.63667,      0.6371,     0.63752,     0.63795,     0.63837,      0.6388,     0.63922,     0.63964,     0.64007,     0.64049,     0.64091,     0.64252,     0.64629,     0.64677,     0.64725,     0.64773,     0.64821,     0.64869,\n",
       "            0.64916,     0.64964,     0.65012,     0.65059,     0.65106,     0.65136,     0.65162,     0.65187,     0.65212,     0.65238,     0.65263,     0.65288,     0.65313,     0.65338,     0.65364,     0.65389,     0.65414,     0.65439,     0.65464,     0.65489,     0.65514,     0.65539,     0.65564,\n",
       "            0.65589,     0.65614,      0.6559,     0.65527,     0.65463,       0.654,     0.65336,     0.65272,     0.65209,     0.65145,     0.65081,     0.65017,     0.64953,     0.64889,     0.64825,     0.64761,     0.64697,     0.64633,     0.64569,     0.64821,     0.65078,      0.6494,     0.64802,\n",
       "            0.64664,     0.64526,     0.64388,     0.64249,      0.6411,     0.64037,     0.64214,      0.6439,     0.64668,     0.65014,     0.64927,     0.64841,     0.64754,     0.64667,     0.64579,     0.64492,     0.64405,     0.64318,      0.6423,     0.64143,     0.64055,     0.63968,     0.64048,\n",
       "            0.64229,     0.64408,     0.64511,     0.64581,      0.6465,     0.64719,     0.64788,     0.64856,     0.64924,     0.64993,     0.66054,     0.66071,     0.66038,     0.66005,     0.65971,     0.65938,     0.65905,     0.65871,     0.65838,     0.65804,     0.65771,     0.65737,     0.65704,\n",
       "            0.65671,     0.65637,     0.65604,      0.6557,     0.65537,     0.65503,      0.6547,     0.65436,     0.65402,     0.65369,     0.65335,     0.65302,     0.65268,     0.65234,     0.65201,     0.65167,     0.65134,       0.651,     0.65066,     0.65032,     0.64999,     0.64965,      0.6404,\n",
       "            0.63646,      0.6346,     0.63273,     0.63086,     0.62899,     0.62712,     0.62652,     0.62747,     0.62841,     0.62935,     0.63028,     0.63121,     0.63197,     0.63261,     0.63325,     0.63389,     0.63453,     0.63516,      0.6358,     0.63643,     0.63705,     0.63768,      0.6383,\n",
       "            0.63892,     0.63953,     0.64015,     0.64076,     0.64137,     0.64198,     0.64259,     0.64295,     0.64313,     0.64331,     0.64349,     0.64366,     0.64384,     0.64402,     0.64419,     0.64437,     0.64454,     0.64472,      0.6449,     0.64507,     0.64525,     0.64542,      0.6456,\n",
       "            0.64577,     0.64595,     0.64612,     0.64629,     0.64647,     0.64664,     0.64682,     0.64699,     0.64716,     0.64734,     0.64751,     0.64768,     0.64785,     0.64803,      0.6482,     0.64837,     0.64854,     0.64886,     0.64942,     0.64997,     0.65053,     0.65108,     0.65163,\n",
       "            0.65218,     0.65273,     0.65327,     0.65381,     0.65436,     0.65431,     0.65394,     0.65357,      0.6532,     0.65283,     0.65246,     0.65209,     0.65172,     0.65135,     0.65098,     0.65061,     0.65023,     0.64986,     0.64949,     0.64912,     0.64875,     0.64838,       0.648,\n",
       "            0.64763,     0.64726,     0.64689,     0.64651,     0.64614,     0.64577,     0.64539,     0.64502,     0.64464,     0.64427,      0.6439,     0.64352,     0.64315,     0.64277,      0.6424,     0.64171,     0.64069,     0.63966,     0.63864,     0.63761,     0.63658,     0.63555,     0.63452,\n",
       "            0.63348,     0.63245,     0.63141,     0.63037,     0.62896,     0.62658,      0.6242,     0.62182,     0.61942,     0.61702,     0.60865,     0.60356,      0.6031,     0.60263,     0.60216,     0.60169,     0.60123,     0.60076,     0.60029,     0.59982,     0.59936,     0.59889,     0.59842,\n",
       "            0.59795,     0.59748,     0.59701,     0.59654,     0.59607,      0.5956,     0.59513,     0.59465,     0.59418,     0.59371,     0.59324,     0.59277,     0.59229,     0.59182,     0.59135,     0.59087,     0.58897,     0.57972,     0.57607,     0.57484,     0.57362,     0.57239,     0.57116,\n",
       "            0.56993,      0.5687,     0.56747,     0.56623,     0.56499,     0.56375,     0.56258,     0.56147,     0.56037,     0.55927,     0.55816,     0.55705,     0.55594,     0.55483,     0.55371,      0.5526,     0.55148,     0.55037,     0.54925,     0.54791,     0.54652,     0.54512,     0.54372,\n",
       "            0.54232,     0.54092,     0.53951,     0.53811,      0.5367,     0.53528,     0.53229,     0.52801,     0.52372,     0.51976,     0.51807,     0.51638,     0.51468,     0.51298,     0.51128,     0.50957,     0.50786,     0.50615,     0.50132,     0.49088,     0.47507,     0.47601,     0.47693,\n",
       "            0.47784,     0.47875,     0.47725,     0.47362,     0.46998,     0.46632,     0.46307,     0.46247,     0.46187,     0.46126,     0.46066,     0.46005,     0.45944,     0.45884,     0.45823,     0.45762,     0.45702,     0.45641,      0.4558,     0.45519,     0.45458,     0.45397,     0.45336,\n",
       "            0.45275,     0.45214,     0.45153,     0.45091,      0.4503,     0.44969,     0.44908,     0.44846,     0.44785,     0.44723,      0.4463,     0.44469,     0.44307,     0.44145,     0.43982,     0.43819,     0.43656,     0.43492,     0.43328,     0.43164,     0.42963,     0.42268,     0.41566,\n",
       "            0.41173,     0.40964,     0.40755,     0.40545,     0.40335,     0.40124,     0.39913,     0.39701,     0.37839,     0.38015,     0.38185,     0.36511,     0.34311,     0.34125,     0.33938,     0.33751,     0.33563,     0.33375,     0.33187,     0.32998,     0.32809,     0.32619,     0.32257,\n",
       "             0.3181,     0.31362,     0.30911,     0.30352,     0.29529,     0.28697,     0.28435,     0.28273,     0.28112,      0.2795,     0.27787,     0.27625,     0.27462,     0.27299,     0.27135,     0.26972,     0.26808,     0.26643,     0.26434,     0.26004,     0.25572,     0.25138,     0.24702,\n",
       "            0.24178,     0.23442,     0.22699,     0.22168,     0.22018,     0.21867,     0.21717,     0.21566,     0.21414,     0.21263,     0.21111,     0.20959,     0.20807,     0.20654,     0.20502,     0.20349,     0.20195,     0.20042,     0.19741,     0.19385,     0.19027,     0.18667,     0.18306,\n",
       "            0.17944,     0.17109,     0.15508,     0.15272,     0.15151,     0.15029,     0.14907,     0.14785,     0.14663,     0.14541,     0.14418,     0.14296,     0.14173,      0.1405,     0.13927,     0.13803,      0.1368,     0.13556,     0.13433,     0.13309,     0.13184,      0.1306,     0.12866,\n",
       "            0.12573,     0.12278,     0.11982,     0.11686,     0.11388,      0.1109,     0.10791,     0.10483,     0.10117,    0.097493,    0.093806,    0.090103,    0.086387,    0.082656,    0.079523,    0.077881,    0.076236,    0.074588,    0.072937,    0.071284,    0.069628,    0.067968,    0.066306,\n",
       "           0.064641,    0.062973,    0.061303,    0.059629,    0.057953,    0.056273,    0.054591,    0.052941,    0.051304,    0.049664,    0.048022,    0.046377,    0.044729,    0.043078,    0.041425,    0.039768,    0.038109,    0.036447,    0.034783,    0.033115,    0.031445,    0.029771,    0.028095,\n",
       "                  0,           0,           0,           0,           0,           0,           0,           0,           0,           0,           0,           0,           0,           0,           0,           0,           0,           0,           0,           0,           0,           0,           0,\n",
       "                  0,           0,           0,           0,           0,           0,           0,           0,           0,           0,           0,           0,           0,           0,           0,           0,           0,           0,           0,           0,           0,           0,           0,\n",
       "                  0,           0,           0,           0,           0,           0,           0,           0,           0,           0,           0]]), 'Confidence', 'F1'], [array([          0,    0.001001,    0.002002,    0.003003,    0.004004,    0.005005,    0.006006,    0.007007,    0.008008,    0.009009,     0.01001,    0.011011,    0.012012,    0.013013,    0.014014,    0.015015,    0.016016,    0.017017,    0.018018,    0.019019,     0.02002,    0.021021,    0.022022,    0.023023,\n",
       "          0.024024,    0.025025,    0.026026,    0.027027,    0.028028,    0.029029,     0.03003,    0.031031,    0.032032,    0.033033,    0.034034,    0.035035,    0.036036,    0.037037,    0.038038,    0.039039,     0.04004,    0.041041,    0.042042,    0.043043,    0.044044,    0.045045,    0.046046,    0.047047,\n",
       "          0.048048,    0.049049,     0.05005,    0.051051,    0.052052,    0.053053,    0.054054,    0.055055,    0.056056,    0.057057,    0.058058,    0.059059,     0.06006,    0.061061,    0.062062,    0.063063,    0.064064,    0.065065,    0.066066,    0.067067,    0.068068,    0.069069,     0.07007,    0.071071,\n",
       "          0.072072,    0.073073,    0.074074,    0.075075,    0.076076,    0.077077,    0.078078,    0.079079,     0.08008,    0.081081,    0.082082,    0.083083,    0.084084,    0.085085,    0.086086,    0.087087,    0.088088,    0.089089,     0.09009,    0.091091,    0.092092,    0.093093,    0.094094,    0.095095,\n",
       "          0.096096,    0.097097,    0.098098,    0.099099,      0.1001,      0.1011,      0.1021,      0.1031,      0.1041,     0.10511,     0.10611,     0.10711,     0.10811,     0.10911,     0.11011,     0.11111,     0.11211,     0.11311,     0.11411,     0.11512,     0.11612,     0.11712,     0.11812,     0.11912,\n",
       "           0.12012,     0.12112,     0.12212,     0.12312,     0.12412,     0.12513,     0.12613,     0.12713,     0.12813,     0.12913,     0.13013,     0.13113,     0.13213,     0.13313,     0.13413,     0.13514,     0.13614,     0.13714,     0.13814,     0.13914,     0.14014,     0.14114,     0.14214,     0.14314,\n",
       "           0.14414,     0.14515,     0.14615,     0.14715,     0.14815,     0.14915,     0.15015,     0.15115,     0.15215,     0.15315,     0.15415,     0.15516,     0.15616,     0.15716,     0.15816,     0.15916,     0.16016,     0.16116,     0.16216,     0.16316,     0.16416,     0.16517,     0.16617,     0.16717,\n",
       "           0.16817,     0.16917,     0.17017,     0.17117,     0.17217,     0.17317,     0.17417,     0.17518,     0.17618,     0.17718,     0.17818,     0.17918,     0.18018,     0.18118,     0.18218,     0.18318,     0.18418,     0.18519,     0.18619,     0.18719,     0.18819,     0.18919,     0.19019,     0.19119,\n",
       "           0.19219,     0.19319,     0.19419,      0.1952,      0.1962,      0.1972,      0.1982,      0.1992,      0.2002,      0.2012,      0.2022,      0.2032,      0.2042,     0.20521,     0.20621,     0.20721,     0.20821,     0.20921,     0.21021,     0.21121,     0.21221,     0.21321,     0.21421,     0.21522,\n",
       "           0.21622,     0.21722,     0.21822,     0.21922,     0.22022,     0.22122,     0.22222,     0.22322,     0.22422,     0.22523,     0.22623,     0.22723,     0.22823,     0.22923,     0.23023,     0.23123,     0.23223,     0.23323,     0.23423,     0.23524,     0.23624,     0.23724,     0.23824,     0.23924,\n",
       "           0.24024,     0.24124,     0.24224,     0.24324,     0.24424,     0.24525,     0.24625,     0.24725,     0.24825,     0.24925,     0.25025,     0.25125,     0.25225,     0.25325,     0.25425,     0.25526,     0.25626,     0.25726,     0.25826,     0.25926,     0.26026,     0.26126,     0.26226,     0.26326,\n",
       "           0.26426,     0.26527,     0.26627,     0.26727,     0.26827,     0.26927,     0.27027,     0.27127,     0.27227,     0.27327,     0.27427,     0.27528,     0.27628,     0.27728,     0.27828,     0.27928,     0.28028,     0.28128,     0.28228,     0.28328,     0.28428,     0.28529,     0.28629,     0.28729,\n",
       "           0.28829,     0.28929,     0.29029,     0.29129,     0.29229,     0.29329,     0.29429,      0.2953,      0.2963,      0.2973,      0.2983,      0.2993,      0.3003,      0.3013,      0.3023,      0.3033,      0.3043,     0.30531,     0.30631,     0.30731,     0.30831,     0.30931,     0.31031,     0.31131,\n",
       "           0.31231,     0.31331,     0.31431,     0.31532,     0.31632,     0.31732,     0.31832,     0.31932,     0.32032,     0.32132,     0.32232,     0.32332,     0.32432,     0.32533,     0.32633,     0.32733,     0.32833,     0.32933,     0.33033,     0.33133,     0.33233,     0.33333,     0.33433,     0.33534,\n",
       "           0.33634,     0.33734,     0.33834,     0.33934,     0.34034,     0.34134,     0.34234,     0.34334,     0.34434,     0.34535,     0.34635,     0.34735,     0.34835,     0.34935,     0.35035,     0.35135,     0.35235,     0.35335,     0.35435,     0.35536,     0.35636,     0.35736,     0.35836,     0.35936,\n",
       "           0.36036,     0.36136,     0.36236,     0.36336,     0.36436,     0.36537,     0.36637,     0.36737,     0.36837,     0.36937,     0.37037,     0.37137,     0.37237,     0.37337,     0.37437,     0.37538,     0.37638,     0.37738,     0.37838,     0.37938,     0.38038,     0.38138,     0.38238,     0.38338,\n",
       "           0.38438,     0.38539,     0.38639,     0.38739,     0.38839,     0.38939,     0.39039,     0.39139,     0.39239,     0.39339,     0.39439,      0.3954,      0.3964,      0.3974,      0.3984,      0.3994,      0.4004,      0.4014,      0.4024,      0.4034,      0.4044,     0.40541,     0.40641,     0.40741,\n",
       "           0.40841,     0.40941,     0.41041,     0.41141,     0.41241,     0.41341,     0.41441,     0.41542,     0.41642,     0.41742,     0.41842,     0.41942,     0.42042,     0.42142,     0.42242,     0.42342,     0.42442,     0.42543,     0.42643,     0.42743,     0.42843,     0.42943,     0.43043,     0.43143,\n",
       "           0.43243,     0.43343,     0.43443,     0.43544,     0.43644,     0.43744,     0.43844,     0.43944,     0.44044,     0.44144,     0.44244,     0.44344,     0.44444,     0.44545,     0.44645,     0.44745,     0.44845,     0.44945,     0.45045,     0.45145,     0.45245,     0.45345,     0.45445,     0.45546,\n",
       "           0.45646,     0.45746,     0.45846,     0.45946,     0.46046,     0.46146,     0.46246,     0.46346,     0.46446,     0.46547,     0.46647,     0.46747,     0.46847,     0.46947,     0.47047,     0.47147,     0.47247,     0.47347,     0.47447,     0.47548,     0.47648,     0.47748,     0.47848,     0.47948,\n",
       "           0.48048,     0.48148,     0.48248,     0.48348,     0.48448,     0.48549,     0.48649,     0.48749,     0.48849,     0.48949,     0.49049,     0.49149,     0.49249,     0.49349,     0.49449,      0.4955,      0.4965,      0.4975,      0.4985,      0.4995,      0.5005,      0.5015,      0.5025,      0.5035,\n",
       "            0.5045,     0.50551,     0.50651,     0.50751,     0.50851,     0.50951,     0.51051,     0.51151,     0.51251,     0.51351,     0.51451,     0.51552,     0.51652,     0.51752,     0.51852,     0.51952,     0.52052,     0.52152,     0.52252,     0.52352,     0.52452,     0.52553,     0.52653,     0.52753,\n",
       "           0.52853,     0.52953,     0.53053,     0.53153,     0.53253,     0.53353,     0.53453,     0.53554,     0.53654,     0.53754,     0.53854,     0.53954,     0.54054,     0.54154,     0.54254,     0.54354,     0.54454,     0.54555,     0.54655,     0.54755,     0.54855,     0.54955,     0.55055,     0.55155,\n",
       "           0.55255,     0.55355,     0.55455,     0.55556,     0.55656,     0.55756,     0.55856,     0.55956,     0.56056,     0.56156,     0.56256,     0.56356,     0.56456,     0.56557,     0.56657,     0.56757,     0.56857,     0.56957,     0.57057,     0.57157,     0.57257,     0.57357,     0.57457,     0.57558,\n",
       "           0.57658,     0.57758,     0.57858,     0.57958,     0.58058,     0.58158,     0.58258,     0.58358,     0.58458,     0.58559,     0.58659,     0.58759,     0.58859,     0.58959,     0.59059,     0.59159,     0.59259,     0.59359,     0.59459,      0.5956,      0.5966,      0.5976,      0.5986,      0.5996,\n",
       "            0.6006,      0.6016,      0.6026,      0.6036,      0.6046,     0.60561,     0.60661,     0.60761,     0.60861,     0.60961,     0.61061,     0.61161,     0.61261,     0.61361,     0.61461,     0.61562,     0.61662,     0.61762,     0.61862,     0.61962,     0.62062,     0.62162,     0.62262,     0.62362,\n",
       "           0.62462,     0.62563,     0.62663,     0.62763,     0.62863,     0.62963,     0.63063,     0.63163,     0.63263,     0.63363,     0.63463,     0.63564,     0.63664,     0.63764,     0.63864,     0.63964,     0.64064,     0.64164,     0.64264,     0.64364,     0.64464,     0.64565,     0.64665,     0.64765,\n",
       "           0.64865,     0.64965,     0.65065,     0.65165,     0.65265,     0.65365,     0.65465,     0.65566,     0.65666,     0.65766,     0.65866,     0.65966,     0.66066,     0.66166,     0.66266,     0.66366,     0.66466,     0.66567,     0.66667,     0.66767,     0.66867,     0.66967,     0.67067,     0.67167,\n",
       "           0.67267,     0.67367,     0.67467,     0.67568,     0.67668,     0.67768,     0.67868,     0.67968,     0.68068,     0.68168,     0.68268,     0.68368,     0.68468,     0.68569,     0.68669,     0.68769,     0.68869,     0.68969,     0.69069,     0.69169,     0.69269,     0.69369,     0.69469,      0.6957,\n",
       "            0.6967,      0.6977,      0.6987,      0.6997,      0.7007,      0.7017,      0.7027,      0.7037,      0.7047,     0.70571,     0.70671,     0.70771,     0.70871,     0.70971,     0.71071,     0.71171,     0.71271,     0.71371,     0.71471,     0.71572,     0.71672,     0.71772,     0.71872,     0.71972,\n",
       "           0.72072,     0.72172,     0.72272,     0.72372,     0.72472,     0.72573,     0.72673,     0.72773,     0.72873,     0.72973,     0.73073,     0.73173,     0.73273,     0.73373,     0.73473,     0.73574,     0.73674,     0.73774,     0.73874,     0.73974,     0.74074,     0.74174,     0.74274,     0.74374,\n",
       "           0.74474,     0.74575,     0.74675,     0.74775,     0.74875,     0.74975,     0.75075,     0.75175,     0.75275,     0.75375,     0.75475,     0.75576,     0.75676,     0.75776,     0.75876,     0.75976,     0.76076,     0.76176,     0.76276,     0.76376,     0.76476,     0.76577,     0.76677,     0.76777,\n",
       "           0.76877,     0.76977,     0.77077,     0.77177,     0.77277,     0.77377,     0.77477,     0.77578,     0.77678,     0.77778,     0.77878,     0.77978,     0.78078,     0.78178,     0.78278,     0.78378,     0.78478,     0.78579,     0.78679,     0.78779,     0.78879,     0.78979,     0.79079,     0.79179,\n",
       "           0.79279,     0.79379,     0.79479,      0.7958,      0.7968,      0.7978,      0.7988,      0.7998,      0.8008,      0.8018,      0.8028,      0.8038,      0.8048,     0.80581,     0.80681,     0.80781,     0.80881,     0.80981,     0.81081,     0.81181,     0.81281,     0.81381,     0.81481,     0.81582,\n",
       "           0.81682,     0.81782,     0.81882,     0.81982,     0.82082,     0.82182,     0.82282,     0.82382,     0.82482,     0.82583,     0.82683,     0.82783,     0.82883,     0.82983,     0.83083,     0.83183,     0.83283,     0.83383,     0.83483,     0.83584,     0.83684,     0.83784,     0.83884,     0.83984,\n",
       "           0.84084,     0.84184,     0.84284,     0.84384,     0.84484,     0.84585,     0.84685,     0.84785,     0.84885,     0.84985,     0.85085,     0.85185,     0.85285,     0.85385,     0.85485,     0.85586,     0.85686,     0.85786,     0.85886,     0.85986,     0.86086,     0.86186,     0.86286,     0.86386,\n",
       "           0.86486,     0.86587,     0.86687,     0.86787,     0.86887,     0.86987,     0.87087,     0.87187,     0.87287,     0.87387,     0.87487,     0.87588,     0.87688,     0.87788,     0.87888,     0.87988,     0.88088,     0.88188,     0.88288,     0.88388,     0.88488,     0.88589,     0.88689,     0.88789,\n",
       "           0.88889,     0.88989,     0.89089,     0.89189,     0.89289,     0.89389,     0.89489,      0.8959,      0.8969,      0.8979,      0.8989,      0.8999,      0.9009,      0.9019,      0.9029,      0.9039,      0.9049,     0.90591,     0.90691,     0.90791,     0.90891,     0.90991,     0.91091,     0.91191,\n",
       "           0.91291,     0.91391,     0.91491,     0.91592,     0.91692,     0.91792,     0.91892,     0.91992,     0.92092,     0.92192,     0.92292,     0.92392,     0.92492,     0.92593,     0.92693,     0.92793,     0.92893,     0.92993,     0.93093,     0.93193,     0.93293,     0.93393,     0.93493,     0.93594,\n",
       "           0.93694,     0.93794,     0.93894,     0.93994,     0.94094,     0.94194,     0.94294,     0.94394,     0.94494,     0.94595,     0.94695,     0.94795,     0.94895,     0.94995,     0.95095,     0.95195,     0.95295,     0.95395,     0.95495,     0.95596,     0.95696,     0.95796,     0.95896,     0.95996,\n",
       "           0.96096,     0.96196,     0.96296,     0.96396,     0.96496,     0.96597,     0.96697,     0.96797,     0.96897,     0.96997,     0.97097,     0.97197,     0.97297,     0.97397,     0.97497,     0.97598,     0.97698,     0.97798,     0.97898,     0.97998,     0.98098,     0.98198,     0.98298,     0.98398,\n",
       "           0.98498,     0.98599,     0.98699,     0.98799,     0.98899,     0.98999,     0.99099,     0.99199,     0.99299,     0.99399,     0.99499,       0.996,       0.997,       0.998,       0.999,           1]), array([[    0.17211,     0.17211,     0.21152,       0.239,     0.24951,     0.25846,     0.26584,     0.27179,       0.279,     0.28448,     0.28698,     0.29055,     0.30194,     0.31092,     0.31772,     0.32516,     0.32974,      0.3309,     0.33471,     0.33815,     0.34602,     0.34706,     0.34809,\n",
       "            0.35045,     0.35495,     0.35652,      0.3599,     0.36124,      0.3626,     0.36399,     0.36601,     0.37095,     0.37461,     0.37538,     0.37615,     0.37707,     0.37836,     0.37944,     0.37996,     0.38047,     0.38098,     0.38149,      0.3848,     0.38651,     0.38818,     0.38982,\n",
       "            0.39859,     0.40024,     0.40184,     0.40333,     0.40554,     0.41121,      0.4129,     0.41411,     0.41504,     0.41596,     0.41698,      0.4183,     0.41962,     0.42526,     0.42493,      0.4227,     0.42539,     0.42652,     0.42765,     0.42987,     0.43311,     0.43469,     0.43919,\n",
       "            0.43983,     0.44047,     0.44111,     0.44176,      0.4424,      0.4431,     0.44384,     0.44458,     0.44532,     0.44607,     0.44731,     0.44876,     0.45092,     0.45394,     0.45423,     0.45453,     0.45482,     0.45511,     0.45541,      0.4557,     0.45599,     0.45629,     0.45658,\n",
       "            0.45687,     0.45717,     0.45746,     0.46013,     0.46179,     0.46212,     0.46245,     0.46278,     0.46311,     0.46344,     0.46377,      0.4641,     0.46442,     0.46475,     0.46508,     0.46541,     0.46607,     0.46688,     0.46769,      0.4685,     0.46931,     0.47401,     0.47638,\n",
       "            0.47887,     0.48156,     0.48146,     0.48059,     0.47972,     0.47885,     0.47798,      0.4781,     0.47958,     0.48106,     0.48281,     0.48482,     0.48541,     0.48263,     0.48181,     0.48237,     0.48293,     0.48349,     0.48405,     0.48461,     0.48517,     0.48572,     0.48852,\n",
       "            0.49201,     0.49456,     0.49883,     0.50533,      0.5071,     0.50886,     0.50516,     0.50456,     0.50416,     0.50376,     0.50337,     0.50297,     0.50257,     0.50217,     0.50177,     0.50138,     0.50098,     0.50058,     0.50018,     0.50034,     0.50098,     0.50162,     0.50226,\n",
       "            0.50289,     0.50353,     0.50417,      0.5048,      0.5057,     0.50676,     0.50781,     0.50887,     0.50992,     0.51312,     0.50492,     0.50265,     0.50038,     0.50072,     0.50158,     0.50245,     0.50331,     0.50418,     0.50504,     0.50658,     0.50854,      0.5105,     0.50849,\n",
       "            0.50555,     0.50652,     0.50757,     0.50861,     0.50966,     0.51071,     0.51133,     0.51169,     0.51205,     0.51241,     0.51277,     0.51313,     0.51349,     0.51385,     0.51421,     0.51457,     0.51493,     0.51529,     0.51565,     0.51601,     0.51636,     0.51672,     0.51757,\n",
       "            0.51869,     0.51981,     0.52093,     0.52205,     0.52217,     0.52077,     0.51936,     0.51795,     0.51774,     0.51874,     0.51975,     0.52076,     0.52176,     0.52277,     0.52355,     0.52412,     0.52468,     0.52525,     0.52582,     0.52639,     0.52695,     0.52752,     0.52809,\n",
       "            0.52865,     0.52922,     0.53132,     0.53419,     0.54448,     0.54909,      0.5515,     0.55392,     0.55608,     0.55771,     0.55933,     0.56096,     0.56268,     0.56592,     0.56916,     0.57012,     0.57071,      0.5713,     0.57189,     0.57247,     0.57306,     0.57365,     0.57423,\n",
       "            0.57482,     0.57541,       0.576,     0.57658,     0.57908,      0.5842,       0.586,     0.58766,     0.58932,     0.59098,     0.59222,     0.59259,     0.59295,     0.59331,     0.59368,     0.59404,     0.59441,     0.59477,     0.59513,      0.5955,     0.59586,     0.59622,     0.59659,\n",
       "            0.59695,     0.59731,     0.59768,     0.59804,     0.59841,     0.59877,     0.59913,      0.5995,     0.59986,     0.60035,     0.60091,     0.60147,     0.60204,      0.6026,     0.60316,     0.60373,     0.60429,     0.60486,     0.60542,     0.60598,     0.60655,     0.60711,     0.60767,\n",
       "            0.60792,     0.60711,     0.60629,     0.60548,     0.60466,     0.60385,     0.60303,     0.60404,     0.60605,     0.60807,     0.61009,     0.61236,     0.61488,      0.6174,     0.61984,     0.62135,     0.62287,     0.62438,     0.62589,      0.6274,     0.62877,     0.62966,     0.63055,\n",
       "            0.63144,     0.63233,     0.63322,     0.63411,       0.635,     0.63589,     0.63678,     0.63767,     0.64308,       0.647,     0.64681,     0.64661,     0.64641,     0.64621,     0.64601,     0.64582,     0.64562,     0.64542,     0.64522,     0.64502,     0.64482,     0.64463,     0.64443,\n",
       "            0.64423,     0.64403,     0.64383,     0.64364,     0.64344,     0.64324,     0.64304,     0.64284,     0.64264,     0.64245,     0.64225,     0.64205,     0.64185,     0.64229,     0.64302,     0.64374,     0.64447,     0.64519,     0.64592,     0.64664,     0.64737,     0.64809,     0.64882,\n",
       "            0.64954,     0.65027,     0.65099,     0.65146,     0.65124,     0.65102,     0.65081,     0.65059,     0.65038,     0.65016,     0.64995,     0.64973,     0.64952,      0.6493,     0.64908,     0.64887,     0.64865,     0.64844,     0.64822,     0.64801,     0.64779,     0.64758,     0.64736,\n",
       "            0.64715,     0.64693,     0.64671,      0.6465,     0.64628,      0.6464,     0.64703,     0.64766,     0.64829,     0.64891,     0.64954,     0.65017,      0.6508,     0.65142,     0.65205,     0.65268,      0.6533,     0.65393,     0.65456,     0.65519,     0.65581,     0.65711,     0.65996,\n",
       "            0.66281,     0.66565,     0.67377,     0.68123,     0.68692,     0.70074,     0.70178,     0.70281,     0.70385,     0.70488,     0.70592,     0.70695,     0.70799,     0.70902,     0.71006,     0.71109,     0.71506,     0.72448,     0.72569,      0.7269,     0.72811,     0.72932,     0.73053,\n",
       "            0.73174,     0.73296,     0.73417,     0.73538,     0.73659,     0.73736,     0.73801,     0.73866,     0.73931,     0.73996,     0.74061,     0.74126,     0.74191,     0.74256,     0.74321,     0.74386,     0.74451,     0.74516,     0.74581,     0.74646,     0.74711,     0.74776,     0.74841,\n",
       "            0.74906,     0.74971,     0.74985,     0.74958,      0.7493,     0.74903,     0.74875,     0.74848,     0.74821,     0.74793,     0.74766,     0.74738,     0.74711,     0.74684,     0.74656,     0.74629,     0.74601,     0.74574,     0.74546,     0.75227,     0.75925,     0.75867,     0.75809,\n",
       "            0.75751,     0.75692,     0.75634,     0.75576,     0.75518,     0.75574,      0.7607,     0.76566,     0.77356,     0.78421,     0.78387,     0.78353,     0.78319,     0.78285,     0.78251,     0.78217,     0.78183,     0.78149,     0.78115,     0.78081,     0.78047,     0.78013,     0.78338,\n",
       "            0.78882,     0.79426,      0.7974,     0.79952,     0.80164,     0.80377,     0.80589,     0.80802,     0.81014,     0.81227,     0.84626,     0.84774,     0.84764,     0.84754,     0.84744,     0.84734,     0.84724,     0.84714,     0.84704,     0.84694,     0.84684,     0.84675,     0.84665,\n",
       "            0.84655,     0.84645,     0.84635,     0.84625,     0.84615,     0.84605,     0.84595,     0.84585,     0.84575,     0.84566,     0.84556,     0.84546,     0.84536,     0.84526,     0.84516,     0.84506,     0.84496,     0.84486,     0.84476,     0.84467,     0.84457,     0.84447,     0.84166,\n",
       "            0.84045,     0.83986,     0.83928,      0.8387,     0.83811,     0.83753,     0.83875,     0.84216,     0.84556,     0.84897,     0.85237,     0.85578,     0.85857,     0.86095,     0.86333,     0.86571,     0.86809,     0.87047,     0.87286,     0.87524,     0.87762,     0.87999,     0.88236,\n",
       "            0.88473,     0.88709,     0.88946,     0.89183,      0.8942,     0.89657,     0.89894,     0.90038,     0.90108,     0.90177,     0.90247,     0.90317,     0.90386,     0.90456,     0.90525,     0.90595,     0.90664,     0.90734,     0.90804,     0.90873,     0.90943,     0.91012,     0.91082,\n",
       "            0.91151,     0.91221,     0.91291,      0.9136,      0.9143,     0.91499,     0.91569,     0.91638,     0.91708,     0.91778,     0.91847,     0.91917,     0.91986,     0.92056,     0.92125,     0.92195,     0.92265,     0.92394,      0.9262,     0.92847,     0.93073,     0.93299,     0.93526,\n",
       "            0.93752,     0.93978,     0.94205,     0.94431,     0.94657,     0.94734,      0.9473,     0.94725,     0.94721,     0.94717,     0.94713,     0.94708,     0.94704,       0.947,     0.94695,     0.94691,     0.94687,     0.94683,     0.94678,     0.94674,      0.9467,     0.94665,     0.94661,\n",
       "            0.94657,     0.94653,     0.94648,     0.94644,      0.9464,     0.94635,     0.94631,     0.94627,     0.94623,     0.94618,     0.94614,      0.9461,     0.94605,     0.94601,     0.94597,     0.94589,     0.94576,     0.94564,     0.94552,     0.94539,     0.94527,     0.94515,     0.94503,\n",
       "             0.9449,     0.94478,     0.94466,     0.94453,     0.94436,     0.94406,     0.94377,     0.94347,     0.94318,     0.94288,      0.9418,     0.94115,     0.94108,     0.94102,     0.94096,      0.9409,     0.94083,     0.94077,     0.94071,     0.94064,     0.94058,     0.94052,     0.94045,\n",
       "            0.94039,     0.94033,     0.94027,      0.9402,     0.94014,     0.94008,     0.94001,     0.93995,     0.93989,     0.93982,     0.93976,      0.9397,     0.93964,     0.93957,     0.93951,     0.93945,     0.93918,     0.93789,     0.93737,     0.93719,     0.93701,     0.93684,     0.93666,\n",
       "            0.93648,      0.9363,     0.93612,     0.93594,     0.93576,     0.93558,      0.9354,     0.93523,     0.93506,     0.93489,     0.93472,     0.93455,     0.93438,     0.93422,     0.93405,     0.93388,     0.93371,     0.93354,     0.93337,     0.93315,     0.93293,     0.93271,     0.93248,\n",
       "            0.93226,     0.93203,     0.93181,     0.93158,     0.93136,     0.93113,     0.93063,     0.92991,     0.92919,     0.92853,     0.92823,     0.92793,     0.92763,     0.92732,     0.92702,     0.92672,     0.92642,     0.92612,     0.92523,     0.92328,      0.9264,     0.93355,     0.94069,\n",
       "            0.94784,     0.95498,     0.95811,      0.9577,     0.95729,     0.95688,     0.95651,     0.95644,     0.95636,     0.95629,     0.95622,     0.95614,     0.95607,       0.956,     0.95592,     0.95585,     0.95577,      0.9557,     0.95563,     0.95555,     0.95548,     0.95541,     0.95533,\n",
       "            0.95526,     0.95519,     0.95511,     0.95504,     0.95496,     0.95489,     0.95482,     0.95474,     0.95467,      0.9546,     0.95448,     0.95427,     0.95406,     0.95385,     0.95363,     0.95342,     0.95321,       0.953,     0.95279,     0.95258,     0.95231,     0.95134,     0.95036,\n",
       "             0.9498,     0.94948,     0.94917,     0.94885,     0.94853,     0.94821,      0.9479,     0.94758,     0.95212,      0.9749,     0.99768,           1,           1,           1,           1,           1,           1,           1,           1,           1,           1,           1,           1,\n",
       "                  1,           1,           1,           1,           1,           1,           1,           1,           1,           1,           1,           1,           1,           1,           1,           1,           1,           1,           1,           1,           1,           1,           1,\n",
       "                  1,           1,           1,           1,           1,           1,           1,           1,           1,           1,           1,           1,           1,           1,           1,           1,           1,           1,           1,           1,           1,           1,           1,\n",
       "                  1,           1,           1,           1,           1,           1,           1,           1,           1,           1,           1,           1,           1,           1,           1,           1,           1,           1,           1,           1,           1,           1,           1,\n",
       "                  1,           1,           1,           1,           1,           1,           1,           1,           1,           1,           1,           1,           1,           1,           1,           1,           1,           1,           1,           1,           1,           1,           1,\n",
       "                  1,           1,           1,           1,           1,           1,           1,           1,           1,           1,           1,           1,           1,           1,           1,           1,           1,           1,           1,           1,           1,           1,           1,\n",
       "                  1,           1,           1,           1,           1,           1,           1,           1,           1,           1,           1,           1,           1,           1,           1,           1,           1,           1,           1,           1,           1,           1,           1,\n",
       "                  1,           1,           1,           1,           1,           1,           1,           1,           1,           1,           1,           1,           1,           1,           1,           1,           1,           1,           1,           1,           1,           1,           1,\n",
       "                  1,           1,           1,           1,           1,           1,           1,           1,           1,           1,           1]]), 'Confidence', 'Precision'], [array([          0,    0.001001,    0.002002,    0.003003,    0.004004,    0.005005,    0.006006,    0.007007,    0.008008,    0.009009,     0.01001,    0.011011,    0.012012,    0.013013,    0.014014,    0.015015,    0.016016,    0.017017,    0.018018,    0.019019,     0.02002,    0.021021,    0.022022,    0.023023,\n",
       "          0.024024,    0.025025,    0.026026,    0.027027,    0.028028,    0.029029,     0.03003,    0.031031,    0.032032,    0.033033,    0.034034,    0.035035,    0.036036,    0.037037,    0.038038,    0.039039,     0.04004,    0.041041,    0.042042,    0.043043,    0.044044,    0.045045,    0.046046,    0.047047,\n",
       "          0.048048,    0.049049,     0.05005,    0.051051,    0.052052,    0.053053,    0.054054,    0.055055,    0.056056,    0.057057,    0.058058,    0.059059,     0.06006,    0.061061,    0.062062,    0.063063,    0.064064,    0.065065,    0.066066,    0.067067,    0.068068,    0.069069,     0.07007,    0.071071,\n",
       "          0.072072,    0.073073,    0.074074,    0.075075,    0.076076,    0.077077,    0.078078,    0.079079,     0.08008,    0.081081,    0.082082,    0.083083,    0.084084,    0.085085,    0.086086,    0.087087,    0.088088,    0.089089,     0.09009,    0.091091,    0.092092,    0.093093,    0.094094,    0.095095,\n",
       "          0.096096,    0.097097,    0.098098,    0.099099,      0.1001,      0.1011,      0.1021,      0.1031,      0.1041,     0.10511,     0.10611,     0.10711,     0.10811,     0.10911,     0.11011,     0.11111,     0.11211,     0.11311,     0.11411,     0.11512,     0.11612,     0.11712,     0.11812,     0.11912,\n",
       "           0.12012,     0.12112,     0.12212,     0.12312,     0.12412,     0.12513,     0.12613,     0.12713,     0.12813,     0.12913,     0.13013,     0.13113,     0.13213,     0.13313,     0.13413,     0.13514,     0.13614,     0.13714,     0.13814,     0.13914,     0.14014,     0.14114,     0.14214,     0.14314,\n",
       "           0.14414,     0.14515,     0.14615,     0.14715,     0.14815,     0.14915,     0.15015,     0.15115,     0.15215,     0.15315,     0.15415,     0.15516,     0.15616,     0.15716,     0.15816,     0.15916,     0.16016,     0.16116,     0.16216,     0.16316,     0.16416,     0.16517,     0.16617,     0.16717,\n",
       "           0.16817,     0.16917,     0.17017,     0.17117,     0.17217,     0.17317,     0.17417,     0.17518,     0.17618,     0.17718,     0.17818,     0.17918,     0.18018,     0.18118,     0.18218,     0.18318,     0.18418,     0.18519,     0.18619,     0.18719,     0.18819,     0.18919,     0.19019,     0.19119,\n",
       "           0.19219,     0.19319,     0.19419,      0.1952,      0.1962,      0.1972,      0.1982,      0.1992,      0.2002,      0.2012,      0.2022,      0.2032,      0.2042,     0.20521,     0.20621,     0.20721,     0.20821,     0.20921,     0.21021,     0.21121,     0.21221,     0.21321,     0.21421,     0.21522,\n",
       "           0.21622,     0.21722,     0.21822,     0.21922,     0.22022,     0.22122,     0.22222,     0.22322,     0.22422,     0.22523,     0.22623,     0.22723,     0.22823,     0.22923,     0.23023,     0.23123,     0.23223,     0.23323,     0.23423,     0.23524,     0.23624,     0.23724,     0.23824,     0.23924,\n",
       "           0.24024,     0.24124,     0.24224,     0.24324,     0.24424,     0.24525,     0.24625,     0.24725,     0.24825,     0.24925,     0.25025,     0.25125,     0.25225,     0.25325,     0.25425,     0.25526,     0.25626,     0.25726,     0.25826,     0.25926,     0.26026,     0.26126,     0.26226,     0.26326,\n",
       "           0.26426,     0.26527,     0.26627,     0.26727,     0.26827,     0.26927,     0.27027,     0.27127,     0.27227,     0.27327,     0.27427,     0.27528,     0.27628,     0.27728,     0.27828,     0.27928,     0.28028,     0.28128,     0.28228,     0.28328,     0.28428,     0.28529,     0.28629,     0.28729,\n",
       "           0.28829,     0.28929,     0.29029,     0.29129,     0.29229,     0.29329,     0.29429,      0.2953,      0.2963,      0.2973,      0.2983,      0.2993,      0.3003,      0.3013,      0.3023,      0.3033,      0.3043,     0.30531,     0.30631,     0.30731,     0.30831,     0.30931,     0.31031,     0.31131,\n",
       "           0.31231,     0.31331,     0.31431,     0.31532,     0.31632,     0.31732,     0.31832,     0.31932,     0.32032,     0.32132,     0.32232,     0.32332,     0.32432,     0.32533,     0.32633,     0.32733,     0.32833,     0.32933,     0.33033,     0.33133,     0.33233,     0.33333,     0.33433,     0.33534,\n",
       "           0.33634,     0.33734,     0.33834,     0.33934,     0.34034,     0.34134,     0.34234,     0.34334,     0.34434,     0.34535,     0.34635,     0.34735,     0.34835,     0.34935,     0.35035,     0.35135,     0.35235,     0.35335,     0.35435,     0.35536,     0.35636,     0.35736,     0.35836,     0.35936,\n",
       "           0.36036,     0.36136,     0.36236,     0.36336,     0.36436,     0.36537,     0.36637,     0.36737,     0.36837,     0.36937,     0.37037,     0.37137,     0.37237,     0.37337,     0.37437,     0.37538,     0.37638,     0.37738,     0.37838,     0.37938,     0.38038,     0.38138,     0.38238,     0.38338,\n",
       "           0.38438,     0.38539,     0.38639,     0.38739,     0.38839,     0.38939,     0.39039,     0.39139,     0.39239,     0.39339,     0.39439,      0.3954,      0.3964,      0.3974,      0.3984,      0.3994,      0.4004,      0.4014,      0.4024,      0.4034,      0.4044,     0.40541,     0.40641,     0.40741,\n",
       "           0.40841,     0.40941,     0.41041,     0.41141,     0.41241,     0.41341,     0.41441,     0.41542,     0.41642,     0.41742,     0.41842,     0.41942,     0.42042,     0.42142,     0.42242,     0.42342,     0.42442,     0.42543,     0.42643,     0.42743,     0.42843,     0.42943,     0.43043,     0.43143,\n",
       "           0.43243,     0.43343,     0.43443,     0.43544,     0.43644,     0.43744,     0.43844,     0.43944,     0.44044,     0.44144,     0.44244,     0.44344,     0.44444,     0.44545,     0.44645,     0.44745,     0.44845,     0.44945,     0.45045,     0.45145,     0.45245,     0.45345,     0.45445,     0.45546,\n",
       "           0.45646,     0.45746,     0.45846,     0.45946,     0.46046,     0.46146,     0.46246,     0.46346,     0.46446,     0.46547,     0.46647,     0.46747,     0.46847,     0.46947,     0.47047,     0.47147,     0.47247,     0.47347,     0.47447,     0.47548,     0.47648,     0.47748,     0.47848,     0.47948,\n",
       "           0.48048,     0.48148,     0.48248,     0.48348,     0.48448,     0.48549,     0.48649,     0.48749,     0.48849,     0.48949,     0.49049,     0.49149,     0.49249,     0.49349,     0.49449,      0.4955,      0.4965,      0.4975,      0.4985,      0.4995,      0.5005,      0.5015,      0.5025,      0.5035,\n",
       "            0.5045,     0.50551,     0.50651,     0.50751,     0.50851,     0.50951,     0.51051,     0.51151,     0.51251,     0.51351,     0.51451,     0.51552,     0.51652,     0.51752,     0.51852,     0.51952,     0.52052,     0.52152,     0.52252,     0.52352,     0.52452,     0.52553,     0.52653,     0.52753,\n",
       "           0.52853,     0.52953,     0.53053,     0.53153,     0.53253,     0.53353,     0.53453,     0.53554,     0.53654,     0.53754,     0.53854,     0.53954,     0.54054,     0.54154,     0.54254,     0.54354,     0.54454,     0.54555,     0.54655,     0.54755,     0.54855,     0.54955,     0.55055,     0.55155,\n",
       "           0.55255,     0.55355,     0.55455,     0.55556,     0.55656,     0.55756,     0.55856,     0.55956,     0.56056,     0.56156,     0.56256,     0.56356,     0.56456,     0.56557,     0.56657,     0.56757,     0.56857,     0.56957,     0.57057,     0.57157,     0.57257,     0.57357,     0.57457,     0.57558,\n",
       "           0.57658,     0.57758,     0.57858,     0.57958,     0.58058,     0.58158,     0.58258,     0.58358,     0.58458,     0.58559,     0.58659,     0.58759,     0.58859,     0.58959,     0.59059,     0.59159,     0.59259,     0.59359,     0.59459,      0.5956,      0.5966,      0.5976,      0.5986,      0.5996,\n",
       "            0.6006,      0.6016,      0.6026,      0.6036,      0.6046,     0.60561,     0.60661,     0.60761,     0.60861,     0.60961,     0.61061,     0.61161,     0.61261,     0.61361,     0.61461,     0.61562,     0.61662,     0.61762,     0.61862,     0.61962,     0.62062,     0.62162,     0.62262,     0.62362,\n",
       "           0.62462,     0.62563,     0.62663,     0.62763,     0.62863,     0.62963,     0.63063,     0.63163,     0.63263,     0.63363,     0.63463,     0.63564,     0.63664,     0.63764,     0.63864,     0.63964,     0.64064,     0.64164,     0.64264,     0.64364,     0.64464,     0.64565,     0.64665,     0.64765,\n",
       "           0.64865,     0.64965,     0.65065,     0.65165,     0.65265,     0.65365,     0.65465,     0.65566,     0.65666,     0.65766,     0.65866,     0.65966,     0.66066,     0.66166,     0.66266,     0.66366,     0.66466,     0.66567,     0.66667,     0.66767,     0.66867,     0.66967,     0.67067,     0.67167,\n",
       "           0.67267,     0.67367,     0.67467,     0.67568,     0.67668,     0.67768,     0.67868,     0.67968,     0.68068,     0.68168,     0.68268,     0.68368,     0.68468,     0.68569,     0.68669,     0.68769,     0.68869,     0.68969,     0.69069,     0.69169,     0.69269,     0.69369,     0.69469,      0.6957,\n",
       "            0.6967,      0.6977,      0.6987,      0.6997,      0.7007,      0.7017,      0.7027,      0.7037,      0.7047,     0.70571,     0.70671,     0.70771,     0.70871,     0.70971,     0.71071,     0.71171,     0.71271,     0.71371,     0.71471,     0.71572,     0.71672,     0.71772,     0.71872,     0.71972,\n",
       "           0.72072,     0.72172,     0.72272,     0.72372,     0.72472,     0.72573,     0.72673,     0.72773,     0.72873,     0.72973,     0.73073,     0.73173,     0.73273,     0.73373,     0.73473,     0.73574,     0.73674,     0.73774,     0.73874,     0.73974,     0.74074,     0.74174,     0.74274,     0.74374,\n",
       "           0.74474,     0.74575,     0.74675,     0.74775,     0.74875,     0.74975,     0.75075,     0.75175,     0.75275,     0.75375,     0.75475,     0.75576,     0.75676,     0.75776,     0.75876,     0.75976,     0.76076,     0.76176,     0.76276,     0.76376,     0.76476,     0.76577,     0.76677,     0.76777,\n",
       "           0.76877,     0.76977,     0.77077,     0.77177,     0.77277,     0.77377,     0.77477,     0.77578,     0.77678,     0.77778,     0.77878,     0.77978,     0.78078,     0.78178,     0.78278,     0.78378,     0.78478,     0.78579,     0.78679,     0.78779,     0.78879,     0.78979,     0.79079,     0.79179,\n",
       "           0.79279,     0.79379,     0.79479,      0.7958,      0.7968,      0.7978,      0.7988,      0.7998,      0.8008,      0.8018,      0.8028,      0.8038,      0.8048,     0.80581,     0.80681,     0.80781,     0.80881,     0.80981,     0.81081,     0.81181,     0.81281,     0.81381,     0.81481,     0.81582,\n",
       "           0.81682,     0.81782,     0.81882,     0.81982,     0.82082,     0.82182,     0.82282,     0.82382,     0.82482,     0.82583,     0.82683,     0.82783,     0.82883,     0.82983,     0.83083,     0.83183,     0.83283,     0.83383,     0.83483,     0.83584,     0.83684,     0.83784,     0.83884,     0.83984,\n",
       "           0.84084,     0.84184,     0.84284,     0.84384,     0.84484,     0.84585,     0.84685,     0.84785,     0.84885,     0.84985,     0.85085,     0.85185,     0.85285,     0.85385,     0.85485,     0.85586,     0.85686,     0.85786,     0.85886,     0.85986,     0.86086,     0.86186,     0.86286,     0.86386,\n",
       "           0.86486,     0.86587,     0.86687,     0.86787,     0.86887,     0.86987,     0.87087,     0.87187,     0.87287,     0.87387,     0.87487,     0.87588,     0.87688,     0.87788,     0.87888,     0.87988,     0.88088,     0.88188,     0.88288,     0.88388,     0.88488,     0.88589,     0.88689,     0.88789,\n",
       "           0.88889,     0.88989,     0.89089,     0.89189,     0.89289,     0.89389,     0.89489,      0.8959,      0.8969,      0.8979,      0.8989,      0.8999,      0.9009,      0.9019,      0.9029,      0.9039,      0.9049,     0.90591,     0.90691,     0.90791,     0.90891,     0.90991,     0.91091,     0.91191,\n",
       "           0.91291,     0.91391,     0.91491,     0.91592,     0.91692,     0.91792,     0.91892,     0.91992,     0.92092,     0.92192,     0.92292,     0.92392,     0.92492,     0.92593,     0.92693,     0.92793,     0.92893,     0.92993,     0.93093,     0.93193,     0.93293,     0.93393,     0.93493,     0.93594,\n",
       "           0.93694,     0.93794,     0.93894,     0.93994,     0.94094,     0.94194,     0.94294,     0.94394,     0.94494,     0.94595,     0.94695,     0.94795,     0.94895,     0.94995,     0.95095,     0.95195,     0.95295,     0.95395,     0.95495,     0.95596,     0.95696,     0.95796,     0.95896,     0.95996,\n",
       "           0.96096,     0.96196,     0.96296,     0.96396,     0.96496,     0.96597,     0.96697,     0.96797,     0.96897,     0.96997,     0.97097,     0.97197,     0.97297,     0.97397,     0.97497,     0.97598,     0.97698,     0.97798,     0.97898,     0.97998,     0.98098,     0.98198,     0.98298,     0.98398,\n",
       "           0.98498,     0.98599,     0.98699,     0.98799,     0.98899,     0.98999,     0.99099,     0.99199,     0.99299,     0.99399,     0.99499,       0.996,       0.997,       0.998,       0.999,           1]), array([[    0.80556,     0.80556,     0.80556,     0.80556,     0.79167,     0.79167,     0.79167,     0.77778,     0.76389,     0.76389,     0.76389,     0.76389,     0.76389,     0.76389,     0.76389,     0.76389,     0.76389,     0.76389,     0.76389,     0.76389,     0.76389,     0.76389,     0.76389,\n",
       "            0.76389,     0.76389,     0.76389,     0.76389,     0.76389,     0.76389,     0.76389,     0.76389,     0.76389,     0.76389,     0.76389,     0.76389,     0.76389,     0.76389,     0.76389,     0.76389,     0.76389,     0.76389,     0.76389,     0.76389,     0.76389,     0.76389,     0.76389,\n",
       "            0.76389,     0.76389,     0.76389,     0.76389,     0.76389,     0.76389,     0.76389,     0.76389,     0.76389,     0.76389,     0.76389,     0.76389,     0.76389,     0.76389,     0.75946,     0.75256,        0.75,        0.75,        0.75,        0.75,        0.75,        0.75,        0.75,\n",
       "               0.75,        0.75,        0.75,        0.75,        0.75,        0.75,        0.75,        0.75,        0.75,        0.75,        0.75,        0.75,        0.75,        0.75,        0.75,        0.75,        0.75,        0.75,        0.75,        0.75,        0.75,        0.75,        0.75,\n",
       "               0.75,        0.75,        0.75,        0.75,        0.75,        0.75,        0.75,        0.75,        0.75,        0.75,        0.75,        0.75,        0.75,        0.75,        0.75,        0.75,        0.75,        0.75,        0.75,        0.75,        0.75,        0.75,        0.75,\n",
       "               0.75,        0.75,     0.74797,     0.74538,      0.7428,     0.74021,     0.73762,     0.73611,     0.73611,     0.73611,     0.73611,     0.73611,      0.7337,     0.72557,     0.72222,     0.72222,     0.72222,     0.72222,     0.72222,     0.72222,     0.72222,     0.72222,     0.72222,\n",
       "            0.72222,     0.72222,     0.72222,     0.72222,     0.72222,     0.72222,     0.70893,     0.70724,     0.70612,     0.70501,     0.70389,     0.70277,     0.70166,     0.70054,     0.69942,     0.69831,     0.69719,     0.69607,     0.69496,     0.69444,     0.69444,     0.69444,     0.69444,\n",
       "            0.69444,     0.69444,     0.69444,     0.69444,     0.69444,     0.69444,     0.69444,     0.69444,     0.69444,       0.688,     0.66576,     0.65977,     0.65378,     0.65278,     0.65278,     0.65278,     0.65278,     0.65278,     0.65278,     0.65278,     0.65278,     0.65278,     0.64663,\n",
       "            0.63904,     0.63889,     0.63889,     0.63889,     0.63889,     0.63889,     0.63889,     0.63889,     0.63889,     0.63889,     0.63889,     0.63889,     0.63889,     0.63889,     0.63889,     0.63889,     0.63889,     0.63889,     0.63889,     0.63889,     0.63889,     0.63889,     0.63889,\n",
       "            0.63889,     0.63889,     0.63889,     0.63889,     0.63748,     0.63392,     0.63036,      0.6268,       0.625,       0.625,       0.625,       0.625,       0.625,       0.625,       0.625,       0.625,       0.625,       0.625,       0.625,       0.625,       0.625,       0.625,       0.625,\n",
       "              0.625,       0.625,       0.625,       0.625,       0.625,       0.625,       0.625,       0.625,       0.625,       0.625,       0.625,       0.625,       0.625,       0.625,       0.625,       0.625,       0.625,       0.625,       0.625,       0.625,       0.625,       0.625,       0.625,\n",
       "              0.625,       0.625,       0.625,       0.625,       0.625,       0.625,       0.625,       0.625,       0.625,       0.625,       0.625,       0.625,       0.625,       0.625,       0.625,       0.625,       0.625,       0.625,       0.625,       0.625,       0.625,       0.625,       0.625,\n",
       "              0.625,       0.625,       0.625,       0.625,       0.625,       0.625,       0.625,       0.625,       0.625,       0.625,       0.625,       0.625,       0.625,       0.625,       0.625,       0.625,       0.625,       0.625,       0.625,       0.625,       0.625,       0.625,       0.625,\n",
       "            0.62452,     0.62241,      0.6203,     0.61819,     0.61609,     0.61398,     0.61187,     0.61111,     0.61111,     0.61111,     0.61111,     0.61111,     0.61111,     0.61111,     0.61111,     0.61111,     0.61111,     0.61111,     0.61111,     0.61111,     0.61111,     0.61111,     0.61111,\n",
       "            0.61111,     0.61111,     0.61111,     0.61111,     0.61111,     0.61111,     0.61111,     0.61111,     0.61111,     0.61097,     0.61044,     0.60992,      0.6094,     0.60888,     0.60835,     0.60783,     0.60731,     0.60679,     0.60626,     0.60574,     0.60522,      0.6047,     0.60418,\n",
       "            0.60365,     0.60313,     0.60261,     0.60209,     0.60156,     0.60104,     0.60052,         0.6,     0.59947,     0.59895,     0.59843,     0.59791,     0.59738,     0.59722,     0.59722,     0.59722,     0.59722,     0.59722,     0.59722,     0.59722,     0.59722,     0.59722,     0.59722,\n",
       "            0.59722,     0.59722,     0.59722,     0.59707,     0.59651,     0.59595,     0.59539,     0.59483,     0.59428,     0.59372,     0.59316,      0.5926,     0.59204,     0.59148,     0.59093,     0.59037,     0.58981,     0.58925,     0.58869,     0.58813,     0.58758,     0.58702,     0.58646,\n",
       "             0.5859,     0.58534,     0.58478,     0.58423,     0.58367,     0.58333,     0.58333,     0.58333,     0.58333,     0.58333,     0.58333,     0.58333,     0.58333,     0.58333,     0.58333,     0.58333,     0.58333,     0.58333,     0.58333,     0.58333,     0.58333,     0.58333,     0.58333,\n",
       "            0.58333,     0.58333,     0.58333,     0.58333,     0.58333,     0.58333,     0.58333,     0.58333,     0.58333,     0.58333,     0.58333,     0.58333,     0.58333,     0.58333,     0.58333,     0.58333,     0.58333,     0.58333,     0.58333,     0.58333,     0.58333,     0.58333,     0.58333,\n",
       "            0.58333,     0.58333,     0.58333,     0.58333,     0.58333,     0.58333,     0.58333,     0.58333,     0.58333,     0.58333,     0.58333,     0.58333,     0.58333,     0.58333,     0.58333,     0.58333,     0.58333,     0.58333,     0.58333,     0.58333,     0.58333,     0.58333,     0.58333,\n",
       "            0.58333,     0.58333,     0.58287,     0.58204,      0.5812,     0.58036,     0.57952,     0.57869,     0.57785,     0.57701,     0.57618,     0.57534,      0.5745,     0.57366,     0.57283,     0.57199,     0.57115,     0.57031,     0.56948,     0.56944,     0.56942,     0.56764,     0.56586,\n",
       "            0.56408,     0.56231,     0.56053,     0.55875,     0.55697,     0.55556,     0.55556,     0.55556,     0.55556,     0.55522,     0.55413,     0.55303,     0.55194,     0.55084,     0.54975,     0.54865,     0.54756,     0.54646,     0.54537,     0.54427,     0.54318,     0.54208,     0.54167,\n",
       "            0.54167,     0.54167,     0.54167,     0.54167,     0.54167,     0.54167,     0.54167,     0.54167,     0.54167,     0.54167,     0.54167,     0.54129,     0.54089,     0.54048,     0.54007,     0.53967,     0.53926,     0.53885,     0.53845,     0.53804,     0.53763,     0.53723,     0.53682,\n",
       "            0.53641,     0.53601,      0.5356,     0.53519,     0.53479,     0.53438,     0.53397,     0.53357,     0.53316,     0.53275,     0.53235,     0.53194,     0.53153,     0.53113,     0.53072,     0.53031,     0.52991,      0.5295,     0.52909,     0.52869,     0.52828,     0.52787,     0.51682,\n",
       "            0.51215,     0.50996,     0.50777,     0.50558,     0.50339,      0.5012,         0.5,         0.5,         0.5,         0.5,         0.5,         0.5,         0.5,         0.5,         0.5,         0.5,         0.5,         0.5,         0.5,         0.5,         0.5,         0.5,         0.5,\n",
       "                0.5,         0.5,         0.5,         0.5,         0.5,         0.5,         0.5,         0.5,         0.5,         0.5,         0.5,         0.5,         0.5,         0.5,         0.5,         0.5,         0.5,         0.5,         0.5,         0.5,         0.5,         0.5,         0.5,\n",
       "                0.5,         0.5,         0.5,         0.5,         0.5,         0.5,         0.5,         0.5,         0.5,         0.5,         0.5,         0.5,         0.5,         0.5,         0.5,         0.5,         0.5,         0.5,         0.5,         0.5,         0.5,         0.5,         0.5,\n",
       "                0.5,         0.5,         0.5,         0.5,         0.5,     0.49973,     0.49931,     0.49889,     0.49847,     0.49805,     0.49763,     0.49722,      0.4968,     0.49638,     0.49596,     0.49554,     0.49512,      0.4947,     0.49428,     0.49387,     0.49345,     0.49303,     0.49261,\n",
       "            0.49219,     0.49177,     0.49135,     0.49093,     0.49052,      0.4901,     0.48968,     0.48926,     0.48884,     0.48842,       0.488,     0.48759,     0.48717,     0.48675,     0.48633,     0.48557,     0.48443,     0.48329,     0.48215,     0.48101,     0.47987,     0.47873,     0.47759,\n",
       "            0.47645,     0.47531,     0.47418,     0.47304,     0.47149,      0.4689,     0.46631,     0.46372,     0.46113,     0.45854,     0.44961,     0.44422,     0.44373,     0.44324,     0.44275,     0.44226,     0.44177,     0.44128,     0.44078,     0.44029,      0.4398,     0.43931,     0.43882,\n",
       "            0.43833,     0.43784,     0.43735,     0.43686,     0.43637,     0.43588,     0.43538,     0.43489,      0.4344,     0.43391,     0.43342,     0.43293,     0.43244,     0.43195,     0.43146,     0.43097,       0.429,     0.41951,      0.4158,     0.41456,     0.41332,     0.41209,     0.41085,\n",
       "            0.40961,     0.40837,     0.40713,      0.4059,     0.40466,     0.40342,     0.40225,     0.40116,     0.40006,     0.39897,     0.39787,     0.39678,     0.39568,     0.39459,     0.39349,      0.3924,      0.3913,      0.3902,     0.38911,     0.38781,     0.38645,     0.38509,     0.38374,\n",
       "            0.38238,     0.38103,     0.37967,     0.37832,     0.37696,      0.3756,     0.37274,     0.36868,     0.36461,     0.36089,     0.35931,     0.35773,     0.35614,     0.35456,     0.35298,      0.3514,     0.34982,     0.34823,     0.34381,     0.33432,     0.31944,     0.31944,     0.31944,\n",
       "            0.31944,     0.31944,     0.31777,      0.3146,     0.31144,     0.30827,     0.30548,     0.30497,     0.30445,     0.30393,     0.30341,     0.30289,     0.30238,     0.30186,     0.30134,     0.30082,     0.30031,     0.29979,     0.29927,     0.29875,     0.29824,     0.29772,      0.2972,\n",
       "            0.29668,     0.29616,     0.29565,     0.29513,     0.29461,     0.29409,     0.29358,     0.29306,     0.29254,     0.29202,     0.29124,     0.28989,     0.28853,     0.28718,     0.28582,     0.28446,     0.28311,     0.28175,      0.2804,     0.27904,     0.27739,     0.27169,       0.266,\n",
       "            0.26283,     0.26116,     0.25948,     0.25781,     0.25614,     0.25446,     0.25279,     0.25111,     0.23611,     0.23611,     0.23611,     0.22333,     0.20708,     0.20573,     0.20437,     0.20302,     0.20166,      0.2003,     0.19895,     0.19759,     0.19624,     0.19488,      0.1923,\n",
       "            0.18913,     0.18597,     0.18281,     0.17891,     0.17322,     0.16752,     0.16574,     0.16464,     0.16355,     0.16245,     0.16136,     0.16026,     0.15917,     0.15807,     0.15698,     0.15588,     0.15479,     0.15369,      0.1523,     0.14946,     0.14661,     0.14376,     0.14091,\n",
       "            0.13752,     0.13277,     0.12803,     0.12466,     0.12371,     0.12276,     0.12181,     0.12086,     0.11991,     0.11896,     0.11801,     0.11706,     0.11611,     0.11517,     0.11422,     0.11327,     0.11232,     0.11137,     0.10952,     0.10733,     0.10514,     0.10294,     0.10075,\n",
       "           0.098564,    0.093547,    0.084056,    0.082676,    0.081964,    0.081252,     0.08054,    0.079828,    0.079117,    0.078405,    0.077693,    0.076981,    0.076269,    0.075558,    0.074846,    0.074134,    0.073422,     0.07271,    0.071998,    0.071287,    0.070575,    0.069863,    0.068754,\n",
       "           0.067079,    0.065404,     0.06373,    0.062055,     0.06038,    0.058705,     0.05703,    0.055312,    0.053278,    0.051245,    0.049211,    0.047177,    0.045143,     0.04311,    0.041408,    0.040518,    0.039629,    0.038739,    0.037849,    0.036959,    0.036069,     0.03518,     0.03429,\n",
       "             0.0334,     0.03251,    0.031621,    0.030731,    0.029841,    0.028951,    0.028061,     0.02719,    0.026327,    0.025464,    0.024602,    0.023739,    0.022876,    0.022013,     0.02115,    0.020288,    0.019425,    0.018562,    0.017699,    0.016836,    0.015973,    0.015111,    0.014248,\n",
       "                  0,           0,           0,           0,           0,           0,           0,           0,           0,           0,           0,           0,           0,           0,           0,           0,           0,           0,           0,           0,           0,           0,           0,\n",
       "                  0,           0,           0,           0,           0,           0,           0,           0,           0,           0,           0,           0,           0,           0,           0,           0,           0,           0,           0,           0,           0,           0,           0,\n",
       "                  0,           0,           0,           0,           0,           0,           0,           0,           0,           0,           0]]), 'Confidence', 'Recall'], [array([          0,    0.001001,    0.002002,    0.003003,    0.004004,    0.005005,    0.006006,    0.007007,    0.008008,    0.009009,     0.01001,    0.011011,    0.012012,    0.013013,    0.014014,    0.015015,    0.016016,    0.017017,    0.018018,    0.019019,     0.02002,    0.021021,    0.022022,    0.023023,\n",
       "          0.024024,    0.025025,    0.026026,    0.027027,    0.028028,    0.029029,     0.03003,    0.031031,    0.032032,    0.033033,    0.034034,    0.035035,    0.036036,    0.037037,    0.038038,    0.039039,     0.04004,    0.041041,    0.042042,    0.043043,    0.044044,    0.045045,    0.046046,    0.047047,\n",
       "          0.048048,    0.049049,     0.05005,    0.051051,    0.052052,    0.053053,    0.054054,    0.055055,    0.056056,    0.057057,    0.058058,    0.059059,     0.06006,    0.061061,    0.062062,    0.063063,    0.064064,    0.065065,    0.066066,    0.067067,    0.068068,    0.069069,     0.07007,    0.071071,\n",
       "          0.072072,    0.073073,    0.074074,    0.075075,    0.076076,    0.077077,    0.078078,    0.079079,     0.08008,    0.081081,    0.082082,    0.083083,    0.084084,    0.085085,    0.086086,    0.087087,    0.088088,    0.089089,     0.09009,    0.091091,    0.092092,    0.093093,    0.094094,    0.095095,\n",
       "          0.096096,    0.097097,    0.098098,    0.099099,      0.1001,      0.1011,      0.1021,      0.1031,      0.1041,     0.10511,     0.10611,     0.10711,     0.10811,     0.10911,     0.11011,     0.11111,     0.11211,     0.11311,     0.11411,     0.11512,     0.11612,     0.11712,     0.11812,     0.11912,\n",
       "           0.12012,     0.12112,     0.12212,     0.12312,     0.12412,     0.12513,     0.12613,     0.12713,     0.12813,     0.12913,     0.13013,     0.13113,     0.13213,     0.13313,     0.13413,     0.13514,     0.13614,     0.13714,     0.13814,     0.13914,     0.14014,     0.14114,     0.14214,     0.14314,\n",
       "           0.14414,     0.14515,     0.14615,     0.14715,     0.14815,     0.14915,     0.15015,     0.15115,     0.15215,     0.15315,     0.15415,     0.15516,     0.15616,     0.15716,     0.15816,     0.15916,     0.16016,     0.16116,     0.16216,     0.16316,     0.16416,     0.16517,     0.16617,     0.16717,\n",
       "           0.16817,     0.16917,     0.17017,     0.17117,     0.17217,     0.17317,     0.17417,     0.17518,     0.17618,     0.17718,     0.17818,     0.17918,     0.18018,     0.18118,     0.18218,     0.18318,     0.18418,     0.18519,     0.18619,     0.18719,     0.18819,     0.18919,     0.19019,     0.19119,\n",
       "           0.19219,     0.19319,     0.19419,      0.1952,      0.1962,      0.1972,      0.1982,      0.1992,      0.2002,      0.2012,      0.2022,      0.2032,      0.2042,     0.20521,     0.20621,     0.20721,     0.20821,     0.20921,     0.21021,     0.21121,     0.21221,     0.21321,     0.21421,     0.21522,\n",
       "           0.21622,     0.21722,     0.21822,     0.21922,     0.22022,     0.22122,     0.22222,     0.22322,     0.22422,     0.22523,     0.22623,     0.22723,     0.22823,     0.22923,     0.23023,     0.23123,     0.23223,     0.23323,     0.23423,     0.23524,     0.23624,     0.23724,     0.23824,     0.23924,\n",
       "           0.24024,     0.24124,     0.24224,     0.24324,     0.24424,     0.24525,     0.24625,     0.24725,     0.24825,     0.24925,     0.25025,     0.25125,     0.25225,     0.25325,     0.25425,     0.25526,     0.25626,     0.25726,     0.25826,     0.25926,     0.26026,     0.26126,     0.26226,     0.26326,\n",
       "           0.26426,     0.26527,     0.26627,     0.26727,     0.26827,     0.26927,     0.27027,     0.27127,     0.27227,     0.27327,     0.27427,     0.27528,     0.27628,     0.27728,     0.27828,     0.27928,     0.28028,     0.28128,     0.28228,     0.28328,     0.28428,     0.28529,     0.28629,     0.28729,\n",
       "           0.28829,     0.28929,     0.29029,     0.29129,     0.29229,     0.29329,     0.29429,      0.2953,      0.2963,      0.2973,      0.2983,      0.2993,      0.3003,      0.3013,      0.3023,      0.3033,      0.3043,     0.30531,     0.30631,     0.30731,     0.30831,     0.30931,     0.31031,     0.31131,\n",
       "           0.31231,     0.31331,     0.31431,     0.31532,     0.31632,     0.31732,     0.31832,     0.31932,     0.32032,     0.32132,     0.32232,     0.32332,     0.32432,     0.32533,     0.32633,     0.32733,     0.32833,     0.32933,     0.33033,     0.33133,     0.33233,     0.33333,     0.33433,     0.33534,\n",
       "           0.33634,     0.33734,     0.33834,     0.33934,     0.34034,     0.34134,     0.34234,     0.34334,     0.34434,     0.34535,     0.34635,     0.34735,     0.34835,     0.34935,     0.35035,     0.35135,     0.35235,     0.35335,     0.35435,     0.35536,     0.35636,     0.35736,     0.35836,     0.35936,\n",
       "           0.36036,     0.36136,     0.36236,     0.36336,     0.36436,     0.36537,     0.36637,     0.36737,     0.36837,     0.36937,     0.37037,     0.37137,     0.37237,     0.37337,     0.37437,     0.37538,     0.37638,     0.37738,     0.37838,     0.37938,     0.38038,     0.38138,     0.38238,     0.38338,\n",
       "           0.38438,     0.38539,     0.38639,     0.38739,     0.38839,     0.38939,     0.39039,     0.39139,     0.39239,     0.39339,     0.39439,      0.3954,      0.3964,      0.3974,      0.3984,      0.3994,      0.4004,      0.4014,      0.4024,      0.4034,      0.4044,     0.40541,     0.40641,     0.40741,\n",
       "           0.40841,     0.40941,     0.41041,     0.41141,     0.41241,     0.41341,     0.41441,     0.41542,     0.41642,     0.41742,     0.41842,     0.41942,     0.42042,     0.42142,     0.42242,     0.42342,     0.42442,     0.42543,     0.42643,     0.42743,     0.42843,     0.42943,     0.43043,     0.43143,\n",
       "           0.43243,     0.43343,     0.43443,     0.43544,     0.43644,     0.43744,     0.43844,     0.43944,     0.44044,     0.44144,     0.44244,     0.44344,     0.44444,     0.44545,     0.44645,     0.44745,     0.44845,     0.44945,     0.45045,     0.45145,     0.45245,     0.45345,     0.45445,     0.45546,\n",
       "           0.45646,     0.45746,     0.45846,     0.45946,     0.46046,     0.46146,     0.46246,     0.46346,     0.46446,     0.46547,     0.46647,     0.46747,     0.46847,     0.46947,     0.47047,     0.47147,     0.47247,     0.47347,     0.47447,     0.47548,     0.47648,     0.47748,     0.47848,     0.47948,\n",
       "           0.48048,     0.48148,     0.48248,     0.48348,     0.48448,     0.48549,     0.48649,     0.48749,     0.48849,     0.48949,     0.49049,     0.49149,     0.49249,     0.49349,     0.49449,      0.4955,      0.4965,      0.4975,      0.4985,      0.4995,      0.5005,      0.5015,      0.5025,      0.5035,\n",
       "            0.5045,     0.50551,     0.50651,     0.50751,     0.50851,     0.50951,     0.51051,     0.51151,     0.51251,     0.51351,     0.51451,     0.51552,     0.51652,     0.51752,     0.51852,     0.51952,     0.52052,     0.52152,     0.52252,     0.52352,     0.52452,     0.52553,     0.52653,     0.52753,\n",
       "           0.52853,     0.52953,     0.53053,     0.53153,     0.53253,     0.53353,     0.53453,     0.53554,     0.53654,     0.53754,     0.53854,     0.53954,     0.54054,     0.54154,     0.54254,     0.54354,     0.54454,     0.54555,     0.54655,     0.54755,     0.54855,     0.54955,     0.55055,     0.55155,\n",
       "           0.55255,     0.55355,     0.55455,     0.55556,     0.55656,     0.55756,     0.55856,     0.55956,     0.56056,     0.56156,     0.56256,     0.56356,     0.56456,     0.56557,     0.56657,     0.56757,     0.56857,     0.56957,     0.57057,     0.57157,     0.57257,     0.57357,     0.57457,     0.57558,\n",
       "           0.57658,     0.57758,     0.57858,     0.57958,     0.58058,     0.58158,     0.58258,     0.58358,     0.58458,     0.58559,     0.58659,     0.58759,     0.58859,     0.58959,     0.59059,     0.59159,     0.59259,     0.59359,     0.59459,      0.5956,      0.5966,      0.5976,      0.5986,      0.5996,\n",
       "            0.6006,      0.6016,      0.6026,      0.6036,      0.6046,     0.60561,     0.60661,     0.60761,     0.60861,     0.60961,     0.61061,     0.61161,     0.61261,     0.61361,     0.61461,     0.61562,     0.61662,     0.61762,     0.61862,     0.61962,     0.62062,     0.62162,     0.62262,     0.62362,\n",
       "           0.62462,     0.62563,     0.62663,     0.62763,     0.62863,     0.62963,     0.63063,     0.63163,     0.63263,     0.63363,     0.63463,     0.63564,     0.63664,     0.63764,     0.63864,     0.63964,     0.64064,     0.64164,     0.64264,     0.64364,     0.64464,     0.64565,     0.64665,     0.64765,\n",
       "           0.64865,     0.64965,     0.65065,     0.65165,     0.65265,     0.65365,     0.65465,     0.65566,     0.65666,     0.65766,     0.65866,     0.65966,     0.66066,     0.66166,     0.66266,     0.66366,     0.66466,     0.66567,     0.66667,     0.66767,     0.66867,     0.66967,     0.67067,     0.67167,\n",
       "           0.67267,     0.67367,     0.67467,     0.67568,     0.67668,     0.67768,     0.67868,     0.67968,     0.68068,     0.68168,     0.68268,     0.68368,     0.68468,     0.68569,     0.68669,     0.68769,     0.68869,     0.68969,     0.69069,     0.69169,     0.69269,     0.69369,     0.69469,      0.6957,\n",
       "            0.6967,      0.6977,      0.6987,      0.6997,      0.7007,      0.7017,      0.7027,      0.7037,      0.7047,     0.70571,     0.70671,     0.70771,     0.70871,     0.70971,     0.71071,     0.71171,     0.71271,     0.71371,     0.71471,     0.71572,     0.71672,     0.71772,     0.71872,     0.71972,\n",
       "           0.72072,     0.72172,     0.72272,     0.72372,     0.72472,     0.72573,     0.72673,     0.72773,     0.72873,     0.72973,     0.73073,     0.73173,     0.73273,     0.73373,     0.73473,     0.73574,     0.73674,     0.73774,     0.73874,     0.73974,     0.74074,     0.74174,     0.74274,     0.74374,\n",
       "           0.74474,     0.74575,     0.74675,     0.74775,     0.74875,     0.74975,     0.75075,     0.75175,     0.75275,     0.75375,     0.75475,     0.75576,     0.75676,     0.75776,     0.75876,     0.75976,     0.76076,     0.76176,     0.76276,     0.76376,     0.76476,     0.76577,     0.76677,     0.76777,\n",
       "           0.76877,     0.76977,     0.77077,     0.77177,     0.77277,     0.77377,     0.77477,     0.77578,     0.77678,     0.77778,     0.77878,     0.77978,     0.78078,     0.78178,     0.78278,     0.78378,     0.78478,     0.78579,     0.78679,     0.78779,     0.78879,     0.78979,     0.79079,     0.79179,\n",
       "           0.79279,     0.79379,     0.79479,      0.7958,      0.7968,      0.7978,      0.7988,      0.7998,      0.8008,      0.8018,      0.8028,      0.8038,      0.8048,     0.80581,     0.80681,     0.80781,     0.80881,     0.80981,     0.81081,     0.81181,     0.81281,     0.81381,     0.81481,     0.81582,\n",
       "           0.81682,     0.81782,     0.81882,     0.81982,     0.82082,     0.82182,     0.82282,     0.82382,     0.82482,     0.82583,     0.82683,     0.82783,     0.82883,     0.82983,     0.83083,     0.83183,     0.83283,     0.83383,     0.83483,     0.83584,     0.83684,     0.83784,     0.83884,     0.83984,\n",
       "           0.84084,     0.84184,     0.84284,     0.84384,     0.84484,     0.84585,     0.84685,     0.84785,     0.84885,     0.84985,     0.85085,     0.85185,     0.85285,     0.85385,     0.85485,     0.85586,     0.85686,     0.85786,     0.85886,     0.85986,     0.86086,     0.86186,     0.86286,     0.86386,\n",
       "           0.86486,     0.86587,     0.86687,     0.86787,     0.86887,     0.86987,     0.87087,     0.87187,     0.87287,     0.87387,     0.87487,     0.87588,     0.87688,     0.87788,     0.87888,     0.87988,     0.88088,     0.88188,     0.88288,     0.88388,     0.88488,     0.88589,     0.88689,     0.88789,\n",
       "           0.88889,     0.88989,     0.89089,     0.89189,     0.89289,     0.89389,     0.89489,      0.8959,      0.8969,      0.8979,      0.8989,      0.8999,      0.9009,      0.9019,      0.9029,      0.9039,      0.9049,     0.90591,     0.90691,     0.90791,     0.90891,     0.90991,     0.91091,     0.91191,\n",
       "           0.91291,     0.91391,     0.91491,     0.91592,     0.91692,     0.91792,     0.91892,     0.91992,     0.92092,     0.92192,     0.92292,     0.92392,     0.92492,     0.92593,     0.92693,     0.92793,     0.92893,     0.92993,     0.93093,     0.93193,     0.93293,     0.93393,     0.93493,     0.93594,\n",
       "           0.93694,     0.93794,     0.93894,     0.93994,     0.94094,     0.94194,     0.94294,     0.94394,     0.94494,     0.94595,     0.94695,     0.94795,     0.94895,     0.94995,     0.95095,     0.95195,     0.95295,     0.95395,     0.95495,     0.95596,     0.95696,     0.95796,     0.95896,     0.95996,\n",
       "           0.96096,     0.96196,     0.96296,     0.96396,     0.96496,     0.96597,     0.96697,     0.96797,     0.96897,     0.96997,     0.97097,     0.97197,     0.97297,     0.97397,     0.97497,     0.97598,     0.97698,     0.97798,     0.97898,     0.97998,     0.98098,     0.98198,     0.98298,     0.98398,\n",
       "           0.98498,     0.98599,     0.98699,     0.98799,     0.98899,     0.98999,     0.99099,     0.99199,     0.99299,     0.99399,     0.99499,       0.996,       0.997,       0.998,       0.999,           1]), array([[          1,           1,           1,           1,           1,           1,           1,           1,           1,           1,           1,           1,           1,           1,           1,           1,           1,           1,           1,           1,           1,           1,           1,\n",
       "                  1,           1,           1,           1,           1,           1,           1,           1,           1,           1,           1,           1,           1,           1,           1,           1,           1,           1,           1,           1,           1,           1,           1,\n",
       "                  1,           1,           1,           1,           1,           1,           1,           1,           1,           1,           1,           1,           1,           1,           1,           1,           1,           1,           1,           1,           1,           1,           1,\n",
       "                  1,           1,           1,           1,           1,           1,           1,           1,           1,           1,           1,           1,           1,           1,           1,           1,           1,           1,           1,           1,           1,           1,           1,\n",
       "                  1,           1,           1,           1,           1,           1,           1,           1,           1,           1,           1,           1,           1,           1,           1,           1,           1,           1,           1,           1,           1,           1,           1,\n",
       "                  1,           1,           1,           1,           1,           1,           1,           1,           1,           1,           1,           1,           1,           1,           1,           1,           1,           1,           1,           1,           1,           1,           1,\n",
       "                  1,           1,           1,           1,           1,           1,           1,           1,           1,           1,           1,           1,           1,           1,           1,           1,           1,           1,           1,           1,           1,           1,           1,\n",
       "                  1,           1,           1,           1,           1,           1,           1,           1,           1,           1,           1,           1,           1,           1,           1,           1,           1,           1,           1,           1,           1,           1,           1,\n",
       "                  1,           1,           1,           1,           1,           1,           1,           1,           1,           1,           1,           1,           1,           1,           1,           1,           1,           1,           1,           1,           1,           1,           1,\n",
       "                  1,           1,           1,           1,           1,           1,           1,           1,           1,           1,           1,           1,           1,           1,           1,           1,           1,           1,           1,           1,           1,           1,           1,\n",
       "                  1,           1,           1,           1,           1,           1,     0.95833,     0.95833,     0.95833,     0.95833,     0.95833,     0.95833,     0.95833,     0.95833,     0.95833,     0.95833,     0.95833,     0.95833,     0.95833,     0.95833,     0.95833,     0.95833,     0.95833,\n",
       "            0.95833,     0.95833,     0.95833,     0.95833,     0.95833,     0.95833,     0.95833,     0.95833,     0.95833,     0.95833,     0.95833,     0.95833,     0.95833,     0.95833,     0.95833,     0.95833,     0.95833,     0.95833,     0.95833,     0.95833,     0.95833,     0.95833,     0.95833,\n",
       "            0.95833,     0.95833,     0.95833,     0.95833,     0.95833,     0.95833,     0.95833,     0.95833,     0.95833,     0.95833,     0.95833,     0.95833,     0.95833,     0.95833,     0.95833,     0.95833,     0.95833,     0.95833,     0.95833,     0.95833,     0.95833,     0.95833,     0.95833,\n",
       "            0.95833,     0.95833,     0.95833,     0.95833,     0.95833,     0.95833,     0.95833,     0.95833,     0.95833,     0.95833,     0.95833,     0.95833,     0.95833,     0.95833,     0.95833,     0.95833,     0.95833,     0.95833,     0.95833,     0.95833,     0.95833,     0.93333,     0.93333,\n",
       "            0.93333,     0.93333,     0.93333,     0.93333,     0.93333,     0.93333,     0.93333,     0.93333,     0.93333,     0.93333,     0.93333,     0.93333,     0.93333,     0.93333,     0.93333,     0.93333,     0.93333,     0.93333,     0.93333,     0.93333,     0.93333,     0.93333,     0.93333,\n",
       "            0.93333,     0.93333,     0.93333,     0.93333,     0.93333,     0.93333,     0.93333,     0.93333,     0.93333,     0.93333,     0.93333,     0.93333,     0.93333,     0.93333,     0.93333,     0.93333,     0.93333,     0.93333,     0.93333,     0.93333,     0.93333,     0.93333,     0.93333,\n",
       "            0.93333,     0.93333,     0.93333,     0.93333,     0.93333,     0.93333,     0.93333,     0.93333,     0.93333,     0.93333,     0.93333,     0.93333,     0.93333,     0.93333,     0.93333,     0.93333,     0.93333,     0.93333,     0.93333,     0.93333,     0.93333,     0.92105,     0.92105,\n",
       "            0.92105,     0.92105,     0.92105,     0.92105,     0.92105,     0.92105,     0.92105,     0.92105,     0.92105,     0.92105,     0.92105,     0.92105,     0.92105,     0.92105,     0.92105,     0.92105,     0.92105,     0.92105,     0.92105,     0.92105,     0.92105,     0.92105,     0.92105,\n",
       "            0.92105,     0.92105,     0.92105,     0.92105,     0.92105,     0.92105,     0.92105,     0.92105,     0.92105,     0.92105,     0.92105,     0.92105,     0.92105,     0.92105,     0.92105,     0.92105,     0.92105,     0.92105,     0.92105,     0.92105,     0.92105,     0.92105,     0.92105,\n",
       "            0.92105,     0.92105,     0.92105,     0.92105,     0.92105,     0.92105,     0.92105,     0.92105,     0.92105,     0.92105,     0.92105,     0.92105,     0.92105,     0.92105,     0.92105,     0.92105,     0.92105,     0.92105,     0.92105,     0.92105,     0.92105,     0.92105,     0.92105,\n",
       "            0.92105,     0.92105,     0.92105,     0.92105,     0.92105,     0.92105,     0.92105,     0.92105,     0.92105,     0.92105,     0.92105,     0.92105,     0.92105,     0.92105,     0.92105,     0.92105,     0.92105,     0.92105,     0.92105,     0.92105,     0.92105,     0.92105,     0.92105,\n",
       "            0.92105,     0.92105,     0.92105,     0.80851,     0.80851,     0.80851,     0.80851,     0.80851,     0.80851,     0.80851,     0.80851,     0.80851,     0.80851,     0.80851,     0.80851,     0.80851,     0.80851,     0.80851,     0.80851,     0.80851,     0.80851,     0.80851,     0.80851,\n",
       "            0.80851,     0.80851,     0.80851,     0.80851,     0.80851,     0.80851,     0.80851,     0.80851,     0.80851,     0.80851,     0.80851,     0.80851,     0.80851,     0.80851,     0.80851,     0.80851,     0.80851,     0.80851,     0.80851,     0.80851,     0.80851,     0.80851,     0.72222,\n",
       "            0.72222,     0.72222,     0.72222,     0.72222,     0.72222,     0.72222,     0.72222,     0.72222,     0.72222,     0.72222,     0.72222,     0.72222,     0.72222,     0.71429,     0.71429,     0.71429,     0.71429,     0.71429,     0.71429,     0.71429,     0.71429,     0.71429,     0.71429,\n",
       "            0.71429,     0.71429,     0.71429,     0.62121,     0.62121,     0.62121,     0.62121,     0.62121,     0.62121,     0.62121,     0.62121,     0.62121,     0.62121,     0.62121,     0.62121,     0.62121,     0.62121,     0.61765,     0.61765,     0.61765,     0.61765,     0.61765,     0.61765,\n",
       "            0.61765,     0.61765,     0.61765,     0.61765,     0.61765,     0.61765,     0.61765,     0.61765,     0.58108,     0.58108,     0.58108,     0.58108,     0.58108,     0.58108,     0.58108,     0.58108,     0.58108,     0.58108,     0.58108,     0.58108,     0.58108,     0.58108,     0.51765,\n",
       "            0.51765,     0.51765,     0.51765,     0.51765,     0.51765,     0.51765,     0.51765,     0.51765,     0.51765,     0.51765,     0.51765,     0.51765,     0.51765,     0.48958,     0.48958,     0.48958,     0.48958,     0.48958,     0.48958,     0.48958,     0.48958,     0.48958,     0.48958,\n",
       "            0.48958,     0.48958,     0.48958,     0.48958,     0.48958,     0.48958,     0.48958,     0.48958,     0.48958,     0.48958,     0.48958,     0.48958,     0.48958,     0.48958,     0.48958,     0.48958,     0.48958,     0.48958,     0.48958,     0.48958,     0.48958,     0.48958,     0.48958,\n",
       "            0.48958,     0.48958,     0.48958,     0.48958,     0.48958,     0.48958,     0.48958,     0.48958,     0.48958,     0.47525,     0.47525,     0.47525,     0.47525,     0.47525,     0.47525,     0.47525,     0.47525,     0.47525,     0.47525,     0.47525,     0.47525,     0.47525,      0.4375,\n",
       "             0.4375,      0.4375,      0.4375,      0.4375,      0.4375,      0.4375,      0.4375,      0.4375,      0.4375,      0.4375,      0.4375,      0.4375,      0.4375,     0.38931,     0.38931,     0.38931,     0.38931,     0.38931,     0.38931,     0.38931,     0.38931,     0.38931,     0.38931,\n",
       "            0.38931,     0.38931,     0.38931,     0.38931,     0.38931,     0.38931,     0.38931,     0.38931,     0.38931,     0.38931,     0.38931,     0.38931,     0.38931,     0.38931,     0.38931,     0.38931,     0.38931,     0.38931,     0.38806,     0.38806,     0.38806,     0.38806,     0.38806,\n",
       "            0.38806,     0.38806,     0.38806,     0.38806,     0.38806,     0.38806,     0.38806,     0.38806,     0.38806,     0.30814,     0.30814,     0.30814,     0.30814,     0.30814,     0.30814,     0.30814,     0.30814,     0.30814,     0.30814,     0.30814,     0.30814,     0.30814,     0.30814,\n",
       "               0.27,        0.27,        0.27,        0.27,        0.27,        0.27,        0.27,        0.27,        0.27,        0.27,        0.27,        0.27,        0.27,        0.27,     0.26316,     0.26316,     0.26316,     0.26316,     0.26316,     0.26316,     0.26316,     0.26316,     0.26316,\n",
       "            0.26316,     0.26316,     0.26316,     0.26316,     0.26316,     0.25455,     0.25455,     0.25455,     0.25455,     0.25455,     0.25455,     0.25455,     0.25455,     0.25455,     0.25455,     0.25455,     0.25455,     0.25455,      0.2375,      0.2375,      0.2375,      0.2375,      0.2375,\n",
       "             0.2375,      0.2375,      0.2375,      0.2375,      0.2375,      0.2375,      0.2375,      0.2375,      0.2375,     0.16904,     0.16823,     0.16741,      0.1666,     0.16579,     0.16497,     0.16416,     0.16335,     0.16254,     0.16172,     0.16091,      0.1601,     0.15929,     0.15847,\n",
       "            0.15766,     0.15685,     0.15603,     0.15522,     0.15441,      0.1536,     0.15278,     0.15197,     0.15116,     0.15035,     0.14953,     0.14872,     0.14791,      0.1471,     0.14628,     0.14547,     0.14466,     0.14384,     0.14303,     0.14222,     0.14141,     0.14059,     0.13978,\n",
       "            0.13897,     0.13816,     0.13734,     0.13653,     0.13572,     0.13491,     0.13409,     0.13328,     0.13247,     0.13165,     0.13084,     0.13003,     0.12922,      0.1284,     0.12759,     0.12678,     0.12597,     0.12515,     0.12434,     0.12353,     0.12271,      0.1219,     0.12109,\n",
       "            0.12028,     0.11946,     0.11865,     0.11784,     0.11703,     0.11621,      0.1154,     0.11459,     0.11378,     0.11296,     0.11215,     0.11134,     0.11052,     0.10971,      0.1089,     0.10809,     0.10727,     0.10646,     0.10565,     0.10484,     0.10402,     0.10321,      0.1024,\n",
       "            0.10159,     0.10077,     0.09996,    0.099147,    0.098335,    0.097522,    0.096709,    0.095896,    0.095084,    0.094271,    0.093458,    0.092646,    0.091833,     0.09102,    0.090208,    0.089395,    0.088582,     0.08777,    0.086957,    0.086144,    0.085332,    0.084519,    0.083706,\n",
       "           0.082894,    0.082081,    0.081268,    0.080456,    0.079643,     0.07883,    0.078017,    0.077205,    0.076392,    0.075579,    0.074767,    0.073954,    0.073141,    0.072329,    0.071516,    0.070703,    0.069891,    0.069078,    0.068265,    0.067453,     0.06664,    0.065827,    0.065015,\n",
       "           0.064202,    0.063389,    0.062577,    0.061764,    0.060951,    0.060138,    0.059326,    0.058513,      0.0577,    0.056888,    0.056075,    0.055262,     0.05445,    0.053637,    0.052824,    0.052012,    0.051199,    0.050386,    0.049574,    0.048761,    0.047948,    0.047136,    0.046323,\n",
       "            0.04551,    0.044698,    0.043885,    0.043072,    0.042259,    0.041447,    0.040634,    0.039821,    0.039009,    0.038196,    0.037383,    0.036571,    0.035758,    0.034945,    0.034133,     0.03332,    0.032507,    0.031695,    0.030882,    0.030069,    0.029257,    0.028444,    0.027631,\n",
       "           0.026819,    0.026006,    0.025193,     0.02438,    0.023568,    0.022755,    0.021942,     0.02113,    0.020317,    0.019504,    0.018692,    0.017879,    0.017066,    0.016254,    0.015441,    0.014628,    0.013816,    0.013003,     0.01219,    0.011378,    0.010565,   0.0097522,   0.0089395,\n",
       "          0.0081268,   0.0073141,   0.0065015,   0.0056888,   0.0048761,   0.0040634,   0.0032507,    0.002438,   0.0016254,  0.00081268,           0]]), 'Recall', 'Precision'], [array([          0,    0.001001,    0.002002,    0.003003,    0.004004,    0.005005,    0.006006,    0.007007,    0.008008,    0.009009,     0.01001,    0.011011,    0.012012,    0.013013,    0.014014,    0.015015,    0.016016,    0.017017,    0.018018,    0.019019,     0.02002,    0.021021,    0.022022,    0.023023,\n",
       "          0.024024,    0.025025,    0.026026,    0.027027,    0.028028,    0.029029,     0.03003,    0.031031,    0.032032,    0.033033,    0.034034,    0.035035,    0.036036,    0.037037,    0.038038,    0.039039,     0.04004,    0.041041,    0.042042,    0.043043,    0.044044,    0.045045,    0.046046,    0.047047,\n",
       "          0.048048,    0.049049,     0.05005,    0.051051,    0.052052,    0.053053,    0.054054,    0.055055,    0.056056,    0.057057,    0.058058,    0.059059,     0.06006,    0.061061,    0.062062,    0.063063,    0.064064,    0.065065,    0.066066,    0.067067,    0.068068,    0.069069,     0.07007,    0.071071,\n",
       "          0.072072,    0.073073,    0.074074,    0.075075,    0.076076,    0.077077,    0.078078,    0.079079,     0.08008,    0.081081,    0.082082,    0.083083,    0.084084,    0.085085,    0.086086,    0.087087,    0.088088,    0.089089,     0.09009,    0.091091,    0.092092,    0.093093,    0.094094,    0.095095,\n",
       "          0.096096,    0.097097,    0.098098,    0.099099,      0.1001,      0.1011,      0.1021,      0.1031,      0.1041,     0.10511,     0.10611,     0.10711,     0.10811,     0.10911,     0.11011,     0.11111,     0.11211,     0.11311,     0.11411,     0.11512,     0.11612,     0.11712,     0.11812,     0.11912,\n",
       "           0.12012,     0.12112,     0.12212,     0.12312,     0.12412,     0.12513,     0.12613,     0.12713,     0.12813,     0.12913,     0.13013,     0.13113,     0.13213,     0.13313,     0.13413,     0.13514,     0.13614,     0.13714,     0.13814,     0.13914,     0.14014,     0.14114,     0.14214,     0.14314,\n",
       "           0.14414,     0.14515,     0.14615,     0.14715,     0.14815,     0.14915,     0.15015,     0.15115,     0.15215,     0.15315,     0.15415,     0.15516,     0.15616,     0.15716,     0.15816,     0.15916,     0.16016,     0.16116,     0.16216,     0.16316,     0.16416,     0.16517,     0.16617,     0.16717,\n",
       "           0.16817,     0.16917,     0.17017,     0.17117,     0.17217,     0.17317,     0.17417,     0.17518,     0.17618,     0.17718,     0.17818,     0.17918,     0.18018,     0.18118,     0.18218,     0.18318,     0.18418,     0.18519,     0.18619,     0.18719,     0.18819,     0.18919,     0.19019,     0.19119,\n",
       "           0.19219,     0.19319,     0.19419,      0.1952,      0.1962,      0.1972,      0.1982,      0.1992,      0.2002,      0.2012,      0.2022,      0.2032,      0.2042,     0.20521,     0.20621,     0.20721,     0.20821,     0.20921,     0.21021,     0.21121,     0.21221,     0.21321,     0.21421,     0.21522,\n",
       "           0.21622,     0.21722,     0.21822,     0.21922,     0.22022,     0.22122,     0.22222,     0.22322,     0.22422,     0.22523,     0.22623,     0.22723,     0.22823,     0.22923,     0.23023,     0.23123,     0.23223,     0.23323,     0.23423,     0.23524,     0.23624,     0.23724,     0.23824,     0.23924,\n",
       "           0.24024,     0.24124,     0.24224,     0.24324,     0.24424,     0.24525,     0.24625,     0.24725,     0.24825,     0.24925,     0.25025,     0.25125,     0.25225,     0.25325,     0.25425,     0.25526,     0.25626,     0.25726,     0.25826,     0.25926,     0.26026,     0.26126,     0.26226,     0.26326,\n",
       "           0.26426,     0.26527,     0.26627,     0.26727,     0.26827,     0.26927,     0.27027,     0.27127,     0.27227,     0.27327,     0.27427,     0.27528,     0.27628,     0.27728,     0.27828,     0.27928,     0.28028,     0.28128,     0.28228,     0.28328,     0.28428,     0.28529,     0.28629,     0.28729,\n",
       "           0.28829,     0.28929,     0.29029,     0.29129,     0.29229,     0.29329,     0.29429,      0.2953,      0.2963,      0.2973,      0.2983,      0.2993,      0.3003,      0.3013,      0.3023,      0.3033,      0.3043,     0.30531,     0.30631,     0.30731,     0.30831,     0.30931,     0.31031,     0.31131,\n",
       "           0.31231,     0.31331,     0.31431,     0.31532,     0.31632,     0.31732,     0.31832,     0.31932,     0.32032,     0.32132,     0.32232,     0.32332,     0.32432,     0.32533,     0.32633,     0.32733,     0.32833,     0.32933,     0.33033,     0.33133,     0.33233,     0.33333,     0.33433,     0.33534,\n",
       "           0.33634,     0.33734,     0.33834,     0.33934,     0.34034,     0.34134,     0.34234,     0.34334,     0.34434,     0.34535,     0.34635,     0.34735,     0.34835,     0.34935,     0.35035,     0.35135,     0.35235,     0.35335,     0.35435,     0.35536,     0.35636,     0.35736,     0.35836,     0.35936,\n",
       "           0.36036,     0.36136,     0.36236,     0.36336,     0.36436,     0.36537,     0.36637,     0.36737,     0.36837,     0.36937,     0.37037,     0.37137,     0.37237,     0.37337,     0.37437,     0.37538,     0.37638,     0.37738,     0.37838,     0.37938,     0.38038,     0.38138,     0.38238,     0.38338,\n",
       "           0.38438,     0.38539,     0.38639,     0.38739,     0.38839,     0.38939,     0.39039,     0.39139,     0.39239,     0.39339,     0.39439,      0.3954,      0.3964,      0.3974,      0.3984,      0.3994,      0.4004,      0.4014,      0.4024,      0.4034,      0.4044,     0.40541,     0.40641,     0.40741,\n",
       "           0.40841,     0.40941,     0.41041,     0.41141,     0.41241,     0.41341,     0.41441,     0.41542,     0.41642,     0.41742,     0.41842,     0.41942,     0.42042,     0.42142,     0.42242,     0.42342,     0.42442,     0.42543,     0.42643,     0.42743,     0.42843,     0.42943,     0.43043,     0.43143,\n",
       "           0.43243,     0.43343,     0.43443,     0.43544,     0.43644,     0.43744,     0.43844,     0.43944,     0.44044,     0.44144,     0.44244,     0.44344,     0.44444,     0.44545,     0.44645,     0.44745,     0.44845,     0.44945,     0.45045,     0.45145,     0.45245,     0.45345,     0.45445,     0.45546,\n",
       "           0.45646,     0.45746,     0.45846,     0.45946,     0.46046,     0.46146,     0.46246,     0.46346,     0.46446,     0.46547,     0.46647,     0.46747,     0.46847,     0.46947,     0.47047,     0.47147,     0.47247,     0.47347,     0.47447,     0.47548,     0.47648,     0.47748,     0.47848,     0.47948,\n",
       "           0.48048,     0.48148,     0.48248,     0.48348,     0.48448,     0.48549,     0.48649,     0.48749,     0.48849,     0.48949,     0.49049,     0.49149,     0.49249,     0.49349,     0.49449,      0.4955,      0.4965,      0.4975,      0.4985,      0.4995,      0.5005,      0.5015,      0.5025,      0.5035,\n",
       "            0.5045,     0.50551,     0.50651,     0.50751,     0.50851,     0.50951,     0.51051,     0.51151,     0.51251,     0.51351,     0.51451,     0.51552,     0.51652,     0.51752,     0.51852,     0.51952,     0.52052,     0.52152,     0.52252,     0.52352,     0.52452,     0.52553,     0.52653,     0.52753,\n",
       "           0.52853,     0.52953,     0.53053,     0.53153,     0.53253,     0.53353,     0.53453,     0.53554,     0.53654,     0.53754,     0.53854,     0.53954,     0.54054,     0.54154,     0.54254,     0.54354,     0.54454,     0.54555,     0.54655,     0.54755,     0.54855,     0.54955,     0.55055,     0.55155,\n",
       "           0.55255,     0.55355,     0.55455,     0.55556,     0.55656,     0.55756,     0.55856,     0.55956,     0.56056,     0.56156,     0.56256,     0.56356,     0.56456,     0.56557,     0.56657,     0.56757,     0.56857,     0.56957,     0.57057,     0.57157,     0.57257,     0.57357,     0.57457,     0.57558,\n",
       "           0.57658,     0.57758,     0.57858,     0.57958,     0.58058,     0.58158,     0.58258,     0.58358,     0.58458,     0.58559,     0.58659,     0.58759,     0.58859,     0.58959,     0.59059,     0.59159,     0.59259,     0.59359,     0.59459,      0.5956,      0.5966,      0.5976,      0.5986,      0.5996,\n",
       "            0.6006,      0.6016,      0.6026,      0.6036,      0.6046,     0.60561,     0.60661,     0.60761,     0.60861,     0.60961,     0.61061,     0.61161,     0.61261,     0.61361,     0.61461,     0.61562,     0.61662,     0.61762,     0.61862,     0.61962,     0.62062,     0.62162,     0.62262,     0.62362,\n",
       "           0.62462,     0.62563,     0.62663,     0.62763,     0.62863,     0.62963,     0.63063,     0.63163,     0.63263,     0.63363,     0.63463,     0.63564,     0.63664,     0.63764,     0.63864,     0.63964,     0.64064,     0.64164,     0.64264,     0.64364,     0.64464,     0.64565,     0.64665,     0.64765,\n",
       "           0.64865,     0.64965,     0.65065,     0.65165,     0.65265,     0.65365,     0.65465,     0.65566,     0.65666,     0.65766,     0.65866,     0.65966,     0.66066,     0.66166,     0.66266,     0.66366,     0.66466,     0.66567,     0.66667,     0.66767,     0.66867,     0.66967,     0.67067,     0.67167,\n",
       "           0.67267,     0.67367,     0.67467,     0.67568,     0.67668,     0.67768,     0.67868,     0.67968,     0.68068,     0.68168,     0.68268,     0.68368,     0.68468,     0.68569,     0.68669,     0.68769,     0.68869,     0.68969,     0.69069,     0.69169,     0.69269,     0.69369,     0.69469,      0.6957,\n",
       "            0.6967,      0.6977,      0.6987,      0.6997,      0.7007,      0.7017,      0.7027,      0.7037,      0.7047,     0.70571,     0.70671,     0.70771,     0.70871,     0.70971,     0.71071,     0.71171,     0.71271,     0.71371,     0.71471,     0.71572,     0.71672,     0.71772,     0.71872,     0.71972,\n",
       "           0.72072,     0.72172,     0.72272,     0.72372,     0.72472,     0.72573,     0.72673,     0.72773,     0.72873,     0.72973,     0.73073,     0.73173,     0.73273,     0.73373,     0.73473,     0.73574,     0.73674,     0.73774,     0.73874,     0.73974,     0.74074,     0.74174,     0.74274,     0.74374,\n",
       "           0.74474,     0.74575,     0.74675,     0.74775,     0.74875,     0.74975,     0.75075,     0.75175,     0.75275,     0.75375,     0.75475,     0.75576,     0.75676,     0.75776,     0.75876,     0.75976,     0.76076,     0.76176,     0.76276,     0.76376,     0.76476,     0.76577,     0.76677,     0.76777,\n",
       "           0.76877,     0.76977,     0.77077,     0.77177,     0.77277,     0.77377,     0.77477,     0.77578,     0.77678,     0.77778,     0.77878,     0.77978,     0.78078,     0.78178,     0.78278,     0.78378,     0.78478,     0.78579,     0.78679,     0.78779,     0.78879,     0.78979,     0.79079,     0.79179,\n",
       "           0.79279,     0.79379,     0.79479,      0.7958,      0.7968,      0.7978,      0.7988,      0.7998,      0.8008,      0.8018,      0.8028,      0.8038,      0.8048,     0.80581,     0.80681,     0.80781,     0.80881,     0.80981,     0.81081,     0.81181,     0.81281,     0.81381,     0.81481,     0.81582,\n",
       "           0.81682,     0.81782,     0.81882,     0.81982,     0.82082,     0.82182,     0.82282,     0.82382,     0.82482,     0.82583,     0.82683,     0.82783,     0.82883,     0.82983,     0.83083,     0.83183,     0.83283,     0.83383,     0.83483,     0.83584,     0.83684,     0.83784,     0.83884,     0.83984,\n",
       "           0.84084,     0.84184,     0.84284,     0.84384,     0.84484,     0.84585,     0.84685,     0.84785,     0.84885,     0.84985,     0.85085,     0.85185,     0.85285,     0.85385,     0.85485,     0.85586,     0.85686,     0.85786,     0.85886,     0.85986,     0.86086,     0.86186,     0.86286,     0.86386,\n",
       "           0.86486,     0.86587,     0.86687,     0.86787,     0.86887,     0.86987,     0.87087,     0.87187,     0.87287,     0.87387,     0.87487,     0.87588,     0.87688,     0.87788,     0.87888,     0.87988,     0.88088,     0.88188,     0.88288,     0.88388,     0.88488,     0.88589,     0.88689,     0.88789,\n",
       "           0.88889,     0.88989,     0.89089,     0.89189,     0.89289,     0.89389,     0.89489,      0.8959,      0.8969,      0.8979,      0.8989,      0.8999,      0.9009,      0.9019,      0.9029,      0.9039,      0.9049,     0.90591,     0.90691,     0.90791,     0.90891,     0.90991,     0.91091,     0.91191,\n",
       "           0.91291,     0.91391,     0.91491,     0.91592,     0.91692,     0.91792,     0.91892,     0.91992,     0.92092,     0.92192,     0.92292,     0.92392,     0.92492,     0.92593,     0.92693,     0.92793,     0.92893,     0.92993,     0.93093,     0.93193,     0.93293,     0.93393,     0.93493,     0.93594,\n",
       "           0.93694,     0.93794,     0.93894,     0.93994,     0.94094,     0.94194,     0.94294,     0.94394,     0.94494,     0.94595,     0.94695,     0.94795,     0.94895,     0.94995,     0.95095,     0.95195,     0.95295,     0.95395,     0.95495,     0.95596,     0.95696,     0.95796,     0.95896,     0.95996,\n",
       "           0.96096,     0.96196,     0.96296,     0.96396,     0.96496,     0.96597,     0.96697,     0.96797,     0.96897,     0.96997,     0.97097,     0.97197,     0.97297,     0.97397,     0.97497,     0.97598,     0.97698,     0.97798,     0.97898,     0.97998,     0.98098,     0.98198,     0.98298,     0.98398,\n",
       "           0.98498,     0.98599,     0.98699,     0.98799,     0.98899,     0.98999,     0.99099,     0.99199,     0.99299,     0.99399,     0.99499,       0.996,       0.997,       0.998,       0.999,           1]), array([[    0.27873,     0.27873,     0.32928,     0.36227,     0.37278,     0.38286,     0.38406,     0.38843,     0.39386,     0.39949,     0.40205,     0.40567,     0.41707,     0.42589,     0.43246,     0.43127,     0.43552,     0.43659,     0.44008,     0.44321,     0.45032,     0.45124,     0.45216,\n",
       "            0.45427,     0.45824,     0.45963,     0.46259,     0.46376,     0.46495,     0.46616,      0.4679,     0.47215,     0.47528,     0.47593,     0.47659,     0.47737,     0.47846,     0.47938,     0.47981,     0.48024,     0.48067,      0.4811,     0.48388,     0.48531,      0.4867,     0.48806,\n",
       "            0.49527,     0.49661,     0.49792,     0.49913,     0.50091,     0.50305,     0.49906,     0.49801,     0.49873,     0.49945,     0.50025,     0.50127,     0.50229,     0.49669,     0.49512,     0.49138,     0.49261,     0.49344,     0.49427,      0.4959,     0.49827,     0.49943,     0.50268,\n",
       "            0.50315,     0.50361,     0.50407,     0.50453,     0.50499,      0.5055,     0.50603,     0.50656,     0.50709,     0.50762,     0.50851,     0.50954,     0.51107,      0.5132,     0.51341,     0.51361,     0.51382,     0.51403,     0.51423,     0.51444,     0.51464,     0.51485,     0.51506,\n",
       "            0.51526,     0.51547,     0.51567,     0.51754,     0.51869,     0.51892,     0.51915,     0.51938,     0.51961,     0.51984,     0.52006,     0.52029,     0.52052,     0.52075,     0.52098,      0.5212,     0.52166,     0.52222,     0.52278,     0.52333,     0.52389,      0.5271,     0.52872,\n",
       "             0.5304,     0.53222,     0.53144,     0.52995,     0.52845,     0.52696,     0.52546,       0.525,     0.52599,     0.52697,     0.52813,     0.52945,      0.5309,     0.53263,     0.53355,     0.53392,     0.53429,     0.53466,     0.53503,      0.5354,     0.53577,     0.53614,     0.53798,\n",
       "            0.54027,     0.54193,      0.5447,     0.54888,        0.55,     0.55113,     0.55478,     0.55425,     0.55358,      0.5529,     0.55223,     0.55155,     0.55088,      0.5502,     0.54953,     0.54885,     0.54818,      0.5475,     0.54682,     0.54673,     0.54713,     0.54754,     0.54794,\n",
       "            0.54835,     0.54875,     0.54915,     0.54955,     0.55012,     0.55078,     0.55144,     0.55211,     0.55277,     0.55775,     0.55033,     0.54657,      0.5428,     0.54261,     0.54314,     0.54367,      0.5442,     0.54472,     0.54525,     0.54619,     0.54737,     0.54856,     0.54485,\n",
       "            0.53997,     0.54049,     0.54111,     0.54173,     0.54235,     0.54297,     0.54334,     0.54355,     0.54376,     0.54398,     0.54419,      0.5444,     0.54461,     0.54482,     0.54503,     0.54524,     0.54546,     0.54567,     0.54588,     0.54609,      0.5463,     0.54651,       0.547,\n",
       "            0.54766,     0.54831,     0.54896,     0.54961,     0.55035,     0.55124,     0.55213,     0.55301,     0.55375,     0.55434,     0.55493,     0.55551,      0.5561,     0.55668,     0.55713,     0.55746,     0.55779,     0.55812,     0.55844,     0.55877,      0.5591,     0.55942,     0.55975,\n",
       "            0.56007,      0.5604,     0.55772,     0.55352,      0.5561,     0.55861,     0.55991,     0.56121,     0.56237,     0.56324,     0.56411,     0.56497,     0.56588,      0.5676,      0.5693,      0.5698,     0.57011,     0.57041,     0.57072,     0.57103,     0.57133,     0.57164,     0.57194,\n",
       "            0.57225,     0.57255,     0.57285,     0.57316,     0.57444,     0.57707,     0.57799,     0.57883,     0.57968,     0.58051,     0.58114,     0.58132,     0.58151,     0.58169,     0.58187,     0.58206,     0.58224,     0.58242,      0.5826,     0.58279,     0.58297,     0.58315,     0.58333,\n",
       "            0.58351,      0.5837,     0.58388,     0.58406,     0.58424,     0.58442,      0.5846,     0.58478,     0.58496,     0.58521,     0.58549,     0.58577,     0.58605,     0.58633,      0.5866,     0.58688,     0.58716,     0.58744,     0.58772,       0.588,     0.58827,     0.58855,     0.58883,\n",
       "            0.58871,     0.58723,     0.58576,     0.58428,      0.5828,     0.58132,     0.57984,     0.57994,     0.58091,     0.58188,     0.58285,     0.58393,     0.58513,     0.58632,     0.58747,     0.58818,     0.58889,      0.5896,      0.5903,     0.59101,     0.59164,     0.59206,     0.59247,\n",
       "            0.59288,     0.59329,      0.5937,     0.59411,     0.59452,     0.59492,     0.59533,     0.59574,      0.5982,      0.5999,     0.59952,     0.59914,     0.59876,     0.59838,     0.59801,     0.59763,     0.59725,     0.59687,     0.59649,     0.59611,     0.59574,     0.59536,     0.59498,\n",
       "             0.5946,     0.59422,     0.59384,     0.59346,     0.59308,      0.5927,     0.59232,     0.59194,     0.59156,     0.59119,     0.59081,     0.59043,     0.59005,     0.59015,     0.59047,     0.59079,     0.59111,     0.59143,     0.59175,     0.59207,     0.59239,     0.59271,     0.59302,\n",
       "            0.59334,     0.59366,     0.59397,     0.59409,     0.59368,     0.59327,     0.59285,     0.59244,     0.59203,     0.59162,     0.59121,      0.5908,     0.59038,     0.58997,     0.58956,     0.58915,     0.58873,     0.58832,     0.58791,      0.5875,     0.58708,     0.58667,     0.58626,\n",
       "            0.58584,     0.58543,     0.58502,      0.5846,     0.58419,     0.58405,     0.58432,     0.58459,     0.58485,     0.58512,     0.58539,     0.58566,     0.58592,     0.58619,     0.58646,     0.58672,     0.58699,     0.58726,     0.58752,     0.58779,     0.58805,      0.5886,      0.5898,\n",
       "            0.59099,     0.59217,     0.59552,     0.59856,     0.60086,     0.60635,     0.60676,     0.60717,     0.60757,     0.60797,     0.60838,     0.60878,     0.60918,     0.60959,     0.60999,     0.61039,     0.61192,     0.61551,     0.61597,     0.61643,     0.61689,     0.61734,      0.6178,\n",
       "            0.61825,     0.61871,     0.61916,     0.61961,     0.62006,     0.62035,     0.62059,     0.62083,     0.62107,     0.62131,     0.62155,     0.62179,     0.62203,     0.62227,     0.62251,     0.62275,     0.62299,     0.62323,     0.62347,      0.6237,     0.62394,     0.62418,     0.62442,\n",
       "            0.62466,     0.62489,     0.62464,     0.62399,     0.62334,     0.62269,     0.62204,     0.62139,     0.62074,     0.62008,     0.61943,     0.61878,     0.61813,     0.61747,     0.61682,     0.61616,     0.61551,     0.61485,      0.6142,     0.61659,     0.61903,     0.61762,     0.61621,\n",
       "             0.6148,     0.61338,     0.61197,     0.61055,     0.60913,     0.60835,     0.61004,     0.61171,     0.61435,     0.61801,     0.61841,     0.61882,     0.61922,     0.61962,     0.62002,     0.62042,     0.62082,     0.62122,     0.62161,     0.62201,     0.62241,      0.6228,     0.62406,\n",
       "            0.62582,     0.62757,     0.62857,     0.62925,     0.62992,     0.63059,     0.63126,     0.63193,      0.6326,     0.63326,     0.62813,     0.62681,     0.62646,     0.62612,     0.62578,     0.62544,      0.6251,     0.62475,     0.62441,     0.62407,     0.62373,     0.62338,     0.62304,\n",
       "             0.6227,     0.62235,     0.62201,     0.62167,     0.62132,     0.62098,     0.62064,     0.62029,     0.61995,      0.6196,     0.61926,     0.61892,     0.61857,     0.61823,     0.61788,     0.61754,     0.61719,     0.61685,      0.6165,     0.61616,     0.61581,     0.61546,     0.60598,\n",
       "            0.60411,     0.60495,     0.60578,     0.60661,     0.60743,     0.60825,     0.60911,     0.61004,     0.61095,     0.61186,     0.61277,     0.61367,     0.61441,     0.61504,     0.61566,     0.61628,      0.6169,     0.61752,     0.61813,     0.61875,     0.61936,     0.61996,     0.62057,\n",
       "            0.62117,     0.62177,     0.62237,     0.62296,     0.62356,     0.62415,     0.62474,      0.6251,     0.62527,     0.62544,     0.62561,     0.62578,     0.62596,     0.62613,      0.6263,     0.62647,     0.62664,     0.62681,     0.62698,     0.62715,     0.62732,     0.62749,     0.62766,\n",
       "            0.62783,       0.628,     0.62817,     0.62834,     0.62851,     0.62868,     0.62885,     0.62902,     0.62919,     0.62935,     0.62952,     0.62969,     0.62986,     0.63003,     0.63019,     0.63036,     0.63053,     0.63084,     0.63138,     0.63192,     0.63246,     0.63299,     0.63353,\n",
       "            0.63406,     0.63459,     0.63512,     0.63565,     0.63618,     0.63612,     0.63575,     0.63537,       0.635,     0.63462,     0.63425,     0.63387,      0.6335,     0.63312,     0.63275,     0.63237,     0.63199,     0.63162,     0.63124,     0.63086,     0.63049,     0.63011,     0.62973,\n",
       "            0.62935,     0.62898,      0.6286,     0.62822,     0.62784,     0.62746,     0.62709,     0.62671,     0.62633,     0.62595,     0.62557,     0.62519,     0.62481,     0.62443,     0.62405,     0.62336,     0.62232,     0.62128,     0.62024,      0.6192,     0.61815,     0.61711,     0.61606,\n",
       "            0.61502,     0.61397,     0.61292,     0.61186,     0.61043,     0.60802,     0.60561,     0.60319,     0.60076,     0.59833,     0.58985,     0.58469,     0.58422,     0.58374,     0.58327,      0.5828,     0.58232,     0.58185,     0.58138,      0.5809,     0.58043,     0.57995,     0.57948,\n",
       "              0.579,     0.57852,     0.57805,     0.57757,     0.57709,     0.57662,     0.57614,     0.57566,     0.57518,     0.57471,     0.57423,     0.57375,     0.57327,     0.57279,     0.57231,     0.57183,      0.5699,     0.56053,     0.55683,     0.55559,     0.55434,      0.5531,     0.55185,\n",
       "            0.55061,     0.54936,     0.54811,     0.54685,      0.5456,     0.54434,      0.5439,     0.54432,     0.54475,     0.54518,      0.5456,     0.54602,     0.54644,     0.54686,     0.54728,      0.5477,     0.54811,     0.54853,     0.54894,     0.54791,     0.54652,     0.54512,     0.54372,\n",
       "            0.54232,     0.54092,     0.53951,     0.53811,      0.5367,     0.53528,     0.53229,     0.52801,     0.52372,     0.51976,     0.51807,     0.51638,     0.51468,     0.51298,     0.51128,     0.50957,     0.50786,     0.50615,     0.50132,     0.49088,     0.47507,     0.47601,     0.47693,\n",
       "            0.47784,     0.47875,     0.47725,     0.47362,     0.46998,     0.46632,     0.46307,     0.46247,     0.46187,     0.46126,     0.46066,     0.46005,     0.45944,     0.45884,     0.45823,     0.45762,     0.45702,     0.45641,      0.4558,     0.45519,     0.45458,     0.45397,     0.45336,\n",
       "            0.45275,     0.45214,     0.45153,     0.45091,      0.4503,     0.44969,     0.44908,     0.44846,     0.44785,     0.44723,      0.4463,     0.44469,     0.44307,     0.44145,     0.43982,     0.43819,     0.43656,     0.43492,     0.43328,     0.43164,     0.42963,     0.42268,     0.41566,\n",
       "            0.41173,     0.40964,     0.40755,     0.40545,     0.40335,     0.40124,     0.39913,     0.39701,     0.37839,     0.38015,     0.38185,     0.36511,     0.34311,     0.34125,     0.33938,     0.33751,     0.33563,     0.33375,     0.33187,     0.32998,     0.32809,     0.32619,     0.32257,\n",
       "             0.3181,     0.31362,     0.30911,     0.30352,     0.29529,     0.28697,     0.28435,     0.28273,     0.28112,      0.2795,     0.27787,     0.27625,     0.27462,     0.27299,     0.27135,     0.26972,     0.26808,     0.26643,     0.26434,     0.26004,     0.25572,     0.25138,     0.24702,\n",
       "            0.24178,     0.23442,     0.22699,     0.22168,     0.22018,     0.21867,     0.21717,     0.21566,     0.21414,     0.21263,     0.21111,     0.20959,     0.20807,     0.20654,     0.20502,     0.20349,     0.20195,     0.20042,     0.19741,     0.19385,     0.19027,     0.18667,     0.18306,\n",
       "            0.17944,     0.17109,     0.15508,     0.15272,     0.15151,     0.15029,     0.14907,     0.14785,     0.14663,     0.14541,     0.14418,     0.14296,     0.14173,      0.1405,     0.13927,     0.13803,      0.1368,     0.13556,     0.13433,     0.13309,     0.13184,      0.1306,     0.12866,\n",
       "            0.12573,     0.12278,     0.11982,     0.11686,     0.11388,      0.1109,     0.10791,     0.10483,     0.10117,    0.097493,    0.093806,    0.090103,    0.086387,    0.082656,    0.079523,    0.077881,    0.076236,    0.074588,    0.072937,    0.071284,    0.069628,    0.067968,    0.066306,\n",
       "           0.064641,    0.062973,    0.061303,    0.059629,    0.057953,    0.056273,    0.054591,    0.052941,    0.051304,    0.049664,    0.048022,    0.046377,    0.044729,    0.043078,    0.041425,    0.039768,    0.038109,    0.036447,    0.034783,    0.033115,    0.031445,    0.029771,    0.028095,\n",
       "                  0,           0,           0,           0,           0,           0,           0,           0,           0,           0,           0,           0,           0,           0,           0,           0,           0,           0,           0,           0,           0,           0,           0,\n",
       "                  0,           0,           0,           0,           0,           0,           0,           0,           0,           0,           0,           0,           0,           0,           0,           0,           0,           0,           0,           0,           0,           0,           0,\n",
       "                  0,           0,           0,           0,           0,           0,           0,           0,           0,           0,           0]]), 'Confidence', 'F1'], [array([          0,    0.001001,    0.002002,    0.003003,    0.004004,    0.005005,    0.006006,    0.007007,    0.008008,    0.009009,     0.01001,    0.011011,    0.012012,    0.013013,    0.014014,    0.015015,    0.016016,    0.017017,    0.018018,    0.019019,     0.02002,    0.021021,    0.022022,    0.023023,\n",
       "          0.024024,    0.025025,    0.026026,    0.027027,    0.028028,    0.029029,     0.03003,    0.031031,    0.032032,    0.033033,    0.034034,    0.035035,    0.036036,    0.037037,    0.038038,    0.039039,     0.04004,    0.041041,    0.042042,    0.043043,    0.044044,    0.045045,    0.046046,    0.047047,\n",
       "          0.048048,    0.049049,     0.05005,    0.051051,    0.052052,    0.053053,    0.054054,    0.055055,    0.056056,    0.057057,    0.058058,    0.059059,     0.06006,    0.061061,    0.062062,    0.063063,    0.064064,    0.065065,    0.066066,    0.067067,    0.068068,    0.069069,     0.07007,    0.071071,\n",
       "          0.072072,    0.073073,    0.074074,    0.075075,    0.076076,    0.077077,    0.078078,    0.079079,     0.08008,    0.081081,    0.082082,    0.083083,    0.084084,    0.085085,    0.086086,    0.087087,    0.088088,    0.089089,     0.09009,    0.091091,    0.092092,    0.093093,    0.094094,    0.095095,\n",
       "          0.096096,    0.097097,    0.098098,    0.099099,      0.1001,      0.1011,      0.1021,      0.1031,      0.1041,     0.10511,     0.10611,     0.10711,     0.10811,     0.10911,     0.11011,     0.11111,     0.11211,     0.11311,     0.11411,     0.11512,     0.11612,     0.11712,     0.11812,     0.11912,\n",
       "           0.12012,     0.12112,     0.12212,     0.12312,     0.12412,     0.12513,     0.12613,     0.12713,     0.12813,     0.12913,     0.13013,     0.13113,     0.13213,     0.13313,     0.13413,     0.13514,     0.13614,     0.13714,     0.13814,     0.13914,     0.14014,     0.14114,     0.14214,     0.14314,\n",
       "           0.14414,     0.14515,     0.14615,     0.14715,     0.14815,     0.14915,     0.15015,     0.15115,     0.15215,     0.15315,     0.15415,     0.15516,     0.15616,     0.15716,     0.15816,     0.15916,     0.16016,     0.16116,     0.16216,     0.16316,     0.16416,     0.16517,     0.16617,     0.16717,\n",
       "           0.16817,     0.16917,     0.17017,     0.17117,     0.17217,     0.17317,     0.17417,     0.17518,     0.17618,     0.17718,     0.17818,     0.17918,     0.18018,     0.18118,     0.18218,     0.18318,     0.18418,     0.18519,     0.18619,     0.18719,     0.18819,     0.18919,     0.19019,     0.19119,\n",
       "           0.19219,     0.19319,     0.19419,      0.1952,      0.1962,      0.1972,      0.1982,      0.1992,      0.2002,      0.2012,      0.2022,      0.2032,      0.2042,     0.20521,     0.20621,     0.20721,     0.20821,     0.20921,     0.21021,     0.21121,     0.21221,     0.21321,     0.21421,     0.21522,\n",
       "           0.21622,     0.21722,     0.21822,     0.21922,     0.22022,     0.22122,     0.22222,     0.22322,     0.22422,     0.22523,     0.22623,     0.22723,     0.22823,     0.22923,     0.23023,     0.23123,     0.23223,     0.23323,     0.23423,     0.23524,     0.23624,     0.23724,     0.23824,     0.23924,\n",
       "           0.24024,     0.24124,     0.24224,     0.24324,     0.24424,     0.24525,     0.24625,     0.24725,     0.24825,     0.24925,     0.25025,     0.25125,     0.25225,     0.25325,     0.25425,     0.25526,     0.25626,     0.25726,     0.25826,     0.25926,     0.26026,     0.26126,     0.26226,     0.26326,\n",
       "           0.26426,     0.26527,     0.26627,     0.26727,     0.26827,     0.26927,     0.27027,     0.27127,     0.27227,     0.27327,     0.27427,     0.27528,     0.27628,     0.27728,     0.27828,     0.27928,     0.28028,     0.28128,     0.28228,     0.28328,     0.28428,     0.28529,     0.28629,     0.28729,\n",
       "           0.28829,     0.28929,     0.29029,     0.29129,     0.29229,     0.29329,     0.29429,      0.2953,      0.2963,      0.2973,      0.2983,      0.2993,      0.3003,      0.3013,      0.3023,      0.3033,      0.3043,     0.30531,     0.30631,     0.30731,     0.30831,     0.30931,     0.31031,     0.31131,\n",
       "           0.31231,     0.31331,     0.31431,     0.31532,     0.31632,     0.31732,     0.31832,     0.31932,     0.32032,     0.32132,     0.32232,     0.32332,     0.32432,     0.32533,     0.32633,     0.32733,     0.32833,     0.32933,     0.33033,     0.33133,     0.33233,     0.33333,     0.33433,     0.33534,\n",
       "           0.33634,     0.33734,     0.33834,     0.33934,     0.34034,     0.34134,     0.34234,     0.34334,     0.34434,     0.34535,     0.34635,     0.34735,     0.34835,     0.34935,     0.35035,     0.35135,     0.35235,     0.35335,     0.35435,     0.35536,     0.35636,     0.35736,     0.35836,     0.35936,\n",
       "           0.36036,     0.36136,     0.36236,     0.36336,     0.36436,     0.36537,     0.36637,     0.36737,     0.36837,     0.36937,     0.37037,     0.37137,     0.37237,     0.37337,     0.37437,     0.37538,     0.37638,     0.37738,     0.37838,     0.37938,     0.38038,     0.38138,     0.38238,     0.38338,\n",
       "           0.38438,     0.38539,     0.38639,     0.38739,     0.38839,     0.38939,     0.39039,     0.39139,     0.39239,     0.39339,     0.39439,      0.3954,      0.3964,      0.3974,      0.3984,      0.3994,      0.4004,      0.4014,      0.4024,      0.4034,      0.4044,     0.40541,     0.40641,     0.40741,\n",
       "           0.40841,     0.40941,     0.41041,     0.41141,     0.41241,     0.41341,     0.41441,     0.41542,     0.41642,     0.41742,     0.41842,     0.41942,     0.42042,     0.42142,     0.42242,     0.42342,     0.42442,     0.42543,     0.42643,     0.42743,     0.42843,     0.42943,     0.43043,     0.43143,\n",
       "           0.43243,     0.43343,     0.43443,     0.43544,     0.43644,     0.43744,     0.43844,     0.43944,     0.44044,     0.44144,     0.44244,     0.44344,     0.44444,     0.44545,     0.44645,     0.44745,     0.44845,     0.44945,     0.45045,     0.45145,     0.45245,     0.45345,     0.45445,     0.45546,\n",
       "           0.45646,     0.45746,     0.45846,     0.45946,     0.46046,     0.46146,     0.46246,     0.46346,     0.46446,     0.46547,     0.46647,     0.46747,     0.46847,     0.46947,     0.47047,     0.47147,     0.47247,     0.47347,     0.47447,     0.47548,     0.47648,     0.47748,     0.47848,     0.47948,\n",
       "           0.48048,     0.48148,     0.48248,     0.48348,     0.48448,     0.48549,     0.48649,     0.48749,     0.48849,     0.48949,     0.49049,     0.49149,     0.49249,     0.49349,     0.49449,      0.4955,      0.4965,      0.4975,      0.4985,      0.4995,      0.5005,      0.5015,      0.5025,      0.5035,\n",
       "            0.5045,     0.50551,     0.50651,     0.50751,     0.50851,     0.50951,     0.51051,     0.51151,     0.51251,     0.51351,     0.51451,     0.51552,     0.51652,     0.51752,     0.51852,     0.51952,     0.52052,     0.52152,     0.52252,     0.52352,     0.52452,     0.52553,     0.52653,     0.52753,\n",
       "           0.52853,     0.52953,     0.53053,     0.53153,     0.53253,     0.53353,     0.53453,     0.53554,     0.53654,     0.53754,     0.53854,     0.53954,     0.54054,     0.54154,     0.54254,     0.54354,     0.54454,     0.54555,     0.54655,     0.54755,     0.54855,     0.54955,     0.55055,     0.55155,\n",
       "           0.55255,     0.55355,     0.55455,     0.55556,     0.55656,     0.55756,     0.55856,     0.55956,     0.56056,     0.56156,     0.56256,     0.56356,     0.56456,     0.56557,     0.56657,     0.56757,     0.56857,     0.56957,     0.57057,     0.57157,     0.57257,     0.57357,     0.57457,     0.57558,\n",
       "           0.57658,     0.57758,     0.57858,     0.57958,     0.58058,     0.58158,     0.58258,     0.58358,     0.58458,     0.58559,     0.58659,     0.58759,     0.58859,     0.58959,     0.59059,     0.59159,     0.59259,     0.59359,     0.59459,      0.5956,      0.5966,      0.5976,      0.5986,      0.5996,\n",
       "            0.6006,      0.6016,      0.6026,      0.6036,      0.6046,     0.60561,     0.60661,     0.60761,     0.60861,     0.60961,     0.61061,     0.61161,     0.61261,     0.61361,     0.61461,     0.61562,     0.61662,     0.61762,     0.61862,     0.61962,     0.62062,     0.62162,     0.62262,     0.62362,\n",
       "           0.62462,     0.62563,     0.62663,     0.62763,     0.62863,     0.62963,     0.63063,     0.63163,     0.63263,     0.63363,     0.63463,     0.63564,     0.63664,     0.63764,     0.63864,     0.63964,     0.64064,     0.64164,     0.64264,     0.64364,     0.64464,     0.64565,     0.64665,     0.64765,\n",
       "           0.64865,     0.64965,     0.65065,     0.65165,     0.65265,     0.65365,     0.65465,     0.65566,     0.65666,     0.65766,     0.65866,     0.65966,     0.66066,     0.66166,     0.66266,     0.66366,     0.66466,     0.66567,     0.66667,     0.66767,     0.66867,     0.66967,     0.67067,     0.67167,\n",
       "           0.67267,     0.67367,     0.67467,     0.67568,     0.67668,     0.67768,     0.67868,     0.67968,     0.68068,     0.68168,     0.68268,     0.68368,     0.68468,     0.68569,     0.68669,     0.68769,     0.68869,     0.68969,     0.69069,     0.69169,     0.69269,     0.69369,     0.69469,      0.6957,\n",
       "            0.6967,      0.6977,      0.6987,      0.6997,      0.7007,      0.7017,      0.7027,      0.7037,      0.7047,     0.70571,     0.70671,     0.70771,     0.70871,     0.70971,     0.71071,     0.71171,     0.71271,     0.71371,     0.71471,     0.71572,     0.71672,     0.71772,     0.71872,     0.71972,\n",
       "           0.72072,     0.72172,     0.72272,     0.72372,     0.72472,     0.72573,     0.72673,     0.72773,     0.72873,     0.72973,     0.73073,     0.73173,     0.73273,     0.73373,     0.73473,     0.73574,     0.73674,     0.73774,     0.73874,     0.73974,     0.74074,     0.74174,     0.74274,     0.74374,\n",
       "           0.74474,     0.74575,     0.74675,     0.74775,     0.74875,     0.74975,     0.75075,     0.75175,     0.75275,     0.75375,     0.75475,     0.75576,     0.75676,     0.75776,     0.75876,     0.75976,     0.76076,     0.76176,     0.76276,     0.76376,     0.76476,     0.76577,     0.76677,     0.76777,\n",
       "           0.76877,     0.76977,     0.77077,     0.77177,     0.77277,     0.77377,     0.77477,     0.77578,     0.77678,     0.77778,     0.77878,     0.77978,     0.78078,     0.78178,     0.78278,     0.78378,     0.78478,     0.78579,     0.78679,     0.78779,     0.78879,     0.78979,     0.79079,     0.79179,\n",
       "           0.79279,     0.79379,     0.79479,      0.7958,      0.7968,      0.7978,      0.7988,      0.7998,      0.8008,      0.8018,      0.8028,      0.8038,      0.8048,     0.80581,     0.80681,     0.80781,     0.80881,     0.80981,     0.81081,     0.81181,     0.81281,     0.81381,     0.81481,     0.81582,\n",
       "           0.81682,     0.81782,     0.81882,     0.81982,     0.82082,     0.82182,     0.82282,     0.82382,     0.82482,     0.82583,     0.82683,     0.82783,     0.82883,     0.82983,     0.83083,     0.83183,     0.83283,     0.83383,     0.83483,     0.83584,     0.83684,     0.83784,     0.83884,     0.83984,\n",
       "           0.84084,     0.84184,     0.84284,     0.84384,     0.84484,     0.84585,     0.84685,     0.84785,     0.84885,     0.84985,     0.85085,     0.85185,     0.85285,     0.85385,     0.85485,     0.85586,     0.85686,     0.85786,     0.85886,     0.85986,     0.86086,     0.86186,     0.86286,     0.86386,\n",
       "           0.86486,     0.86587,     0.86687,     0.86787,     0.86887,     0.86987,     0.87087,     0.87187,     0.87287,     0.87387,     0.87487,     0.87588,     0.87688,     0.87788,     0.87888,     0.87988,     0.88088,     0.88188,     0.88288,     0.88388,     0.88488,     0.88589,     0.88689,     0.88789,\n",
       "           0.88889,     0.88989,     0.89089,     0.89189,     0.89289,     0.89389,     0.89489,      0.8959,      0.8969,      0.8979,      0.8989,      0.8999,      0.9009,      0.9019,      0.9029,      0.9039,      0.9049,     0.90591,     0.90691,     0.90791,     0.90891,     0.90991,     0.91091,     0.91191,\n",
       "           0.91291,     0.91391,     0.91491,     0.91592,     0.91692,     0.91792,     0.91892,     0.91992,     0.92092,     0.92192,     0.92292,     0.92392,     0.92492,     0.92593,     0.92693,     0.92793,     0.92893,     0.92993,     0.93093,     0.93193,     0.93293,     0.93393,     0.93493,     0.93594,\n",
       "           0.93694,     0.93794,     0.93894,     0.93994,     0.94094,     0.94194,     0.94294,     0.94394,     0.94494,     0.94595,     0.94695,     0.94795,     0.94895,     0.94995,     0.95095,     0.95195,     0.95295,     0.95395,     0.95495,     0.95596,     0.95696,     0.95796,     0.95896,     0.95996,\n",
       "           0.96096,     0.96196,     0.96296,     0.96396,     0.96496,     0.96597,     0.96697,     0.96797,     0.96897,     0.96997,     0.97097,     0.97197,     0.97297,     0.97397,     0.97497,     0.97598,     0.97698,     0.97798,     0.97898,     0.97998,     0.98098,     0.98198,     0.98298,     0.98398,\n",
       "           0.98498,     0.98599,     0.98699,     0.98799,     0.98899,     0.98999,     0.99099,     0.99199,     0.99299,     0.99399,     0.99499,       0.996,       0.997,       0.998,       0.999,           1]), array([[    0.16914,     0.16914,     0.20787,     0.23487,     0.24514,     0.25393,     0.25651,     0.26208,     0.26885,     0.27413,     0.27655,     0.27999,     0.29096,     0.29962,     0.30616,     0.30742,     0.31176,     0.31285,     0.31645,      0.3197,     0.32715,     0.32813,      0.3291,\n",
       "            0.33134,     0.33558,     0.33707,     0.34027,     0.34153,     0.34282,     0.34414,     0.34605,     0.35071,     0.35418,     0.35491,     0.35564,      0.3565,     0.35772,     0.35875,     0.35923,     0.35971,      0.3602,     0.36068,     0.36382,     0.36543,     0.36701,     0.36856,\n",
       "            0.37685,     0.37841,     0.37992,     0.38133,     0.38342,     0.38692,     0.38441,     0.38399,     0.38485,     0.38571,     0.38666,     0.38788,     0.38911,      0.3866,     0.38607,     0.38369,       0.386,     0.38703,     0.38805,     0.39007,       0.393,     0.39444,     0.39852,\n",
       "            0.39911,     0.39969,     0.40027,     0.40085,     0.40143,     0.40207,     0.40275,     0.40342,     0.40409,     0.40476,     0.40589,     0.40721,     0.40917,     0.41191,     0.41217,     0.41244,     0.41271,     0.41297,     0.41324,     0.41351,     0.41377,     0.41404,      0.4143,\n",
       "            0.41457,     0.41484,      0.4151,     0.41753,     0.41903,     0.41933,     0.41963,     0.41993,     0.42023,     0.42053,     0.42082,     0.42112,     0.42142,     0.42172,     0.42202,     0.42232,     0.42292,     0.42365,     0.42439,     0.42512,     0.42586,     0.43012,     0.43227,\n",
       "            0.43453,     0.43697,     0.43676,     0.43582,     0.43487,     0.43393,     0.43298,     0.43299,     0.43434,     0.43568,     0.43726,     0.43908,     0.44107,     0.44346,     0.44475,     0.44526,     0.44578,      0.4463,     0.44681,     0.44733,     0.44784,     0.44836,     0.45094,\n",
       "            0.45416,     0.45652,     0.46045,     0.46646,     0.46809,     0.46972,     0.47505,     0.47483,     0.47441,     0.47399,     0.47357,     0.47315,     0.47273,      0.4723,     0.47188,     0.47146,     0.47104,     0.47062,     0.47019,     0.47032,     0.47092,     0.47152,     0.47212,\n",
       "            0.47272,     0.47332,     0.47392,     0.47452,     0.47536,     0.47635,     0.47734,     0.47834,     0.47933,     0.48688,     0.48385,     0.48149,     0.47912,     0.47941,     0.48024,     0.48107,      0.4819,     0.48272,     0.48355,     0.48502,      0.4869,     0.48877,     0.48665,\n",
       "            0.48358,      0.4845,      0.4855,      0.4865,      0.4875,      0.4885,      0.4891,     0.48944,     0.48979,     0.49013,     0.49048,     0.49082,     0.49116,     0.49151,     0.49185,     0.49219,     0.49254,     0.49288,     0.49323,     0.49357,     0.49391,     0.49426,     0.49507,\n",
       "            0.49614,     0.49721,     0.49828,     0.49935,     0.50058,     0.50206,     0.50353,       0.505,     0.50623,     0.50722,      0.5082,     0.50918,     0.51017,     0.51115,     0.51191,     0.51247,     0.51302,     0.51358,     0.51413,     0.51469,     0.51524,      0.5158,     0.51635,\n",
       "            0.51691,     0.51746,     0.51591,     0.51329,     0.52028,     0.52468,     0.52699,      0.5293,     0.53137,     0.53292,     0.53448,     0.53603,     0.53767,     0.54077,     0.54387,     0.54479,     0.54535,     0.54591,     0.54647,     0.54703,     0.54759,     0.54815,     0.54871,\n",
       "            0.54927,     0.54984,      0.5504,     0.55096,     0.55334,     0.55823,     0.55996,     0.56155,     0.56313,     0.56472,      0.5659,     0.56625,      0.5666,     0.56694,     0.56729,     0.56764,     0.56799,     0.56833,     0.56868,     0.56903,     0.56938,     0.56972,     0.57007,\n",
       "            0.57042,     0.57077,     0.57111,     0.57146,     0.57181,     0.57216,     0.57251,     0.57285,      0.5732,     0.57367,      0.5742,     0.57474,     0.57528,     0.57582,     0.57636,      0.5769,     0.57743,     0.57797,     0.57851,     0.57905,     0.57959,     0.58013,     0.58066,\n",
       "            0.58088,     0.58001,     0.57914,     0.57827,      0.5774,     0.57653,     0.57565,     0.57658,     0.57851,     0.58043,     0.58236,     0.58453,     0.58693,     0.58934,     0.59167,     0.59311,     0.59455,       0.596,     0.59744,     0.59888,     0.60019,     0.60104,     0.60189,\n",
       "            0.60274,     0.60359,     0.60444,     0.60529,     0.60614,     0.60698,     0.60783,     0.60868,     0.61385,     0.61759,     0.61737,     0.61716,     0.61694,     0.61673,     0.61651,      0.6163,     0.61609,     0.61587,     0.61566,     0.61544,     0.61523,     0.61501,      0.6148,\n",
       "            0.61458,     0.61437,     0.61415,     0.61394,     0.61372,     0.61351,     0.61329,     0.61308,     0.61287,     0.61265,     0.61244,     0.61222,     0.61201,     0.61242,     0.61311,      0.6138,     0.61449,     0.61518,     0.61587,     0.61657,     0.61726,     0.61795,     0.61864,\n",
       "            0.61933,     0.62002,     0.62071,     0.62115,     0.62091,     0.62068,     0.62044,     0.62021,     0.61998,     0.61974,     0.61951,     0.61927,     0.61904,      0.6188,     0.61857,     0.61834,      0.6181,     0.61787,     0.61763,      0.6174,     0.61716,     0.61693,      0.6167,\n",
       "            0.61646,     0.61623,     0.61599,     0.61576,     0.61553,     0.61562,     0.61622,     0.61682,     0.61742,     0.61801,     0.61861,     0.61921,      0.6198,      0.6204,       0.621,      0.6216,     0.62219,     0.62279,     0.62339,     0.62399,     0.62458,     0.62582,     0.62853,\n",
       "            0.63124,     0.63396,     0.64168,     0.64879,     0.65421,     0.66737,     0.66836,     0.66935,     0.67033,     0.67132,      0.6723,     0.67329,     0.67427,     0.67526,     0.67625,     0.67723,     0.68101,     0.68998,     0.69113,     0.69228,     0.69344,     0.69459,     0.69575,\n",
       "             0.6969,     0.69805,     0.69921,     0.70036,     0.70151,     0.70224,     0.70286,     0.70348,      0.7041,     0.70472,     0.70534,     0.70596,     0.70658,      0.7072,     0.70782,     0.70843,     0.70905,     0.70967,     0.71029,     0.71091,     0.71153,     0.71215,     0.71277,\n",
       "            0.71339,     0.71401,     0.71411,      0.7138,     0.71349,     0.71317,     0.71286,     0.71255,     0.71223,     0.71192,     0.71161,      0.7113,     0.71098,     0.71067,     0.71036,     0.71004,     0.70973,     0.70942,      0.7091,     0.71557,     0.72221,     0.72154,     0.72087,\n",
       "             0.7202,     0.71953,     0.71886,     0.71819,     0.71751,     0.71796,     0.72267,     0.72738,     0.73489,     0.74546,     0.74663,     0.74781,     0.74898,     0.75016,     0.75133,     0.75251,     0.75368,     0.75486,     0.75603,     0.75721,     0.75838,     0.75956,      0.7633,\n",
       "             0.7686,      0.7739,     0.77695,     0.77902,     0.78109,     0.78316,     0.78523,      0.7873,     0.78937,     0.79144,     0.80471,     0.80423,      0.8041,     0.80398,     0.80385,     0.80372,     0.80359,     0.80347,     0.80334,     0.80321,     0.80309,     0.80296,     0.80283,\n",
       "             0.8027,     0.80258,     0.80245,     0.80232,     0.80219,     0.80207,     0.80194,     0.80181,     0.80168,     0.80156,     0.80143,      0.8013,     0.80118,     0.80105,     0.80092,     0.80079,     0.80067,     0.80054,     0.80041,     0.80028,     0.80016,     0.80003,     0.79641,\n",
       "            0.79777,     0.80069,     0.80361,     0.80652,     0.80944,     0.81236,     0.81545,     0.81876,     0.82207,     0.82538,      0.8287,     0.83201,     0.83472,     0.83704,     0.83935,     0.84166,     0.84398,     0.84629,     0.84861,     0.85092,     0.85324,     0.85554,     0.85785,\n",
       "            0.86015,     0.86245,     0.86475,     0.86706,     0.86936,     0.87166,     0.87397,     0.87537,     0.87605,     0.87673,      0.8774,     0.87808,     0.87875,     0.87943,     0.88011,     0.88078,     0.88146,     0.88214,     0.88281,     0.88349,     0.88417,     0.88484,     0.88552,\n",
       "            0.88619,     0.88687,     0.88755,     0.88822,      0.8889,     0.88958,     0.89025,     0.89093,     0.89161,     0.89228,     0.89296,     0.89364,     0.89431,     0.89499,     0.89566,     0.89634,     0.89702,     0.89827,     0.90047,     0.90268,     0.90488,     0.90708,     0.90928,\n",
       "            0.91148,     0.91368,     0.91588,     0.91808,     0.92028,     0.92101,     0.92095,     0.92088,     0.92082,     0.92075,     0.92069,     0.92062,     0.92056,      0.9205,     0.92043,     0.92037,      0.9203,     0.92024,     0.92017,     0.92011,     0.92005,     0.91998,     0.91992,\n",
       "            0.91985,     0.91979,     0.91972,     0.91966,      0.9196,     0.91953,     0.91947,      0.9194,     0.91934,     0.91927,     0.91921,     0.91915,     0.91908,     0.91902,     0.91895,     0.91883,     0.91865,     0.91846,     0.91828,     0.91809,     0.91791,     0.91772,     0.91754,\n",
       "            0.91735,     0.91717,     0.91698,      0.9168,     0.91654,      0.9161,     0.91565,     0.91521,     0.91477,     0.91432,      0.9127,     0.91172,     0.91163,     0.91153,     0.91144,     0.91134,     0.91125,     0.91115,     0.91106,     0.91097,     0.91087,     0.91078,     0.91068,\n",
       "            0.91059,     0.91049,      0.9104,      0.9103,     0.91021,     0.91012,     0.91002,     0.90993,     0.90983,     0.90974,     0.90964,     0.90955,     0.90945,     0.90936,     0.90926,     0.90917,     0.90877,     0.90683,     0.90606,     0.90579,     0.90552,     0.90525,     0.90498,\n",
       "            0.90471,     0.90444,     0.90417,      0.9039,     0.90364,     0.90337,     0.90437,     0.90674,     0.90912,     0.91149,     0.91386,     0.91624,     0.91861,     0.92099,     0.92336,     0.92573,     0.92811,     0.93048,     0.93285,     0.93315,     0.93293,     0.93271,     0.93248,\n",
       "            0.93226,     0.93203,     0.93181,     0.93158,     0.93136,     0.93113,     0.93063,     0.92991,     0.92919,     0.92853,     0.92823,     0.92793,     0.92763,     0.92732,     0.92702,     0.92672,     0.92642,     0.92612,     0.92523,     0.92328,      0.9264,     0.93355,     0.94069,\n",
       "            0.94784,     0.95498,     0.95811,      0.9577,     0.95729,     0.95688,     0.95651,     0.95644,     0.95636,     0.95629,     0.95622,     0.95614,     0.95607,       0.956,     0.95592,     0.95585,     0.95577,      0.9557,     0.95563,     0.95555,     0.95548,     0.95541,     0.95533,\n",
       "            0.95526,     0.95519,     0.95511,     0.95504,     0.95496,     0.95489,     0.95482,     0.95474,     0.95467,      0.9546,     0.95448,     0.95427,     0.95406,     0.95385,     0.95363,     0.95342,     0.95321,       0.953,     0.95279,     0.95258,     0.95231,     0.95134,     0.95036,\n",
       "             0.9498,     0.94948,     0.94917,     0.94885,     0.94853,     0.94821,      0.9479,     0.94758,     0.95212,      0.9749,     0.99768,           1,           1,           1,           1,           1,           1,           1,           1,           1,           1,           1,           1,\n",
       "                  1,           1,           1,           1,           1,           1,           1,           1,           1,           1,           1,           1,           1,           1,           1,           1,           1,           1,           1,           1,           1,           1,           1,\n",
       "                  1,           1,           1,           1,           1,           1,           1,           1,           1,           1,           1,           1,           1,           1,           1,           1,           1,           1,           1,           1,           1,           1,           1,\n",
       "                  1,           1,           1,           1,           1,           1,           1,           1,           1,           1,           1,           1,           1,           1,           1,           1,           1,           1,           1,           1,           1,           1,           1,\n",
       "                  1,           1,           1,           1,           1,           1,           1,           1,           1,           1,           1,           1,           1,           1,           1,           1,           1,           1,           1,           1,           1,           1,           1,\n",
       "                  1,           1,           1,           1,           1,           1,           1,           1,           1,           1,           1,           1,           1,           1,           1,           1,           1,           1,           1,           1,           1,           1,           1,\n",
       "                  1,           1,           1,           1,           1,           1,           1,           1,           1,           1,           1,           1,           1,           1,           1,           1,           1,           1,           1,           1,           1,           1,           1,\n",
       "                  1,           1,           1,           1,           1,           1,           1,           1,           1,           1,           1,           1,           1,           1,           1,           1,           1,           1,           1,           1,           1,           1,           1,\n",
       "                  1,           1,           1,           1,           1,           1,           1,           1,           1,           1,           1]]), 'Confidence', 'Precision'], [array([          0,    0.001001,    0.002002,    0.003003,    0.004004,    0.005005,    0.006006,    0.007007,    0.008008,    0.009009,     0.01001,    0.011011,    0.012012,    0.013013,    0.014014,    0.015015,    0.016016,    0.017017,    0.018018,    0.019019,     0.02002,    0.021021,    0.022022,    0.023023,\n",
       "          0.024024,    0.025025,    0.026026,    0.027027,    0.028028,    0.029029,     0.03003,    0.031031,    0.032032,    0.033033,    0.034034,    0.035035,    0.036036,    0.037037,    0.038038,    0.039039,     0.04004,    0.041041,    0.042042,    0.043043,    0.044044,    0.045045,    0.046046,    0.047047,\n",
       "          0.048048,    0.049049,     0.05005,    0.051051,    0.052052,    0.053053,    0.054054,    0.055055,    0.056056,    0.057057,    0.058058,    0.059059,     0.06006,    0.061061,    0.062062,    0.063063,    0.064064,    0.065065,    0.066066,    0.067067,    0.068068,    0.069069,     0.07007,    0.071071,\n",
       "          0.072072,    0.073073,    0.074074,    0.075075,    0.076076,    0.077077,    0.078078,    0.079079,     0.08008,    0.081081,    0.082082,    0.083083,    0.084084,    0.085085,    0.086086,    0.087087,    0.088088,    0.089089,     0.09009,    0.091091,    0.092092,    0.093093,    0.094094,    0.095095,\n",
       "          0.096096,    0.097097,    0.098098,    0.099099,      0.1001,      0.1011,      0.1021,      0.1031,      0.1041,     0.10511,     0.10611,     0.10711,     0.10811,     0.10911,     0.11011,     0.11111,     0.11211,     0.11311,     0.11411,     0.11512,     0.11612,     0.11712,     0.11812,     0.11912,\n",
       "           0.12012,     0.12112,     0.12212,     0.12312,     0.12412,     0.12513,     0.12613,     0.12713,     0.12813,     0.12913,     0.13013,     0.13113,     0.13213,     0.13313,     0.13413,     0.13514,     0.13614,     0.13714,     0.13814,     0.13914,     0.14014,     0.14114,     0.14214,     0.14314,\n",
       "           0.14414,     0.14515,     0.14615,     0.14715,     0.14815,     0.14915,     0.15015,     0.15115,     0.15215,     0.15315,     0.15415,     0.15516,     0.15616,     0.15716,     0.15816,     0.15916,     0.16016,     0.16116,     0.16216,     0.16316,     0.16416,     0.16517,     0.16617,     0.16717,\n",
       "           0.16817,     0.16917,     0.17017,     0.17117,     0.17217,     0.17317,     0.17417,     0.17518,     0.17618,     0.17718,     0.17818,     0.17918,     0.18018,     0.18118,     0.18218,     0.18318,     0.18418,     0.18519,     0.18619,     0.18719,     0.18819,     0.18919,     0.19019,     0.19119,\n",
       "           0.19219,     0.19319,     0.19419,      0.1952,      0.1962,      0.1972,      0.1982,      0.1992,      0.2002,      0.2012,      0.2022,      0.2032,      0.2042,     0.20521,     0.20621,     0.20721,     0.20821,     0.20921,     0.21021,     0.21121,     0.21221,     0.21321,     0.21421,     0.21522,\n",
       "           0.21622,     0.21722,     0.21822,     0.21922,     0.22022,     0.22122,     0.22222,     0.22322,     0.22422,     0.22523,     0.22623,     0.22723,     0.22823,     0.22923,     0.23023,     0.23123,     0.23223,     0.23323,     0.23423,     0.23524,     0.23624,     0.23724,     0.23824,     0.23924,\n",
       "           0.24024,     0.24124,     0.24224,     0.24324,     0.24424,     0.24525,     0.24625,     0.24725,     0.24825,     0.24925,     0.25025,     0.25125,     0.25225,     0.25325,     0.25425,     0.25526,     0.25626,     0.25726,     0.25826,     0.25926,     0.26026,     0.26126,     0.26226,     0.26326,\n",
       "           0.26426,     0.26527,     0.26627,     0.26727,     0.26827,     0.26927,     0.27027,     0.27127,     0.27227,     0.27327,     0.27427,     0.27528,     0.27628,     0.27728,     0.27828,     0.27928,     0.28028,     0.28128,     0.28228,     0.28328,     0.28428,     0.28529,     0.28629,     0.28729,\n",
       "           0.28829,     0.28929,     0.29029,     0.29129,     0.29229,     0.29329,     0.29429,      0.2953,      0.2963,      0.2973,      0.2983,      0.2993,      0.3003,      0.3013,      0.3023,      0.3033,      0.3043,     0.30531,     0.30631,     0.30731,     0.30831,     0.30931,     0.31031,     0.31131,\n",
       "           0.31231,     0.31331,     0.31431,     0.31532,     0.31632,     0.31732,     0.31832,     0.31932,     0.32032,     0.32132,     0.32232,     0.32332,     0.32432,     0.32533,     0.32633,     0.32733,     0.32833,     0.32933,     0.33033,     0.33133,     0.33233,     0.33333,     0.33433,     0.33534,\n",
       "           0.33634,     0.33734,     0.33834,     0.33934,     0.34034,     0.34134,     0.34234,     0.34334,     0.34434,     0.34535,     0.34635,     0.34735,     0.34835,     0.34935,     0.35035,     0.35135,     0.35235,     0.35335,     0.35435,     0.35536,     0.35636,     0.35736,     0.35836,     0.35936,\n",
       "           0.36036,     0.36136,     0.36236,     0.36336,     0.36436,     0.36537,     0.36637,     0.36737,     0.36837,     0.36937,     0.37037,     0.37137,     0.37237,     0.37337,     0.37437,     0.37538,     0.37638,     0.37738,     0.37838,     0.37938,     0.38038,     0.38138,     0.38238,     0.38338,\n",
       "           0.38438,     0.38539,     0.38639,     0.38739,     0.38839,     0.38939,     0.39039,     0.39139,     0.39239,     0.39339,     0.39439,      0.3954,      0.3964,      0.3974,      0.3984,      0.3994,      0.4004,      0.4014,      0.4024,      0.4034,      0.4044,     0.40541,     0.40641,     0.40741,\n",
       "           0.40841,     0.40941,     0.41041,     0.41141,     0.41241,     0.41341,     0.41441,     0.41542,     0.41642,     0.41742,     0.41842,     0.41942,     0.42042,     0.42142,     0.42242,     0.42342,     0.42442,     0.42543,     0.42643,     0.42743,     0.42843,     0.42943,     0.43043,     0.43143,\n",
       "           0.43243,     0.43343,     0.43443,     0.43544,     0.43644,     0.43744,     0.43844,     0.43944,     0.44044,     0.44144,     0.44244,     0.44344,     0.44444,     0.44545,     0.44645,     0.44745,     0.44845,     0.44945,     0.45045,     0.45145,     0.45245,     0.45345,     0.45445,     0.45546,\n",
       "           0.45646,     0.45746,     0.45846,     0.45946,     0.46046,     0.46146,     0.46246,     0.46346,     0.46446,     0.46547,     0.46647,     0.46747,     0.46847,     0.46947,     0.47047,     0.47147,     0.47247,     0.47347,     0.47447,     0.47548,     0.47648,     0.47748,     0.47848,     0.47948,\n",
       "           0.48048,     0.48148,     0.48248,     0.48348,     0.48448,     0.48549,     0.48649,     0.48749,     0.48849,     0.48949,     0.49049,     0.49149,     0.49249,     0.49349,     0.49449,      0.4955,      0.4965,      0.4975,      0.4985,      0.4995,      0.5005,      0.5015,      0.5025,      0.5035,\n",
       "            0.5045,     0.50551,     0.50651,     0.50751,     0.50851,     0.50951,     0.51051,     0.51151,     0.51251,     0.51351,     0.51451,     0.51552,     0.51652,     0.51752,     0.51852,     0.51952,     0.52052,     0.52152,     0.52252,     0.52352,     0.52452,     0.52553,     0.52653,     0.52753,\n",
       "           0.52853,     0.52953,     0.53053,     0.53153,     0.53253,     0.53353,     0.53453,     0.53554,     0.53654,     0.53754,     0.53854,     0.53954,     0.54054,     0.54154,     0.54254,     0.54354,     0.54454,     0.54555,     0.54655,     0.54755,     0.54855,     0.54955,     0.55055,     0.55155,\n",
       "           0.55255,     0.55355,     0.55455,     0.55556,     0.55656,     0.55756,     0.55856,     0.55956,     0.56056,     0.56156,     0.56256,     0.56356,     0.56456,     0.56557,     0.56657,     0.56757,     0.56857,     0.56957,     0.57057,     0.57157,     0.57257,     0.57357,     0.57457,     0.57558,\n",
       "           0.57658,     0.57758,     0.57858,     0.57958,     0.58058,     0.58158,     0.58258,     0.58358,     0.58458,     0.58559,     0.58659,     0.58759,     0.58859,     0.58959,     0.59059,     0.59159,     0.59259,     0.59359,     0.59459,      0.5956,      0.5966,      0.5976,      0.5986,      0.5996,\n",
       "            0.6006,      0.6016,      0.6026,      0.6036,      0.6046,     0.60561,     0.60661,     0.60761,     0.60861,     0.60961,     0.61061,     0.61161,     0.61261,     0.61361,     0.61461,     0.61562,     0.61662,     0.61762,     0.61862,     0.61962,     0.62062,     0.62162,     0.62262,     0.62362,\n",
       "           0.62462,     0.62563,     0.62663,     0.62763,     0.62863,     0.62963,     0.63063,     0.63163,     0.63263,     0.63363,     0.63463,     0.63564,     0.63664,     0.63764,     0.63864,     0.63964,     0.64064,     0.64164,     0.64264,     0.64364,     0.64464,     0.64565,     0.64665,     0.64765,\n",
       "           0.64865,     0.64965,     0.65065,     0.65165,     0.65265,     0.65365,     0.65465,     0.65566,     0.65666,     0.65766,     0.65866,     0.65966,     0.66066,     0.66166,     0.66266,     0.66366,     0.66466,     0.66567,     0.66667,     0.66767,     0.66867,     0.66967,     0.67067,     0.67167,\n",
       "           0.67267,     0.67367,     0.67467,     0.67568,     0.67668,     0.67768,     0.67868,     0.67968,     0.68068,     0.68168,     0.68268,     0.68368,     0.68468,     0.68569,     0.68669,     0.68769,     0.68869,     0.68969,     0.69069,     0.69169,     0.69269,     0.69369,     0.69469,      0.6957,\n",
       "            0.6967,      0.6977,      0.6987,      0.6997,      0.7007,      0.7017,      0.7027,      0.7037,      0.7047,     0.70571,     0.70671,     0.70771,     0.70871,     0.70971,     0.71071,     0.71171,     0.71271,     0.71371,     0.71471,     0.71572,     0.71672,     0.71772,     0.71872,     0.71972,\n",
       "           0.72072,     0.72172,     0.72272,     0.72372,     0.72472,     0.72573,     0.72673,     0.72773,     0.72873,     0.72973,     0.73073,     0.73173,     0.73273,     0.73373,     0.73473,     0.73574,     0.73674,     0.73774,     0.73874,     0.73974,     0.74074,     0.74174,     0.74274,     0.74374,\n",
       "           0.74474,     0.74575,     0.74675,     0.74775,     0.74875,     0.74975,     0.75075,     0.75175,     0.75275,     0.75375,     0.75475,     0.75576,     0.75676,     0.75776,     0.75876,     0.75976,     0.76076,     0.76176,     0.76276,     0.76376,     0.76476,     0.76577,     0.76677,     0.76777,\n",
       "           0.76877,     0.76977,     0.77077,     0.77177,     0.77277,     0.77377,     0.77477,     0.77578,     0.77678,     0.77778,     0.77878,     0.77978,     0.78078,     0.78178,     0.78278,     0.78378,     0.78478,     0.78579,     0.78679,     0.78779,     0.78879,     0.78979,     0.79079,     0.79179,\n",
       "           0.79279,     0.79379,     0.79479,      0.7958,      0.7968,      0.7978,      0.7988,      0.7998,      0.8008,      0.8018,      0.8028,      0.8038,      0.8048,     0.80581,     0.80681,     0.80781,     0.80881,     0.80981,     0.81081,     0.81181,     0.81281,     0.81381,     0.81481,     0.81582,\n",
       "           0.81682,     0.81782,     0.81882,     0.81982,     0.82082,     0.82182,     0.82282,     0.82382,     0.82482,     0.82583,     0.82683,     0.82783,     0.82883,     0.82983,     0.83083,     0.83183,     0.83283,     0.83383,     0.83483,     0.83584,     0.83684,     0.83784,     0.83884,     0.83984,\n",
       "           0.84084,     0.84184,     0.84284,     0.84384,     0.84484,     0.84585,     0.84685,     0.84785,     0.84885,     0.84985,     0.85085,     0.85185,     0.85285,     0.85385,     0.85485,     0.85586,     0.85686,     0.85786,     0.85886,     0.85986,     0.86086,     0.86186,     0.86286,     0.86386,\n",
       "           0.86486,     0.86587,     0.86687,     0.86787,     0.86887,     0.86987,     0.87087,     0.87187,     0.87287,     0.87387,     0.87487,     0.87588,     0.87688,     0.87788,     0.87888,     0.87988,     0.88088,     0.88188,     0.88288,     0.88388,     0.88488,     0.88589,     0.88689,     0.88789,\n",
       "           0.88889,     0.88989,     0.89089,     0.89189,     0.89289,     0.89389,     0.89489,      0.8959,      0.8969,      0.8979,      0.8989,      0.8999,      0.9009,      0.9019,      0.9029,      0.9039,      0.9049,     0.90591,     0.90691,     0.90791,     0.90891,     0.90991,     0.91091,     0.91191,\n",
       "           0.91291,     0.91391,     0.91491,     0.91592,     0.91692,     0.91792,     0.91892,     0.91992,     0.92092,     0.92192,     0.92292,     0.92392,     0.92492,     0.92593,     0.92693,     0.92793,     0.92893,     0.92993,     0.93093,     0.93193,     0.93293,     0.93393,     0.93493,     0.93594,\n",
       "           0.93694,     0.93794,     0.93894,     0.93994,     0.94094,     0.94194,     0.94294,     0.94394,     0.94494,     0.94595,     0.94695,     0.94795,     0.94895,     0.94995,     0.95095,     0.95195,     0.95295,     0.95395,     0.95495,     0.95596,     0.95696,     0.95796,     0.95896,     0.95996,\n",
       "           0.96096,     0.96196,     0.96296,     0.96396,     0.96496,     0.96597,     0.96697,     0.96797,     0.96897,     0.96997,     0.97097,     0.97197,     0.97297,     0.97397,     0.97497,     0.97598,     0.97698,     0.97798,     0.97898,     0.97998,     0.98098,     0.98198,     0.98298,     0.98398,\n",
       "           0.98498,     0.98599,     0.98699,     0.98799,     0.98899,     0.98999,     0.99099,     0.99199,     0.99299,     0.99399,     0.99499,       0.996,       0.997,       0.998,       0.999,           1]), array([[    0.79167,     0.79167,     0.79167,     0.79167,     0.77778,     0.77778,     0.76389,        0.75,     0.73611,     0.73611,     0.73611,     0.73611,     0.73611,     0.73611,     0.73611,     0.72222,     0.72222,     0.72222,     0.72222,     0.72222,     0.72222,     0.72222,     0.72222,\n",
       "            0.72222,     0.72222,     0.72222,     0.72222,     0.72222,     0.72222,     0.72222,     0.72222,     0.72222,     0.72222,     0.72222,     0.72222,     0.72222,     0.72222,     0.72222,     0.72222,     0.72222,     0.72222,     0.72222,     0.72222,     0.72222,     0.72222,     0.72222,\n",
       "            0.72222,     0.72222,     0.72222,     0.72222,     0.72222,     0.71879,     0.71119,     0.70833,     0.70833,     0.70833,     0.70833,     0.70833,     0.70833,     0.69444,     0.69002,     0.68311,     0.68056,     0.68056,     0.68056,     0.68056,     0.68056,     0.68056,     0.68056,\n",
       "            0.68056,     0.68056,     0.68056,     0.68056,     0.68056,     0.68056,     0.68056,     0.68056,     0.68056,     0.68056,     0.68056,     0.68056,     0.68056,     0.68056,     0.68056,     0.68056,     0.68056,     0.68056,     0.68056,     0.68056,     0.68056,     0.68056,     0.68056,\n",
       "            0.68056,     0.68056,     0.68056,     0.68056,     0.68056,     0.68056,     0.68056,     0.68056,     0.68056,     0.68056,     0.68056,     0.68056,     0.68056,     0.68056,     0.68056,     0.68056,     0.68056,     0.68056,     0.68056,     0.68056,     0.68056,     0.68056,     0.68056,\n",
       "            0.68056,     0.68056,     0.67853,     0.67594,     0.67335,     0.67076,     0.66817,     0.66667,     0.66667,     0.66667,     0.66667,     0.66667,     0.66667,     0.66667,     0.66667,     0.66667,     0.66667,     0.66667,     0.66667,     0.66667,     0.66667,     0.66667,     0.66667,\n",
       "            0.66667,     0.66667,     0.66667,     0.66667,     0.66667,     0.66667,     0.66667,     0.66557,     0.66446,     0.66334,     0.66222,     0.66111,     0.65999,     0.65887,     0.65776,     0.65664,     0.65552,     0.65441,     0.65329,     0.65278,     0.65278,     0.65278,     0.65278,\n",
       "            0.65278,     0.65278,     0.65278,     0.65278,     0.65278,     0.65278,     0.65278,     0.65278,     0.65278,     0.65278,     0.63799,     0.63199,       0.626,       0.625,       0.625,       0.625,       0.625,       0.625,       0.625,       0.625,       0.625,       0.625,     0.61885,\n",
       "            0.61126,     0.61111,     0.61111,     0.61111,     0.61111,     0.61111,     0.61111,     0.61111,     0.61111,     0.61111,     0.61111,     0.61111,     0.61111,     0.61111,     0.61111,     0.61111,     0.61111,     0.61111,     0.61111,     0.61111,     0.61111,     0.61111,     0.61111,\n",
       "            0.61111,     0.61111,     0.61111,     0.61111,     0.61111,     0.61111,     0.61111,     0.61111,     0.61111,     0.61111,     0.61111,     0.61111,     0.61111,     0.61111,     0.61111,     0.61111,     0.61111,     0.61111,     0.61111,     0.61111,     0.61111,     0.61111,     0.61111,\n",
       "            0.61111,     0.61111,     0.60691,     0.60058,     0.59722,     0.59722,     0.59722,     0.59722,     0.59722,     0.59722,     0.59722,     0.59722,     0.59722,     0.59722,     0.59722,     0.59722,     0.59722,     0.59722,     0.59722,     0.59722,     0.59722,     0.59722,     0.59722,\n",
       "            0.59722,     0.59722,     0.59722,     0.59722,     0.59722,     0.59722,     0.59722,     0.59722,     0.59722,     0.59722,     0.59722,     0.59722,     0.59722,     0.59722,     0.59722,     0.59722,     0.59722,     0.59722,     0.59722,     0.59722,     0.59722,     0.59722,     0.59722,\n",
       "            0.59722,     0.59722,     0.59722,     0.59722,     0.59722,     0.59722,     0.59722,     0.59722,     0.59722,     0.59722,     0.59722,     0.59722,     0.59722,     0.59722,     0.59722,     0.59722,     0.59722,     0.59722,     0.59722,     0.59722,     0.59722,     0.59722,     0.59722,\n",
       "            0.59674,     0.59463,     0.59253,     0.59042,     0.58831,      0.5862,     0.58409,     0.58333,     0.58333,     0.58333,     0.58333,     0.58333,     0.58333,     0.58333,     0.58333,     0.58333,     0.58333,     0.58333,     0.58333,     0.58333,     0.58333,     0.58333,     0.58333,\n",
       "            0.58333,     0.58333,     0.58333,     0.58333,     0.58333,     0.58333,     0.58333,     0.58333,     0.58333,     0.58319,     0.58267,     0.58214,     0.58162,      0.5811,     0.58058,     0.58005,     0.57953,     0.57901,     0.57849,     0.57796,     0.57744,     0.57692,      0.5764,\n",
       "            0.57587,     0.57535,     0.57483,     0.57431,     0.57379,     0.57326,     0.57274,     0.57222,      0.5717,     0.57117,     0.57065,     0.57013,     0.56961,     0.56944,     0.56944,     0.56944,     0.56944,     0.56944,     0.56944,     0.56944,     0.56944,     0.56944,     0.56944,\n",
       "            0.56944,     0.56944,     0.56944,     0.56929,     0.56873,     0.56817,     0.56761,     0.56706,      0.5665,     0.56594,     0.56538,     0.56482,     0.56426,     0.56371,     0.56315,     0.56259,     0.56203,     0.56147,     0.56092,     0.56036,      0.5598,     0.55924,     0.55868,\n",
       "            0.55812,     0.55757,     0.55701,     0.55645,     0.55589,     0.55556,     0.55556,     0.55556,     0.55556,     0.55556,     0.55556,     0.55556,     0.55556,     0.55556,     0.55556,     0.55556,     0.55556,     0.55556,     0.55556,     0.55556,     0.55556,     0.55556,     0.55556,\n",
       "            0.55556,     0.55556,     0.55556,     0.55556,     0.55556,     0.55556,     0.55556,     0.55556,     0.55556,     0.55556,     0.55556,     0.55556,     0.55556,     0.55556,     0.55556,     0.55556,     0.55556,     0.55556,     0.55556,     0.55556,     0.55556,     0.55556,     0.55556,\n",
       "            0.55556,     0.55556,     0.55556,     0.55556,     0.55556,     0.55556,     0.55556,     0.55556,     0.55556,     0.55556,     0.55556,     0.55556,     0.55556,     0.55556,     0.55556,     0.55556,     0.55556,     0.55556,     0.55556,     0.55556,     0.55556,     0.55556,     0.55556,\n",
       "            0.55556,     0.55556,      0.5551,     0.55426,     0.55342,     0.55258,     0.55175,     0.55091,     0.55007,     0.54923,      0.5484,     0.54756,     0.54672,     0.54588,     0.54505,     0.54421,     0.54337,     0.54254,      0.5417,     0.54167,     0.54165,     0.53987,     0.53809,\n",
       "            0.53631,     0.53453,     0.53275,     0.53097,     0.52919,     0.52778,     0.52778,     0.52778,     0.52778,     0.52778,     0.52778,     0.52778,     0.52778,     0.52778,     0.52778,     0.52778,     0.52778,     0.52778,     0.52778,     0.52778,     0.52778,     0.52778,     0.52778,\n",
       "            0.52778,     0.52778,     0.52778,     0.52778,     0.52778,     0.52778,     0.52778,     0.52778,     0.52778,     0.52778,      0.5151,     0.51352,     0.51311,      0.5127,      0.5123,     0.51189,     0.51148,     0.51108,     0.51067,     0.51026,     0.50986,     0.50945,     0.50904,\n",
       "            0.50864,     0.50823,     0.50782,     0.50742,     0.50701,      0.5066,      0.5062,     0.50579,     0.50538,     0.50497,     0.50457,     0.50416,     0.50375,     0.50335,     0.50294,     0.50253,     0.50213,     0.50172,     0.50131,     0.50091,      0.5005,     0.50009,     0.48904,\n",
       "            0.48611,     0.48611,     0.48611,     0.48611,     0.48611,     0.48611,     0.48611,     0.48611,     0.48611,     0.48611,     0.48611,     0.48611,     0.48611,     0.48611,     0.48611,     0.48611,     0.48611,     0.48611,     0.48611,     0.48611,     0.48611,     0.48611,     0.48611,\n",
       "            0.48611,     0.48611,     0.48611,     0.48611,     0.48611,     0.48611,     0.48611,     0.48611,     0.48611,     0.48611,     0.48611,     0.48611,     0.48611,     0.48611,     0.48611,     0.48611,     0.48611,     0.48611,     0.48611,     0.48611,     0.48611,     0.48611,     0.48611,\n",
       "            0.48611,     0.48611,     0.48611,     0.48611,     0.48611,     0.48611,     0.48611,     0.48611,     0.48611,     0.48611,     0.48611,     0.48611,     0.48611,     0.48611,     0.48611,     0.48611,     0.48611,     0.48611,     0.48611,     0.48611,     0.48611,     0.48611,     0.48611,\n",
       "            0.48611,     0.48611,     0.48611,     0.48611,     0.48611,     0.48584,     0.48542,       0.485,     0.48458,     0.48416,     0.48375,     0.48333,     0.48291,     0.48249,     0.48207,     0.48165,     0.48123,     0.48081,      0.4804,     0.47998,     0.47956,     0.47914,     0.47872,\n",
       "             0.4783,     0.47788,     0.47746,     0.47705,     0.47663,     0.47621,     0.47579,     0.47537,     0.47495,     0.47453,     0.47412,      0.4737,     0.47328,     0.47286,     0.47244,     0.47168,     0.47054,      0.4694,     0.46826,     0.46712,     0.46598,     0.46484,      0.4637,\n",
       "            0.46256,     0.46143,     0.46029,     0.45915,      0.4576,     0.45501,     0.45242,     0.44983,     0.44724,     0.44465,     0.43572,     0.43033,     0.42984,     0.42935,     0.42886,     0.42837,     0.42788,     0.42739,      0.4269,      0.4264,     0.42591,     0.42542,     0.42493,\n",
       "            0.42444,     0.42395,     0.42346,     0.42297,     0.42248,     0.42199,      0.4215,       0.421,     0.42051,     0.42002,     0.41953,     0.41904,     0.41855,     0.41806,     0.41757,     0.41708,     0.41511,     0.40562,     0.40191,     0.40067,     0.39944,      0.3982,     0.39696,\n",
       "            0.39572,     0.39448,     0.39325,     0.39201,     0.39077,     0.38953,     0.38889,     0.38889,     0.38889,     0.38889,     0.38889,     0.38889,     0.38889,     0.38889,     0.38889,     0.38889,     0.38889,     0.38889,     0.38889,     0.38781,     0.38645,     0.38509,     0.38374,\n",
       "            0.38238,     0.38103,     0.37967,     0.37832,     0.37696,      0.3756,     0.37274,     0.36868,     0.36461,     0.36089,     0.35931,     0.35773,     0.35614,     0.35456,     0.35298,      0.3514,     0.34982,     0.34823,     0.34381,     0.33432,     0.31944,     0.31944,     0.31944,\n",
       "            0.31944,     0.31944,     0.31777,      0.3146,     0.31144,     0.30827,     0.30548,     0.30497,     0.30445,     0.30393,     0.30341,     0.30289,     0.30238,     0.30186,     0.30134,     0.30082,     0.30031,     0.29979,     0.29927,     0.29875,     0.29824,     0.29772,      0.2972,\n",
       "            0.29668,     0.29616,     0.29565,     0.29513,     0.29461,     0.29409,     0.29358,     0.29306,     0.29254,     0.29202,     0.29124,     0.28989,     0.28853,     0.28718,     0.28582,     0.28446,     0.28311,     0.28175,      0.2804,     0.27904,     0.27739,     0.27169,       0.266,\n",
       "            0.26283,     0.26116,     0.25948,     0.25781,     0.25614,     0.25446,     0.25279,     0.25111,     0.23611,     0.23611,     0.23611,     0.22333,     0.20708,     0.20573,     0.20437,     0.20302,     0.20166,      0.2003,     0.19895,     0.19759,     0.19624,     0.19488,      0.1923,\n",
       "            0.18913,     0.18597,     0.18281,     0.17891,     0.17322,     0.16752,     0.16574,     0.16464,     0.16355,     0.16245,     0.16136,     0.16026,     0.15917,     0.15807,     0.15698,     0.15588,     0.15479,     0.15369,      0.1523,     0.14946,     0.14661,     0.14376,     0.14091,\n",
       "            0.13752,     0.13277,     0.12803,     0.12466,     0.12371,     0.12276,     0.12181,     0.12086,     0.11991,     0.11896,     0.11801,     0.11706,     0.11611,     0.11517,     0.11422,     0.11327,     0.11232,     0.11137,     0.10952,     0.10733,     0.10514,     0.10294,     0.10075,\n",
       "           0.098564,    0.093547,    0.084056,    0.082676,    0.081964,    0.081252,     0.08054,    0.079828,    0.079117,    0.078405,    0.077693,    0.076981,    0.076269,    0.075558,    0.074846,    0.074134,    0.073422,     0.07271,    0.071998,    0.071287,    0.070575,    0.069863,    0.068754,\n",
       "           0.067079,    0.065404,     0.06373,    0.062055,     0.06038,    0.058705,     0.05703,    0.055312,    0.053278,    0.051245,    0.049211,    0.047177,    0.045143,     0.04311,    0.041408,    0.040518,    0.039629,    0.038739,    0.037849,    0.036959,    0.036069,     0.03518,     0.03429,\n",
       "             0.0334,     0.03251,    0.031621,    0.030731,    0.029841,    0.028951,    0.028061,     0.02719,    0.026327,    0.025464,    0.024602,    0.023739,    0.022876,    0.022013,     0.02115,    0.020288,    0.019425,    0.018562,    0.017699,    0.016836,    0.015973,    0.015111,    0.014248,\n",
       "                  0,           0,           0,           0,           0,           0,           0,           0,           0,           0,           0,           0,           0,           0,           0,           0,           0,           0,           0,           0,           0,           0,           0,\n",
       "                  0,           0,           0,           0,           0,           0,           0,           0,           0,           0,           0,           0,           0,           0,           0,           0,           0,           0,           0,           0,           0,           0,           0,\n",
       "                  0,           0,           0,           0,           0,           0,           0,           0,           0,           0,           0]]), 'Confidence', 'Recall']]\n",
       "fitness: 0.7676388571004458\n",
       "keys: ['metrics/precision(B)', 'metrics/recall(B)', 'metrics/mAP50(B)', 'metrics/mAP50-95(B)', 'metrics/precision(M)', 'metrics/recall(M)', 'metrics/mAP50(M)', 'metrics/mAP50-95(M)']\n",
       "maps: array([    0.70632])\n",
       "names: {0: 'racovini'}\n",
       "plot: True\n",
       "results_dict: {'metrics/precision(B)': 0.7835298345102266, 'metrics/recall(B)': 0.5530316641427753, 'metrics/mAP50(B)': 0.6777061044050269, 'metrics/mAP50-95(B)': 0.40879575273445046, 'metrics/precision(M)': 0.900474760123883, 'metrics/recall(M)': 0.4861111111111111, 'metrics/mAP50(M)': 0.6417843327549441, 'metrics/mAP50-95(M)': 0.29752626213715916, 'fitness': 0.7676388571004458}\n",
       "save_dir: PosixPath('runs/segment/yolov11s_200_1056_b12_second')\n",
       "seg: ultralytics.utils.metrics.Metric object\n",
       "speed: {'preprocess': 4.081481695175171, 'inference': 2.2194325923919678, 'loss': 0.0008106231689453125, 'postprocess': 0.9574234485626221}\n",
       "task: 'segment'"
      ]
     },
     "execution_count": 33,
     "metadata": {},
     "output_type": "execute_result"
    }
   ],
   "source": [
    "from ultralytics import YOLO\n",
    "\n",
    "model = YOLO('yolo11n-seg.pt')\n",
    "\n",
    "# Define the training parameters\n",
    "model.train(\n",
    "    task='segment',\n",
    "    mode='train',\n",
    "    imgsz=1056,\n",
    "    data='data.yaml',\n",
    "    epochs=150,\n",
    "    batch=12,\n",
    "    name='yolov11s_200_1056_b12_second'\n",
    ")"
   ]
  },
  {
   "cell_type": "code",
   "execution_count": null,
   "id": "e3d9fce1-5254-4aaa-84b6-67ccb72846dd",
   "metadata": {},
   "outputs": [],
   "source": []
  }
 ],
 "metadata": {
  "kernelspec": {
   "display_name": "DataSphere Kernel",
   "language": "python",
   "name": "python3"
  },
  "language_info": {
   "codemirror_mode": {
    "name": "ipython",
    "version": 3
   },
   "file_extension": ".py",
   "mimetype": "text/x-python",
   "name": "python",
   "nbconvert_exporter": "python",
   "pygments_lexer": "ipython3",
   "version": "3.10.12"
  }
 },
 "nbformat": 4,
 "nbformat_minor": 5
}

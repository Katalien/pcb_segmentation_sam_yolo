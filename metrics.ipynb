{
 "cells": [
  {
   "cell_type": "markdown",
   "id": "0f5ce97d",
   "metadata": {},
   "source": [
    "# Подсчет метрик"
   ]
  },
  {
   "cell_type": "code",
   "execution_count": null,
   "id": "b46bf200",
   "metadata": {},
   "outputs": [],
   "source": [
    "import os\n",
    "import torch\n",
    "import numpy as np\n",
    "import matplotlib.pyplot as plt\n",
    "from matplotlib.patches import Polygon\n",
    "import helper\n",
    "from sklearn.metrics import precision_score, recall_score, average_precision_score\n",
    "from yolo_mobile_sam import *"
   ]
  },
  {
   "cell_type": "code",
   "execution_count": 9,
   "id": "3f75b386",
   "metadata": {},
   "outputs": [],
   "source": [
    "def read_masks_from_file(file_path):\n",
    "    with open(file_path, 'r') as file:\n",
    "        lines = file.readlines()\n",
    "        masks = []\n",
    "        for line in lines:\n",
    "            values = line.split()[1:]\n",
    "            print(values)\n",
    "            mask_coords = [float(value) * 640 if i % 2 == 0 else float(value) * 480 for i, value in enumerate(values)]\n",
    "            print(mask_coords)\n",
    "            mask_coords = np.array(mask_coords).reshape(-1, 2)\n",
    "            masks.append(mask_coords)\n",
    "    return masks\n",
    "    \n",
    "def compute_iou(ground_truth_mask, predicted_mask):\n",
    "    intersection = np.logical_and(ground_truth_mask, predicted_mask)\n",
    "    union = np.logical_or(ground_truth_mask, predicted_mask)\n",
    "    iou_score = np.sum(intersection) / np.sum(union)\n",
    "    return iou_score\n",
    "\n",
    "def compute_precision_recall(ground_truth_mask, predicted_mask):\n",
    "    intersection = np.logical_and(ground_truth_mask, predicted_mask)\n",
    "    precision = np.sum(intersection) / (np.sum(predicted_mask) + 1e-10)\n",
    "    recall = np.sum(intersection) / (np.sum(ground_truth_mask) + 1e-10)\n",
    "    return precision, recall\n",
    "\n",
    "def compute_mAP(ground_truth_masks, predicted_masks):\n",
    "    ground_truth = ground_truth_masks.ravel()\n",
    "    predicted = predicted_masks.ravel()\n",
    "\n",
    "    mAP = average_precision_score(ground_truth, predicted)\n",
    "    return mAP\n",
    "\n",
    "def calculate_metrics(gt_mask, pred_mask):\n",
    "    gt_binary = (gt_mask > 0).astype(int)\n",
    "    pred_binary = (pred_mask > 0).astype(int)\n",
    "\n",
    "    precision = precision_score(gt_binary.ravel(), pred_binary.ravel())\n",
    "    recall = recall_score(gt_binary.ravel(), pred_binary.ravel())\n",
    "\n",
    "    mAP = average_precision_score(gt_binary.ravel(), pred_binary.ravel())\n",
    "\n",
    "    return precision, recall, mAP"
   ]
  },
  {
   "cell_type": "code",
   "execution_count": null,
   "id": "bf2f3a8d",
   "metadata": {},
   "outputs": [],
   "source": [
    "precisions, recalls, mAPs, mAPs95 = [], [], [], []\n",
    "folder = 'C:/Users/z.kate/source/GitHubRepos/ELC_Fall_git/YOLO_SAM/datasets/valid_all/'\n",
    "masks_folder = 'C:/Users/z.kate/source/GitHubRepos/ELC_Fall_git/YOLO_SAM/datasets/valid_all/masks/'\n",
    "pred_masks_folder = 'C:/Users/z.kate/source/GitHubRepos/ELC_Fall_git/YOLO_SAM/datasets/valid_all/pred_masks/'\n",
    "masks_files = os.listdir(masks_folder)\n",
    "pred_masks_files = os.listdir(pred_masks_folder)\n",
    "masks_files.sort()\n",
    "pred_masks_files.sort()\n",
    "\n",
    "for gt_mask_name, pred_mask_name in zip(masks_files, pred_masks_files):\n",
    "    gt_mask_path = masks_folder + gt_mask_name\n",
    "    pred_mask_path = pred_masks_folder + pred_mask_name\n",
    "    predicted_masks = []\n",
    "    ground_truth_masks = []\n",
    "    gt_mask = cv2.imread(gt_mask_path, cv2.IMREAD_GRAYSCALE)\n",
    "    ground_truth_masks.append(gt_mask)\n",
    "    pred_mask = cv2.imread(pred_mask_path, cv2.IMREAD_GRAYSCALE)\n",
    "    predicted_masks.append(pred_mask)\n",
    "\n",
    "    desired_height, desired_width = 480, 640 \n",
    "\n",
    "    gt_mask = cv2.resize(gt_mask, (desired_width, desired_height))\n",
    "    pred_mask = cv2.resize(pred_mask, (desired_width, desired_height))\n",
    "\n",
    "    precision, recall, mAP = calculate_metrics(gt_mask, pred_mask)\n",
    "\n",
    "    precisions.append(precision)\n",
    "    recalls.append(recall)\n",
    "    mAPs.append(mAP)\n",
    "    # mAPs95.append(mAP50_95)\n",
    "\n",
    "    # print(f'Precision: {precision}')\n",
    "    # print(f'Recall: {recall}')\n",
    "    # print(f'mAP50: {mAP50}')\n",
    "    # print(f'mAP50-95: {mAP50_95}')\n",
    "    # print()\n",
    "\n",
    "# print(\"precision\")\n",
    "# print(*precisions, sep=\"\\n\")\n",
    "# print(\"recall\")\n",
    "# print(*recalls, sep='\\n')"
   ]
  },
  {
   "cell_type": "code",
   "execution_count": null,
   "id": "a0e8b264",
   "metadata": {},
   "outputs": [
    {
     "name": "stdout",
     "output_type": "stream",
     "text": [
      "боксплот сохранен\n"
     ]
    }
   ],
   "source": [
    "fig, ax = plt.subplots(figsize=(8, 6))\n",
    "box = plt.boxplot(recalls, widths=0.6, patch_artist=True)\n",
    "for whisker in box['whiskers']:\n",
    "    whisker.set(color='green', linewidth=2)  # Линии \"усов\"\n",
    "for cap in box['caps']:\n",
    "    cap.set(color='blue', linewidth=2)  # Линии концов \"усов\"\n",
    "for median in box['medians']:\n",
    "    median.set(color='red', linewidth=2)  # Линии медианы\n",
    "\n",
    "plt.title('Recall')\n",
    "plt.grid(True)\n",
    "\n",
    "output_path = 'plots/boxplot_compare_prec_rec.jpg\n",
    "plt.savefig(output_path, dpi=300, bbox_inches='tight')\n",
    "\n",
    "plt.close()\n",
    "\n",
    "print('боксплот сохранен')"
   ]
  },
  {
   "cell_type": "code",
   "execution_count": null,
   "id": "134b1a2c",
   "metadata": {},
   "outputs": [],
   "source": []
  }
 ],
 "metadata": {
  "kernelspec": {
   "display_name": "base",
   "language": "python",
   "name": "python3"
  },
  "language_info": {
   "codemirror_mode": {
    "name": "ipython",
    "version": 3
   },
   "file_extension": ".py",
   "mimetype": "text/x-python",
   "name": "python",
   "nbconvert_exporter": "python",
   "pygments_lexer": "ipython3",
   "version": "3.12.8"
  }
 },
 "nbformat": 4,
 "nbformat_minor": 5
}
